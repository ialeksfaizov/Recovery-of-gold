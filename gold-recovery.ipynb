{
 "cells": [
  {
   "cell_type": "markdown",
   "metadata": {},
   "source": [
    "# Предсказание коэффициента восстановления золота из золотосодержащей руды"
   ]
  },
  {
   "cell_type": "markdown",
   "metadata": {},
   "source": [
    "Необходимо подготовить прототип модели машинного обучения, которая предсказывает коэффициент восстановления золота из золотосодержащей руды."
   ]
  },
  {
   "cell_type": "code",
   "execution_count": 1,
   "metadata": {},
   "outputs": [],
   "source": [
    "import pandas as pd\n",
    "import numpy as np\n",
    "import scipy.stats as st\n",
    "import matplotlib.pyplot as plt\n",
    "import seaborn as sns\n",
    "from sklearn.metrics import mean_absolute_error as MAE\n",
    "from sklearn.impute import KNNImputer\n",
    "from sklearn.tree import DecisionTreeRegressor\n",
    "from sklearn.ensemble import RandomForestRegressor\n",
    "from sklearn.preprocessing import StandardScaler\n",
    "from sklearn.metrics import make_scorer\n",
    "from sklearn.model_selection import GridSearchCV\n",
    "from sklearn.pipeline import  make_pipeline\n",
    "from sklearn.dummy import DummyRegressor\n",
    "from numpy.random import RandomState\n",
    "state = np.random.RandomState(12345)\n",
    "\n",
    "import warnings\n",
    "warnings.simplefilter(action='ignore', category=FutureWarning)"
   ]
  },
  {
   "cell_type": "markdown",
   "metadata": {},
   "source": [
    "## Подготовка данных"
   ]
  },
  {
   "cell_type": "markdown",
   "metadata": {},
   "source": [
    "### Откроем файлы с данными и изучим общую информацию"
   ]
  },
  {
   "cell_type": "code",
   "execution_count": 2,
   "metadata": {},
   "outputs": [],
   "source": [
    "try:\n",
    "    df_train = pd.read_csv('/datasets/gold_recovery_train_new.csv')\n",
    "except:\n",
    "    df_train = pd.read_csv('gold_recovery_train_new.csv')"
   ]
  },
  {
   "cell_type": "code",
   "execution_count": 3,
   "metadata": {},
   "outputs": [],
   "source": [
    "try:\n",
    "    df_test = pd.read_csv('/datasets/gold_recovery_test_new.csv')\n",
    "except:\n",
    "    df_test = pd.read_csv('gold_recovery_test_new.csv')"
   ]
  },
  {
   "cell_type": "code",
   "execution_count": 4,
   "metadata": {},
   "outputs": [],
   "source": [
    "try:\n",
    "    df_full = pd.read_csv('/datasets/gold_recovery_full_new.csv')\n",
    "except:\n",
    "    df_full = pd.read_csv('gold_recovery_full_new.csv')"
   ]
  },
  {
   "cell_type": "code",
   "execution_count": 5,
   "metadata": {},
   "outputs": [],
   "source": [
    "def review(df): \n",
    "    \"\"\"функция для отображения общей информации\"\"\"\n",
    "    info = display(df.head(10)), df.info(), display(df.describe()) \n",
    "    if df.duplicated().sum() == 0:\n",
    "        print('Дубликатов не обнаружено')\n",
    "    else:\n",
    "        print('Дубликатов найдено: {}'.format(df.duplicated().sum()))"
   ]
  },
  {
   "cell_type": "code",
   "execution_count": 6,
   "metadata": {},
   "outputs": [
    {
     "data": {
      "text/html": [
       "<div>\n",
       "<style scoped>\n",
       "    .dataframe tbody tr th:only-of-type {\n",
       "        vertical-align: middle;\n",
       "    }\n",
       "\n",
       "    .dataframe tbody tr th {\n",
       "        vertical-align: top;\n",
       "    }\n",
       "\n",
       "    .dataframe thead th {\n",
       "        text-align: right;\n",
       "    }\n",
       "</style>\n",
       "<table border=\"1\" class=\"dataframe\">\n",
       "  <thead>\n",
       "    <tr style=\"text-align: right;\">\n",
       "      <th></th>\n",
       "      <th>date</th>\n",
       "      <th>final.output.concentrate_ag</th>\n",
       "      <th>final.output.concentrate_pb</th>\n",
       "      <th>final.output.concentrate_sol</th>\n",
       "      <th>final.output.concentrate_au</th>\n",
       "      <th>final.output.recovery</th>\n",
       "      <th>final.output.tail_ag</th>\n",
       "      <th>final.output.tail_pb</th>\n",
       "      <th>final.output.tail_sol</th>\n",
       "      <th>final.output.tail_au</th>\n",
       "      <th>...</th>\n",
       "      <th>secondary_cleaner.state.floatbank4_a_air</th>\n",
       "      <th>secondary_cleaner.state.floatbank4_a_level</th>\n",
       "      <th>secondary_cleaner.state.floatbank4_b_air</th>\n",
       "      <th>secondary_cleaner.state.floatbank4_b_level</th>\n",
       "      <th>secondary_cleaner.state.floatbank5_a_air</th>\n",
       "      <th>secondary_cleaner.state.floatbank5_a_level</th>\n",
       "      <th>secondary_cleaner.state.floatbank5_b_air</th>\n",
       "      <th>secondary_cleaner.state.floatbank5_b_level</th>\n",
       "      <th>secondary_cleaner.state.floatbank6_a_air</th>\n",
       "      <th>secondary_cleaner.state.floatbank6_a_level</th>\n",
       "    </tr>\n",
       "  </thead>\n",
       "  <tbody>\n",
       "    <tr>\n",
       "      <th>0</th>\n",
       "      <td>2016-01-15 00:00:00</td>\n",
       "      <td>6.055403</td>\n",
       "      <td>9.889648</td>\n",
       "      <td>5.507324</td>\n",
       "      <td>42.192020</td>\n",
       "      <td>70.541216</td>\n",
       "      <td>10.411962</td>\n",
       "      <td>0.895447</td>\n",
       "      <td>16.904297</td>\n",
       "      <td>2.143149</td>\n",
       "      <td>...</td>\n",
       "      <td>14.016835</td>\n",
       "      <td>-502.488007</td>\n",
       "      <td>12.099931</td>\n",
       "      <td>-504.715942</td>\n",
       "      <td>9.925633</td>\n",
       "      <td>-498.310211</td>\n",
       "      <td>8.079666</td>\n",
       "      <td>-500.470978</td>\n",
       "      <td>14.151341</td>\n",
       "      <td>-605.841980</td>\n",
       "    </tr>\n",
       "    <tr>\n",
       "      <th>1</th>\n",
       "      <td>2016-01-15 01:00:00</td>\n",
       "      <td>6.029369</td>\n",
       "      <td>9.968944</td>\n",
       "      <td>5.257781</td>\n",
       "      <td>42.701629</td>\n",
       "      <td>69.266198</td>\n",
       "      <td>10.462676</td>\n",
       "      <td>0.927452</td>\n",
       "      <td>16.634514</td>\n",
       "      <td>2.224930</td>\n",
       "      <td>...</td>\n",
       "      <td>13.992281</td>\n",
       "      <td>-505.503262</td>\n",
       "      <td>11.950531</td>\n",
       "      <td>-501.331529</td>\n",
       "      <td>10.039245</td>\n",
       "      <td>-500.169983</td>\n",
       "      <td>7.984757</td>\n",
       "      <td>-500.582168</td>\n",
       "      <td>13.998353</td>\n",
       "      <td>-599.787184</td>\n",
       "    </tr>\n",
       "    <tr>\n",
       "      <th>2</th>\n",
       "      <td>2016-01-15 02:00:00</td>\n",
       "      <td>6.055926</td>\n",
       "      <td>10.213995</td>\n",
       "      <td>5.383759</td>\n",
       "      <td>42.657501</td>\n",
       "      <td>68.116445</td>\n",
       "      <td>10.507046</td>\n",
       "      <td>0.953716</td>\n",
       "      <td>16.208849</td>\n",
       "      <td>2.257889</td>\n",
       "      <td>...</td>\n",
       "      <td>14.015015</td>\n",
       "      <td>-502.520901</td>\n",
       "      <td>11.912783</td>\n",
       "      <td>-501.133383</td>\n",
       "      <td>10.070913</td>\n",
       "      <td>-500.129135</td>\n",
       "      <td>8.013877</td>\n",
       "      <td>-500.517572</td>\n",
       "      <td>14.028663</td>\n",
       "      <td>-601.427363</td>\n",
       "    </tr>\n",
       "    <tr>\n",
       "      <th>3</th>\n",
       "      <td>2016-01-15 03:00:00</td>\n",
       "      <td>6.047977</td>\n",
       "      <td>9.977019</td>\n",
       "      <td>4.858634</td>\n",
       "      <td>42.689819</td>\n",
       "      <td>68.347543</td>\n",
       "      <td>10.422762</td>\n",
       "      <td>0.883763</td>\n",
       "      <td>16.532835</td>\n",
       "      <td>2.146849</td>\n",
       "      <td>...</td>\n",
       "      <td>14.036510</td>\n",
       "      <td>-500.857308</td>\n",
       "      <td>11.999550</td>\n",
       "      <td>-501.193686</td>\n",
       "      <td>9.970366</td>\n",
       "      <td>-499.201640</td>\n",
       "      <td>7.977324</td>\n",
       "      <td>-500.255908</td>\n",
       "      <td>14.005551</td>\n",
       "      <td>-599.996129</td>\n",
       "    </tr>\n",
       "    <tr>\n",
       "      <th>4</th>\n",
       "      <td>2016-01-15 04:00:00</td>\n",
       "      <td>6.148599</td>\n",
       "      <td>10.142511</td>\n",
       "      <td>4.939416</td>\n",
       "      <td>42.774141</td>\n",
       "      <td>66.927016</td>\n",
       "      <td>10.360302</td>\n",
       "      <td>0.792826</td>\n",
       "      <td>16.525686</td>\n",
       "      <td>2.055292</td>\n",
       "      <td>...</td>\n",
       "      <td>14.027298</td>\n",
       "      <td>-499.838632</td>\n",
       "      <td>11.953070</td>\n",
       "      <td>-501.053894</td>\n",
       "      <td>9.925709</td>\n",
       "      <td>-501.686727</td>\n",
       "      <td>7.894242</td>\n",
       "      <td>-500.356035</td>\n",
       "      <td>13.996647</td>\n",
       "      <td>-601.496691</td>\n",
       "    </tr>\n",
       "    <tr>\n",
       "      <th>5</th>\n",
       "      <td>2016-01-15 05:00:00</td>\n",
       "      <td>6.482968</td>\n",
       "      <td>10.049416</td>\n",
       "      <td>5.480257</td>\n",
       "      <td>41.633678</td>\n",
       "      <td>69.465816</td>\n",
       "      <td>10.182708</td>\n",
       "      <td>0.664118</td>\n",
       "      <td>16.999638</td>\n",
       "      <td>1.918586</td>\n",
       "      <td>...</td>\n",
       "      <td>13.938497</td>\n",
       "      <td>-500.970168</td>\n",
       "      <td>11.883350</td>\n",
       "      <td>-500.395298</td>\n",
       "      <td>10.054147</td>\n",
       "      <td>-496.374715</td>\n",
       "      <td>7.965083</td>\n",
       "      <td>-499.364752</td>\n",
       "      <td>14.017067</td>\n",
       "      <td>-599.707915</td>\n",
       "    </tr>\n",
       "    <tr>\n",
       "      <th>6</th>\n",
       "      <td>2016-01-15 06:00:00</td>\n",
       "      <td>6.533849</td>\n",
       "      <td>10.058141</td>\n",
       "      <td>4.569100</td>\n",
       "      <td>41.995316</td>\n",
       "      <td>69.300835</td>\n",
       "      <td>10.304598</td>\n",
       "      <td>0.807342</td>\n",
       "      <td>16.723575</td>\n",
       "      <td>2.058913</td>\n",
       "      <td>...</td>\n",
       "      <td>14.046819</td>\n",
       "      <td>-500.971133</td>\n",
       "      <td>12.091543</td>\n",
       "      <td>-500.501426</td>\n",
       "      <td>10.003247</td>\n",
       "      <td>-497.083180</td>\n",
       "      <td>8.010890</td>\n",
       "      <td>-500.002423</td>\n",
       "      <td>14.029649</td>\n",
       "      <td>-600.905470</td>\n",
       "    </tr>\n",
       "    <tr>\n",
       "      <th>7</th>\n",
       "      <td>2016-01-15 07:00:00</td>\n",
       "      <td>6.130823</td>\n",
       "      <td>9.935481</td>\n",
       "      <td>4.389813</td>\n",
       "      <td>42.452727</td>\n",
       "      <td>70.230976</td>\n",
       "      <td>10.443288</td>\n",
       "      <td>0.949346</td>\n",
       "      <td>16.689959</td>\n",
       "      <td>2.143437</td>\n",
       "      <td>...</td>\n",
       "      <td>13.974691</td>\n",
       "      <td>-501.819696</td>\n",
       "      <td>12.101324</td>\n",
       "      <td>-500.583446</td>\n",
       "      <td>9.873169</td>\n",
       "      <td>-499.171928</td>\n",
       "      <td>7.993381</td>\n",
       "      <td>-499.794518</td>\n",
       "      <td>13.984498</td>\n",
       "      <td>-600.411070</td>\n",
       "    </tr>\n",
       "    <tr>\n",
       "      <th>8</th>\n",
       "      <td>2016-01-15 08:00:00</td>\n",
       "      <td>5.834140</td>\n",
       "      <td>10.071156</td>\n",
       "      <td>4.876389</td>\n",
       "      <td>43.404078</td>\n",
       "      <td>69.688595</td>\n",
       "      <td>10.420140</td>\n",
       "      <td>1.065453</td>\n",
       "      <td>17.201948</td>\n",
       "      <td>2.209881</td>\n",
       "      <td>...</td>\n",
       "      <td>13.964030</td>\n",
       "      <td>-504.252450</td>\n",
       "      <td>12.060738</td>\n",
       "      <td>-501.174549</td>\n",
       "      <td>10.033838</td>\n",
       "      <td>-501.178133</td>\n",
       "      <td>7.881604</td>\n",
       "      <td>-499.729434</td>\n",
       "      <td>13.967135</td>\n",
       "      <td>-599.061188</td>\n",
       "    </tr>\n",
       "    <tr>\n",
       "      <th>9</th>\n",
       "      <td>2016-01-15 09:00:00</td>\n",
       "      <td>5.687063</td>\n",
       "      <td>9.980404</td>\n",
       "      <td>5.282514</td>\n",
       "      <td>43.235220</td>\n",
       "      <td>70.279619</td>\n",
       "      <td>10.487013</td>\n",
       "      <td>1.159805</td>\n",
       "      <td>17.483979</td>\n",
       "      <td>2.209593</td>\n",
       "      <td>...</td>\n",
       "      <td>13.989632</td>\n",
       "      <td>-503.195299</td>\n",
       "      <td>12.052233</td>\n",
       "      <td>-500.928547</td>\n",
       "      <td>9.962574</td>\n",
       "      <td>-502.986357</td>\n",
       "      <td>7.979219</td>\n",
       "      <td>-500.146835</td>\n",
       "      <td>13.981614</td>\n",
       "      <td>-598.070855</td>\n",
       "    </tr>\n",
       "  </tbody>\n",
       "</table>\n",
       "<p>10 rows × 87 columns</p>\n",
       "</div>"
      ],
      "text/plain": [
       "                  date  final.output.concentrate_ag  \\\n",
       "0  2016-01-15 00:00:00                     6.055403   \n",
       "1  2016-01-15 01:00:00                     6.029369   \n",
       "2  2016-01-15 02:00:00                     6.055926   \n",
       "3  2016-01-15 03:00:00                     6.047977   \n",
       "4  2016-01-15 04:00:00                     6.148599   \n",
       "5  2016-01-15 05:00:00                     6.482968   \n",
       "6  2016-01-15 06:00:00                     6.533849   \n",
       "7  2016-01-15 07:00:00                     6.130823   \n",
       "8  2016-01-15 08:00:00                     5.834140   \n",
       "9  2016-01-15 09:00:00                     5.687063   \n",
       "\n",
       "   final.output.concentrate_pb  final.output.concentrate_sol  \\\n",
       "0                     9.889648                      5.507324   \n",
       "1                     9.968944                      5.257781   \n",
       "2                    10.213995                      5.383759   \n",
       "3                     9.977019                      4.858634   \n",
       "4                    10.142511                      4.939416   \n",
       "5                    10.049416                      5.480257   \n",
       "6                    10.058141                      4.569100   \n",
       "7                     9.935481                      4.389813   \n",
       "8                    10.071156                      4.876389   \n",
       "9                     9.980404                      5.282514   \n",
       "\n",
       "   final.output.concentrate_au  final.output.recovery  final.output.tail_ag  \\\n",
       "0                    42.192020              70.541216             10.411962   \n",
       "1                    42.701629              69.266198             10.462676   \n",
       "2                    42.657501              68.116445             10.507046   \n",
       "3                    42.689819              68.347543             10.422762   \n",
       "4                    42.774141              66.927016             10.360302   \n",
       "5                    41.633678              69.465816             10.182708   \n",
       "6                    41.995316              69.300835             10.304598   \n",
       "7                    42.452727              70.230976             10.443288   \n",
       "8                    43.404078              69.688595             10.420140   \n",
       "9                    43.235220              70.279619             10.487013   \n",
       "\n",
       "   final.output.tail_pb  final.output.tail_sol  final.output.tail_au  ...  \\\n",
       "0              0.895447              16.904297              2.143149  ...   \n",
       "1              0.927452              16.634514              2.224930  ...   \n",
       "2              0.953716              16.208849              2.257889  ...   \n",
       "3              0.883763              16.532835              2.146849  ...   \n",
       "4              0.792826              16.525686              2.055292  ...   \n",
       "5              0.664118              16.999638              1.918586  ...   \n",
       "6              0.807342              16.723575              2.058913  ...   \n",
       "7              0.949346              16.689959              2.143437  ...   \n",
       "8              1.065453              17.201948              2.209881  ...   \n",
       "9              1.159805              17.483979              2.209593  ...   \n",
       "\n",
       "   secondary_cleaner.state.floatbank4_a_air  \\\n",
       "0                                 14.016835   \n",
       "1                                 13.992281   \n",
       "2                                 14.015015   \n",
       "3                                 14.036510   \n",
       "4                                 14.027298   \n",
       "5                                 13.938497   \n",
       "6                                 14.046819   \n",
       "7                                 13.974691   \n",
       "8                                 13.964030   \n",
       "9                                 13.989632   \n",
       "\n",
       "   secondary_cleaner.state.floatbank4_a_level  \\\n",
       "0                                 -502.488007   \n",
       "1                                 -505.503262   \n",
       "2                                 -502.520901   \n",
       "3                                 -500.857308   \n",
       "4                                 -499.838632   \n",
       "5                                 -500.970168   \n",
       "6                                 -500.971133   \n",
       "7                                 -501.819696   \n",
       "8                                 -504.252450   \n",
       "9                                 -503.195299   \n",
       "\n",
       "   secondary_cleaner.state.floatbank4_b_air  \\\n",
       "0                                 12.099931   \n",
       "1                                 11.950531   \n",
       "2                                 11.912783   \n",
       "3                                 11.999550   \n",
       "4                                 11.953070   \n",
       "5                                 11.883350   \n",
       "6                                 12.091543   \n",
       "7                                 12.101324   \n",
       "8                                 12.060738   \n",
       "9                                 12.052233   \n",
       "\n",
       "   secondary_cleaner.state.floatbank4_b_level  \\\n",
       "0                                 -504.715942   \n",
       "1                                 -501.331529   \n",
       "2                                 -501.133383   \n",
       "3                                 -501.193686   \n",
       "4                                 -501.053894   \n",
       "5                                 -500.395298   \n",
       "6                                 -500.501426   \n",
       "7                                 -500.583446   \n",
       "8                                 -501.174549   \n",
       "9                                 -500.928547   \n",
       "\n",
       "   secondary_cleaner.state.floatbank5_a_air  \\\n",
       "0                                  9.925633   \n",
       "1                                 10.039245   \n",
       "2                                 10.070913   \n",
       "3                                  9.970366   \n",
       "4                                  9.925709   \n",
       "5                                 10.054147   \n",
       "6                                 10.003247   \n",
       "7                                  9.873169   \n",
       "8                                 10.033838   \n",
       "9                                  9.962574   \n",
       "\n",
       "   secondary_cleaner.state.floatbank5_a_level  \\\n",
       "0                                 -498.310211   \n",
       "1                                 -500.169983   \n",
       "2                                 -500.129135   \n",
       "3                                 -499.201640   \n",
       "4                                 -501.686727   \n",
       "5                                 -496.374715   \n",
       "6                                 -497.083180   \n",
       "7                                 -499.171928   \n",
       "8                                 -501.178133   \n",
       "9                                 -502.986357   \n",
       "\n",
       "   secondary_cleaner.state.floatbank5_b_air  \\\n",
       "0                                  8.079666   \n",
       "1                                  7.984757   \n",
       "2                                  8.013877   \n",
       "3                                  7.977324   \n",
       "4                                  7.894242   \n",
       "5                                  7.965083   \n",
       "6                                  8.010890   \n",
       "7                                  7.993381   \n",
       "8                                  7.881604   \n",
       "9                                  7.979219   \n",
       "\n",
       "   secondary_cleaner.state.floatbank5_b_level  \\\n",
       "0                                 -500.470978   \n",
       "1                                 -500.582168   \n",
       "2                                 -500.517572   \n",
       "3                                 -500.255908   \n",
       "4                                 -500.356035   \n",
       "5                                 -499.364752   \n",
       "6                                 -500.002423   \n",
       "7                                 -499.794518   \n",
       "8                                 -499.729434   \n",
       "9                                 -500.146835   \n",
       "\n",
       "   secondary_cleaner.state.floatbank6_a_air  \\\n",
       "0                                 14.151341   \n",
       "1                                 13.998353   \n",
       "2                                 14.028663   \n",
       "3                                 14.005551   \n",
       "4                                 13.996647   \n",
       "5                                 14.017067   \n",
       "6                                 14.029649   \n",
       "7                                 13.984498   \n",
       "8                                 13.967135   \n",
       "9                                 13.981614   \n",
       "\n",
       "   secondary_cleaner.state.floatbank6_a_level  \n",
       "0                                 -605.841980  \n",
       "1                                 -599.787184  \n",
       "2                                 -601.427363  \n",
       "3                                 -599.996129  \n",
       "4                                 -601.496691  \n",
       "5                                 -599.707915  \n",
       "6                                 -600.905470  \n",
       "7                                 -600.411070  \n",
       "8                                 -599.061188  \n",
       "9                                 -598.070855  \n",
       "\n",
       "[10 rows x 87 columns]"
      ]
     },
     "metadata": {},
     "output_type": "display_data"
    },
    {
     "name": "stdout",
     "output_type": "stream",
     "text": [
      "<class 'pandas.core.frame.DataFrame'>\n",
      "RangeIndex: 19439 entries, 0 to 19438\n",
      "Data columns (total 87 columns):\n",
      " #   Column                                              Non-Null Count  Dtype  \n",
      "---  ------                                              --------------  -----  \n",
      " 0   date                                                19439 non-null  object \n",
      " 1   final.output.concentrate_ag                         19438 non-null  float64\n",
      " 2   final.output.concentrate_pb                         19438 non-null  float64\n",
      " 3   final.output.concentrate_sol                        19228 non-null  float64\n",
      " 4   final.output.concentrate_au                         19439 non-null  float64\n",
      " 5   final.output.recovery                               19439 non-null  float64\n",
      " 6   final.output.tail_ag                                19438 non-null  float64\n",
      " 7   final.output.tail_pb                                19338 non-null  float64\n",
      " 8   final.output.tail_sol                               19433 non-null  float64\n",
      " 9   final.output.tail_au                                19439 non-null  float64\n",
      " 10  primary_cleaner.input.sulfate                       19415 non-null  float64\n",
      " 11  primary_cleaner.input.depressant                    19402 non-null  float64\n",
      " 12  primary_cleaner.input.feed_size                     19439 non-null  float64\n",
      " 13  primary_cleaner.input.xanthate                      19335 non-null  float64\n",
      " 14  primary_cleaner.output.concentrate_ag               19439 non-null  float64\n",
      " 15  primary_cleaner.output.concentrate_pb               19323 non-null  float64\n",
      " 16  primary_cleaner.output.concentrate_sol              19069 non-null  float64\n",
      " 17  primary_cleaner.output.concentrate_au               19439 non-null  float64\n",
      " 18  primary_cleaner.output.tail_ag                      19435 non-null  float64\n",
      " 19  primary_cleaner.output.tail_pb                      19418 non-null  float64\n",
      " 20  primary_cleaner.output.tail_sol                     19377 non-null  float64\n",
      " 21  primary_cleaner.output.tail_au                      19439 non-null  float64\n",
      " 22  primary_cleaner.state.floatbank8_a_air              19435 non-null  float64\n",
      " 23  primary_cleaner.state.floatbank8_a_level            19438 non-null  float64\n",
      " 24  primary_cleaner.state.floatbank8_b_air              19435 non-null  float64\n",
      " 25  primary_cleaner.state.floatbank8_b_level            19438 non-null  float64\n",
      " 26  primary_cleaner.state.floatbank8_c_air              19437 non-null  float64\n",
      " 27  primary_cleaner.state.floatbank8_c_level            19438 non-null  float64\n",
      " 28  primary_cleaner.state.floatbank8_d_air              19436 non-null  float64\n",
      " 29  primary_cleaner.state.floatbank8_d_level            19438 non-null  float64\n",
      " 30  rougher.calculation.sulfate_to_au_concentrate       19437 non-null  float64\n",
      " 31  rougher.calculation.floatbank10_sulfate_to_au_feed  19437 non-null  float64\n",
      " 32  rougher.calculation.floatbank11_sulfate_to_au_feed  19437 non-null  float64\n",
      " 33  rougher.calculation.au_pb_ratio                     19439 non-null  float64\n",
      " 34  rougher.input.feed_ag                               19439 non-null  float64\n",
      " 35  rougher.input.feed_pb                               19339 non-null  float64\n",
      " 36  rougher.input.feed_rate                             19428 non-null  float64\n",
      " 37  rougher.input.feed_size                             19294 non-null  float64\n",
      " 38  rougher.input.feed_sol                              19340 non-null  float64\n",
      " 39  rougher.input.feed_au                               19439 non-null  float64\n",
      " 40  rougher.input.floatbank10_sulfate                   19405 non-null  float64\n",
      " 41  rougher.input.floatbank10_xanthate                  19431 non-null  float64\n",
      " 42  rougher.input.floatbank11_sulfate                   19395 non-null  float64\n",
      " 43  rougher.input.floatbank11_xanthate                  18986 non-null  float64\n",
      " 44  rougher.output.concentrate_ag                       19439 non-null  float64\n",
      " 45  rougher.output.concentrate_pb                       19439 non-null  float64\n",
      " 46  rougher.output.concentrate_sol                      19416 non-null  float64\n",
      " 47  rougher.output.concentrate_au                       19439 non-null  float64\n",
      " 48  rougher.output.recovery                             19439 non-null  float64\n",
      " 49  rougher.output.tail_ag                              19438 non-null  float64\n",
      " 50  rougher.output.tail_pb                              19439 non-null  float64\n",
      " 51  rougher.output.tail_sol                             19439 non-null  float64\n",
      " 52  rougher.output.tail_au                              19439 non-null  float64\n",
      " 53  rougher.state.floatbank10_a_air                     19438 non-null  float64\n",
      " 54  rougher.state.floatbank10_a_level                   19438 non-null  float64\n",
      " 55  rougher.state.floatbank10_b_air                     19438 non-null  float64\n",
      " 56  rougher.state.floatbank10_b_level                   19438 non-null  float64\n",
      " 57  rougher.state.floatbank10_c_air                     19438 non-null  float64\n",
      " 58  rougher.state.floatbank10_c_level                   19438 non-null  float64\n",
      " 59  rougher.state.floatbank10_d_air                     19439 non-null  float64\n",
      " 60  rougher.state.floatbank10_d_level                   19439 non-null  float64\n",
      " 61  rougher.state.floatbank10_e_air                     19003 non-null  float64\n",
      " 62  rougher.state.floatbank10_e_level                   19439 non-null  float64\n",
      " 63  rougher.state.floatbank10_f_air                     19439 non-null  float64\n",
      " 64  rougher.state.floatbank10_f_level                   19439 non-null  float64\n",
      " 65  secondary_cleaner.output.tail_ag                    19437 non-null  float64\n",
      " 66  secondary_cleaner.output.tail_pb                    19427 non-null  float64\n",
      " 67  secondary_cleaner.output.tail_sol                   17691 non-null  float64\n",
      " 68  secondary_cleaner.output.tail_au                    19439 non-null  float64\n",
      " 69  secondary_cleaner.state.floatbank2_a_air            19219 non-null  float64\n",
      " 70  secondary_cleaner.state.floatbank2_a_level          19438 non-null  float64\n",
      " 71  secondary_cleaner.state.floatbank2_b_air            19416 non-null  float64\n",
      " 72  secondary_cleaner.state.floatbank2_b_level          19438 non-null  float64\n",
      " 73  secondary_cleaner.state.floatbank3_a_air            19426 non-null  float64\n",
      " 74  secondary_cleaner.state.floatbank3_a_level          19438 non-null  float64\n",
      " 75  secondary_cleaner.state.floatbank3_b_air            19438 non-null  float64\n",
      " 76  secondary_cleaner.state.floatbank3_b_level          19438 non-null  float64\n",
      " 77  secondary_cleaner.state.floatbank4_a_air            19433 non-null  float64\n",
      " 78  secondary_cleaner.state.floatbank4_a_level          19438 non-null  float64\n",
      " 79  secondary_cleaner.state.floatbank4_b_air            19438 non-null  float64\n",
      " 80  secondary_cleaner.state.floatbank4_b_level          19438 non-null  float64\n",
      " 81  secondary_cleaner.state.floatbank5_a_air            19438 non-null  float64\n",
      " 82  secondary_cleaner.state.floatbank5_a_level          19438 non-null  float64\n",
      " 83  secondary_cleaner.state.floatbank5_b_air            19438 non-null  float64\n",
      " 84  secondary_cleaner.state.floatbank5_b_level          19438 non-null  float64\n",
      " 85  secondary_cleaner.state.floatbank6_a_air            19437 non-null  float64\n",
      " 86  secondary_cleaner.state.floatbank6_a_level          19438 non-null  float64\n",
      "dtypes: float64(86), object(1)\n",
      "memory usage: 12.9+ MB\n"
     ]
    },
    {
     "data": {
      "text/html": [
       "<div>\n",
       "<style scoped>\n",
       "    .dataframe tbody tr th:only-of-type {\n",
       "        vertical-align: middle;\n",
       "    }\n",
       "\n",
       "    .dataframe tbody tr th {\n",
       "        vertical-align: top;\n",
       "    }\n",
       "\n",
       "    .dataframe thead th {\n",
       "        text-align: right;\n",
       "    }\n",
       "</style>\n",
       "<table border=\"1\" class=\"dataframe\">\n",
       "  <thead>\n",
       "    <tr style=\"text-align: right;\">\n",
       "      <th></th>\n",
       "      <th>final.output.concentrate_ag</th>\n",
       "      <th>final.output.concentrate_pb</th>\n",
       "      <th>final.output.concentrate_sol</th>\n",
       "      <th>final.output.concentrate_au</th>\n",
       "      <th>final.output.recovery</th>\n",
       "      <th>final.output.tail_ag</th>\n",
       "      <th>final.output.tail_pb</th>\n",
       "      <th>final.output.tail_sol</th>\n",
       "      <th>final.output.tail_au</th>\n",
       "      <th>primary_cleaner.input.sulfate</th>\n",
       "      <th>...</th>\n",
       "      <th>secondary_cleaner.state.floatbank4_a_air</th>\n",
       "      <th>secondary_cleaner.state.floatbank4_a_level</th>\n",
       "      <th>secondary_cleaner.state.floatbank4_b_air</th>\n",
       "      <th>secondary_cleaner.state.floatbank4_b_level</th>\n",
       "      <th>secondary_cleaner.state.floatbank5_a_air</th>\n",
       "      <th>secondary_cleaner.state.floatbank5_a_level</th>\n",
       "      <th>secondary_cleaner.state.floatbank5_b_air</th>\n",
       "      <th>secondary_cleaner.state.floatbank5_b_level</th>\n",
       "      <th>secondary_cleaner.state.floatbank6_a_air</th>\n",
       "      <th>secondary_cleaner.state.floatbank6_a_level</th>\n",
       "    </tr>\n",
       "  </thead>\n",
       "  <tbody>\n",
       "    <tr>\n",
       "      <th>count</th>\n",
       "      <td>19438.000000</td>\n",
       "      <td>19438.000000</td>\n",
       "      <td>19228.000000</td>\n",
       "      <td>19439.000000</td>\n",
       "      <td>19439.000000</td>\n",
       "      <td>19438.000000</td>\n",
       "      <td>19338.000000</td>\n",
       "      <td>19433.000000</td>\n",
       "      <td>19439.000000</td>\n",
       "      <td>19415.000000</td>\n",
       "      <td>...</td>\n",
       "      <td>19433.000000</td>\n",
       "      <td>19438.000000</td>\n",
       "      <td>19438.000000</td>\n",
       "      <td>19438.000000</td>\n",
       "      <td>19438.000000</td>\n",
       "      <td>19438.000000</td>\n",
       "      <td>19438.000000</td>\n",
       "      <td>19438.000000</td>\n",
       "      <td>19437.000000</td>\n",
       "      <td>19438.000000</td>\n",
       "    </tr>\n",
       "    <tr>\n",
       "      <th>mean</th>\n",
       "      <td>5.168470</td>\n",
       "      <td>9.978895</td>\n",
       "      <td>9.501224</td>\n",
       "      <td>44.076513</td>\n",
       "      <td>67.050208</td>\n",
       "      <td>9.688589</td>\n",
       "      <td>2.705795</td>\n",
       "      <td>10.583728</td>\n",
       "      <td>3.042467</td>\n",
       "      <td>144.624774</td>\n",
       "      <td>...</td>\n",
       "      <td>18.987674</td>\n",
       "      <td>-485.894516</td>\n",
       "      <td>15.010366</td>\n",
       "      <td>-461.078636</td>\n",
       "      <td>15.694452</td>\n",
       "      <td>-488.684065</td>\n",
       "      <td>12.198224</td>\n",
       "      <td>-487.149827</td>\n",
       "      <td>18.959024</td>\n",
       "      <td>-505.436305</td>\n",
       "    </tr>\n",
       "    <tr>\n",
       "      <th>std</th>\n",
       "      <td>1.372348</td>\n",
       "      <td>1.669240</td>\n",
       "      <td>2.787537</td>\n",
       "      <td>5.129784</td>\n",
       "      <td>10.125840</td>\n",
       "      <td>2.328642</td>\n",
       "      <td>0.949077</td>\n",
       "      <td>2.868782</td>\n",
       "      <td>0.922808</td>\n",
       "      <td>44.464071</td>\n",
       "      <td>...</td>\n",
       "      <td>5.411058</td>\n",
       "      <td>47.758570</td>\n",
       "      <td>4.890228</td>\n",
       "      <td>67.405524</td>\n",
       "      <td>5.510974</td>\n",
       "      <td>34.533396</td>\n",
       "      <td>5.333024</td>\n",
       "      <td>38.347312</td>\n",
       "      <td>5.550498</td>\n",
       "      <td>37.689057</td>\n",
       "    </tr>\n",
       "    <tr>\n",
       "      <th>min</th>\n",
       "      <td>0.000000</td>\n",
       "      <td>0.000000</td>\n",
       "      <td>0.000000</td>\n",
       "      <td>0.000000</td>\n",
       "      <td>0.000000</td>\n",
       "      <td>0.000000</td>\n",
       "      <td>0.000000</td>\n",
       "      <td>0.000000</td>\n",
       "      <td>0.000000</td>\n",
       "      <td>0.003112</td>\n",
       "      <td>...</td>\n",
       "      <td>0.000000</td>\n",
       "      <td>-799.798523</td>\n",
       "      <td>0.000000</td>\n",
       "      <td>-800.836914</td>\n",
       "      <td>-0.372054</td>\n",
       "      <td>-797.323986</td>\n",
       "      <td>0.528083</td>\n",
       "      <td>-800.220337</td>\n",
       "      <td>-0.079426</td>\n",
       "      <td>-809.741464</td>\n",
       "    </tr>\n",
       "    <tr>\n",
       "      <th>25%</th>\n",
       "      <td>4.251240</td>\n",
       "      <td>9.137262</td>\n",
       "      <td>7.722820</td>\n",
       "      <td>43.402215</td>\n",
       "      <td>63.299712</td>\n",
       "      <td>8.062878</td>\n",
       "      <td>2.040119</td>\n",
       "      <td>8.938947</td>\n",
       "      <td>2.461138</td>\n",
       "      <td>114.107029</td>\n",
       "      <td>...</td>\n",
       "      <td>14.975734</td>\n",
       "      <td>-500.704892</td>\n",
       "      <td>11.940294</td>\n",
       "      <td>-500.187742</td>\n",
       "      <td>10.988606</td>\n",
       "      <td>-500.458467</td>\n",
       "      <td>8.971105</td>\n",
       "      <td>-500.129462</td>\n",
       "      <td>14.983037</td>\n",
       "      <td>-500.728067</td>\n",
       "    </tr>\n",
       "    <tr>\n",
       "      <th>50%</th>\n",
       "      <td>5.066094</td>\n",
       "      <td>10.102433</td>\n",
       "      <td>9.218961</td>\n",
       "      <td>45.011244</td>\n",
       "      <td>68.172738</td>\n",
       "      <td>9.743623</td>\n",
       "      <td>2.748730</td>\n",
       "      <td>10.622456</td>\n",
       "      <td>2.984909</td>\n",
       "      <td>143.232103</td>\n",
       "      <td>...</td>\n",
       "      <td>18.017481</td>\n",
       "      <td>-499.837793</td>\n",
       "      <td>14.971014</td>\n",
       "      <td>-499.459786</td>\n",
       "      <td>15.000036</td>\n",
       "      <td>-499.802605</td>\n",
       "      <td>11.019433</td>\n",
       "      <td>-499.935317</td>\n",
       "      <td>19.960541</td>\n",
       "      <td>-500.048400</td>\n",
       "    </tr>\n",
       "    <tr>\n",
       "      <th>75%</th>\n",
       "      <td>5.895527</td>\n",
       "      <td>11.035769</td>\n",
       "      <td>10.947813</td>\n",
       "      <td>46.275313</td>\n",
       "      <td>72.686642</td>\n",
       "      <td>11.134294</td>\n",
       "      <td>3.333216</td>\n",
       "      <td>12.104271</td>\n",
       "      <td>3.571351</td>\n",
       "      <td>175.075656</td>\n",
       "      <td>...</td>\n",
       "      <td>23.012470</td>\n",
       "      <td>-498.249730</td>\n",
       "      <td>19.034162</td>\n",
       "      <td>-400.118106</td>\n",
       "      <td>18.026190</td>\n",
       "      <td>-498.384187</td>\n",
       "      <td>14.019088</td>\n",
       "      <td>-499.436708</td>\n",
       "      <td>24.003170</td>\n",
       "      <td>-499.495378</td>\n",
       "    </tr>\n",
       "    <tr>\n",
       "      <th>max</th>\n",
       "      <td>16.001945</td>\n",
       "      <td>17.031899</td>\n",
       "      <td>19.615720</td>\n",
       "      <td>52.756638</td>\n",
       "      <td>100.000000</td>\n",
       "      <td>19.552149</td>\n",
       "      <td>5.804178</td>\n",
       "      <td>22.317730</td>\n",
       "      <td>8.245022</td>\n",
       "      <td>265.983123</td>\n",
       "      <td>...</td>\n",
       "      <td>30.115735</td>\n",
       "      <td>-245.239184</td>\n",
       "      <td>31.269706</td>\n",
       "      <td>-6.506986</td>\n",
       "      <td>43.709931</td>\n",
       "      <td>-244.483566</td>\n",
       "      <td>27.926001</td>\n",
       "      <td>-137.740004</td>\n",
       "      <td>32.188906</td>\n",
       "      <td>-104.427459</td>\n",
       "    </tr>\n",
       "  </tbody>\n",
       "</table>\n",
       "<p>8 rows × 86 columns</p>\n",
       "</div>"
      ],
      "text/plain": [
       "       final.output.concentrate_ag  final.output.concentrate_pb  \\\n",
       "count                 19438.000000                 19438.000000   \n",
       "mean                      5.168470                     9.978895   \n",
       "std                       1.372348                     1.669240   \n",
       "min                       0.000000                     0.000000   \n",
       "25%                       4.251240                     9.137262   \n",
       "50%                       5.066094                    10.102433   \n",
       "75%                       5.895527                    11.035769   \n",
       "max                      16.001945                    17.031899   \n",
       "\n",
       "       final.output.concentrate_sol  final.output.concentrate_au  \\\n",
       "count                  19228.000000                 19439.000000   \n",
       "mean                       9.501224                    44.076513   \n",
       "std                        2.787537                     5.129784   \n",
       "min                        0.000000                     0.000000   \n",
       "25%                        7.722820                    43.402215   \n",
       "50%                        9.218961                    45.011244   \n",
       "75%                       10.947813                    46.275313   \n",
       "max                       19.615720                    52.756638   \n",
       "\n",
       "       final.output.recovery  final.output.tail_ag  final.output.tail_pb  \\\n",
       "count           19439.000000          19438.000000          19338.000000   \n",
       "mean               67.050208              9.688589              2.705795   \n",
       "std                10.125840              2.328642              0.949077   \n",
       "min                 0.000000              0.000000              0.000000   \n",
       "25%                63.299712              8.062878              2.040119   \n",
       "50%                68.172738              9.743623              2.748730   \n",
       "75%                72.686642             11.134294              3.333216   \n",
       "max               100.000000             19.552149              5.804178   \n",
       "\n",
       "       final.output.tail_sol  final.output.tail_au  \\\n",
       "count           19433.000000          19439.000000   \n",
       "mean               10.583728              3.042467   \n",
       "std                 2.868782              0.922808   \n",
       "min                 0.000000              0.000000   \n",
       "25%                 8.938947              2.461138   \n",
       "50%                10.622456              2.984909   \n",
       "75%                12.104271              3.571351   \n",
       "max                22.317730              8.245022   \n",
       "\n",
       "       primary_cleaner.input.sulfate  ...  \\\n",
       "count                   19415.000000  ...   \n",
       "mean                      144.624774  ...   \n",
       "std                        44.464071  ...   \n",
       "min                         0.003112  ...   \n",
       "25%                       114.107029  ...   \n",
       "50%                       143.232103  ...   \n",
       "75%                       175.075656  ...   \n",
       "max                       265.983123  ...   \n",
       "\n",
       "       secondary_cleaner.state.floatbank4_a_air  \\\n",
       "count                              19433.000000   \n",
       "mean                                  18.987674   \n",
       "std                                    5.411058   \n",
       "min                                    0.000000   \n",
       "25%                                   14.975734   \n",
       "50%                                   18.017481   \n",
       "75%                                   23.012470   \n",
       "max                                   30.115735   \n",
       "\n",
       "       secondary_cleaner.state.floatbank4_a_level  \\\n",
       "count                                19438.000000   \n",
       "mean                                  -485.894516   \n",
       "std                                     47.758570   \n",
       "min                                   -799.798523   \n",
       "25%                                   -500.704892   \n",
       "50%                                   -499.837793   \n",
       "75%                                   -498.249730   \n",
       "max                                   -245.239184   \n",
       "\n",
       "       secondary_cleaner.state.floatbank4_b_air  \\\n",
       "count                              19438.000000   \n",
       "mean                                  15.010366   \n",
       "std                                    4.890228   \n",
       "min                                    0.000000   \n",
       "25%                                   11.940294   \n",
       "50%                                   14.971014   \n",
       "75%                                   19.034162   \n",
       "max                                   31.269706   \n",
       "\n",
       "       secondary_cleaner.state.floatbank4_b_level  \\\n",
       "count                                19438.000000   \n",
       "mean                                  -461.078636   \n",
       "std                                     67.405524   \n",
       "min                                   -800.836914   \n",
       "25%                                   -500.187742   \n",
       "50%                                   -499.459786   \n",
       "75%                                   -400.118106   \n",
       "max                                     -6.506986   \n",
       "\n",
       "       secondary_cleaner.state.floatbank5_a_air  \\\n",
       "count                              19438.000000   \n",
       "mean                                  15.694452   \n",
       "std                                    5.510974   \n",
       "min                                   -0.372054   \n",
       "25%                                   10.988606   \n",
       "50%                                   15.000036   \n",
       "75%                                   18.026190   \n",
       "max                                   43.709931   \n",
       "\n",
       "       secondary_cleaner.state.floatbank5_a_level  \\\n",
       "count                                19438.000000   \n",
       "mean                                  -488.684065   \n",
       "std                                     34.533396   \n",
       "min                                   -797.323986   \n",
       "25%                                   -500.458467   \n",
       "50%                                   -499.802605   \n",
       "75%                                   -498.384187   \n",
       "max                                   -244.483566   \n",
       "\n",
       "       secondary_cleaner.state.floatbank5_b_air  \\\n",
       "count                              19438.000000   \n",
       "mean                                  12.198224   \n",
       "std                                    5.333024   \n",
       "min                                    0.528083   \n",
       "25%                                    8.971105   \n",
       "50%                                   11.019433   \n",
       "75%                                   14.019088   \n",
       "max                                   27.926001   \n",
       "\n",
       "       secondary_cleaner.state.floatbank5_b_level  \\\n",
       "count                                19438.000000   \n",
       "mean                                  -487.149827   \n",
       "std                                     38.347312   \n",
       "min                                   -800.220337   \n",
       "25%                                   -500.129462   \n",
       "50%                                   -499.935317   \n",
       "75%                                   -499.436708   \n",
       "max                                   -137.740004   \n",
       "\n",
       "       secondary_cleaner.state.floatbank6_a_air  \\\n",
       "count                              19437.000000   \n",
       "mean                                  18.959024   \n",
       "std                                    5.550498   \n",
       "min                                   -0.079426   \n",
       "25%                                   14.983037   \n",
       "50%                                   19.960541   \n",
       "75%                                   24.003170   \n",
       "max                                   32.188906   \n",
       "\n",
       "       secondary_cleaner.state.floatbank6_a_level  \n",
       "count                                19438.000000  \n",
       "mean                                  -505.436305  \n",
       "std                                     37.689057  \n",
       "min                                   -809.741464  \n",
       "25%                                   -500.728067  \n",
       "50%                                   -500.048400  \n",
       "75%                                   -499.495378  \n",
       "max                                   -104.427459  \n",
       "\n",
       "[8 rows x 86 columns]"
      ]
     },
     "metadata": {},
     "output_type": "display_data"
    },
    {
     "name": "stdout",
     "output_type": "stream",
     "text": [
      "Дубликатов не обнаружено\n"
     ]
    }
   ],
   "source": [
    "review(df_full)"
   ]
  },
  {
   "cell_type": "code",
   "execution_count": 7,
   "metadata": {},
   "outputs": [
    {
     "data": {
      "text/html": [
       "<div>\n",
       "<style scoped>\n",
       "    .dataframe tbody tr th:only-of-type {\n",
       "        vertical-align: middle;\n",
       "    }\n",
       "\n",
       "    .dataframe tbody tr th {\n",
       "        vertical-align: top;\n",
       "    }\n",
       "\n",
       "    .dataframe thead th {\n",
       "        text-align: right;\n",
       "    }\n",
       "</style>\n",
       "<table border=\"1\" class=\"dataframe\">\n",
       "  <thead>\n",
       "    <tr style=\"text-align: right;\">\n",
       "      <th></th>\n",
       "      <th>date</th>\n",
       "      <th>final.output.concentrate_ag</th>\n",
       "      <th>final.output.concentrate_pb</th>\n",
       "      <th>final.output.concentrate_sol</th>\n",
       "      <th>final.output.concentrate_au</th>\n",
       "      <th>final.output.recovery</th>\n",
       "      <th>final.output.tail_ag</th>\n",
       "      <th>final.output.tail_pb</th>\n",
       "      <th>final.output.tail_sol</th>\n",
       "      <th>final.output.tail_au</th>\n",
       "      <th>...</th>\n",
       "      <th>secondary_cleaner.state.floatbank4_a_air</th>\n",
       "      <th>secondary_cleaner.state.floatbank4_a_level</th>\n",
       "      <th>secondary_cleaner.state.floatbank4_b_air</th>\n",
       "      <th>secondary_cleaner.state.floatbank4_b_level</th>\n",
       "      <th>secondary_cleaner.state.floatbank5_a_air</th>\n",
       "      <th>secondary_cleaner.state.floatbank5_a_level</th>\n",
       "      <th>secondary_cleaner.state.floatbank5_b_air</th>\n",
       "      <th>secondary_cleaner.state.floatbank5_b_level</th>\n",
       "      <th>secondary_cleaner.state.floatbank6_a_air</th>\n",
       "      <th>secondary_cleaner.state.floatbank6_a_level</th>\n",
       "    </tr>\n",
       "  </thead>\n",
       "  <tbody>\n",
       "    <tr>\n",
       "      <th>0</th>\n",
       "      <td>2016-01-15 00:00:00</td>\n",
       "      <td>6.055403</td>\n",
       "      <td>9.889648</td>\n",
       "      <td>5.507324</td>\n",
       "      <td>42.192020</td>\n",
       "      <td>70.541216</td>\n",
       "      <td>10.411962</td>\n",
       "      <td>0.895447</td>\n",
       "      <td>16.904297</td>\n",
       "      <td>2.143149</td>\n",
       "      <td>...</td>\n",
       "      <td>14.016835</td>\n",
       "      <td>-502.488007</td>\n",
       "      <td>12.099931</td>\n",
       "      <td>-504.715942</td>\n",
       "      <td>9.925633</td>\n",
       "      <td>-498.310211</td>\n",
       "      <td>8.079666</td>\n",
       "      <td>-500.470978</td>\n",
       "      <td>14.151341</td>\n",
       "      <td>-605.841980</td>\n",
       "    </tr>\n",
       "    <tr>\n",
       "      <th>1</th>\n",
       "      <td>2016-01-15 01:00:00</td>\n",
       "      <td>6.029369</td>\n",
       "      <td>9.968944</td>\n",
       "      <td>5.257781</td>\n",
       "      <td>42.701629</td>\n",
       "      <td>69.266198</td>\n",
       "      <td>10.462676</td>\n",
       "      <td>0.927452</td>\n",
       "      <td>16.634514</td>\n",
       "      <td>2.224930</td>\n",
       "      <td>...</td>\n",
       "      <td>13.992281</td>\n",
       "      <td>-505.503262</td>\n",
       "      <td>11.950531</td>\n",
       "      <td>-501.331529</td>\n",
       "      <td>10.039245</td>\n",
       "      <td>-500.169983</td>\n",
       "      <td>7.984757</td>\n",
       "      <td>-500.582168</td>\n",
       "      <td>13.998353</td>\n",
       "      <td>-599.787184</td>\n",
       "    </tr>\n",
       "    <tr>\n",
       "      <th>2</th>\n",
       "      <td>2016-01-15 02:00:00</td>\n",
       "      <td>6.055926</td>\n",
       "      <td>10.213995</td>\n",
       "      <td>5.383759</td>\n",
       "      <td>42.657501</td>\n",
       "      <td>68.116445</td>\n",
       "      <td>10.507046</td>\n",
       "      <td>0.953716</td>\n",
       "      <td>16.208849</td>\n",
       "      <td>2.257889</td>\n",
       "      <td>...</td>\n",
       "      <td>14.015015</td>\n",
       "      <td>-502.520901</td>\n",
       "      <td>11.912783</td>\n",
       "      <td>-501.133383</td>\n",
       "      <td>10.070913</td>\n",
       "      <td>-500.129135</td>\n",
       "      <td>8.013877</td>\n",
       "      <td>-500.517572</td>\n",
       "      <td>14.028663</td>\n",
       "      <td>-601.427363</td>\n",
       "    </tr>\n",
       "    <tr>\n",
       "      <th>3</th>\n",
       "      <td>2016-01-15 03:00:00</td>\n",
       "      <td>6.047977</td>\n",
       "      <td>9.977019</td>\n",
       "      <td>4.858634</td>\n",
       "      <td>42.689819</td>\n",
       "      <td>68.347543</td>\n",
       "      <td>10.422762</td>\n",
       "      <td>0.883763</td>\n",
       "      <td>16.532835</td>\n",
       "      <td>2.146849</td>\n",
       "      <td>...</td>\n",
       "      <td>14.036510</td>\n",
       "      <td>-500.857308</td>\n",
       "      <td>11.999550</td>\n",
       "      <td>-501.193686</td>\n",
       "      <td>9.970366</td>\n",
       "      <td>-499.201640</td>\n",
       "      <td>7.977324</td>\n",
       "      <td>-500.255908</td>\n",
       "      <td>14.005551</td>\n",
       "      <td>-599.996129</td>\n",
       "    </tr>\n",
       "    <tr>\n",
       "      <th>4</th>\n",
       "      <td>2016-01-15 04:00:00</td>\n",
       "      <td>6.148599</td>\n",
       "      <td>10.142511</td>\n",
       "      <td>4.939416</td>\n",
       "      <td>42.774141</td>\n",
       "      <td>66.927016</td>\n",
       "      <td>10.360302</td>\n",
       "      <td>0.792826</td>\n",
       "      <td>16.525686</td>\n",
       "      <td>2.055292</td>\n",
       "      <td>...</td>\n",
       "      <td>14.027298</td>\n",
       "      <td>-499.838632</td>\n",
       "      <td>11.953070</td>\n",
       "      <td>-501.053894</td>\n",
       "      <td>9.925709</td>\n",
       "      <td>-501.686727</td>\n",
       "      <td>7.894242</td>\n",
       "      <td>-500.356035</td>\n",
       "      <td>13.996647</td>\n",
       "      <td>-601.496691</td>\n",
       "    </tr>\n",
       "    <tr>\n",
       "      <th>5</th>\n",
       "      <td>2016-01-15 05:00:00</td>\n",
       "      <td>6.482968</td>\n",
       "      <td>10.049416</td>\n",
       "      <td>5.480257</td>\n",
       "      <td>41.633678</td>\n",
       "      <td>69.465816</td>\n",
       "      <td>10.182708</td>\n",
       "      <td>0.664118</td>\n",
       "      <td>16.999638</td>\n",
       "      <td>1.918586</td>\n",
       "      <td>...</td>\n",
       "      <td>13.938497</td>\n",
       "      <td>-500.970168</td>\n",
       "      <td>11.883350</td>\n",
       "      <td>-500.395298</td>\n",
       "      <td>10.054147</td>\n",
       "      <td>-496.374715</td>\n",
       "      <td>7.965083</td>\n",
       "      <td>-499.364752</td>\n",
       "      <td>14.017067</td>\n",
       "      <td>-599.707915</td>\n",
       "    </tr>\n",
       "    <tr>\n",
       "      <th>6</th>\n",
       "      <td>2016-01-15 06:00:00</td>\n",
       "      <td>6.533849</td>\n",
       "      <td>10.058141</td>\n",
       "      <td>4.569100</td>\n",
       "      <td>41.995316</td>\n",
       "      <td>69.300835</td>\n",
       "      <td>10.304598</td>\n",
       "      <td>0.807342</td>\n",
       "      <td>16.723575</td>\n",
       "      <td>2.058913</td>\n",
       "      <td>...</td>\n",
       "      <td>14.046819</td>\n",
       "      <td>-500.971133</td>\n",
       "      <td>12.091543</td>\n",
       "      <td>-500.501426</td>\n",
       "      <td>10.003247</td>\n",
       "      <td>-497.083180</td>\n",
       "      <td>8.010890</td>\n",
       "      <td>-500.002423</td>\n",
       "      <td>14.029649</td>\n",
       "      <td>-600.905470</td>\n",
       "    </tr>\n",
       "    <tr>\n",
       "      <th>7</th>\n",
       "      <td>2016-01-15 07:00:00</td>\n",
       "      <td>6.130823</td>\n",
       "      <td>9.935481</td>\n",
       "      <td>4.389813</td>\n",
       "      <td>42.452727</td>\n",
       "      <td>70.230976</td>\n",
       "      <td>10.443288</td>\n",
       "      <td>0.949346</td>\n",
       "      <td>16.689959</td>\n",
       "      <td>2.143437</td>\n",
       "      <td>...</td>\n",
       "      <td>13.974691</td>\n",
       "      <td>-501.819696</td>\n",
       "      <td>12.101324</td>\n",
       "      <td>-500.583446</td>\n",
       "      <td>9.873169</td>\n",
       "      <td>-499.171928</td>\n",
       "      <td>7.993381</td>\n",
       "      <td>-499.794518</td>\n",
       "      <td>13.984498</td>\n",
       "      <td>-600.411070</td>\n",
       "    </tr>\n",
       "    <tr>\n",
       "      <th>8</th>\n",
       "      <td>2016-01-15 08:00:00</td>\n",
       "      <td>5.834140</td>\n",
       "      <td>10.071156</td>\n",
       "      <td>4.876389</td>\n",
       "      <td>43.404078</td>\n",
       "      <td>69.688595</td>\n",
       "      <td>10.420140</td>\n",
       "      <td>1.065453</td>\n",
       "      <td>17.201948</td>\n",
       "      <td>2.209881</td>\n",
       "      <td>...</td>\n",
       "      <td>13.964030</td>\n",
       "      <td>-504.252450</td>\n",
       "      <td>12.060738</td>\n",
       "      <td>-501.174549</td>\n",
       "      <td>10.033838</td>\n",
       "      <td>-501.178133</td>\n",
       "      <td>7.881604</td>\n",
       "      <td>-499.729434</td>\n",
       "      <td>13.967135</td>\n",
       "      <td>-599.061188</td>\n",
       "    </tr>\n",
       "    <tr>\n",
       "      <th>9</th>\n",
       "      <td>2016-01-15 09:00:00</td>\n",
       "      <td>5.687063</td>\n",
       "      <td>9.980404</td>\n",
       "      <td>5.282514</td>\n",
       "      <td>43.235220</td>\n",
       "      <td>70.279619</td>\n",
       "      <td>10.487013</td>\n",
       "      <td>1.159805</td>\n",
       "      <td>17.483979</td>\n",
       "      <td>2.209593</td>\n",
       "      <td>...</td>\n",
       "      <td>13.989632</td>\n",
       "      <td>-503.195299</td>\n",
       "      <td>12.052233</td>\n",
       "      <td>-500.928547</td>\n",
       "      <td>9.962574</td>\n",
       "      <td>-502.986357</td>\n",
       "      <td>7.979219</td>\n",
       "      <td>-500.146835</td>\n",
       "      <td>13.981614</td>\n",
       "      <td>-598.070855</td>\n",
       "    </tr>\n",
       "  </tbody>\n",
       "</table>\n",
       "<p>10 rows × 87 columns</p>\n",
       "</div>"
      ],
      "text/plain": [
       "                  date  final.output.concentrate_ag  \\\n",
       "0  2016-01-15 00:00:00                     6.055403   \n",
       "1  2016-01-15 01:00:00                     6.029369   \n",
       "2  2016-01-15 02:00:00                     6.055926   \n",
       "3  2016-01-15 03:00:00                     6.047977   \n",
       "4  2016-01-15 04:00:00                     6.148599   \n",
       "5  2016-01-15 05:00:00                     6.482968   \n",
       "6  2016-01-15 06:00:00                     6.533849   \n",
       "7  2016-01-15 07:00:00                     6.130823   \n",
       "8  2016-01-15 08:00:00                     5.834140   \n",
       "9  2016-01-15 09:00:00                     5.687063   \n",
       "\n",
       "   final.output.concentrate_pb  final.output.concentrate_sol  \\\n",
       "0                     9.889648                      5.507324   \n",
       "1                     9.968944                      5.257781   \n",
       "2                    10.213995                      5.383759   \n",
       "3                     9.977019                      4.858634   \n",
       "4                    10.142511                      4.939416   \n",
       "5                    10.049416                      5.480257   \n",
       "6                    10.058141                      4.569100   \n",
       "7                     9.935481                      4.389813   \n",
       "8                    10.071156                      4.876389   \n",
       "9                     9.980404                      5.282514   \n",
       "\n",
       "   final.output.concentrate_au  final.output.recovery  final.output.tail_ag  \\\n",
       "0                    42.192020              70.541216             10.411962   \n",
       "1                    42.701629              69.266198             10.462676   \n",
       "2                    42.657501              68.116445             10.507046   \n",
       "3                    42.689819              68.347543             10.422762   \n",
       "4                    42.774141              66.927016             10.360302   \n",
       "5                    41.633678              69.465816             10.182708   \n",
       "6                    41.995316              69.300835             10.304598   \n",
       "7                    42.452727              70.230976             10.443288   \n",
       "8                    43.404078              69.688595             10.420140   \n",
       "9                    43.235220              70.279619             10.487013   \n",
       "\n",
       "   final.output.tail_pb  final.output.tail_sol  final.output.tail_au  ...  \\\n",
       "0              0.895447              16.904297              2.143149  ...   \n",
       "1              0.927452              16.634514              2.224930  ...   \n",
       "2              0.953716              16.208849              2.257889  ...   \n",
       "3              0.883763              16.532835              2.146849  ...   \n",
       "4              0.792826              16.525686              2.055292  ...   \n",
       "5              0.664118              16.999638              1.918586  ...   \n",
       "6              0.807342              16.723575              2.058913  ...   \n",
       "7              0.949346              16.689959              2.143437  ...   \n",
       "8              1.065453              17.201948              2.209881  ...   \n",
       "9              1.159805              17.483979              2.209593  ...   \n",
       "\n",
       "   secondary_cleaner.state.floatbank4_a_air  \\\n",
       "0                                 14.016835   \n",
       "1                                 13.992281   \n",
       "2                                 14.015015   \n",
       "3                                 14.036510   \n",
       "4                                 14.027298   \n",
       "5                                 13.938497   \n",
       "6                                 14.046819   \n",
       "7                                 13.974691   \n",
       "8                                 13.964030   \n",
       "9                                 13.989632   \n",
       "\n",
       "   secondary_cleaner.state.floatbank4_a_level  \\\n",
       "0                                 -502.488007   \n",
       "1                                 -505.503262   \n",
       "2                                 -502.520901   \n",
       "3                                 -500.857308   \n",
       "4                                 -499.838632   \n",
       "5                                 -500.970168   \n",
       "6                                 -500.971133   \n",
       "7                                 -501.819696   \n",
       "8                                 -504.252450   \n",
       "9                                 -503.195299   \n",
       "\n",
       "   secondary_cleaner.state.floatbank4_b_air  \\\n",
       "0                                 12.099931   \n",
       "1                                 11.950531   \n",
       "2                                 11.912783   \n",
       "3                                 11.999550   \n",
       "4                                 11.953070   \n",
       "5                                 11.883350   \n",
       "6                                 12.091543   \n",
       "7                                 12.101324   \n",
       "8                                 12.060738   \n",
       "9                                 12.052233   \n",
       "\n",
       "   secondary_cleaner.state.floatbank4_b_level  \\\n",
       "0                                 -504.715942   \n",
       "1                                 -501.331529   \n",
       "2                                 -501.133383   \n",
       "3                                 -501.193686   \n",
       "4                                 -501.053894   \n",
       "5                                 -500.395298   \n",
       "6                                 -500.501426   \n",
       "7                                 -500.583446   \n",
       "8                                 -501.174549   \n",
       "9                                 -500.928547   \n",
       "\n",
       "   secondary_cleaner.state.floatbank5_a_air  \\\n",
       "0                                  9.925633   \n",
       "1                                 10.039245   \n",
       "2                                 10.070913   \n",
       "3                                  9.970366   \n",
       "4                                  9.925709   \n",
       "5                                 10.054147   \n",
       "6                                 10.003247   \n",
       "7                                  9.873169   \n",
       "8                                 10.033838   \n",
       "9                                  9.962574   \n",
       "\n",
       "   secondary_cleaner.state.floatbank5_a_level  \\\n",
       "0                                 -498.310211   \n",
       "1                                 -500.169983   \n",
       "2                                 -500.129135   \n",
       "3                                 -499.201640   \n",
       "4                                 -501.686727   \n",
       "5                                 -496.374715   \n",
       "6                                 -497.083180   \n",
       "7                                 -499.171928   \n",
       "8                                 -501.178133   \n",
       "9                                 -502.986357   \n",
       "\n",
       "   secondary_cleaner.state.floatbank5_b_air  \\\n",
       "0                                  8.079666   \n",
       "1                                  7.984757   \n",
       "2                                  8.013877   \n",
       "3                                  7.977324   \n",
       "4                                  7.894242   \n",
       "5                                  7.965083   \n",
       "6                                  8.010890   \n",
       "7                                  7.993381   \n",
       "8                                  7.881604   \n",
       "9                                  7.979219   \n",
       "\n",
       "   secondary_cleaner.state.floatbank5_b_level  \\\n",
       "0                                 -500.470978   \n",
       "1                                 -500.582168   \n",
       "2                                 -500.517572   \n",
       "3                                 -500.255908   \n",
       "4                                 -500.356035   \n",
       "5                                 -499.364752   \n",
       "6                                 -500.002423   \n",
       "7                                 -499.794518   \n",
       "8                                 -499.729434   \n",
       "9                                 -500.146835   \n",
       "\n",
       "   secondary_cleaner.state.floatbank6_a_air  \\\n",
       "0                                 14.151341   \n",
       "1                                 13.998353   \n",
       "2                                 14.028663   \n",
       "3                                 14.005551   \n",
       "4                                 13.996647   \n",
       "5                                 14.017067   \n",
       "6                                 14.029649   \n",
       "7                                 13.984498   \n",
       "8                                 13.967135   \n",
       "9                                 13.981614   \n",
       "\n",
       "   secondary_cleaner.state.floatbank6_a_level  \n",
       "0                                 -605.841980  \n",
       "1                                 -599.787184  \n",
       "2                                 -601.427363  \n",
       "3                                 -599.996129  \n",
       "4                                 -601.496691  \n",
       "5                                 -599.707915  \n",
       "6                                 -600.905470  \n",
       "7                                 -600.411070  \n",
       "8                                 -599.061188  \n",
       "9                                 -598.070855  \n",
       "\n",
       "[10 rows x 87 columns]"
      ]
     },
     "metadata": {},
     "output_type": "display_data"
    },
    {
     "name": "stdout",
     "output_type": "stream",
     "text": [
      "<class 'pandas.core.frame.DataFrame'>\n",
      "RangeIndex: 14149 entries, 0 to 14148\n",
      "Data columns (total 87 columns):\n",
      " #   Column                                              Non-Null Count  Dtype  \n",
      "---  ------                                              --------------  -----  \n",
      " 0   date                                                14149 non-null  object \n",
      " 1   final.output.concentrate_ag                         14148 non-null  float64\n",
      " 2   final.output.concentrate_pb                         14148 non-null  float64\n",
      " 3   final.output.concentrate_sol                        13938 non-null  float64\n",
      " 4   final.output.concentrate_au                         14149 non-null  float64\n",
      " 5   final.output.recovery                               14149 non-null  float64\n",
      " 6   final.output.tail_ag                                14149 non-null  float64\n",
      " 7   final.output.tail_pb                                14049 non-null  float64\n",
      " 8   final.output.tail_sol                               14144 non-null  float64\n",
      " 9   final.output.tail_au                                14149 non-null  float64\n",
      " 10  primary_cleaner.input.sulfate                       14129 non-null  float64\n",
      " 11  primary_cleaner.input.depressant                    14117 non-null  float64\n",
      " 12  primary_cleaner.input.feed_size                     14149 non-null  float64\n",
      " 13  primary_cleaner.input.xanthate                      14049 non-null  float64\n",
      " 14  primary_cleaner.output.concentrate_ag               14149 non-null  float64\n",
      " 15  primary_cleaner.output.concentrate_pb               14063 non-null  float64\n",
      " 16  primary_cleaner.output.concentrate_sol              13863 non-null  float64\n",
      " 17  primary_cleaner.output.concentrate_au               14149 non-null  float64\n",
      " 18  primary_cleaner.output.tail_ag                      14148 non-null  float64\n",
      " 19  primary_cleaner.output.tail_pb                      14134 non-null  float64\n",
      " 20  primary_cleaner.output.tail_sol                     14103 non-null  float64\n",
      " 21  primary_cleaner.output.tail_au                      14149 non-null  float64\n",
      " 22  primary_cleaner.state.floatbank8_a_air              14145 non-null  float64\n",
      " 23  primary_cleaner.state.floatbank8_a_level            14148 non-null  float64\n",
      " 24  primary_cleaner.state.floatbank8_b_air              14145 non-null  float64\n",
      " 25  primary_cleaner.state.floatbank8_b_level            14148 non-null  float64\n",
      " 26  primary_cleaner.state.floatbank8_c_air              14147 non-null  float64\n",
      " 27  primary_cleaner.state.floatbank8_c_level            14148 non-null  float64\n",
      " 28  primary_cleaner.state.floatbank8_d_air              14146 non-null  float64\n",
      " 29  primary_cleaner.state.floatbank8_d_level            14148 non-null  float64\n",
      " 30  rougher.calculation.sulfate_to_au_concentrate       14148 non-null  float64\n",
      " 31  rougher.calculation.floatbank10_sulfate_to_au_feed  14148 non-null  float64\n",
      " 32  rougher.calculation.floatbank11_sulfate_to_au_feed  14148 non-null  float64\n",
      " 33  rougher.calculation.au_pb_ratio                     14149 non-null  float64\n",
      " 34  rougher.input.feed_ag                               14149 non-null  float64\n",
      " 35  rougher.input.feed_pb                               14049 non-null  float64\n",
      " 36  rougher.input.feed_rate                             14141 non-null  float64\n",
      " 37  rougher.input.feed_size                             14005 non-null  float64\n",
      " 38  rougher.input.feed_sol                              14071 non-null  float64\n",
      " 39  rougher.input.feed_au                               14149 non-null  float64\n",
      " 40  rougher.input.floatbank10_sulfate                   14120 non-null  float64\n",
      " 41  rougher.input.floatbank10_xanthate                  14141 non-null  float64\n",
      " 42  rougher.input.floatbank11_sulfate                   14113 non-null  float64\n",
      " 43  rougher.input.floatbank11_xanthate                  13721 non-null  float64\n",
      " 44  rougher.output.concentrate_ag                       14149 non-null  float64\n",
      " 45  rougher.output.concentrate_pb                       14149 non-null  float64\n",
      " 46  rougher.output.concentrate_sol                      14127 non-null  float64\n",
      " 47  rougher.output.concentrate_au                       14149 non-null  float64\n",
      " 48  rougher.output.recovery                             14149 non-null  float64\n",
      " 49  rougher.output.tail_ag                              14148 non-null  float64\n",
      " 50  rougher.output.tail_pb                              14149 non-null  float64\n",
      " 51  rougher.output.tail_sol                             14149 non-null  float64\n",
      " 52  rougher.output.tail_au                              14149 non-null  float64\n",
      " 53  rougher.state.floatbank10_a_air                     14148 non-null  float64\n",
      " 54  rougher.state.floatbank10_a_level                   14148 non-null  float64\n",
      " 55  rougher.state.floatbank10_b_air                     14148 non-null  float64\n",
      " 56  rougher.state.floatbank10_b_level                   14148 non-null  float64\n",
      " 57  rougher.state.floatbank10_c_air                     14148 non-null  float64\n",
      " 58  rougher.state.floatbank10_c_level                   14148 non-null  float64\n",
      " 59  rougher.state.floatbank10_d_air                     14149 non-null  float64\n",
      " 60  rougher.state.floatbank10_d_level                   14149 non-null  float64\n",
      " 61  rougher.state.floatbank10_e_air                     13713 non-null  float64\n",
      " 62  rougher.state.floatbank10_e_level                   14149 non-null  float64\n",
      " 63  rougher.state.floatbank10_f_air                     14149 non-null  float64\n",
      " 64  rougher.state.floatbank10_f_level                   14149 non-null  float64\n",
      " 65  secondary_cleaner.output.tail_ag                    14147 non-null  float64\n",
      " 66  secondary_cleaner.output.tail_pb                    14139 non-null  float64\n",
      " 67  secondary_cleaner.output.tail_sol                   12544 non-null  float64\n",
      " 68  secondary_cleaner.output.tail_au                    14149 non-null  float64\n",
      " 69  secondary_cleaner.state.floatbank2_a_air            13932 non-null  float64\n",
      " 70  secondary_cleaner.state.floatbank2_a_level          14148 non-null  float64\n",
      " 71  secondary_cleaner.state.floatbank2_b_air            14128 non-null  float64\n",
      " 72  secondary_cleaner.state.floatbank2_b_level          14148 non-null  float64\n",
      " 73  secondary_cleaner.state.floatbank3_a_air            14145 non-null  float64\n",
      " 74  secondary_cleaner.state.floatbank3_a_level          14148 non-null  float64\n",
      " 75  secondary_cleaner.state.floatbank3_b_air            14148 non-null  float64\n",
      " 76  secondary_cleaner.state.floatbank3_b_level          14148 non-null  float64\n",
      " 77  secondary_cleaner.state.floatbank4_a_air            14143 non-null  float64\n",
      " 78  secondary_cleaner.state.floatbank4_a_level          14148 non-null  float64\n",
      " 79  secondary_cleaner.state.floatbank4_b_air            14148 non-null  float64\n",
      " 80  secondary_cleaner.state.floatbank4_b_level          14148 non-null  float64\n",
      " 81  secondary_cleaner.state.floatbank5_a_air            14148 non-null  float64\n",
      " 82  secondary_cleaner.state.floatbank5_a_level          14148 non-null  float64\n",
      " 83  secondary_cleaner.state.floatbank5_b_air            14148 non-null  float64\n",
      " 84  secondary_cleaner.state.floatbank5_b_level          14148 non-null  float64\n",
      " 85  secondary_cleaner.state.floatbank6_a_air            14147 non-null  float64\n",
      " 86  secondary_cleaner.state.floatbank6_a_level          14148 non-null  float64\n",
      "dtypes: float64(86), object(1)\n",
      "memory usage: 9.4+ MB\n"
     ]
    },
    {
     "data": {
      "text/html": [
       "<div>\n",
       "<style scoped>\n",
       "    .dataframe tbody tr th:only-of-type {\n",
       "        vertical-align: middle;\n",
       "    }\n",
       "\n",
       "    .dataframe tbody tr th {\n",
       "        vertical-align: top;\n",
       "    }\n",
       "\n",
       "    .dataframe thead th {\n",
       "        text-align: right;\n",
       "    }\n",
       "</style>\n",
       "<table border=\"1\" class=\"dataframe\">\n",
       "  <thead>\n",
       "    <tr style=\"text-align: right;\">\n",
       "      <th></th>\n",
       "      <th>final.output.concentrate_ag</th>\n",
       "      <th>final.output.concentrate_pb</th>\n",
       "      <th>final.output.concentrate_sol</th>\n",
       "      <th>final.output.concentrate_au</th>\n",
       "      <th>final.output.recovery</th>\n",
       "      <th>final.output.tail_ag</th>\n",
       "      <th>final.output.tail_pb</th>\n",
       "      <th>final.output.tail_sol</th>\n",
       "      <th>final.output.tail_au</th>\n",
       "      <th>primary_cleaner.input.sulfate</th>\n",
       "      <th>...</th>\n",
       "      <th>secondary_cleaner.state.floatbank4_a_air</th>\n",
       "      <th>secondary_cleaner.state.floatbank4_a_level</th>\n",
       "      <th>secondary_cleaner.state.floatbank4_b_air</th>\n",
       "      <th>secondary_cleaner.state.floatbank4_b_level</th>\n",
       "      <th>secondary_cleaner.state.floatbank5_a_air</th>\n",
       "      <th>secondary_cleaner.state.floatbank5_a_level</th>\n",
       "      <th>secondary_cleaner.state.floatbank5_b_air</th>\n",
       "      <th>secondary_cleaner.state.floatbank5_b_level</th>\n",
       "      <th>secondary_cleaner.state.floatbank6_a_air</th>\n",
       "      <th>secondary_cleaner.state.floatbank6_a_level</th>\n",
       "    </tr>\n",
       "  </thead>\n",
       "  <tbody>\n",
       "    <tr>\n",
       "      <th>count</th>\n",
       "      <td>14148.000000</td>\n",
       "      <td>14148.000000</td>\n",
       "      <td>13938.000000</td>\n",
       "      <td>14149.000000</td>\n",
       "      <td>14149.000000</td>\n",
       "      <td>14149.000000</td>\n",
       "      <td>14049.000000</td>\n",
       "      <td>14144.000000</td>\n",
       "      <td>14149.000000</td>\n",
       "      <td>14129.000000</td>\n",
       "      <td>...</td>\n",
       "      <td>14143.000000</td>\n",
       "      <td>14148.000000</td>\n",
       "      <td>14148.000000</td>\n",
       "      <td>14148.000000</td>\n",
       "      <td>14148.000000</td>\n",
       "      <td>14148.000000</td>\n",
       "      <td>14148.000000</td>\n",
       "      <td>14148.000000</td>\n",
       "      <td>14147.000000</td>\n",
       "      <td>14148.000000</td>\n",
       "    </tr>\n",
       "    <tr>\n",
       "      <th>mean</th>\n",
       "      <td>5.142034</td>\n",
       "      <td>10.132960</td>\n",
       "      <td>9.202849</td>\n",
       "      <td>44.003792</td>\n",
       "      <td>66.518832</td>\n",
       "      <td>9.607035</td>\n",
       "      <td>2.597298</td>\n",
       "      <td>10.512122</td>\n",
       "      <td>2.918421</td>\n",
       "      <td>133.320659</td>\n",
       "      <td>...</td>\n",
       "      <td>19.985454</td>\n",
       "      <td>-478.696836</td>\n",
       "      <td>15.487065</td>\n",
       "      <td>-460.229416</td>\n",
       "      <td>16.775136</td>\n",
       "      <td>-483.956022</td>\n",
       "      <td>13.064590</td>\n",
       "      <td>-483.966564</td>\n",
       "      <td>19.577539</td>\n",
       "      <td>-506.798480</td>\n",
       "    </tr>\n",
       "    <tr>\n",
       "      <th>std</th>\n",
       "      <td>1.369586</td>\n",
       "      <td>1.654930</td>\n",
       "      <td>2.790516</td>\n",
       "      <td>4.905261</td>\n",
       "      <td>10.295402</td>\n",
       "      <td>2.319069</td>\n",
       "      <td>0.971843</td>\n",
       "      <td>3.003617</td>\n",
       "      <td>0.903712</td>\n",
       "      <td>39.431659</td>\n",
       "      <td>...</td>\n",
       "      <td>5.657723</td>\n",
       "      <td>50.736021</td>\n",
       "      <td>5.255655</td>\n",
       "      <td>58.843586</td>\n",
       "      <td>5.831906</td>\n",
       "      <td>37.892788</td>\n",
       "      <td>5.765617</td>\n",
       "      <td>39.207913</td>\n",
       "      <td>5.764417</td>\n",
       "      <td>37.079249</td>\n",
       "    </tr>\n",
       "    <tr>\n",
       "      <th>min</th>\n",
       "      <td>0.000000</td>\n",
       "      <td>0.000000</td>\n",
       "      <td>0.000000</td>\n",
       "      <td>0.000000</td>\n",
       "      <td>0.000000</td>\n",
       "      <td>0.000000</td>\n",
       "      <td>0.000000</td>\n",
       "      <td>0.000000</td>\n",
       "      <td>0.000000</td>\n",
       "      <td>0.003112</td>\n",
       "      <td>...</td>\n",
       "      <td>0.000000</td>\n",
       "      <td>-799.709069</td>\n",
       "      <td>0.000000</td>\n",
       "      <td>-799.889113</td>\n",
       "      <td>-0.372054</td>\n",
       "      <td>-797.142475</td>\n",
       "      <td>0.646208</td>\n",
       "      <td>-800.006180</td>\n",
       "      <td>0.195324</td>\n",
       "      <td>-809.398668</td>\n",
       "    </tr>\n",
       "    <tr>\n",
       "      <th>25%</th>\n",
       "      <td>4.211620</td>\n",
       "      <td>9.297355</td>\n",
       "      <td>7.484645</td>\n",
       "      <td>43.276111</td>\n",
       "      <td>62.545817</td>\n",
       "      <td>7.997429</td>\n",
       "      <td>1.905973</td>\n",
       "      <td>8.811324</td>\n",
       "      <td>2.368607</td>\n",
       "      <td>107.006651</td>\n",
       "      <td>...</td>\n",
       "      <td>14.990775</td>\n",
       "      <td>-500.628656</td>\n",
       "      <td>11.894558</td>\n",
       "      <td>-500.149000</td>\n",
       "      <td>11.083980</td>\n",
       "      <td>-500.363177</td>\n",
       "      <td>8.994405</td>\n",
       "      <td>-500.105994</td>\n",
       "      <td>14.989304</td>\n",
       "      <td>-500.745104</td>\n",
       "    </tr>\n",
       "    <tr>\n",
       "      <th>50%</th>\n",
       "      <td>4.994652</td>\n",
       "      <td>10.297144</td>\n",
       "      <td>8.845462</td>\n",
       "      <td>44.872436</td>\n",
       "      <td>67.432775</td>\n",
       "      <td>9.480270</td>\n",
       "      <td>2.592022</td>\n",
       "      <td>10.514621</td>\n",
       "      <td>2.851025</td>\n",
       "      <td>133.018328</td>\n",
       "      <td>...</td>\n",
       "      <td>20.001789</td>\n",
       "      <td>-499.681450</td>\n",
       "      <td>14.975536</td>\n",
       "      <td>-499.388738</td>\n",
       "      <td>17.932223</td>\n",
       "      <td>-499.702452</td>\n",
       "      <td>11.997547</td>\n",
       "      <td>-499.914556</td>\n",
       "      <td>19.984175</td>\n",
       "      <td>-500.061431</td>\n",
       "    </tr>\n",
       "    <tr>\n",
       "      <th>75%</th>\n",
       "      <td>5.859540</td>\n",
       "      <td>11.170603</td>\n",
       "      <td>10.487508</td>\n",
       "      <td>46.166425</td>\n",
       "      <td>72.346428</td>\n",
       "      <td>11.003707</td>\n",
       "      <td>3.241723</td>\n",
       "      <td>11.933009</td>\n",
       "      <td>3.434764</td>\n",
       "      <td>159.825396</td>\n",
       "      <td>...</td>\n",
       "      <td>24.990826</td>\n",
       "      <td>-477.472413</td>\n",
       "      <td>20.059375</td>\n",
       "      <td>-400.039008</td>\n",
       "      <td>21.346550</td>\n",
       "      <td>-487.712108</td>\n",
       "      <td>17.982903</td>\n",
       "      <td>-453.186936</td>\n",
       "      <td>24.991623</td>\n",
       "      <td>-499.536466</td>\n",
       "    </tr>\n",
       "    <tr>\n",
       "      <th>max</th>\n",
       "      <td>16.001945</td>\n",
       "      <td>17.031899</td>\n",
       "      <td>18.124851</td>\n",
       "      <td>52.756638</td>\n",
       "      <td>100.000000</td>\n",
       "      <td>19.552149</td>\n",
       "      <td>5.639565</td>\n",
       "      <td>22.317730</td>\n",
       "      <td>8.197408</td>\n",
       "      <td>250.127834</td>\n",
       "      <td>...</td>\n",
       "      <td>30.115735</td>\n",
       "      <td>-245.239184</td>\n",
       "      <td>24.007913</td>\n",
       "      <td>-145.071088</td>\n",
       "      <td>43.709931</td>\n",
       "      <td>-275.073125</td>\n",
       "      <td>27.926001</td>\n",
       "      <td>-157.396071</td>\n",
       "      <td>32.188906</td>\n",
       "      <td>-104.427459</td>\n",
       "    </tr>\n",
       "  </tbody>\n",
       "</table>\n",
       "<p>8 rows × 86 columns</p>\n",
       "</div>"
      ],
      "text/plain": [
       "       final.output.concentrate_ag  final.output.concentrate_pb  \\\n",
       "count                 14148.000000                 14148.000000   \n",
       "mean                      5.142034                    10.132960   \n",
       "std                       1.369586                     1.654930   \n",
       "min                       0.000000                     0.000000   \n",
       "25%                       4.211620                     9.297355   \n",
       "50%                       4.994652                    10.297144   \n",
       "75%                       5.859540                    11.170603   \n",
       "max                      16.001945                    17.031899   \n",
       "\n",
       "       final.output.concentrate_sol  final.output.concentrate_au  \\\n",
       "count                  13938.000000                 14149.000000   \n",
       "mean                       9.202849                    44.003792   \n",
       "std                        2.790516                     4.905261   \n",
       "min                        0.000000                     0.000000   \n",
       "25%                        7.484645                    43.276111   \n",
       "50%                        8.845462                    44.872436   \n",
       "75%                       10.487508                    46.166425   \n",
       "max                       18.124851                    52.756638   \n",
       "\n",
       "       final.output.recovery  final.output.tail_ag  final.output.tail_pb  \\\n",
       "count           14149.000000          14149.000000          14049.000000   \n",
       "mean               66.518832              9.607035              2.597298   \n",
       "std                10.295402              2.319069              0.971843   \n",
       "min                 0.000000              0.000000              0.000000   \n",
       "25%                62.545817              7.997429              1.905973   \n",
       "50%                67.432775              9.480270              2.592022   \n",
       "75%                72.346428             11.003707              3.241723   \n",
       "max               100.000000             19.552149              5.639565   \n",
       "\n",
       "       final.output.tail_sol  final.output.tail_au  \\\n",
       "count           14144.000000          14149.000000   \n",
       "mean               10.512122              2.918421   \n",
       "std                 3.003617              0.903712   \n",
       "min                 0.000000              0.000000   \n",
       "25%                 8.811324              2.368607   \n",
       "50%                10.514621              2.851025   \n",
       "75%                11.933009              3.434764   \n",
       "max                22.317730              8.197408   \n",
       "\n",
       "       primary_cleaner.input.sulfate  ...  \\\n",
       "count                   14129.000000  ...   \n",
       "mean                      133.320659  ...   \n",
       "std                        39.431659  ...   \n",
       "min                         0.003112  ...   \n",
       "25%                       107.006651  ...   \n",
       "50%                       133.018328  ...   \n",
       "75%                       159.825396  ...   \n",
       "max                       250.127834  ...   \n",
       "\n",
       "       secondary_cleaner.state.floatbank4_a_air  \\\n",
       "count                              14143.000000   \n",
       "mean                                  19.985454   \n",
       "std                                    5.657723   \n",
       "min                                    0.000000   \n",
       "25%                                   14.990775   \n",
       "50%                                   20.001789   \n",
       "75%                                   24.990826   \n",
       "max                                   30.115735   \n",
       "\n",
       "       secondary_cleaner.state.floatbank4_a_level  \\\n",
       "count                                14148.000000   \n",
       "mean                                  -478.696836   \n",
       "std                                     50.736021   \n",
       "min                                   -799.709069   \n",
       "25%                                   -500.628656   \n",
       "50%                                   -499.681450   \n",
       "75%                                   -477.472413   \n",
       "max                                   -245.239184   \n",
       "\n",
       "       secondary_cleaner.state.floatbank4_b_air  \\\n",
       "count                              14148.000000   \n",
       "mean                                  15.487065   \n",
       "std                                    5.255655   \n",
       "min                                    0.000000   \n",
       "25%                                   11.894558   \n",
       "50%                                   14.975536   \n",
       "75%                                   20.059375   \n",
       "max                                   24.007913   \n",
       "\n",
       "       secondary_cleaner.state.floatbank4_b_level  \\\n",
       "count                                14148.000000   \n",
       "mean                                  -460.229416   \n",
       "std                                     58.843586   \n",
       "min                                   -799.889113   \n",
       "25%                                   -500.149000   \n",
       "50%                                   -499.388738   \n",
       "75%                                   -400.039008   \n",
       "max                                   -145.071088   \n",
       "\n",
       "       secondary_cleaner.state.floatbank5_a_air  \\\n",
       "count                              14148.000000   \n",
       "mean                                  16.775136   \n",
       "std                                    5.831906   \n",
       "min                                   -0.372054   \n",
       "25%                                   11.083980   \n",
       "50%                                   17.932223   \n",
       "75%                                   21.346550   \n",
       "max                                   43.709931   \n",
       "\n",
       "       secondary_cleaner.state.floatbank5_a_level  \\\n",
       "count                                14148.000000   \n",
       "mean                                  -483.956022   \n",
       "std                                     37.892788   \n",
       "min                                   -797.142475   \n",
       "25%                                   -500.363177   \n",
       "50%                                   -499.702452   \n",
       "75%                                   -487.712108   \n",
       "max                                   -275.073125   \n",
       "\n",
       "       secondary_cleaner.state.floatbank5_b_air  \\\n",
       "count                              14148.000000   \n",
       "mean                                  13.064590   \n",
       "std                                    5.765617   \n",
       "min                                    0.646208   \n",
       "25%                                    8.994405   \n",
       "50%                                   11.997547   \n",
       "75%                                   17.982903   \n",
       "max                                   27.926001   \n",
       "\n",
       "       secondary_cleaner.state.floatbank5_b_level  \\\n",
       "count                                14148.000000   \n",
       "mean                                  -483.966564   \n",
       "std                                     39.207913   \n",
       "min                                   -800.006180   \n",
       "25%                                   -500.105994   \n",
       "50%                                   -499.914556   \n",
       "75%                                   -453.186936   \n",
       "max                                   -157.396071   \n",
       "\n",
       "       secondary_cleaner.state.floatbank6_a_air  \\\n",
       "count                              14147.000000   \n",
       "mean                                  19.577539   \n",
       "std                                    5.764417   \n",
       "min                                    0.195324   \n",
       "25%                                   14.989304   \n",
       "50%                                   19.984175   \n",
       "75%                                   24.991623   \n",
       "max                                   32.188906   \n",
       "\n",
       "       secondary_cleaner.state.floatbank6_a_level  \n",
       "count                                14148.000000  \n",
       "mean                                  -506.798480  \n",
       "std                                     37.079249  \n",
       "min                                   -809.398668  \n",
       "25%                                   -500.745104  \n",
       "50%                                   -500.061431  \n",
       "75%                                   -499.536466  \n",
       "max                                   -104.427459  \n",
       "\n",
       "[8 rows x 86 columns]"
      ]
     },
     "metadata": {},
     "output_type": "display_data"
    },
    {
     "name": "stdout",
     "output_type": "stream",
     "text": [
      "Дубликатов не обнаружено\n"
     ]
    }
   ],
   "source": [
    "review(df_train)"
   ]
  },
  {
   "cell_type": "code",
   "execution_count": 8,
   "metadata": {},
   "outputs": [
    {
     "data": {
      "text/html": [
       "<div>\n",
       "<style scoped>\n",
       "    .dataframe tbody tr th:only-of-type {\n",
       "        vertical-align: middle;\n",
       "    }\n",
       "\n",
       "    .dataframe tbody tr th {\n",
       "        vertical-align: top;\n",
       "    }\n",
       "\n",
       "    .dataframe thead th {\n",
       "        text-align: right;\n",
       "    }\n",
       "</style>\n",
       "<table border=\"1\" class=\"dataframe\">\n",
       "  <thead>\n",
       "    <tr style=\"text-align: right;\">\n",
       "      <th></th>\n",
       "      <th>date</th>\n",
       "      <th>primary_cleaner.input.sulfate</th>\n",
       "      <th>primary_cleaner.input.depressant</th>\n",
       "      <th>primary_cleaner.input.feed_size</th>\n",
       "      <th>primary_cleaner.input.xanthate</th>\n",
       "      <th>primary_cleaner.state.floatbank8_a_air</th>\n",
       "      <th>primary_cleaner.state.floatbank8_a_level</th>\n",
       "      <th>primary_cleaner.state.floatbank8_b_air</th>\n",
       "      <th>primary_cleaner.state.floatbank8_b_level</th>\n",
       "      <th>primary_cleaner.state.floatbank8_c_air</th>\n",
       "      <th>...</th>\n",
       "      <th>secondary_cleaner.state.floatbank4_a_air</th>\n",
       "      <th>secondary_cleaner.state.floatbank4_a_level</th>\n",
       "      <th>secondary_cleaner.state.floatbank4_b_air</th>\n",
       "      <th>secondary_cleaner.state.floatbank4_b_level</th>\n",
       "      <th>secondary_cleaner.state.floatbank5_a_air</th>\n",
       "      <th>secondary_cleaner.state.floatbank5_a_level</th>\n",
       "      <th>secondary_cleaner.state.floatbank5_b_air</th>\n",
       "      <th>secondary_cleaner.state.floatbank5_b_level</th>\n",
       "      <th>secondary_cleaner.state.floatbank6_a_air</th>\n",
       "      <th>secondary_cleaner.state.floatbank6_a_level</th>\n",
       "    </tr>\n",
       "  </thead>\n",
       "  <tbody>\n",
       "    <tr>\n",
       "      <th>0</th>\n",
       "      <td>2016-09-01 00:59:59</td>\n",
       "      <td>210.800909</td>\n",
       "      <td>14.993118</td>\n",
       "      <td>8.080000</td>\n",
       "      <td>1.005021</td>\n",
       "      <td>1398.981301</td>\n",
       "      <td>-500.225577</td>\n",
       "      <td>1399.144926</td>\n",
       "      <td>-499.919735</td>\n",
       "      <td>1400.102998</td>\n",
       "      <td>...</td>\n",
       "      <td>12.023554</td>\n",
       "      <td>-497.795834</td>\n",
       "      <td>8.016656</td>\n",
       "      <td>-501.289139</td>\n",
       "      <td>7.946562</td>\n",
       "      <td>-432.317850</td>\n",
       "      <td>4.872511</td>\n",
       "      <td>-500.037437</td>\n",
       "      <td>26.705889</td>\n",
       "      <td>-499.709414</td>\n",
       "    </tr>\n",
       "    <tr>\n",
       "      <th>1</th>\n",
       "      <td>2016-09-01 01:59:59</td>\n",
       "      <td>215.392455</td>\n",
       "      <td>14.987471</td>\n",
       "      <td>8.080000</td>\n",
       "      <td>0.990469</td>\n",
       "      <td>1398.777912</td>\n",
       "      <td>-500.057435</td>\n",
       "      <td>1398.055362</td>\n",
       "      <td>-499.778182</td>\n",
       "      <td>1396.151033</td>\n",
       "      <td>...</td>\n",
       "      <td>12.058140</td>\n",
       "      <td>-498.695773</td>\n",
       "      <td>8.130979</td>\n",
       "      <td>-499.634209</td>\n",
       "      <td>7.958270</td>\n",
       "      <td>-525.839648</td>\n",
       "      <td>4.878850</td>\n",
       "      <td>-500.162375</td>\n",
       "      <td>25.019940</td>\n",
       "      <td>-499.819438</td>\n",
       "    </tr>\n",
       "    <tr>\n",
       "      <th>2</th>\n",
       "      <td>2016-09-01 02:59:59</td>\n",
       "      <td>215.259946</td>\n",
       "      <td>12.884934</td>\n",
       "      <td>7.786667</td>\n",
       "      <td>0.996043</td>\n",
       "      <td>1398.493666</td>\n",
       "      <td>-500.868360</td>\n",
       "      <td>1398.860436</td>\n",
       "      <td>-499.764529</td>\n",
       "      <td>1398.075709</td>\n",
       "      <td>...</td>\n",
       "      <td>11.962366</td>\n",
       "      <td>-498.767484</td>\n",
       "      <td>8.096893</td>\n",
       "      <td>-500.827423</td>\n",
       "      <td>8.071056</td>\n",
       "      <td>-500.801673</td>\n",
       "      <td>4.905125</td>\n",
       "      <td>-499.828510</td>\n",
       "      <td>24.994862</td>\n",
       "      <td>-500.622559</td>\n",
       "    </tr>\n",
       "    <tr>\n",
       "      <th>3</th>\n",
       "      <td>2016-09-01 03:59:59</td>\n",
       "      <td>215.336236</td>\n",
       "      <td>12.006805</td>\n",
       "      <td>7.640000</td>\n",
       "      <td>0.863514</td>\n",
       "      <td>1399.618111</td>\n",
       "      <td>-498.863574</td>\n",
       "      <td>1397.440120</td>\n",
       "      <td>-499.211024</td>\n",
       "      <td>1400.129303</td>\n",
       "      <td>...</td>\n",
       "      <td>12.033091</td>\n",
       "      <td>-498.350935</td>\n",
       "      <td>8.074946</td>\n",
       "      <td>-499.474407</td>\n",
       "      <td>7.897085</td>\n",
       "      <td>-500.868509</td>\n",
       "      <td>4.931400</td>\n",
       "      <td>-499.963623</td>\n",
       "      <td>24.948919</td>\n",
       "      <td>-498.709987</td>\n",
       "    </tr>\n",
       "    <tr>\n",
       "      <th>4</th>\n",
       "      <td>2016-09-01 04:59:59</td>\n",
       "      <td>199.099327</td>\n",
       "      <td>10.682530</td>\n",
       "      <td>7.530000</td>\n",
       "      <td>0.805575</td>\n",
       "      <td>1401.268123</td>\n",
       "      <td>-500.808305</td>\n",
       "      <td>1398.128818</td>\n",
       "      <td>-499.504543</td>\n",
       "      <td>1402.172226</td>\n",
       "      <td>...</td>\n",
       "      <td>12.025367</td>\n",
       "      <td>-500.786497</td>\n",
       "      <td>8.054678</td>\n",
       "      <td>-500.397500</td>\n",
       "      <td>8.107890</td>\n",
       "      <td>-509.526725</td>\n",
       "      <td>4.957674</td>\n",
       "      <td>-500.360026</td>\n",
       "      <td>25.003331</td>\n",
       "      <td>-500.856333</td>\n",
       "    </tr>\n",
       "    <tr>\n",
       "      <th>5</th>\n",
       "      <td>2016-09-01 05:59:59</td>\n",
       "      <td>168.485085</td>\n",
       "      <td>8.817007</td>\n",
       "      <td>7.420000</td>\n",
       "      <td>0.791191</td>\n",
       "      <td>1402.826803</td>\n",
       "      <td>-499.299521</td>\n",
       "      <td>1401.511119</td>\n",
       "      <td>-499.205357</td>\n",
       "      <td>1404.088107</td>\n",
       "      <td>...</td>\n",
       "      <td>12.029797</td>\n",
       "      <td>-499.814895</td>\n",
       "      <td>8.036586</td>\n",
       "      <td>-500.371492</td>\n",
       "      <td>8.041446</td>\n",
       "      <td>-510.037054</td>\n",
       "      <td>4.983949</td>\n",
       "      <td>-499.990990</td>\n",
       "      <td>24.978973</td>\n",
       "      <td>-500.475640</td>\n",
       "    </tr>\n",
       "    <tr>\n",
       "      <th>6</th>\n",
       "      <td>2016-09-01 06:59:59</td>\n",
       "      <td>144.133440</td>\n",
       "      <td>7.924610</td>\n",
       "      <td>7.420000</td>\n",
       "      <td>0.788838</td>\n",
       "      <td>1398.252401</td>\n",
       "      <td>-499.748672</td>\n",
       "      <td>1393.255503</td>\n",
       "      <td>-499.195380</td>\n",
       "      <td>1396.738566</td>\n",
       "      <td>...</td>\n",
       "      <td>12.026296</td>\n",
       "      <td>-499.473127</td>\n",
       "      <td>8.027984</td>\n",
       "      <td>-500.983079</td>\n",
       "      <td>7.907340</td>\n",
       "      <td>-507.964971</td>\n",
       "      <td>5.010224</td>\n",
       "      <td>-500.043697</td>\n",
       "      <td>25.040709</td>\n",
       "      <td>-499.501984</td>\n",
       "    </tr>\n",
       "    <tr>\n",
       "      <th>7</th>\n",
       "      <td>2016-09-01 07:59:59</td>\n",
       "      <td>133.513396</td>\n",
       "      <td>8.055252</td>\n",
       "      <td>6.988000</td>\n",
       "      <td>0.801871</td>\n",
       "      <td>1401.669677</td>\n",
       "      <td>-501.777839</td>\n",
       "      <td>1400.754446</td>\n",
       "      <td>-502.514024</td>\n",
       "      <td>1400.465244</td>\n",
       "      <td>...</td>\n",
       "      <td>12.040911</td>\n",
       "      <td>-501.293852</td>\n",
       "      <td>8.020490</td>\n",
       "      <td>-499.185229</td>\n",
       "      <td>8.116897</td>\n",
       "      <td>-511.927561</td>\n",
       "      <td>5.036498</td>\n",
       "      <td>-500.149615</td>\n",
       "      <td>25.032580</td>\n",
       "      <td>-503.970657</td>\n",
       "    </tr>\n",
       "    <tr>\n",
       "      <th>8</th>\n",
       "      <td>2016-09-01 08:59:59</td>\n",
       "      <td>133.735356</td>\n",
       "      <td>7.999618</td>\n",
       "      <td>6.935000</td>\n",
       "      <td>0.789329</td>\n",
       "      <td>1402.358981</td>\n",
       "      <td>-499.981597</td>\n",
       "      <td>1400.985954</td>\n",
       "      <td>-496.802968</td>\n",
       "      <td>1401.168584</td>\n",
       "      <td>...</td>\n",
       "      <td>11.998184</td>\n",
       "      <td>-499.481608</td>\n",
       "      <td>8.012610</td>\n",
       "      <td>-500.896783</td>\n",
       "      <td>7.974422</td>\n",
       "      <td>-521.199104</td>\n",
       "      <td>5.061599</td>\n",
       "      <td>-499.791519</td>\n",
       "      <td>25.005063</td>\n",
       "      <td>-497.613716</td>\n",
       "    </tr>\n",
       "    <tr>\n",
       "      <th>9</th>\n",
       "      <td>2016-09-01 09:59:59</td>\n",
       "      <td>126.961069</td>\n",
       "      <td>8.017856</td>\n",
       "      <td>7.030000</td>\n",
       "      <td>0.805298</td>\n",
       "      <td>1400.816120</td>\n",
       "      <td>-499.014158</td>\n",
       "      <td>1399.975401</td>\n",
       "      <td>-499.570552</td>\n",
       "      <td>1401.871924</td>\n",
       "      <td>...</td>\n",
       "      <td>12.040725</td>\n",
       "      <td>-499.987743</td>\n",
       "      <td>7.989503</td>\n",
       "      <td>-499.750625</td>\n",
       "      <td>7.989710</td>\n",
       "      <td>-509.946737</td>\n",
       "      <td>5.068811</td>\n",
       "      <td>-499.293900</td>\n",
       "      <td>24.992741</td>\n",
       "      <td>-499.272255</td>\n",
       "    </tr>\n",
       "  </tbody>\n",
       "</table>\n",
       "<p>10 rows × 53 columns</p>\n",
       "</div>"
      ],
      "text/plain": [
       "                  date  primary_cleaner.input.sulfate  \\\n",
       "0  2016-09-01 00:59:59                     210.800909   \n",
       "1  2016-09-01 01:59:59                     215.392455   \n",
       "2  2016-09-01 02:59:59                     215.259946   \n",
       "3  2016-09-01 03:59:59                     215.336236   \n",
       "4  2016-09-01 04:59:59                     199.099327   \n",
       "5  2016-09-01 05:59:59                     168.485085   \n",
       "6  2016-09-01 06:59:59                     144.133440   \n",
       "7  2016-09-01 07:59:59                     133.513396   \n",
       "8  2016-09-01 08:59:59                     133.735356   \n",
       "9  2016-09-01 09:59:59                     126.961069   \n",
       "\n",
       "   primary_cleaner.input.depressant  primary_cleaner.input.feed_size  \\\n",
       "0                         14.993118                         8.080000   \n",
       "1                         14.987471                         8.080000   \n",
       "2                         12.884934                         7.786667   \n",
       "3                         12.006805                         7.640000   \n",
       "4                         10.682530                         7.530000   \n",
       "5                          8.817007                         7.420000   \n",
       "6                          7.924610                         7.420000   \n",
       "7                          8.055252                         6.988000   \n",
       "8                          7.999618                         6.935000   \n",
       "9                          8.017856                         7.030000   \n",
       "\n",
       "   primary_cleaner.input.xanthate  primary_cleaner.state.floatbank8_a_air  \\\n",
       "0                        1.005021                             1398.981301   \n",
       "1                        0.990469                             1398.777912   \n",
       "2                        0.996043                             1398.493666   \n",
       "3                        0.863514                             1399.618111   \n",
       "4                        0.805575                             1401.268123   \n",
       "5                        0.791191                             1402.826803   \n",
       "6                        0.788838                             1398.252401   \n",
       "7                        0.801871                             1401.669677   \n",
       "8                        0.789329                             1402.358981   \n",
       "9                        0.805298                             1400.816120   \n",
       "\n",
       "   primary_cleaner.state.floatbank8_a_level  \\\n",
       "0                               -500.225577   \n",
       "1                               -500.057435   \n",
       "2                               -500.868360   \n",
       "3                               -498.863574   \n",
       "4                               -500.808305   \n",
       "5                               -499.299521   \n",
       "6                               -499.748672   \n",
       "7                               -501.777839   \n",
       "8                               -499.981597   \n",
       "9                               -499.014158   \n",
       "\n",
       "   primary_cleaner.state.floatbank8_b_air  \\\n",
       "0                             1399.144926   \n",
       "1                             1398.055362   \n",
       "2                             1398.860436   \n",
       "3                             1397.440120   \n",
       "4                             1398.128818   \n",
       "5                             1401.511119   \n",
       "6                             1393.255503   \n",
       "7                             1400.754446   \n",
       "8                             1400.985954   \n",
       "9                             1399.975401   \n",
       "\n",
       "   primary_cleaner.state.floatbank8_b_level  \\\n",
       "0                               -499.919735   \n",
       "1                               -499.778182   \n",
       "2                               -499.764529   \n",
       "3                               -499.211024   \n",
       "4                               -499.504543   \n",
       "5                               -499.205357   \n",
       "6                               -499.195380   \n",
       "7                               -502.514024   \n",
       "8                               -496.802968   \n",
       "9                               -499.570552   \n",
       "\n",
       "   primary_cleaner.state.floatbank8_c_air  ...  \\\n",
       "0                             1400.102998  ...   \n",
       "1                             1396.151033  ...   \n",
       "2                             1398.075709  ...   \n",
       "3                             1400.129303  ...   \n",
       "4                             1402.172226  ...   \n",
       "5                             1404.088107  ...   \n",
       "6                             1396.738566  ...   \n",
       "7                             1400.465244  ...   \n",
       "8                             1401.168584  ...   \n",
       "9                             1401.871924  ...   \n",
       "\n",
       "   secondary_cleaner.state.floatbank4_a_air  \\\n",
       "0                                 12.023554   \n",
       "1                                 12.058140   \n",
       "2                                 11.962366   \n",
       "3                                 12.033091   \n",
       "4                                 12.025367   \n",
       "5                                 12.029797   \n",
       "6                                 12.026296   \n",
       "7                                 12.040911   \n",
       "8                                 11.998184   \n",
       "9                                 12.040725   \n",
       "\n",
       "   secondary_cleaner.state.floatbank4_a_level  \\\n",
       "0                                 -497.795834   \n",
       "1                                 -498.695773   \n",
       "2                                 -498.767484   \n",
       "3                                 -498.350935   \n",
       "4                                 -500.786497   \n",
       "5                                 -499.814895   \n",
       "6                                 -499.473127   \n",
       "7                                 -501.293852   \n",
       "8                                 -499.481608   \n",
       "9                                 -499.987743   \n",
       "\n",
       "   secondary_cleaner.state.floatbank4_b_air  \\\n",
       "0                                  8.016656   \n",
       "1                                  8.130979   \n",
       "2                                  8.096893   \n",
       "3                                  8.074946   \n",
       "4                                  8.054678   \n",
       "5                                  8.036586   \n",
       "6                                  8.027984   \n",
       "7                                  8.020490   \n",
       "8                                  8.012610   \n",
       "9                                  7.989503   \n",
       "\n",
       "   secondary_cleaner.state.floatbank4_b_level  \\\n",
       "0                                 -501.289139   \n",
       "1                                 -499.634209   \n",
       "2                                 -500.827423   \n",
       "3                                 -499.474407   \n",
       "4                                 -500.397500   \n",
       "5                                 -500.371492   \n",
       "6                                 -500.983079   \n",
       "7                                 -499.185229   \n",
       "8                                 -500.896783   \n",
       "9                                 -499.750625   \n",
       "\n",
       "   secondary_cleaner.state.floatbank5_a_air  \\\n",
       "0                                  7.946562   \n",
       "1                                  7.958270   \n",
       "2                                  8.071056   \n",
       "3                                  7.897085   \n",
       "4                                  8.107890   \n",
       "5                                  8.041446   \n",
       "6                                  7.907340   \n",
       "7                                  8.116897   \n",
       "8                                  7.974422   \n",
       "9                                  7.989710   \n",
       "\n",
       "   secondary_cleaner.state.floatbank5_a_level  \\\n",
       "0                                 -432.317850   \n",
       "1                                 -525.839648   \n",
       "2                                 -500.801673   \n",
       "3                                 -500.868509   \n",
       "4                                 -509.526725   \n",
       "5                                 -510.037054   \n",
       "6                                 -507.964971   \n",
       "7                                 -511.927561   \n",
       "8                                 -521.199104   \n",
       "9                                 -509.946737   \n",
       "\n",
       "   secondary_cleaner.state.floatbank5_b_air  \\\n",
       "0                                  4.872511   \n",
       "1                                  4.878850   \n",
       "2                                  4.905125   \n",
       "3                                  4.931400   \n",
       "4                                  4.957674   \n",
       "5                                  4.983949   \n",
       "6                                  5.010224   \n",
       "7                                  5.036498   \n",
       "8                                  5.061599   \n",
       "9                                  5.068811   \n",
       "\n",
       "   secondary_cleaner.state.floatbank5_b_level  \\\n",
       "0                                 -500.037437   \n",
       "1                                 -500.162375   \n",
       "2                                 -499.828510   \n",
       "3                                 -499.963623   \n",
       "4                                 -500.360026   \n",
       "5                                 -499.990990   \n",
       "6                                 -500.043697   \n",
       "7                                 -500.149615   \n",
       "8                                 -499.791519   \n",
       "9                                 -499.293900   \n",
       "\n",
       "   secondary_cleaner.state.floatbank6_a_air  \\\n",
       "0                                 26.705889   \n",
       "1                                 25.019940   \n",
       "2                                 24.994862   \n",
       "3                                 24.948919   \n",
       "4                                 25.003331   \n",
       "5                                 24.978973   \n",
       "6                                 25.040709   \n",
       "7                                 25.032580   \n",
       "8                                 25.005063   \n",
       "9                                 24.992741   \n",
       "\n",
       "   secondary_cleaner.state.floatbank6_a_level  \n",
       "0                                 -499.709414  \n",
       "1                                 -499.819438  \n",
       "2                                 -500.622559  \n",
       "3                                 -498.709987  \n",
       "4                                 -500.856333  \n",
       "5                                 -500.475640  \n",
       "6                                 -499.501984  \n",
       "7                                 -503.970657  \n",
       "8                                 -497.613716  \n",
       "9                                 -499.272255  \n",
       "\n",
       "[10 rows x 53 columns]"
      ]
     },
     "metadata": {},
     "output_type": "display_data"
    },
    {
     "name": "stdout",
     "output_type": "stream",
     "text": [
      "<class 'pandas.core.frame.DataFrame'>\n",
      "RangeIndex: 5290 entries, 0 to 5289\n",
      "Data columns (total 53 columns):\n",
      " #   Column                                      Non-Null Count  Dtype  \n",
      "---  ------                                      --------------  -----  \n",
      " 0   date                                        5290 non-null   object \n",
      " 1   primary_cleaner.input.sulfate               5286 non-null   float64\n",
      " 2   primary_cleaner.input.depressant            5285 non-null   float64\n",
      " 3   primary_cleaner.input.feed_size             5290 non-null   float64\n",
      " 4   primary_cleaner.input.xanthate              5286 non-null   float64\n",
      " 5   primary_cleaner.state.floatbank8_a_air      5290 non-null   float64\n",
      " 6   primary_cleaner.state.floatbank8_a_level    5290 non-null   float64\n",
      " 7   primary_cleaner.state.floatbank8_b_air      5290 non-null   float64\n",
      " 8   primary_cleaner.state.floatbank8_b_level    5290 non-null   float64\n",
      " 9   primary_cleaner.state.floatbank8_c_air      5290 non-null   float64\n",
      " 10  primary_cleaner.state.floatbank8_c_level    5290 non-null   float64\n",
      " 11  primary_cleaner.state.floatbank8_d_air      5290 non-null   float64\n",
      " 12  primary_cleaner.state.floatbank8_d_level    5290 non-null   float64\n",
      " 13  rougher.input.feed_ag                       5290 non-null   float64\n",
      " 14  rougher.input.feed_pb                       5290 non-null   float64\n",
      " 15  rougher.input.feed_rate                     5287 non-null   float64\n",
      " 16  rougher.input.feed_size                     5289 non-null   float64\n",
      " 17  rougher.input.feed_sol                      5269 non-null   float64\n",
      " 18  rougher.input.feed_au                       5290 non-null   float64\n",
      " 19  rougher.input.floatbank10_sulfate           5285 non-null   float64\n",
      " 20  rougher.input.floatbank10_xanthate          5290 non-null   float64\n",
      " 21  rougher.input.floatbank11_sulfate           5282 non-null   float64\n",
      " 22  rougher.input.floatbank11_xanthate          5265 non-null   float64\n",
      " 23  rougher.state.floatbank10_a_air             5290 non-null   float64\n",
      " 24  rougher.state.floatbank10_a_level           5290 non-null   float64\n",
      " 25  rougher.state.floatbank10_b_air             5290 non-null   float64\n",
      " 26  rougher.state.floatbank10_b_level           5290 non-null   float64\n",
      " 27  rougher.state.floatbank10_c_air             5290 non-null   float64\n",
      " 28  rougher.state.floatbank10_c_level           5290 non-null   float64\n",
      " 29  rougher.state.floatbank10_d_air             5290 non-null   float64\n",
      " 30  rougher.state.floatbank10_d_level           5290 non-null   float64\n",
      " 31  rougher.state.floatbank10_e_air             5290 non-null   float64\n",
      " 32  rougher.state.floatbank10_e_level           5290 non-null   float64\n",
      " 33  rougher.state.floatbank10_f_air             5290 non-null   float64\n",
      " 34  rougher.state.floatbank10_f_level           5290 non-null   float64\n",
      " 35  secondary_cleaner.state.floatbank2_a_air    5287 non-null   float64\n",
      " 36  secondary_cleaner.state.floatbank2_a_level  5290 non-null   float64\n",
      " 37  secondary_cleaner.state.floatbank2_b_air    5288 non-null   float64\n",
      " 38  secondary_cleaner.state.floatbank2_b_level  5290 non-null   float64\n",
      " 39  secondary_cleaner.state.floatbank3_a_air    5281 non-null   float64\n",
      " 40  secondary_cleaner.state.floatbank3_a_level  5290 non-null   float64\n",
      " 41  secondary_cleaner.state.floatbank3_b_air    5290 non-null   float64\n",
      " 42  secondary_cleaner.state.floatbank3_b_level  5290 non-null   float64\n",
      " 43  secondary_cleaner.state.floatbank4_a_air    5290 non-null   float64\n",
      " 44  secondary_cleaner.state.floatbank4_a_level  5290 non-null   float64\n",
      " 45  secondary_cleaner.state.floatbank4_b_air    5290 non-null   float64\n",
      " 46  secondary_cleaner.state.floatbank4_b_level  5290 non-null   float64\n",
      " 47  secondary_cleaner.state.floatbank5_a_air    5290 non-null   float64\n",
      " 48  secondary_cleaner.state.floatbank5_a_level  5290 non-null   float64\n",
      " 49  secondary_cleaner.state.floatbank5_b_air    5290 non-null   float64\n",
      " 50  secondary_cleaner.state.floatbank5_b_level  5290 non-null   float64\n",
      " 51  secondary_cleaner.state.floatbank6_a_air    5290 non-null   float64\n",
      " 52  secondary_cleaner.state.floatbank6_a_level  5290 non-null   float64\n",
      "dtypes: float64(52), object(1)\n",
      "memory usage: 2.1+ MB\n"
     ]
    },
    {
     "data": {
      "text/html": [
       "<div>\n",
       "<style scoped>\n",
       "    .dataframe tbody tr th:only-of-type {\n",
       "        vertical-align: middle;\n",
       "    }\n",
       "\n",
       "    .dataframe tbody tr th {\n",
       "        vertical-align: top;\n",
       "    }\n",
       "\n",
       "    .dataframe thead th {\n",
       "        text-align: right;\n",
       "    }\n",
       "</style>\n",
       "<table border=\"1\" class=\"dataframe\">\n",
       "  <thead>\n",
       "    <tr style=\"text-align: right;\">\n",
       "      <th></th>\n",
       "      <th>primary_cleaner.input.sulfate</th>\n",
       "      <th>primary_cleaner.input.depressant</th>\n",
       "      <th>primary_cleaner.input.feed_size</th>\n",
       "      <th>primary_cleaner.input.xanthate</th>\n",
       "      <th>primary_cleaner.state.floatbank8_a_air</th>\n",
       "      <th>primary_cleaner.state.floatbank8_a_level</th>\n",
       "      <th>primary_cleaner.state.floatbank8_b_air</th>\n",
       "      <th>primary_cleaner.state.floatbank8_b_level</th>\n",
       "      <th>primary_cleaner.state.floatbank8_c_air</th>\n",
       "      <th>primary_cleaner.state.floatbank8_c_level</th>\n",
       "      <th>...</th>\n",
       "      <th>secondary_cleaner.state.floatbank4_a_air</th>\n",
       "      <th>secondary_cleaner.state.floatbank4_a_level</th>\n",
       "      <th>secondary_cleaner.state.floatbank4_b_air</th>\n",
       "      <th>secondary_cleaner.state.floatbank4_b_level</th>\n",
       "      <th>secondary_cleaner.state.floatbank5_a_air</th>\n",
       "      <th>secondary_cleaner.state.floatbank5_a_level</th>\n",
       "      <th>secondary_cleaner.state.floatbank5_b_air</th>\n",
       "      <th>secondary_cleaner.state.floatbank5_b_level</th>\n",
       "      <th>secondary_cleaner.state.floatbank6_a_air</th>\n",
       "      <th>secondary_cleaner.state.floatbank6_a_level</th>\n",
       "    </tr>\n",
       "  </thead>\n",
       "  <tbody>\n",
       "    <tr>\n",
       "      <th>count</th>\n",
       "      <td>5286.000000</td>\n",
       "      <td>5285.000000</td>\n",
       "      <td>5290.000000</td>\n",
       "      <td>5286.000000</td>\n",
       "      <td>5.290000e+03</td>\n",
       "      <td>5290.000000</td>\n",
       "      <td>5.290000e+03</td>\n",
       "      <td>5290.000000</td>\n",
       "      <td>5.290000e+03</td>\n",
       "      <td>5290.000000</td>\n",
       "      <td>...</td>\n",
       "      <td>5.290000e+03</td>\n",
       "      <td>5290.000000</td>\n",
       "      <td>5.290000e+03</td>\n",
       "      <td>5290.000000</td>\n",
       "      <td>5290.000000</td>\n",
       "      <td>5290.000000</td>\n",
       "      <td>5290.000000</td>\n",
       "      <td>5290.000000</td>\n",
       "      <td>5290.000000</td>\n",
       "      <td>5290.000000</td>\n",
       "    </tr>\n",
       "    <tr>\n",
       "      <th>mean</th>\n",
       "      <td>174.839652</td>\n",
       "      <td>8.683596</td>\n",
       "      <td>7.266339</td>\n",
       "      <td>1.383803</td>\n",
       "      <td>1.539494e+03</td>\n",
       "      <td>-497.665883</td>\n",
       "      <td>1.545174e+03</td>\n",
       "      <td>-500.273098</td>\n",
       "      <td>1.527272e+03</td>\n",
       "      <td>-498.330680</td>\n",
       "      <td>...</td>\n",
       "      <td>1.632007e+01</td>\n",
       "      <td>-505.144570</td>\n",
       "      <td>1.373544e+01</td>\n",
       "      <td>-463.349858</td>\n",
       "      <td>12.804186</td>\n",
       "      <td>-501.329122</td>\n",
       "      <td>9.881145</td>\n",
       "      <td>-495.663398</td>\n",
       "      <td>17.304935</td>\n",
       "      <td>-501.793193</td>\n",
       "    </tr>\n",
       "    <tr>\n",
       "      <th>std</th>\n",
       "      <td>43.027080</td>\n",
       "      <td>3.072050</td>\n",
       "      <td>0.610219</td>\n",
       "      <td>0.643474</td>\n",
       "      <td>1.167979e+02</td>\n",
       "      <td>19.952431</td>\n",
       "      <td>1.222246e+02</td>\n",
       "      <td>32.968307</td>\n",
       "      <td>1.225380e+02</td>\n",
       "      <td>21.964876</td>\n",
       "      <td>...</td>\n",
       "      <td>3.493583e+00</td>\n",
       "      <td>31.427337</td>\n",
       "      <td>3.430484e+00</td>\n",
       "      <td>86.189107</td>\n",
       "      <td>3.026591</td>\n",
       "      <td>17.951495</td>\n",
       "      <td>2.868205</td>\n",
       "      <td>34.535007</td>\n",
       "      <td>4.536544</td>\n",
       "      <td>39.044215</td>\n",
       "    </tr>\n",
       "    <tr>\n",
       "      <th>min</th>\n",
       "      <td>2.566156</td>\n",
       "      <td>0.003839</td>\n",
       "      <td>5.650000</td>\n",
       "      <td>0.004984</td>\n",
       "      <td>5.445860e-32</td>\n",
       "      <td>-795.316337</td>\n",
       "      <td>6.647490e-32</td>\n",
       "      <td>-799.997015</td>\n",
       "      <td>4.033736e-32</td>\n",
       "      <td>-799.960571</td>\n",
       "      <td>...</td>\n",
       "      <td>1.079872e-16</td>\n",
       "      <td>-799.798523</td>\n",
       "      <td>2.489718e-17</td>\n",
       "      <td>-800.836914</td>\n",
       "      <td>0.069227</td>\n",
       "      <td>-797.323986</td>\n",
       "      <td>0.528083</td>\n",
       "      <td>-800.220337</td>\n",
       "      <td>-0.079426</td>\n",
       "      <td>-809.741464</td>\n",
       "    </tr>\n",
       "    <tr>\n",
       "      <th>25%</th>\n",
       "      <td>147.121401</td>\n",
       "      <td>6.489555</td>\n",
       "      <td>6.890000</td>\n",
       "      <td>0.907623</td>\n",
       "      <td>1.498936e+03</td>\n",
       "      <td>-500.357298</td>\n",
       "      <td>1.498971e+03</td>\n",
       "      <td>-500.703002</td>\n",
       "      <td>1.473230e+03</td>\n",
       "      <td>-501.018117</td>\n",
       "      <td>...</td>\n",
       "      <td>1.403618e+01</td>\n",
       "      <td>-500.868258</td>\n",
       "      <td>1.202862e+01</td>\n",
       "      <td>-500.323028</td>\n",
       "      <td>10.914838</td>\n",
       "      <td>-500.726841</td>\n",
       "      <td>8.036719</td>\n",
       "      <td>-500.194668</td>\n",
       "      <td>13.997317</td>\n",
       "      <td>-500.690984</td>\n",
       "    </tr>\n",
       "    <tr>\n",
       "      <th>50%</th>\n",
       "      <td>177.828489</td>\n",
       "      <td>8.052207</td>\n",
       "      <td>7.250000</td>\n",
       "      <td>1.197610</td>\n",
       "      <td>1.585129e+03</td>\n",
       "      <td>-499.969164</td>\n",
       "      <td>1.595622e+03</td>\n",
       "      <td>-500.028514</td>\n",
       "      <td>1.549595e+03</td>\n",
       "      <td>-500.017711</td>\n",
       "      <td>...</td>\n",
       "      <td>1.700847e+01</td>\n",
       "      <td>-500.115727</td>\n",
       "      <td>1.496486e+01</td>\n",
       "      <td>-499.576513</td>\n",
       "      <td>12.954182</td>\n",
       "      <td>-499.990332</td>\n",
       "      <td>10.004301</td>\n",
       "      <td>-499.990535</td>\n",
       "      <td>16.014935</td>\n",
       "      <td>-500.007126</td>\n",
       "    </tr>\n",
       "    <tr>\n",
       "      <th>75%</th>\n",
       "      <td>208.125438</td>\n",
       "      <td>10.027764</td>\n",
       "      <td>7.600000</td>\n",
       "      <td>1.797819</td>\n",
       "      <td>1.602077e+03</td>\n",
       "      <td>-499.568951</td>\n",
       "      <td>1.602324e+03</td>\n",
       "      <td>-499.293257</td>\n",
       "      <td>1.601144e+03</td>\n",
       "      <td>-498.994130</td>\n",
       "      <td>...</td>\n",
       "      <td>1.803862e+01</td>\n",
       "      <td>-499.404224</td>\n",
       "      <td>1.596213e+01</td>\n",
       "      <td>-400.933805</td>\n",
       "      <td>15.097528</td>\n",
       "      <td>-499.283191</td>\n",
       "      <td>11.997467</td>\n",
       "      <td>-499.719913</td>\n",
       "      <td>21.020013</td>\n",
       "      <td>-499.373018</td>\n",
       "    </tr>\n",
       "    <tr>\n",
       "      <th>max</th>\n",
       "      <td>265.983123</td>\n",
       "      <td>40.000000</td>\n",
       "      <td>15.500000</td>\n",
       "      <td>4.102454</td>\n",
       "      <td>2.103104e+03</td>\n",
       "      <td>-57.195404</td>\n",
       "      <td>1.813084e+03</td>\n",
       "      <td>-142.527229</td>\n",
       "      <td>1.715054e+03</td>\n",
       "      <td>-150.937035</td>\n",
       "      <td>...</td>\n",
       "      <td>3.005180e+01</td>\n",
       "      <td>-401.565212</td>\n",
       "      <td>3.126971e+01</td>\n",
       "      <td>-6.506986</td>\n",
       "      <td>25.258848</td>\n",
       "      <td>-244.483566</td>\n",
       "      <td>14.086866</td>\n",
       "      <td>-137.740004</td>\n",
       "      <td>26.705889</td>\n",
       "      <td>-123.307487</td>\n",
       "    </tr>\n",
       "  </tbody>\n",
       "</table>\n",
       "<p>8 rows × 52 columns</p>\n",
       "</div>"
      ],
      "text/plain": [
       "       primary_cleaner.input.sulfate  primary_cleaner.input.depressant  \\\n",
       "count                    5286.000000                       5285.000000   \n",
       "mean                      174.839652                          8.683596   \n",
       "std                        43.027080                          3.072050   \n",
       "min                         2.566156                          0.003839   \n",
       "25%                       147.121401                          6.489555   \n",
       "50%                       177.828489                          8.052207   \n",
       "75%                       208.125438                         10.027764   \n",
       "max                       265.983123                         40.000000   \n",
       "\n",
       "       primary_cleaner.input.feed_size  primary_cleaner.input.xanthate  \\\n",
       "count                      5290.000000                     5286.000000   \n",
       "mean                          7.266339                        1.383803   \n",
       "std                           0.610219                        0.643474   \n",
       "min                           5.650000                        0.004984   \n",
       "25%                           6.890000                        0.907623   \n",
       "50%                           7.250000                        1.197610   \n",
       "75%                           7.600000                        1.797819   \n",
       "max                          15.500000                        4.102454   \n",
       "\n",
       "       primary_cleaner.state.floatbank8_a_air  \\\n",
       "count                            5.290000e+03   \n",
       "mean                             1.539494e+03   \n",
       "std                              1.167979e+02   \n",
       "min                              5.445860e-32   \n",
       "25%                              1.498936e+03   \n",
       "50%                              1.585129e+03   \n",
       "75%                              1.602077e+03   \n",
       "max                              2.103104e+03   \n",
       "\n",
       "       primary_cleaner.state.floatbank8_a_level  \\\n",
       "count                               5290.000000   \n",
       "mean                                -497.665883   \n",
       "std                                   19.952431   \n",
       "min                                 -795.316337   \n",
       "25%                                 -500.357298   \n",
       "50%                                 -499.969164   \n",
       "75%                                 -499.568951   \n",
       "max                                  -57.195404   \n",
       "\n",
       "       primary_cleaner.state.floatbank8_b_air  \\\n",
       "count                            5.290000e+03   \n",
       "mean                             1.545174e+03   \n",
       "std                              1.222246e+02   \n",
       "min                              6.647490e-32   \n",
       "25%                              1.498971e+03   \n",
       "50%                              1.595622e+03   \n",
       "75%                              1.602324e+03   \n",
       "max                              1.813084e+03   \n",
       "\n",
       "       primary_cleaner.state.floatbank8_b_level  \\\n",
       "count                               5290.000000   \n",
       "mean                                -500.273098   \n",
       "std                                   32.968307   \n",
       "min                                 -799.997015   \n",
       "25%                                 -500.703002   \n",
       "50%                                 -500.028514   \n",
       "75%                                 -499.293257   \n",
       "max                                 -142.527229   \n",
       "\n",
       "       primary_cleaner.state.floatbank8_c_air  \\\n",
       "count                            5.290000e+03   \n",
       "mean                             1.527272e+03   \n",
       "std                              1.225380e+02   \n",
       "min                              4.033736e-32   \n",
       "25%                              1.473230e+03   \n",
       "50%                              1.549595e+03   \n",
       "75%                              1.601144e+03   \n",
       "max                              1.715054e+03   \n",
       "\n",
       "       primary_cleaner.state.floatbank8_c_level  ...  \\\n",
       "count                               5290.000000  ...   \n",
       "mean                                -498.330680  ...   \n",
       "std                                   21.964876  ...   \n",
       "min                                 -799.960571  ...   \n",
       "25%                                 -501.018117  ...   \n",
       "50%                                 -500.017711  ...   \n",
       "75%                                 -498.994130  ...   \n",
       "max                                 -150.937035  ...   \n",
       "\n",
       "       secondary_cleaner.state.floatbank4_a_air  \\\n",
       "count                              5.290000e+03   \n",
       "mean                               1.632007e+01   \n",
       "std                                3.493583e+00   \n",
       "min                                1.079872e-16   \n",
       "25%                                1.403618e+01   \n",
       "50%                                1.700847e+01   \n",
       "75%                                1.803862e+01   \n",
       "max                                3.005180e+01   \n",
       "\n",
       "       secondary_cleaner.state.floatbank4_a_level  \\\n",
       "count                                 5290.000000   \n",
       "mean                                  -505.144570   \n",
       "std                                     31.427337   \n",
       "min                                   -799.798523   \n",
       "25%                                   -500.868258   \n",
       "50%                                   -500.115727   \n",
       "75%                                   -499.404224   \n",
       "max                                   -401.565212   \n",
       "\n",
       "       secondary_cleaner.state.floatbank4_b_air  \\\n",
       "count                              5.290000e+03   \n",
       "mean                               1.373544e+01   \n",
       "std                                3.430484e+00   \n",
       "min                                2.489718e-17   \n",
       "25%                                1.202862e+01   \n",
       "50%                                1.496486e+01   \n",
       "75%                                1.596213e+01   \n",
       "max                                3.126971e+01   \n",
       "\n",
       "       secondary_cleaner.state.floatbank4_b_level  \\\n",
       "count                                 5290.000000   \n",
       "mean                                  -463.349858   \n",
       "std                                     86.189107   \n",
       "min                                   -800.836914   \n",
       "25%                                   -500.323028   \n",
       "50%                                   -499.576513   \n",
       "75%                                   -400.933805   \n",
       "max                                     -6.506986   \n",
       "\n",
       "       secondary_cleaner.state.floatbank5_a_air  \\\n",
       "count                               5290.000000   \n",
       "mean                                  12.804186   \n",
       "std                                    3.026591   \n",
       "min                                    0.069227   \n",
       "25%                                   10.914838   \n",
       "50%                                   12.954182   \n",
       "75%                                   15.097528   \n",
       "max                                   25.258848   \n",
       "\n",
       "       secondary_cleaner.state.floatbank5_a_level  \\\n",
       "count                                 5290.000000   \n",
       "mean                                  -501.329122   \n",
       "std                                     17.951495   \n",
       "min                                   -797.323986   \n",
       "25%                                   -500.726841   \n",
       "50%                                   -499.990332   \n",
       "75%                                   -499.283191   \n",
       "max                                   -244.483566   \n",
       "\n",
       "       secondary_cleaner.state.floatbank5_b_air  \\\n",
       "count                               5290.000000   \n",
       "mean                                   9.881145   \n",
       "std                                    2.868205   \n",
       "min                                    0.528083   \n",
       "25%                                    8.036719   \n",
       "50%                                   10.004301   \n",
       "75%                                   11.997467   \n",
       "max                                   14.086866   \n",
       "\n",
       "       secondary_cleaner.state.floatbank5_b_level  \\\n",
       "count                                 5290.000000   \n",
       "mean                                  -495.663398   \n",
       "std                                     34.535007   \n",
       "min                                   -800.220337   \n",
       "25%                                   -500.194668   \n",
       "50%                                   -499.990535   \n",
       "75%                                   -499.719913   \n",
       "max                                   -137.740004   \n",
       "\n",
       "       secondary_cleaner.state.floatbank6_a_air  \\\n",
       "count                               5290.000000   \n",
       "mean                                  17.304935   \n",
       "std                                    4.536544   \n",
       "min                                   -0.079426   \n",
       "25%                                   13.997317   \n",
       "50%                                   16.014935   \n",
       "75%                                   21.020013   \n",
       "max                                   26.705889   \n",
       "\n",
       "       secondary_cleaner.state.floatbank6_a_level  \n",
       "count                                 5290.000000  \n",
       "mean                                  -501.793193  \n",
       "std                                     39.044215  \n",
       "min                                   -809.741464  \n",
       "25%                                   -500.690984  \n",
       "50%                                   -500.007126  \n",
       "75%                                   -499.373018  \n",
       "max                                   -123.307487  \n",
       "\n",
       "[8 rows x 52 columns]"
      ]
     },
     "metadata": {},
     "output_type": "display_data"
    },
    {
     "name": "stdout",
     "output_type": "stream",
     "text": [
      "Дубликатов не обнаружено\n"
     ]
    }
   ],
   "source": [
    "review(df_test)"
   ]
  },
  {
   "cell_type": "markdown",
   "metadata": {},
   "source": [
    "#### Вывод"
   ]
  },
  {
   "cell_type": "markdown",
   "metadata": {},
   "source": [
    "Видим:\n",
    "- характеристики металлов на каждом этапе до и после прохождения определенного этапа;\n",
    "- расчетные характеристики на первом этапе;\n",
    "- характеристики отвальных хвостов после каждого этапа;\n",
    "- характеристиках поданных реагентах;\n",
    "- номер и характеристики флотационных установок;\n",
    "- все три выборки содержат пустые значения;\n",
    "- дубликатов в выборках не обнаружено."
   ]
  },
  {
   "cell_type": "markdown",
   "metadata": {},
   "source": [
    "### Проверим, что эффективность обогащения расчитана правильно."
   ]
  },
  {
   "cell_type": "markdown",
   "metadata": {},
   "source": [
    "Для этого, вычислим её на обучающей выборке - `df_train` для признака `rougher.output.recovery`. Посмотрим на `MAE` между расчётами и значением признака."
   ]
  },
  {
   "cell_type": "markdown",
   "metadata": {},
   "source": [
    "Эффективность обогащения рассчитывается по формуле:"
   ]
  },
  {
   "cell_type": "markdown",
   "metadata": {},
   "source": [
    "# $Recovery = \\frac{C * (F - T)}{F * (C - T)} * 100$"
   ]
  },
  {
   "cell_type": "markdown",
   "metadata": {},
   "source": [
    "где:\n",
    "- `C` — доля золота в концентрате после флотации/очистки;\n",
    "- `F` — доля золота в сырье/концентрате до флотации/очистки;\n",
    "- `T` — доля золота в отвальных хвостах после флотации/очистки."
   ]
  },
  {
   "cell_type": "code",
   "execution_count": 9,
   "metadata": {},
   "outputs": [],
   "source": [
    "def efficiency_check(row_1, row_2, row_3):\n",
    "    \"\"\"функция расчета эффективности обогащения\"\"\"\n",
    "    check = ((row_1 * (row_2 - row_3)) / (row_2 * (row_1 - row_3))) * 100\n",
    "    return check"
   ]
  },
  {
   "cell_type": "code",
   "execution_count": 10,
   "metadata": {},
   "outputs": [],
   "source": [
    "test = efficiency_check(df_train['rougher.output.concentrate_au'], \n",
    "                        df_train['rougher.input.feed_au'], \n",
    "                        df_train['rougher.output.tail_au'])"
   ]
  },
  {
   "cell_type": "code",
   "execution_count": 11,
   "metadata": {},
   "outputs": [
    {
     "data": {
      "text/plain": [
       "9.73512347450521e-15"
      ]
     },
     "execution_count": 11,
     "metadata": {},
     "output_type": "execute_result"
    }
   ],
   "source": [
    "MAE(df_train['rougher.output.recovery'], test)"
   ]
  },
  {
   "cell_type": "markdown",
   "metadata": {},
   "source": [
    "#### Вывод"
   ]
  },
  {
   "cell_type": "markdown",
   "metadata": {},
   "source": [
    "Среднее абсолютное отклонение равно `9.73512347450521e-15` - данные рассчитаны верно."
   ]
  },
  {
   "cell_type": "markdown",
   "metadata": {},
   "source": [
    "### Проанализируем признаки, недоступные в тестовой выборке. "
   ]
  },
  {
   "cell_type": "markdown",
   "metadata": {},
   "source": [
    "Посмотрим на недостающие столбцы"
   ]
  },
  {
   "cell_type": "code",
   "execution_count": 12,
   "metadata": {},
   "outputs": [
    {
     "data": {
      "text/plain": [
       "{'final.output.concentrate_ag',\n",
       " 'final.output.concentrate_au',\n",
       " 'final.output.concentrate_pb',\n",
       " 'final.output.concentrate_sol',\n",
       " 'final.output.recovery',\n",
       " 'final.output.tail_ag',\n",
       " 'final.output.tail_au',\n",
       " 'final.output.tail_pb',\n",
       " 'final.output.tail_sol',\n",
       " 'primary_cleaner.output.concentrate_ag',\n",
       " 'primary_cleaner.output.concentrate_au',\n",
       " 'primary_cleaner.output.concentrate_pb',\n",
       " 'primary_cleaner.output.concentrate_sol',\n",
       " 'primary_cleaner.output.tail_ag',\n",
       " 'primary_cleaner.output.tail_au',\n",
       " 'primary_cleaner.output.tail_pb',\n",
       " 'primary_cleaner.output.tail_sol',\n",
       " 'rougher.calculation.au_pb_ratio',\n",
       " 'rougher.calculation.floatbank10_sulfate_to_au_feed',\n",
       " 'rougher.calculation.floatbank11_sulfate_to_au_feed',\n",
       " 'rougher.calculation.sulfate_to_au_concentrate',\n",
       " 'rougher.output.concentrate_ag',\n",
       " 'rougher.output.concentrate_au',\n",
       " 'rougher.output.concentrate_pb',\n",
       " 'rougher.output.concentrate_sol',\n",
       " 'rougher.output.recovery',\n",
       " 'rougher.output.tail_ag',\n",
       " 'rougher.output.tail_au',\n",
       " 'rougher.output.tail_pb',\n",
       " 'rougher.output.tail_sol',\n",
       " 'secondary_cleaner.output.tail_ag',\n",
       " 'secondary_cleaner.output.tail_au',\n",
       " 'secondary_cleaner.output.tail_pb',\n",
       " 'secondary_cleaner.output.tail_sol'}"
      ]
     },
     "execution_count": 12,
     "metadata": {},
     "output_type": "execute_result"
    }
   ],
   "source": [
    "set(df_train).symmetric_difference(set(df_test))"
   ]
  },
  {
   "cell_type": "markdown",
   "metadata": {},
   "source": [
    "#### Вывод"
   ]
  },
  {
   "cell_type": "markdown",
   "metadata": {},
   "source": [
    "Пропущенные данные содержат:\n",
    "- выходные характеристики о концетрации металлов на каждом из этапов;\n",
    "- отвальных хвостах на каждом из этапов;\n",
    "- рассчетные характеристики.\n",
    "\n",
    "Для тестирования модели эти данные не потребуется."
   ]
  },
  {
   "cell_type": "markdown",
   "metadata": {},
   "source": [
    "### Проведем работу с пропущенными значениями"
   ]
  },
  {
   "cell_type": "markdown",
   "metadata": {},
   "source": [
    "Удалим столбец `date` из обучающей выборки `df_train` и заполним пропущенные значения"
   ]
  },
  {
   "cell_type": "code",
   "execution_count": 13,
   "metadata": {},
   "outputs": [],
   "source": [
    "imputer_df_train = KNNImputer()\n",
    "df_train = pd.DataFrame(data = imputer_df_train.fit_transform(df_train.drop(['date'],axis = 1)),\n",
    "             columns = df_train.drop(['date'],axis = 1).columns,\n",
    "             index = df_train.index)"
   ]
  },
  {
   "cell_type": "markdown",
   "metadata": {},
   "source": [
    "Объединим строки целевых признаков `rougher.output.recovery`, `final.output.recovery` тестовой выборки `df_test` и полной выборки `df_full` по совпадающим значениям столбца `date` полной выборки. "
   ]
  },
  {
   "cell_type": "code",
   "execution_count": 14,
   "metadata": {},
   "outputs": [],
   "source": [
    "df_test = df_test.merge(df_full.loc[:,['date', 'rougher.output.recovery', 'final.output.recovery']],on = 'date')"
   ]
  },
  {
   "cell_type": "markdown",
   "metadata": {},
   "source": [
    "Удалим столбец `date` из тестовой выборки `df_test` и заполним пропущенные значения"
   ]
  },
  {
   "cell_type": "code",
   "execution_count": 15,
   "metadata": {},
   "outputs": [],
   "source": [
    "imputer_df_test = KNNImputer()\n",
    "df_test = pd.DataFrame(data = imputer_df_test.fit_transform(df_test.drop(['date'],axis = 1)),\n",
    "             columns = df_test.drop(['date'],axis = 1).columns,\n",
    "             index = df_test.index)"
   ]
  },
  {
   "cell_type": "markdown",
   "metadata": {},
   "source": [
    "#### Вывод"
   ]
  },
  {
   "cell_type": "markdown",
   "metadata": {},
   "source": [
    "- пропуски заполнены вменением с использованием `k-NN`."
   ]
  },
  {
   "cell_type": "markdown",
   "metadata": {},
   "source": [
    "## Анализ данных"
   ]
  },
  {
   "cell_type": "markdown",
   "metadata": {},
   "source": [
    "### Посмотрим, как меняется концентрация металлов на различных этапах очистки. "
   ]
  },
  {
   "cell_type": "code",
   "execution_count": 16,
   "metadata": {},
   "outputs": [],
   "source": [
    "def hist_concentration(rougher_input, rougher_output, primary_cleaner, final, name):\n",
    "    \"\"\"функция построение гистограммы и вывода на экран средних значений концетрации металлов\"\"\"\n",
    "    plt.figure(figsize=(15,5))\n",
    "    ax = sns.distplot(rougher_input)\n",
    "    ax = sns.distplot(rougher_output)\n",
    "    ax = sns.distplot(primary_cleaner)\n",
    "    ax = sns.distplot(final)\n",
    "    plt.title(name)\n",
    "    plt.legend(title='metal concentration', \n",
    "               loc='upper right', \n",
    "               labels=['rougher_input', 'rougher_output', 'primary_cleaner', 'final'])\n",
    "    plt.xlabel(\"concentration on output\")\n",
    "    plt.ylabel(\"amount\")\n",
    "    plt.show()\n",
    "    print('average concentration before flotation:{: 0.2f}'.format(rougher_input.mean()))\n",
    "    print('average concentration after flotation:{: 0.2f}'.format(rougher_output.mean()))\n",
    "    print('average concentration before primary cleaner:{: 0.2f}'.format(primary_cleaner.mean()))\n",
    "    print('average final concentration:{: 0.2f}'.format(final.mean()))"
   ]
  },
  {
   "cell_type": "markdown",
   "metadata": {},
   "source": [
    "#### Серебро - `ag`"
   ]
  },
  {
   "cell_type": "code",
   "execution_count": 17,
   "metadata": {},
   "outputs": [
    {
     "data": {
      "image/png": "[encoded data removed]",
      "text/plain": [
       "<Figure size 1080x360 with 1 Axes>"
      ]
     },
     "metadata": {
      "needs_background": "light"
     },
     "output_type": "display_data"
    },
    {
     "name": "stdout",
     "output_type": "stream",
     "text": [
      "average concentration before flotation: 8.79\n",
      "average concentration after flotation: 11.99\n",
      "average concentration before primary cleaner: 8.44\n",
      "average final concentration: 5.17\n"
     ]
    }
   ],
   "source": [
    "hist_concentration(df_full['rougher.input.feed_ag'],\n",
    "                   df_full['rougher.output.concentrate_ag'], \n",
    "                   df_full['primary_cleaner.output.concentrate_ag'], \n",
    "                   df_full['final.output.concentrate_ag'],\n",
    "                   'Ag - silver')"
   ]
  },
  {
   "cell_type": "markdown",
   "metadata": {},
   "source": [
    "- концетрация серебра снижается на каждом этапе."
   ]
  },
  {
   "cell_type": "markdown",
   "metadata": {},
   "source": [
    "#### Свинец - `pb`"
   ]
  },
  {
   "cell_type": "code",
   "execution_count": 18,
   "metadata": {
    "scrolled": true
   },
   "outputs": [
    {
     "data": {
      "image/png": "[encoded data removed]",
      "text/plain": [
       "<Figure size 1080x360 with 1 Axes>"
      ]
     },
     "metadata": {
      "needs_background": "light"
     },
     "output_type": "display_data"
    },
    {
     "name": "stdout",
     "output_type": "stream",
     "text": [
      "average concentration before flotation: 3.60\n",
      "average concentration after flotation: 7.61\n",
      "average concentration before primary cleaner: 9.83\n",
      "average final concentration: 9.98\n"
     ]
    }
   ],
   "source": [
    "hist_concentration(df_full['rougher.input.feed_pb'],\n",
    "                   df_full['rougher.output.concentrate_pb'], \n",
    "                   df_full['primary_cleaner.output.concentrate_pb'], \n",
    "                   df_full['final.output.concentrate_pb'],\n",
    "                   'Pb - lead')"
   ]
  },
  {
   "cell_type": "markdown",
   "metadata": {},
   "source": [
    "- концетрация свинца повышается на каждом этапе."
   ]
  },
  {
   "cell_type": "markdown",
   "metadata": {},
   "source": [
    "#### Золото - `au`"
   ]
  },
  {
   "cell_type": "code",
   "execution_count": 19,
   "metadata": {},
   "outputs": [
    {
     "data": {
      "image/png": "[encoded data removed]",
      "text/plain": [
       "<Figure size 1080x360 with 1 Axes>"
      ]
     },
     "metadata": {
      "needs_background": "light"
     },
     "output_type": "display_data"
    },
    {
     "name": "stdout",
     "output_type": "stream",
     "text": [
      "average concentration before flotation: 8.27\n",
      "average concentration after flotation: 19.77\n",
      "average concentration before primary cleaner: 32.12\n",
      "average final concentration: 44.08\n"
     ]
    }
   ],
   "source": [
    "hist_concentration(df_full['rougher.input.feed_au'],\n",
    "                   df_full['rougher.output.concentrate_au'], \n",
    "                   df_full['primary_cleaner.output.concentrate_au'], \n",
    "                   df_full['final.output.concentrate_au'],\n",
    "                   'Au - gold')"
   ]
  },
  {
   "cell_type": "markdown",
   "metadata": {},
   "source": [
    "- концетрация золота повышается на каждом этапе."
   ]
  },
  {
   "cell_type": "markdown",
   "metadata": {},
   "source": [
    "#### Вывод"
   ]
  },
  {
   "cell_type": "markdown",
   "metadata": {},
   "source": [
    "- концентрация серебра понижается на каждом из этапов, т.к. приоритетным металлом является золото и остальные металлы отсеиваются;\n",
    "- концетрация свинца растет на каждом из этапов, т.к. при использование азотнокислого выщелачивания в концентрате образуется сульфат свинца;\n",
    "- концетрация золота повышается на каждом из этапов, т.к. приоритет и цель всего процесса - повышение концетрации золота."
   ]
  },
  {
   "cell_type": "markdown",
   "metadata": {},
   "source": [
    "### Сравним распределения размеров гранул сырья на обучающей и тестовой выборках. "
   ]
  },
  {
   "cell_type": "code",
   "execution_count": 20,
   "metadata": {},
   "outputs": [
    {
     "data": {
      "image/png": "[encoded data removed]",
      "text/plain": [
       "<Figure size 1080x360 with 1 Axes>"
      ]
     },
     "metadata": {
      "needs_background": "light"
     },
     "output_type": "display_data"
    }
   ],
   "source": [
    "feed_size_train = df_train['rougher.input.feed_size']\n",
    "feed_size_test = df_test['rougher.input.feed_size']\n",
    "\n",
    "plt.figure(figsize=(15,5))\n",
    "ax = sns.distplot(feed_size_train)\n",
    "ax = sns.distplot(feed_size_test)\n",
    "ax.set_xlim([0,150])\n",
    "plt.legend(title='feed size', loc='upper right', labels=['df_train', 'df_test'])\n",
    "plt.xlabel(\"feed size\")\n",
    "plt.ylabel(\"amount\")\n",
    "plt.show()"
   ]
  },
  {
   "cell_type": "code",
   "execution_count": 21,
   "metadata": {},
   "outputs": [
    {
     "data": {
      "text/plain": [
       "count    14149.000000\n",
       "mean        60.117844\n",
       "std         22.468112\n",
       "min          9.659576\n",
       "25%         48.985226\n",
       "50%         55.376859\n",
       "75%         65.953465\n",
       "max        484.967466\n",
       "Name: rougher.input.feed_size, dtype: float64"
      ]
     },
     "execution_count": 21,
     "metadata": {},
     "output_type": "execute_result"
    }
   ],
   "source": [
    "df_train['rougher.input.feed_size'].describe()"
   ]
  },
  {
   "cell_type": "code",
   "execution_count": 22,
   "metadata": {},
   "outputs": [
    {
     "data": {
      "text/plain": [
       "count    5290.000000\n",
       "mean       55.955375\n",
       "std        19.082490\n",
       "min         0.046369\n",
       "25%        43.906504\n",
       "50%        50.846843\n",
       "75%        62.451165\n",
       "max       392.494040\n",
       "Name: rougher.input.feed_size, dtype: float64"
      ]
     },
     "execution_count": 22,
     "metadata": {},
     "output_type": "execute_result"
    }
   ],
   "source": [
    "df_test['rougher.input.feed_size'].describe()"
   ]
  },
  {
   "cell_type": "markdown",
   "metadata": {},
   "source": [
    "#### Вывод"
   ]
  },
  {
   "cell_type": "markdown",
   "metadata": {},
   "source": [
    "- распределение гранул до флотации - нормальное со смещением влево, как в обучающей `df_train`, так и в тестовой `df_test` выборке; \n",
    "- в обеих выборках присутсвуют выбросы."
   ]
  },
  {
   "cell_type": "markdown",
   "metadata": {},
   "source": [
    "### Исследуем суммарную концентрацию всех веществ на разных стадиях: в сырье, в черновом и финальном концентратах."
   ]
  },
  {
   "cell_type": "code",
   "execution_count": 23,
   "metadata": {},
   "outputs": [],
   "source": [
    "input_raw_concentrate = (df_full['rougher.input.feed_au'] +\n",
    "                     df_full['rougher.input.feed_ag'] +\n",
    "                     df_full['rougher.input.feed_pb'] +\n",
    "                     df_full['rougher.input.feed_sol'])\n",
    "rougher_output_concentrate = (df_full['rougher.output.concentrate_au'] + \n",
    "                              df_full['rougher.output.concentrate_ag'] + \n",
    "                              df_full['rougher.output.concentrate_pb'] +\n",
    "                              df_full['rougher.output.concentrate_sol'])\n",
    "primary_cleaner_output_concentrat = (df_full['primary_cleaner.output.concentrate_au'] + \n",
    "                                     df_full['primary_cleaner.output.concentrate_ag'] + \n",
    "                                     df_full['primary_cleaner.output.concentrate_pb'] +\n",
    "                                     df_full['primary_cleaner.output.concentrate_sol'])\n",
    "final_output_concentrate = (df_full['final.output.concentrate_au'] + \n",
    "                            df_full['final.output.concentrate_ag'] + \n",
    "                            df_full['final.output.concentrate_pb'] +\n",
    "                            df_full['final.output.concentrate_sol'])"
   ]
  },
  {
   "cell_type": "code",
   "execution_count": 24,
   "metadata": {},
   "outputs": [
    {
     "data": {
      "image/png": "[encoded data removed]",
      "text/plain": [
       "<Figure size 1080x360 with 1 Axes>"
      ]
     },
     "metadata": {
      "needs_background": "light"
     },
     "output_type": "display_data"
    },
    {
     "name": "stdout",
     "output_type": "stream",
     "text": [
      "average concentration before flotation: 57.41\n",
      "average concentration after flotation: 68.19\n",
      "average concentration before primary cleaner: 60.95\n",
      "average final concentration: 68.73\n"
     ]
    }
   ],
   "source": [
    "hist_concentration(input_raw_concentrate,\n",
    "                   rougher_output_concentrate, \n",
    "                   primary_cleaner_output_concentrat, \n",
    "                   final_output_concentrate,\n",
    "                   'total concentration')"
   ]
  },
  {
   "cell_type": "markdown",
   "metadata": {},
   "source": [
    "Видим значения близкие к `0`. Удалим такие значения из обучающей выборки и посмотрим на результаты при обучении модели."
   ]
  },
  {
   "cell_type": "code",
   "execution_count": 25,
   "metadata": {},
   "outputs": [],
   "source": [
    "df_train_nozero = df_train.copy(deep=True)"
   ]
  },
  {
   "cell_type": "code",
   "execution_count": 26,
   "metadata": {},
   "outputs": [],
   "source": [
    "df_train_nozero = df_train.drop(index = df_train[df_train[\"rougher.input.feed_au\"] < 1].index,axis = 0)\n",
    "df_train_nozero = df_train.drop(index = df_train[df_train[\"rougher.input.feed_ag\"] < 1].index,axis = 0)\n",
    "df_train_nozero = df_train.drop(index = df_train[df_train[\"rougher.input.feed_pb\"] < 1].index,axis = 0)\n",
    "df_train_nozero = df_train.drop(index = df_train[df_train[\"rougher.input.feed_sol\"] < 1].index,axis = 0)\n",
    "\n",
    "df_train_nozero = df_train.drop(index = df_train[df_train[\"rougher.output.concentrate_au\"] < 1].index,axis = 0)\n",
    "df_train_nozero = df_train.drop(index = df_train[df_train[\"rougher.output.concentrate_ag\"] < 1].index,axis = 0)\n",
    "df_train_nozero = df_train.drop(index = df_train[df_train[\"rougher.output.concentrate_pb\"] < 1].index,axis = 0)\n",
    "df_train_nozero = df_train.drop(index = df_train[df_train[\"rougher.output.concentrate_sol\"] < 1].index,axis = 0)\n",
    "\n",
    "df_train_nozero = df_train.drop(index = df_train[df_train[\"primary_cleaner.output.concentrate_au\"] < 1].index,axis = 0)\n",
    "df_train_nozero = df_train.drop(index = df_train[df_train[\"primary_cleaner.output.concentrate_ag\"] < 1].index,axis = 0)\n",
    "df_train_nozero = df_train.drop(index = df_train[df_train[\"primary_cleaner.output.concentrate_pb\"] < 1].index,axis = 0)\n",
    "df_train_nozero = df_train.drop(index = df_train[df_train[\"primary_cleaner.output.concentrate_sol\"] < 1].index,axis = 0)\n",
    "\n",
    "df_train_nozero = df_train.drop(index = df_train[df_train[\"final.output.concentrate_au\"] < 1].index,axis = 0)\n",
    "df_train_nozero = df_train.drop(index = df_train[df_train[\"final.output.concentrate_ag\"] < 1].index,axis = 0)\n",
    "df_train_nozero = df_train.drop(index = df_train[df_train[\"final.output.concentrate_pb\"] < 1].index,axis = 0)\n",
    "df_train_nozero = df_train.drop(index = df_train[df_train[\"final.output.concentrate_sol\"] < 1].index,axis = 0)"
   ]
  },
  {
   "cell_type": "markdown",
   "metadata": {},
   "source": [
    "#### Вывод"
   ]
  },
  {
   "cell_type": "markdown",
   "metadata": {},
   "source": [
    "- в выборке `df_full` были замечены значения близкие к `0`. \n",
    "- создана выбрка - `df_train_nozero` - она содержит данные из обучающей выборки `df_train`, где были удалены значения близкие к `0`."
   ]
  },
  {
   "cell_type": "markdown",
   "metadata": {},
   "source": [
    "## Модель"
   ]
  },
  {
   "cell_type": "markdown",
   "metadata": {},
   "source": [
    "### Напишем функцию для вычисления итоговой `sMAPE`."
   ]
  },
  {
   "cell_type": "markdown",
   "metadata": {},
   "source": [
    "$sMAPE= \\frac{1}{N} \\sum_{i=1}^{N} \\frac {|y_i-\\hat{y_i}|}{(|y_i|+|\\hat{y_i}|)/2} \\times 100\\% $\n",
    "\n",
    "$Final\\hspace{0.2cm}sMAPE = 25\\% \\times sMAPE(rougher) + 75\\% \\times sMAPE(final)$"
   ]
  },
  {
   "cell_type": "code",
   "execution_count": 27,
   "metadata": {},
   "outputs": [],
   "source": [
    "def sMAPE(target, predictions):\n",
    "    \"\"\"фукция для вычисления sMAPE\"\"\"\n",
    "    error = np.mean(abs(target - predictions) / ((abs(target)+abs(predictions)) / 2)) * 100\n",
    "    return error"
   ]
  },
  {
   "cell_type": "code",
   "execution_count": 28,
   "metadata": {},
   "outputs": [],
   "source": [
    "def final_sMAPE(sMAPE_rougher, sMAPE_final):\n",
    "    \"\"\"функция для вычисления итоговой sMAPE\"\"\"\n",
    "    return (0.25 * sMAPE_rougher + 0.75 * sMAPE_final)"
   ]
  },
  {
   "cell_type": "markdown",
   "metadata": {},
   "source": [
    "### Обучим модели и оцените их качество. "
   ]
  },
  {
   "cell_type": "markdown",
   "metadata": {},
   "source": [
    "Обучать модель будем при помощи алгоритмов - `RandomForestRegressor` и `DecisionTreeRegressor`."
   ]
  },
  {
   "cell_type": "markdown",
   "metadata": {},
   "source": [
    "#### Подготовим признаки"
   ]
  },
  {
   "cell_type": "markdown",
   "metadata": {},
   "source": [
    "**Обучающая выборка с нулевыми значениями**"
   ]
  },
  {
   "cell_type": "code",
   "execution_count": 31,
   "metadata": {},
   "outputs": [],
   "source": [
    "features_train_rougher = df_train.loc[:,df_test.columns]\n",
    "features_train_rougher = features_train_rougher.drop(['rougher.output.recovery', 'final.output.recovery'],axis = 1)\n",
    "target_train_rougher = df_train['rougher.output.recovery']\n",
    "features_train_final = features_train_rougher \n",
    "target_train_final = df_train['final.output.recovery']"
   ]
  },
  {
   "cell_type": "markdown",
   "metadata": {},
   "source": [
    "**Обучающая выборка без нулевых значений**"
   ]
  },
  {
   "cell_type": "code",
   "execution_count": 33,
   "metadata": {},
   "outputs": [],
   "source": [
    "features_train_nozero_rougher = df_train_nozero.loc[:,df_test.columns]\n",
    "features_train_nozero_rougher = features_train_nozero_rougher.drop(['rougher.output.recovery', 'final.output.recovery'],axis = 1)\n",
    "target_train_nozero_rougher = df_train_nozero['rougher.output.recovery']\n",
    "features_train_nozero_final = features_train_nozero_rougher \n",
    "target_train_nozero_final = df_train_nozero['final.output.recovery']"
   ]
  },
  {
   "cell_type": "markdown",
   "metadata": {},
   "source": [
    "#### Инициализация `pipeline`"
   ]
  },
  {
   "cell_type": "code",
   "execution_count": 34,
   "metadata": {},
   "outputs": [],
   "source": [
    "custom_score = make_scorer(sMAPE,greater_is_better=False)"
   ]
  },
  {
   "cell_type": "code",
   "execution_count": 35,
   "metadata": {},
   "outputs": [],
   "source": [
    "model_RF = make_pipeline(RandomForestRegressor())\n",
    "model_DT = make_pipeline(DecisionTreeRegressor())"
   ]
  },
  {
   "cell_type": "code",
   "execution_count": 36,
   "metadata": {},
   "outputs": [],
   "source": [
    "params_RF = {'randomforestregressor__n_estimators':[5,100],\n",
    "             'randomforestregressor__max_depth':[1,10]}\n",
    "params_DT= {'decisiontreeregressor__max_depth':[1,10]}"
   ]
  },
  {
   "cell_type": "code",
   "execution_count": 37,
   "metadata": {},
   "outputs": [],
   "source": [
    "grid_rougher_RF = GridSearchCV(model_RF, param_grid = params_RF, scoring=custom_score)\n",
    "grid_final_RF = GridSearchCV(model_RF, param_grid = params_RF, scoring=custom_score)\n",
    "grid_rougher_DT = GridSearchCV(model_DT, param_grid = params_DT, scoring=custom_score)\n",
    "grid_final_DT = GridSearchCV(model_DT, param_grid = params_DT, scoring=custom_score)"
   ]
  },
  {
   "cell_type": "code",
   "execution_count": 38,
   "metadata": {},
   "outputs": [],
   "source": [
    "grid_rougher_RF_nozero = GridSearchCV(model_RF, param_grid = params_RF, scoring=custom_score)\n",
    "grid_final_RF_nozero = GridSearchCV(model_RF, param_grid = params_RF, scoring=custom_score)\n",
    "grid_rougher_DT_nozero = GridSearchCV(model_DT, param_grid = params_DT, scoring=custom_score)\n",
    "grid_final_DT_nozero = GridSearchCV(model_DT, param_grid = params_DT, scoring=custom_score)"
   ]
  },
  {
   "cell_type": "markdown",
   "metadata": {},
   "source": [
    "#### Обучение модели с подбором гиперпараметров"
   ]
  },
  {
   "cell_type": "markdown",
   "metadata": {},
   "source": [
    "##### На признаках с нулевыми значениями"
   ]
  },
  {
   "cell_type": "code",
   "execution_count": 39,
   "metadata": {},
   "outputs": [
    {
     "data": {
      "text/plain": [
       "GridSearchCV(estimator=Pipeline(steps=[('decisiontreeregressor',\n",
       "                                        DecisionTreeRegressor())]),\n",
       "             param_grid={'decisiontreeregressor__max_depth': [1, 10]},\n",
       "             scoring=make_scorer(sMAPE, greater_is_better=False))"
      ]
     },
     "execution_count": 39,
     "metadata": {},
     "output_type": "execute_result"
    }
   ],
   "source": [
    "grid_rougher_RF.fit(features_train_rougher, target_train_rougher)\n",
    "grid_final_RF.fit(features_train_final, target_train_final)\n",
    "grid_rougher_DT.fit(features_train_rougher, target_train_rougher)\n",
    "grid_final_DT.fit(features_train_final, target_train_final)"
   ]
  },
  {
   "cell_type": "code",
   "execution_count": 40,
   "metadata": {},
   "outputs": [
    {
     "name": "stdout",
     "output_type": "stream",
     "text": [
      "best models\n",
      "Pipeline(steps=[('randomforestregressor', RandomForestRegressor(max_depth=1))]) {'randomforestregressor__max_depth': 1, 'randomforestregressor__n_estimators': 100}\n",
      "Pipeline(steps=[('randomforestregressor',\n",
      "                 RandomForestRegressor(max_depth=1, n_estimators=5))]) {'randomforestregressor__max_depth': 1, 'randomforestregressor__n_estimators': 5}\n",
      "Pipeline(steps=[('decisiontreeregressor', DecisionTreeRegressor(max_depth=1))]) {'decisiontreeregressor__max_depth': 1}\n",
      "Pipeline(steps=[('decisiontreeregressor', DecisionTreeRegressor(max_depth=1))]) {'decisiontreeregressor__max_depth': 1}\n"
     ]
    }
   ],
   "source": [
    "print('best models')\n",
    "print(grid_rougher_RF.best_estimator_, grid_rougher_RF.best_params_)\n",
    "print(grid_final_RF.best_estimator_, grid_final_RF.best_params_)\n",
    "print(grid_rougher_DT.best_estimator_, grid_rougher_DT.best_params_)\n",
    "print(grid_final_DT.best_estimator_, grid_final_DT.best_params_)"
   ]
  },
  {
   "cell_type": "markdown",
   "metadata": {},
   "source": [
    "##### На признаках без нулевых значений"
   ]
  },
  {
   "cell_type": "code",
   "execution_count": 41,
   "metadata": {},
   "outputs": [
    {
     "data": {
      "text/plain": [
       "GridSearchCV(estimator=Pipeline(steps=[('decisiontreeregressor',\n",
       "                                        DecisionTreeRegressor())]),\n",
       "             param_grid={'decisiontreeregressor__max_depth': [1, 10]},\n",
       "             scoring=make_scorer(sMAPE, greater_is_better=False))"
      ]
     },
     "execution_count": 41,
     "metadata": {},
     "output_type": "execute_result"
    }
   ],
   "source": [
    "grid_rougher_RF_nozero.fit(features_train_nozero_rougher, target_train_nozero_rougher)\n",
    "grid_final_RF_nozero.fit(features_train_nozero_final, target_train_nozero_final)\n",
    "grid_rougher_DT_nozero.fit(features_train_nozero_rougher, target_train_nozero_rougher)\n",
    "grid_final_DT_nozero.fit(features_train_nozero_final, target_train_nozero_final)"
   ]
  },
  {
   "cell_type": "code",
   "execution_count": 42,
   "metadata": {},
   "outputs": [
    {
     "name": "stdout",
     "output_type": "stream",
     "text": [
      "best models\n",
      "Pipeline(steps=[('randomforestregressor', RandomForestRegressor(max_depth=10))]) {'randomforestregressor__max_depth': 10, 'randomforestregressor__n_estimators': 100}\n",
      "Pipeline(steps=[('randomforestregressor', RandomForestRegressor(max_depth=10))]) {'randomforestregressor__max_depth': 10, 'randomforestregressor__n_estimators': 100}\n",
      "Pipeline(steps=[('decisiontreeregressor', DecisionTreeRegressor(max_depth=1))]) {'decisiontreeregressor__max_depth': 1}\n",
      "Pipeline(steps=[('decisiontreeregressor', DecisionTreeRegressor(max_depth=1))]) {'decisiontreeregressor__max_depth': 1}\n"
     ]
    }
   ],
   "source": [
    "print('best models')\n",
    "print(grid_rougher_RF_nozero.best_estimator_, grid_rougher_RF_nozero.best_params_)\n",
    "print(grid_final_RF_nozero.best_estimator_, grid_final_RF_nozero.best_params_)\n",
    "print(grid_rougher_DT_nozero.best_estimator_, grid_rougher_DT_nozero.best_params_)\n",
    "print(grid_final_DT_nozero.best_estimator_, grid_final_DT_nozero.best_params_)"
   ]
  },
  {
   "cell_type": "markdown",
   "metadata": {},
   "source": [
    "##### Сохранием лучшие результаты в переменные"
   ]
  },
  {
   "cell_type": "code",
   "execution_count": 43,
   "metadata": {
    "scrolled": true
   },
   "outputs": [],
   "source": [
    "best_score_rougher_RF = grid_rougher_RF.best_score_\n",
    "best_score_final_RF = grid_final_RF.best_score_\n",
    "best_score_rougher_DT = grid_rougher_DT.best_score_\n",
    "best_score_final_DT = grid_final_DT.best_score_\n",
    "best_score_rougher_RF_nozero = grid_rougher_RF_nozero.best_score_\n",
    "best_score_final_RF_nozero = grid_final_RF_nozero.best_score_\n",
    "best_score_rougher_DT_nozero = grid_rougher_DT_nozero.best_score_\n",
    "best_score_final_DT_nozero = grid_final_DT_nozero.best_score_"
   ]
  },
  {
   "cell_type": "markdown",
   "metadata": {},
   "source": [
    "#### Определим лучшую модель"
   ]
  },
  {
   "cell_type": "code",
   "execution_count": 44,
   "metadata": {},
   "outputs": [
    {
     "name": "stdout",
     "output_type": "stream",
     "text": [
      "df_train\n",
      "rougher\n",
      "RandomForestRegressor -12.445858084025755 DecisionTreeRegressor -12.463448579275099\n",
      "final\n",
      "RandomForestRegressor -10.672154957182798 DecisionTreeRegressor -11.037567187433716\n",
      "\n",
      "df_train_nozero\n",
      "rougher\n",
      "RandomForestRegressor -12.09010079576024 DecisionTreeRegressor -12.437907729685326\n",
      "final\n",
      "RandomForestRegressor -9.662836990094219 DecisionTreeRegressor -9.852999527983446\n"
     ]
    }
   ],
   "source": [
    "print('df_train')\n",
    "print('rougher')\n",
    "print('RandomForestRegressor', best_score_rougher_RF, 'DecisionTreeRegressor', best_score_rougher_DT)\n",
    "print('final')\n",
    "print('RandomForestRegressor', best_score_final_RF, 'DecisionTreeRegressor', best_score_final_DT)\n",
    "print()\n",
    "print('df_train_nozero')\n",
    "print('rougher')\n",
    "print('RandomForestRegressor', best_score_rougher_RF_nozero, 'DecisionTreeRegressor', best_score_rougher_DT_nozero)\n",
    "print('final')\n",
    "print('RandomForestRegressor', best_score_final_RF_nozero, 'DecisionTreeRegressor', best_score_final_DT_nozero)"
   ]
  },
  {
   "cell_type": "markdown",
   "metadata": {},
   "source": [
    "#### Итоговые `sMAPE` на тренировочной выборке"
   ]
  },
  {
   "cell_type": "markdown",
   "metadata": {},
   "source": [
    "`RandomForestRegressor` на выборке `df_train`"
   ]
  },
  {
   "cell_type": "code",
   "execution_count": 45,
   "metadata": {},
   "outputs": [
    {
     "data": {
      "text/plain": [
       "-11.115580738893538"
      ]
     },
     "execution_count": 45,
     "metadata": {},
     "output_type": "execute_result"
    }
   ],
   "source": [
    "final_sMAPE(best_score_rougher_RF, best_score_final_RF)"
   ]
  },
  {
   "cell_type": "markdown",
   "metadata": {},
   "source": [
    "`DecisionTreeRegressor` на выборке `df_train`"
   ]
  },
  {
   "cell_type": "code",
   "execution_count": 46,
   "metadata": {},
   "outputs": [
    {
     "data": {
      "text/plain": [
       "-11.394037535394062"
      ]
     },
     "execution_count": 46,
     "metadata": {},
     "output_type": "execute_result"
    }
   ],
   "source": [
    "final_sMAPE(best_score_rougher_DT, best_score_final_DT)"
   ]
  },
  {
   "cell_type": "markdown",
   "metadata": {},
   "source": [
    "`RandomForestRegressor` на выборке `df_train_nozero`"
   ]
  },
  {
   "cell_type": "code",
   "execution_count": 47,
   "metadata": {},
   "outputs": [
    {
     "data": {
      "text/plain": [
       "-10.269652941510724"
      ]
     },
     "execution_count": 47,
     "metadata": {},
     "output_type": "execute_result"
    }
   ],
   "source": [
    "final_sMAPE(best_score_rougher_RF_nozero, best_score_final_RF_nozero)"
   ]
  },
  {
   "cell_type": "markdown",
   "metadata": {},
   "source": [
    "`DecisionTreeRegressor` на выборке `df_train_nozero`"
   ]
  },
  {
   "cell_type": "code",
   "execution_count": 48,
   "metadata": {},
   "outputs": [
    {
     "data": {
      "text/plain": [
       "-10.499226578408916"
      ]
     },
     "execution_count": 48,
     "metadata": {},
     "output_type": "execute_result"
    }
   ],
   "source": [
    "final_sMAPE(best_score_rougher_DT_nozero, best_score_final_DT_nozero)"
   ]
  },
  {
   "cell_type": "markdown",
   "metadata": {},
   "source": [
    "##### Вывод"
   ]
  },
  {
   "cell_type": "markdown",
   "metadata": {},
   "source": [
    "Наилучший результат показала модель по алгоритму `RandomForestRegressor` на выборке с удаленными нулевыми значениями `df_train_nozero`. \n",
    "Наилучшие гиперпараметры:\n",
    "- для `rougher.output.recovery` - `max_depth=10`, `n_estimators=100`\n",
    "- для `final.output.recovery` - `max_depth=10`, `n_estimators=100`"
   ]
  },
  {
   "cell_type": "markdown",
   "metadata": {},
   "source": [
    "#### Проверка модели на тестовой выборке"
   ]
  },
  {
   "cell_type": "markdown",
   "metadata": {},
   "source": [
    "##### Удалим из тестовой выборки значения, равные `0`"
   ]
  },
  {
   "cell_type": "code",
   "execution_count": 49,
   "metadata": {},
   "outputs": [],
   "source": [
    "df_test = df_test.drop(index = df_test[df_test['rougher.input.feed_au'] < 1].index,axis = 0)\n",
    "df_test = df_test.drop(index = df_test[df_test['rougher.input.feed_ag'] < 1].index,axis = 0)\n",
    "df_test = df_test.drop(index = df_test[df_test['rougher.input.feed_pb'] < 1].index,axis = 0)\n",
    "df_test = df_test.drop(index = df_test[df_test['rougher.input.feed_sol'] < 1].index, axis = 0)"
   ]
  },
  {
   "cell_type": "markdown",
   "metadata": {},
   "source": [
    "##### Подготовим признаки"
   ]
  },
  {
   "cell_type": "code",
   "execution_count": 51,
   "metadata": {},
   "outputs": [],
   "source": [
    "features_test_rougher = df_test.drop(['rougher.output.recovery', 'final.output.recovery'], axis = 1)\n",
    "target_test_rougher = df_test['rougher.output.recovery']\n",
    "features_test_final = features_test_rougher\n",
    "target_test_final = df_test['final.output.recovery']"
   ]
  },
  {
   "cell_type": "markdown",
   "metadata": {},
   "source": [
    "##### Проверим модель на тестовой выборке"
   ]
  },
  {
   "cell_type": "code",
   "execution_count": 52,
   "metadata": {},
   "outputs": [],
   "source": [
    "model_rougher = RandomForestRegressor(n_estimators=100, max_depth=10, random_state=state)\n",
    "model_final = RandomForestRegressor(n_estimators=100, max_depth=10, random_state=state)\n",
    "model_rougher.fit(features_train_nozero_rougher, target_train_nozero_rougher)\n",
    "model_final.fit(features_train_nozero_final, target_train_nozero_final)\n",
    "predictions_rougher = model_rougher.predict(features_test_rougher)\n",
    "predictions_final = model_final.predict(features_test_final)\n",
    "sMAPE_rougher = sMAPE(target_test_rougher, predictions_rougher)\n",
    "sMAPE_final = sMAPE(target_test_final, predictions_final)"
   ]
  },
  {
   "cell_type": "markdown",
   "metadata": {},
   "source": [
    "##### Симметричное среднее абсолютное процентное отклонение на тестовой выборке"
   ]
  },
  {
   "cell_type": "code",
   "execution_count": 53,
   "metadata": {},
   "outputs": [
    {
     "data": {
      "text/plain": [
       "9.755613028106731"
      ]
     },
     "execution_count": 53,
     "metadata": {},
     "output_type": "execute_result"
    }
   ],
   "source": [
    "final_sMAPE(sMAPE_rougher, sMAPE_final)"
   ]
  },
  {
   "cell_type": "markdown",
   "metadata": {},
   "source": [
    "##### Инициализируем и обучим константную модель для проверки качества обучения тестовой выборки"
   ]
  },
  {
   "cell_type": "code",
   "execution_count": 54,
   "metadata": {},
   "outputs": [],
   "source": [
    "check_rougher = DummyRegressor(strategy='mean')\n",
    "check_final = DummyRegressor(strategy='mean')"
   ]
  },
  {
   "cell_type": "code",
   "execution_count": 55,
   "metadata": {},
   "outputs": [
    {
     "data": {
      "text/plain": [
       "DummyRegressor()"
      ]
     },
     "execution_count": 55,
     "metadata": {},
     "output_type": "execute_result"
    }
   ],
   "source": [
    "check_rougher.fit(features_train_nozero_rougher, target_train_nozero_rougher)\n",
    "check_final.fit(features_train_nozero_final, target_train_nozero_final)"
   ]
  },
  {
   "cell_type": "code",
   "execution_count": 56,
   "metadata": {},
   "outputs": [],
   "source": [
    "predictions_check_rougher = check_rougher.predict(features_test_rougher)\n",
    "predictions_check_final = check_final.predict(features_test_final)\n",
    "sMAPE_check_rougher = sMAPE(target_test_rougher, predictions_check_rougher)\n",
    "sMAPE_check_final = sMAPE(target_test_final, predictions_check_final)"
   ]
  },
  {
   "cell_type": "code",
   "execution_count": 57,
   "metadata": {},
   "outputs": [
    {
     "data": {
      "text/plain": [
       "10.033951601731092"
      ]
     },
     "execution_count": 57,
     "metadata": {},
     "output_type": "execute_result"
    }
   ],
   "source": [
    "final_sMAPE(sMAPE_check_rougher, sMAPE_check_final)"
   ]
  },
  {
   "cell_type": "markdown",
   "metadata": {},
   "source": [
    "### Вывод"
   ]
  },
  {
   "cell_type": "markdown",
   "metadata": {},
   "source": [
    "- модель обучена по алгоритму `RandomForestRegressor` на выборке с удаленными нулевыми значениями `df_train_nozero`;\n",
    "- симметричное среднее абсолютное процентное отклонение на тестовой выборке приемлемо, т.к. ниже чем у константной модели."
   ]
  },
  {
   "cell_type": "markdown",
   "metadata": {},
   "source": [
    "## Общий вывод"
   ]
  },
  {
   "cell_type": "markdown",
   "metadata": {},
   "source": [
    "- все датасеты содержат пустые значения;\n",
    "- в тестовой выборке отсутствут данные о выходных характеристиках металлов, отвальных хвостах и рассчетных характеристиках;\n",
    "- модель обучена по алгоритму `RandomForestRegressor` на выборке с удаленными нулевыми значениями `df_train_nozero`;\n",
    "- симметричное среднее абсолютное процентное отклонение на тестовой выборке приемлемо, т.к. оно ниже чем у константной модели."
   ]
  }
 ],
 "metadata": {
  "ExecuteTimeLog": [
   {
    "duration": 1651,
    "start_time": "2022-04-04T07:15:59.776Z"
   },
   {
    "duration": 4,
    "start_time": "2022-04-04T07:16:05.716Z"
   },
   {
    "duration": 244,
    "start_time": "2022-04-04T07:16:31.797Z"
   },
   {
    "duration": 232,
    "start_time": "2022-04-04T07:17:05.412Z"
   },
   {
    "duration": 69,
    "start_time": "2022-04-04T07:17:05.645Z"
   },
   {
    "duration": 316,
    "start_time": "2022-04-04T07:17:05.766Z"
   },
   {
    "duration": 346,
    "start_time": "2022-04-04T07:18:03.790Z"
   },
   {
    "duration": 78,
    "start_time": "2022-04-04T07:18:04.137Z"
   },
   {
    "duration": 457,
    "start_time": "2022-04-04T07:18:04.217Z"
   },
   {
    "duration": 3,
    "start_time": "2022-04-04T07:18:04.860Z"
   },
   {
    "duration": 5,
    "start_time": "2022-04-04T07:18:05.042Z"
   },
   {
    "duration": 749,
    "start_time": "2022-04-04T07:18:09.906Z"
   },
   {
    "duration": 3,
    "start_time": "2022-04-04T07:19:11.476Z"
   },
   {
    "duration": 3,
    "start_time": "2022-04-04T07:19:12.118Z"
   },
   {
    "duration": 218,
    "start_time": "2022-04-04T07:19:28.597Z"
   },
   {
    "duration": 572,
    "start_time": "2022-04-04T07:19:28.817Z"
   },
   {
    "duration": 4,
    "start_time": "2022-04-04T07:23:08.220Z"
   },
   {
    "duration": 3,
    "start_time": "2022-04-04T07:23:08.569Z"
   },
   {
    "duration": 209,
    "start_time": "2022-04-04T07:23:08.749Z"
   },
   {
    "duration": 132,
    "start_time": "2022-04-04T07:23:08.963Z"
   },
   {
    "duration": 238,
    "start_time": "2022-04-04T07:23:09.097Z"
   },
   {
    "duration": 87,
    "start_time": "2022-04-04T07:23:41.942Z"
   },
   {
    "duration": 83,
    "start_time": "2022-04-04T07:23:56.070Z"
   },
   {
    "duration": 81,
    "start_time": "2022-04-04T07:24:03.985Z"
   },
   {
    "duration": 3,
    "start_time": "2022-04-04T07:24:32.858Z"
   },
   {
    "duration": 287,
    "start_time": "2022-04-04T07:24:35.087Z"
   },
   {
    "duration": 283,
    "start_time": "2022-04-04T07:24:59.567Z"
   },
   {
    "duration": 211,
    "start_time": "2022-04-04T07:25:09.633Z"
   },
   {
    "duration": 300,
    "start_time": "2022-04-04T07:25:15.289Z"
   },
   {
    "duration": 1728,
    "start_time": "2022-04-04T10:54:00.609Z"
   },
   {
    "duration": 268,
    "start_time": "2022-04-04T10:54:02.339Z"
   },
   {
    "duration": 74,
    "start_time": "2022-04-04T10:54:02.609Z"
   },
   {
    "duration": 330,
    "start_time": "2022-04-04T10:54:02.684Z"
   },
   {
    "duration": 4,
    "start_time": "2022-04-04T10:54:03.015Z"
   },
   {
    "duration": 41,
    "start_time": "2022-04-04T11:12:11.141Z"
   },
   {
    "duration": 29,
    "start_time": "2022-04-04T11:12:17.217Z"
   },
   {
    "duration": 17,
    "start_time": "2022-04-04T11:12:23.381Z"
   },
   {
    "duration": 26,
    "start_time": "2022-04-04T11:12:30.784Z"
   },
   {
    "duration": 193,
    "start_time": "2022-04-04T11:13:50.243Z"
   },
   {
    "duration": 3,
    "start_time": "2022-04-04T11:14:01.296Z"
   },
   {
    "duration": 16,
    "start_time": "2022-04-04T11:14:28.055Z"
   },
   {
    "duration": 222,
    "start_time": "2022-04-04T11:14:37.488Z"
   },
   {
    "duration": 10,
    "start_time": "2022-04-04T11:15:22.376Z"
   },
   {
    "duration": 11,
    "start_time": "2022-04-04T11:15:22.579Z"
   },
   {
    "duration": 11,
    "start_time": "2022-04-04T11:15:22.714Z"
   },
   {
    "duration": 18,
    "start_time": "2022-04-04T11:15:29.245Z"
   },
   {
    "duration": 234,
    "start_time": "2022-04-04T11:34:37.639Z"
   },
   {
    "duration": 64,
    "start_time": "2022-04-04T11:44:09.046Z"
   },
   {
    "duration": 9,
    "start_time": "2022-04-04T11:44:09.738Z"
   },
   {
    "duration": 10,
    "start_time": "2022-04-04T11:44:09.928Z"
   },
   {
    "duration": 29,
    "start_time": "2022-04-04T11:44:17.042Z"
   },
   {
    "duration": 15,
    "start_time": "2022-04-04T11:45:25.133Z"
   },
   {
    "duration": 10,
    "start_time": "2022-04-04T11:45:35.141Z"
   },
   {
    "duration": 10,
    "start_time": "2022-04-04T11:45:43.879Z"
   },
   {
    "duration": 10,
    "start_time": "2022-04-04T11:45:51.664Z"
   },
   {
    "duration": 10,
    "start_time": "2022-04-04T11:45:59.708Z"
   },
   {
    "duration": 10,
    "start_time": "2022-04-04T11:46:02.699Z"
   },
   {
    "duration": 10,
    "start_time": "2022-04-04T11:46:11.399Z"
   },
   {
    "duration": 10,
    "start_time": "2022-04-04T11:46:17.927Z"
   },
   {
    "duration": 10,
    "start_time": "2022-04-04T11:46:21.883Z"
   },
   {
    "duration": 10,
    "start_time": "2022-04-04T11:46:24.541Z"
   },
   {
    "duration": 10,
    "start_time": "2022-04-04T11:47:12.869Z"
   },
   {
    "duration": 10,
    "start_time": "2022-04-04T11:47:20.973Z"
   },
   {
    "duration": 10,
    "start_time": "2022-04-04T11:47:26.477Z"
   },
   {
    "duration": 17,
    "start_time": "2022-04-04T11:47:40.472Z"
   },
   {
    "duration": 11,
    "start_time": "2022-04-04T11:47:54.161Z"
   },
   {
    "duration": 10,
    "start_time": "2022-04-04T11:48:25.726Z"
   },
   {
    "duration": 9,
    "start_time": "2022-04-04T11:48:31.738Z"
   },
   {
    "duration": 10,
    "start_time": "2022-04-04T11:48:36.332Z"
   },
   {
    "duration": 10,
    "start_time": "2022-04-04T11:48:53.883Z"
   },
   {
    "duration": 1603,
    "start_time": "2022-04-04T12:28:29.749Z"
   },
   {
    "duration": 272,
    "start_time": "2022-04-04T12:28:31.353Z"
   },
   {
    "duration": 75,
    "start_time": "2022-04-04T12:28:31.627Z"
   },
   {
    "duration": 374,
    "start_time": "2022-04-04T12:28:31.703Z"
   },
   {
    "duration": 4,
    "start_time": "2022-04-04T12:28:32.078Z"
   },
   {
    "duration": 357,
    "start_time": "2022-04-04T12:28:32.084Z"
   },
   {
    "duration": 0,
    "start_time": "2022-04-04T12:28:32.443Z"
   },
   {
    "duration": 0,
    "start_time": "2022-04-04T12:28:32.444Z"
   },
   {
    "duration": 0,
    "start_time": "2022-04-04T12:28:32.445Z"
   },
   {
    "duration": 232,
    "start_time": "2022-04-04T12:28:38.282Z"
   },
   {
    "duration": 146,
    "start_time": "2022-04-04T12:28:38.586Z"
   },
   {
    "duration": 36,
    "start_time": "2022-04-04T12:45:00.325Z"
   },
   {
    "duration": 33,
    "start_time": "2022-04-04T12:45:05.533Z"
   },
   {
    "duration": 5,
    "start_time": "2022-04-04T12:49:30.805Z"
   },
   {
    "duration": 4,
    "start_time": "2022-04-04T12:49:44.247Z"
   },
   {
    "duration": 5,
    "start_time": "2022-04-04T12:50:03.449Z"
   },
   {
    "duration": 13,
    "start_time": "2022-04-04T13:33:33.601Z"
   },
   {
    "duration": 26,
    "start_time": "2022-04-04T13:33:38.305Z"
   },
   {
    "duration": 218,
    "start_time": "2022-04-04T13:33:48.028Z"
   },
   {
    "duration": 1680,
    "start_time": "2022-04-04T13:36:27.569Z"
   },
   {
    "duration": 241,
    "start_time": "2022-04-04T13:36:29.251Z"
   },
   {
    "duration": 69,
    "start_time": "2022-04-04T13:36:29.494Z"
   },
   {
    "duration": 314,
    "start_time": "2022-04-04T13:36:29.565Z"
   },
   {
    "duration": 4,
    "start_time": "2022-04-04T13:36:29.881Z"
   },
   {
    "duration": 354,
    "start_time": "2022-04-04T13:36:29.886Z"
   },
   {
    "duration": 0,
    "start_time": "2022-04-04T13:36:30.242Z"
   },
   {
    "duration": 0,
    "start_time": "2022-04-04T13:36:30.243Z"
   },
   {
    "duration": 0,
    "start_time": "2022-04-04T13:36:30.244Z"
   },
   {
    "duration": 0,
    "start_time": "2022-04-04T13:36:30.245Z"
   },
   {
    "duration": 1,
    "start_time": "2022-04-04T13:36:30.246Z"
   },
   {
    "duration": 0,
    "start_time": "2022-04-04T13:36:30.247Z"
   },
   {
    "duration": 0,
    "start_time": "2022-04-04T13:36:30.248Z"
   },
   {
    "duration": 228,
    "start_time": "2022-04-04T13:38:18.839Z"
   },
   {
    "duration": 0,
    "start_time": "2022-04-04T13:38:19.069Z"
   },
   {
    "duration": 212,
    "start_time": "2022-04-04T13:38:21.378Z"
   },
   {
    "duration": 6,
    "start_time": "2022-04-04T13:38:26.798Z"
   },
   {
    "duration": 4,
    "start_time": "2022-04-04T13:39:02.720Z"
   },
   {
    "duration": 236,
    "start_time": "2022-04-04T13:39:03.120Z"
   },
   {
    "duration": 9,
    "start_time": "2022-04-04T13:39:04.440Z"
   },
   {
    "duration": 28,
    "start_time": "2022-04-04T13:39:59.781Z"
   },
   {
    "duration": 3,
    "start_time": "2022-04-04T13:40:04.162Z"
   },
   {
    "duration": 214,
    "start_time": "2022-04-04T13:40:04.836Z"
   },
   {
    "duration": 12,
    "start_time": "2022-04-04T13:40:05.407Z"
   },
   {
    "duration": 224,
    "start_time": "2022-04-04T13:40:15.940Z"
   },
   {
    "duration": 12,
    "start_time": "2022-04-04T13:40:16.296Z"
   },
   {
    "duration": 1815,
    "start_time": "2022-04-04T13:40:39.438Z"
   },
   {
    "duration": 277,
    "start_time": "2022-04-04T13:40:41.255Z"
   },
   {
    "duration": 78,
    "start_time": "2022-04-04T13:40:41.534Z"
   },
   {
    "duration": 338,
    "start_time": "2022-04-04T13:40:41.614Z"
   },
   {
    "duration": 4,
    "start_time": "2022-04-04T13:40:41.955Z"
   },
   {
    "duration": 392,
    "start_time": "2022-04-04T13:40:41.960Z"
   },
   {
    "duration": 0,
    "start_time": "2022-04-04T13:40:42.354Z"
   },
   {
    "duration": 0,
    "start_time": "2022-04-04T13:40:42.355Z"
   },
   {
    "duration": 0,
    "start_time": "2022-04-04T13:40:42.357Z"
   },
   {
    "duration": 0,
    "start_time": "2022-04-04T13:40:42.358Z"
   },
   {
    "duration": 0,
    "start_time": "2022-04-04T13:40:42.359Z"
   },
   {
    "duration": 0,
    "start_time": "2022-04-04T13:40:42.361Z"
   },
   {
    "duration": 0,
    "start_time": "2022-04-04T13:40:42.363Z"
   },
   {
    "duration": 237,
    "start_time": "2022-04-04T13:40:44.408Z"
   },
   {
    "duration": 169,
    "start_time": "2022-04-04T13:40:44.865Z"
   },
   {
    "duration": 5,
    "start_time": "2022-04-04T13:41:28.376Z"
   },
   {
    "duration": 5,
    "start_time": "2022-04-04T13:43:08.616Z"
   },
   {
    "duration": 4,
    "start_time": "2022-04-04T13:44:23.655Z"
   },
   {
    "duration": 2438,
    "start_time": "2022-04-05T11:58:17.269Z"
   },
   {
    "duration": 289,
    "start_time": "2022-04-05T11:58:19.710Z"
   },
   {
    "duration": 82,
    "start_time": "2022-04-05T11:58:20.001Z"
   },
   {
    "duration": 370,
    "start_time": "2022-04-05T11:58:20.086Z"
   },
   {
    "duration": 5,
    "start_time": "2022-04-05T11:58:20.458Z"
   },
   {
    "duration": 549,
    "start_time": "2022-04-05T11:58:20.468Z"
   },
   {
    "duration": 0,
    "start_time": "2022-04-05T11:58:21.019Z"
   },
   {
    "duration": 366,
    "start_time": "2022-04-05T11:58:23.932Z"
   },
   {
    "duration": 228,
    "start_time": "2022-04-05T11:58:28.455Z"
   },
   {
    "duration": 284,
    "start_time": "2022-04-05T12:11:23.213Z"
   },
   {
    "duration": 410,
    "start_time": "2022-04-05T12:14:14.225Z"
   },
   {
    "duration": 4,
    "start_time": "2022-04-05T12:15:07.643Z"
   },
   {
    "duration": 5,
    "start_time": "2022-04-05T12:17:03.196Z"
   },
   {
    "duration": 13,
    "start_time": "2022-04-05T12:17:24.454Z"
   },
   {
    "duration": 5,
    "start_time": "2022-04-05T12:17:35.353Z"
   },
   {
    "duration": 7,
    "start_time": "2022-04-05T12:17:35.733Z"
   },
   {
    "duration": 4,
    "start_time": "2022-04-05T12:18:34.891Z"
   },
   {
    "duration": 7,
    "start_time": "2022-04-05T12:18:35.779Z"
   },
   {
    "duration": 4,
    "start_time": "2022-04-05T12:18:41.417Z"
   },
   {
    "duration": 8,
    "start_time": "2022-04-05T12:18:41.732Z"
   },
   {
    "duration": 4,
    "start_time": "2022-04-05T12:18:47.127Z"
   },
   {
    "duration": 6,
    "start_time": "2022-04-05T12:18:47.426Z"
   },
   {
    "duration": 13,
    "start_time": "2022-04-05T12:19:31.051Z"
   },
   {
    "duration": 29,
    "start_time": "2022-04-05T12:19:40.116Z"
   },
   {
    "duration": 13,
    "start_time": "2022-04-05T12:20:21.965Z"
   },
   {
    "duration": 4,
    "start_time": "2022-04-05T12:20:22.718Z"
   },
   {
    "duration": 7,
    "start_time": "2022-04-05T12:20:23.287Z"
   },
   {
    "duration": 31,
    "start_time": "2022-04-05T12:20:23.896Z"
   },
   {
    "duration": 13,
    "start_time": "2022-04-05T12:20:30.222Z"
   },
   {
    "duration": 4,
    "start_time": "2022-04-05T12:20:30.456Z"
   },
   {
    "duration": 6,
    "start_time": "2022-04-05T12:20:31.390Z"
   },
   {
    "duration": 31,
    "start_time": "2022-04-05T12:20:32.012Z"
   },
   {
    "duration": 6,
    "start_time": "2022-04-05T12:20:53.516Z"
   },
   {
    "duration": 11,
    "start_time": "2022-04-05T12:26:21.972Z"
   },
   {
    "duration": 6,
    "start_time": "2022-04-05T12:26:23.814Z"
   },
   {
    "duration": 10,
    "start_time": "2022-04-05T12:26:24.060Z"
   },
   {
    "duration": 4,
    "start_time": "2022-04-05T12:26:39.053Z"
   },
   {
    "duration": 7,
    "start_time": "2022-04-05T12:26:41.253Z"
   },
   {
    "duration": 6,
    "start_time": "2022-04-05T12:27:10.494Z"
   },
   {
    "duration": 4,
    "start_time": "2022-04-05T12:28:07.564Z"
   },
   {
    "duration": 6,
    "start_time": "2022-04-05T12:28:08.215Z"
   },
   {
    "duration": 19,
    "start_time": "2022-04-05T12:28:16.053Z"
   },
   {
    "duration": 87,
    "start_time": "2022-04-05T12:29:10.813Z"
   },
   {
    "duration": 4,
    "start_time": "2022-04-05T12:29:30.805Z"
   },
   {
    "duration": 6,
    "start_time": "2022-04-05T12:29:30.995Z"
   },
   {
    "duration": 19,
    "start_time": "2022-04-05T12:29:31.169Z"
   },
   {
    "duration": 107,
    "start_time": "2022-04-05T12:30:30.176Z"
   },
   {
    "duration": 11,
    "start_time": "2022-04-05T12:30:43.005Z"
   },
   {
    "duration": 4,
    "start_time": "2022-04-05T12:30:43.495Z"
   },
   {
    "duration": 7,
    "start_time": "2022-04-05T12:30:43.844Z"
   },
   {
    "duration": 102,
    "start_time": "2022-04-05T12:30:44.275Z"
   },
   {
    "duration": 1982,
    "start_time": "2022-04-05T12:30:59.962Z"
   },
   {
    "duration": 295,
    "start_time": "2022-04-05T12:31:01.947Z"
   },
   {
    "duration": 77,
    "start_time": "2022-04-05T12:31:02.244Z"
   },
   {
    "duration": 388,
    "start_time": "2022-04-05T12:31:02.325Z"
   },
   {
    "duration": 5,
    "start_time": "2022-04-05T12:31:02.716Z"
   },
   {
    "duration": 552,
    "start_time": "2022-04-05T12:31:02.723Z"
   },
   {
    "duration": 0,
    "start_time": "2022-04-05T12:31:03.277Z"
   },
   {
    "duration": 0,
    "start_time": "2022-04-05T12:31:03.279Z"
   },
   {
    "duration": 0,
    "start_time": "2022-04-05T12:31:03.281Z"
   },
   {
    "duration": 0,
    "start_time": "2022-04-05T12:31:03.282Z"
   },
   {
    "duration": 0,
    "start_time": "2022-04-05T12:31:03.284Z"
   },
   {
    "duration": 0,
    "start_time": "2022-04-05T12:31:03.286Z"
   },
   {
    "duration": 12,
    "start_time": "2022-04-05T12:31:21.002Z"
   },
   {
    "duration": 28,
    "start_time": "2022-04-05T12:31:25.650Z"
   },
   {
    "duration": 20,
    "start_time": "2022-04-05T12:31:35.198Z"
   },
   {
    "duration": 12,
    "start_time": "2022-04-05T12:31:38.106Z"
   },
   {
    "duration": 20,
    "start_time": "2022-04-05T12:31:40.291Z"
   },
   {
    "duration": 351,
    "start_time": "2022-04-05T12:31:43.999Z"
   },
   {
    "duration": 228,
    "start_time": "2022-04-05T12:31:45.291Z"
   },
   {
    "duration": 12,
    "start_time": "2022-04-05T12:31:46.040Z"
   },
   {
    "duration": 4,
    "start_time": "2022-04-05T12:31:46.850Z"
   },
   {
    "duration": 7,
    "start_time": "2022-04-05T12:31:47.480Z"
   },
   {
    "duration": 110,
    "start_time": "2022-04-05T12:31:48.031Z"
   },
   {
    "duration": 28,
    "start_time": "2022-04-05T12:31:51.551Z"
   },
   {
    "duration": 1993,
    "start_time": "2022-04-05T12:33:04.338Z"
   },
   {
    "duration": 294,
    "start_time": "2022-04-05T12:33:06.334Z"
   },
   {
    "duration": 85,
    "start_time": "2022-04-05T12:33:06.630Z"
   },
   {
    "duration": 371,
    "start_time": "2022-04-05T12:33:06.717Z"
   },
   {
    "duration": 5,
    "start_time": "2022-04-05T12:33:07.090Z"
   },
   {
    "duration": 551,
    "start_time": "2022-04-05T12:33:07.097Z"
   },
   {
    "duration": 0,
    "start_time": "2022-04-05T12:33:07.650Z"
   },
   {
    "duration": 0,
    "start_time": "2022-04-05T12:33:07.652Z"
   },
   {
    "duration": 0,
    "start_time": "2022-04-05T12:33:07.653Z"
   },
   {
    "duration": 0,
    "start_time": "2022-04-05T12:33:07.655Z"
   },
   {
    "duration": 0,
    "start_time": "2022-04-05T12:33:07.668Z"
   },
   {
    "duration": 0,
    "start_time": "2022-04-05T12:33:07.669Z"
   },
   {
    "duration": 0,
    "start_time": "2022-04-05T12:33:07.671Z"
   },
   {
    "duration": 0,
    "start_time": "2022-04-05T12:33:07.672Z"
   },
   {
    "duration": 0,
    "start_time": "2022-04-05T12:33:07.673Z"
   },
   {
    "duration": 0,
    "start_time": "2022-04-05T12:33:07.675Z"
   },
   {
    "duration": 368,
    "start_time": "2022-04-05T12:33:11.080Z"
   },
   {
    "duration": 233,
    "start_time": "2022-04-05T12:33:11.752Z"
   },
   {
    "duration": 4,
    "start_time": "2022-04-05T12:33:12.220Z"
   },
   {
    "duration": 10,
    "start_time": "2022-04-05T12:33:13.438Z"
   },
   {
    "duration": 110,
    "start_time": "2022-04-05T12:33:13.951Z"
   },
   {
    "duration": 29,
    "start_time": "2022-04-05T12:33:14.634Z"
   },
   {
    "duration": 4,
    "start_time": "2022-04-05T12:33:25.599Z"
   },
   {
    "duration": 7,
    "start_time": "2022-04-05T12:33:25.850Z"
   },
   {
    "duration": 4,
    "start_time": "2022-04-05T12:34:03.232Z"
   },
   {
    "duration": 8,
    "start_time": "2022-04-05T12:34:03.940Z"
   },
   {
    "duration": 19,
    "start_time": "2022-04-05T12:34:39.090Z"
   },
   {
    "duration": 19,
    "start_time": "2022-04-05T12:34:50.331Z"
   },
   {
    "duration": 18,
    "start_time": "2022-04-05T12:34:54.344Z"
   },
   {
    "duration": 3,
    "start_time": "2022-04-05T12:36:12.768Z"
   },
   {
    "duration": 5,
    "start_time": "2022-04-05T12:36:31.291Z"
   },
   {
    "duration": 5,
    "start_time": "2022-04-05T12:36:36.801Z"
   },
   {
    "duration": 362,
    "start_time": "2022-04-05T12:36:37.011Z"
   },
   {
    "duration": 9,
    "start_time": "2022-04-05T12:36:41.320Z"
   },
   {
    "duration": 376,
    "start_time": "2022-04-05T12:39:40.791Z"
   },
   {
    "duration": 9,
    "start_time": "2022-04-05T12:39:44.051Z"
   },
   {
    "duration": 4,
    "start_time": "2022-04-05T12:39:46.530Z"
   },
   {
    "duration": 9,
    "start_time": "2022-04-05T12:39:46.830Z"
   },
   {
    "duration": 5,
    "start_time": "2022-04-05T12:39:48.269Z"
   },
   {
    "duration": 485,
    "start_time": "2022-04-05T12:39:48.559Z"
   },
   {
    "duration": 8,
    "start_time": "2022-04-05T12:39:49.419Z"
   },
   {
    "duration": 31,
    "start_time": "2022-04-05T12:40:12.542Z"
   },
   {
    "duration": 20,
    "start_time": "2022-04-05T12:40:19.330Z"
   },
   {
    "duration": 5,
    "start_time": "2022-04-05T12:41:16.440Z"
   },
   {
    "duration": 8,
    "start_time": "2022-04-05T12:41:16.758Z"
   },
   {
    "duration": 106,
    "start_time": "2022-04-05T12:41:17.413Z"
   },
   {
    "duration": 28,
    "start_time": "2022-04-05T12:41:31.741Z"
   },
   {
    "duration": 8,
    "start_time": "2022-04-05T12:42:04.710Z"
   },
   {
    "duration": 31,
    "start_time": "2022-04-05T12:42:23.124Z"
   },
   {
    "duration": 5,
    "start_time": "2022-04-05T12:44:43.461Z"
   },
   {
    "duration": 6,
    "start_time": "2022-04-05T12:44:45.424Z"
   },
   {
    "duration": 32,
    "start_time": "2022-04-05T12:44:50.177Z"
   },
   {
    "duration": 7,
    "start_time": "2022-04-05T12:44:56.713Z"
   },
   {
    "duration": 223,
    "start_time": "2022-04-05T12:45:05.407Z"
   },
   {
    "duration": 4,
    "start_time": "2022-04-05T12:45:15.176Z"
   },
   {
    "duration": 5,
    "start_time": "2022-04-05T12:45:18.568Z"
   },
   {
    "duration": 386,
    "start_time": "2022-04-05T12:45:30.264Z"
   },
   {
    "duration": 7,
    "start_time": "2022-04-05T12:45:34.519Z"
   },
   {
    "duration": 7,
    "start_time": "2022-04-05T12:45:48.426Z"
   },
   {
    "duration": 370,
    "start_time": "2022-04-05T12:45:50.329Z"
   },
   {
    "duration": 10,
    "start_time": "2022-04-05T12:45:50.807Z"
   },
   {
    "duration": 2034,
    "start_time": "2022-04-05T12:45:56.705Z"
   },
   {
    "duration": 346,
    "start_time": "2022-04-05T12:45:58.742Z"
   },
   {
    "duration": 83,
    "start_time": "2022-04-05T12:45:59.091Z"
   },
   {
    "duration": 385,
    "start_time": "2022-04-05T12:45:59.176Z"
   },
   {
    "duration": 8,
    "start_time": "2022-04-05T12:46:01.159Z"
   },
   {
    "duration": 292,
    "start_time": "2022-04-05T12:46:01.717Z"
   },
   {
    "duration": 86,
    "start_time": "2022-04-05T12:46:02.011Z"
   },
   {
    "duration": 404,
    "start_time": "2022-04-05T12:46:02.101Z"
   },
   {
    "duration": 6,
    "start_time": "2022-04-05T12:46:02.508Z"
   },
   {
    "duration": 536,
    "start_time": "2022-04-05T12:46:02.851Z"
   },
   {
    "duration": 367,
    "start_time": "2022-04-05T12:46:03.612Z"
   },
   {
    "duration": 229,
    "start_time": "2022-04-05T12:46:04.492Z"
   },
   {
    "duration": 5,
    "start_time": "2022-04-05T12:46:05.248Z"
   },
   {
    "duration": 9,
    "start_time": "2022-04-05T12:46:06.049Z"
   },
   {
    "duration": 7,
    "start_time": "2022-04-05T12:46:06.487Z"
   },
   {
    "duration": 3,
    "start_time": "2022-04-05T12:46:07.448Z"
   },
   {
    "duration": 5,
    "start_time": "2022-04-05T12:46:07.840Z"
   },
   {
    "duration": 361,
    "start_time": "2022-04-05T12:46:08.571Z"
   },
   {
    "duration": 8,
    "start_time": "2022-04-05T12:46:09.076Z"
   },
   {
    "duration": 5,
    "start_time": "2022-04-05T12:46:53.449Z"
   },
   {
    "duration": 5,
    "start_time": "2022-04-05T12:47:12.482Z"
   },
   {
    "duration": 565,
    "start_time": "2022-04-05T12:48:43.882Z"
   },
   {
    "duration": 5,
    "start_time": "2022-04-05T12:48:49.209Z"
   },
   {
    "duration": 609,
    "start_time": "2022-04-05T12:48:49.673Z"
   },
   {
    "duration": 398,
    "start_time": "2022-04-05T12:48:58.628Z"
   },
   {
    "duration": 450,
    "start_time": "2022-04-05T12:49:05.207Z"
   },
   {
    "duration": 5,
    "start_time": "2022-04-05T12:50:13.939Z"
   },
   {
    "duration": 11,
    "start_time": "2022-04-05T12:51:22.048Z"
   },
   {
    "duration": 7,
    "start_time": "2022-04-05T12:51:47.488Z"
   },
   {
    "duration": 11,
    "start_time": "2022-04-05T12:52:38.569Z"
   },
   {
    "duration": 4,
    "start_time": "2022-04-05T12:52:41.302Z"
   },
   {
    "duration": 11,
    "start_time": "2022-04-05T12:52:41.687Z"
   },
   {
    "duration": 20,
    "start_time": "2022-04-05T12:56:22.442Z"
   },
   {
    "duration": 6,
    "start_time": "2022-04-05T12:56:24.488Z"
   },
   {
    "duration": 11,
    "start_time": "2022-04-05T12:57:51.576Z"
   },
   {
    "duration": 5,
    "start_time": "2022-04-05T12:57:53.390Z"
   },
   {
    "duration": 8,
    "start_time": "2022-04-05T12:57:53.745Z"
   },
   {
    "duration": 9,
    "start_time": "2022-04-05T12:57:54.424Z"
   },
   {
    "duration": 12,
    "start_time": "2022-04-05T12:58:18.759Z"
   },
   {
    "duration": 5,
    "start_time": "2022-04-05T12:58:18.871Z"
   },
   {
    "duration": 7,
    "start_time": "2022-04-05T12:58:23.749Z"
   },
   {
    "duration": 7,
    "start_time": "2022-04-05T12:58:24.168Z"
   },
   {
    "duration": 1883,
    "start_time": "2022-04-05T12:58:41.087Z"
   },
   {
    "duration": 464,
    "start_time": "2022-04-05T12:58:42.973Z"
   },
   {
    "duration": 80,
    "start_time": "2022-04-05T12:58:43.440Z"
   },
   {
    "duration": 396,
    "start_time": "2022-04-05T12:58:43.523Z"
   },
   {
    "duration": 6,
    "start_time": "2022-04-05T12:58:43.921Z"
   },
   {
    "duration": 549,
    "start_time": "2022-04-05T12:58:43.930Z"
   },
   {
    "duration": 376,
    "start_time": "2022-04-05T12:58:44.644Z"
   },
   {
    "duration": 234,
    "start_time": "2022-04-05T12:58:45.301Z"
   },
   {
    "duration": 10,
    "start_time": "2022-04-05T12:58:45.772Z"
   },
   {
    "duration": 5,
    "start_time": "2022-04-05T12:58:46.256Z"
   },
   {
    "duration": 9,
    "start_time": "2022-04-05T12:58:46.515Z"
   },
   {
    "duration": 7,
    "start_time": "2022-04-05T12:58:46.955Z"
   },
   {
    "duration": 7,
    "start_time": "2022-04-05T12:58:51.969Z"
   },
   {
    "duration": 13,
    "start_time": "2022-04-05T12:59:48.761Z"
   },
   {
    "duration": 2042,
    "start_time": "2022-04-15T07:23:10.815Z"
   },
   {
    "duration": 319,
    "start_time": "2022-04-15T07:23:12.860Z"
   },
   {
    "duration": 87,
    "start_time": "2022-04-15T07:23:13.181Z"
   },
   {
    "duration": 415,
    "start_time": "2022-04-15T07:23:13.270Z"
   },
   {
    "duration": 4,
    "start_time": "2022-04-15T07:23:13.687Z"
   },
   {
    "duration": 350,
    "start_time": "2022-04-15T07:23:13.693Z"
   },
   {
    "duration": 0,
    "start_time": "2022-04-15T07:23:14.044Z"
   },
   {
    "duration": 0,
    "start_time": "2022-04-15T07:23:14.045Z"
   },
   {
    "duration": 226,
    "start_time": "2022-04-15T07:23:16.702Z"
   },
   {
    "duration": 167,
    "start_time": "2022-04-15T07:23:17.382Z"
   },
   {
    "duration": 9,
    "start_time": "2022-04-15T07:23:18.079Z"
   },
   {
    "duration": 4,
    "start_time": "2022-04-15T07:23:18.502Z"
   },
   {
    "duration": 8,
    "start_time": "2022-04-15T07:23:18.887Z"
   },
   {
    "duration": 5,
    "start_time": "2022-04-15T07:23:19.608Z"
   },
   {
    "duration": 4,
    "start_time": "2022-04-15T07:23:20.123Z"
   },
   {
    "duration": 10,
    "start_time": "2022-04-15T07:29:57.276Z"
   },
   {
    "duration": 16,
    "start_time": "2022-04-15T07:36:54.991Z"
   },
   {
    "duration": 9,
    "start_time": "2022-04-15T07:39:44.274Z"
   },
   {
    "duration": 259,
    "start_time": "2022-04-15T07:43:23.772Z"
   },
   {
    "duration": 13,
    "start_time": "2022-04-15T07:50:32.088Z"
   },
   {
    "duration": 205,
    "start_time": "2022-04-15T07:50:42.760Z"
   },
   {
    "duration": 187,
    "start_time": "2022-04-15T07:51:06.753Z"
   },
   {
    "duration": 4,
    "start_time": "2022-04-15T07:52:01.239Z"
   },
   {
    "duration": 11,
    "start_time": "2022-04-15T07:53:56.751Z"
   },
   {
    "duration": 4,
    "start_time": "2022-04-15T07:53:58.937Z"
   },
   {
    "duration": 9,
    "start_time": "2022-04-15T07:53:59.312Z"
   },
   {
    "duration": 3,
    "start_time": "2022-04-15T07:54:14.412Z"
   },
   {
    "duration": 546,
    "start_time": "2022-04-15T07:54:15.481Z"
   },
   {
    "duration": 4,
    "start_time": "2022-04-15T07:54:51.746Z"
   },
   {
    "duration": 716,
    "start_time": "2022-04-15T07:54:52.147Z"
   },
   {
    "duration": 337,
    "start_time": "2022-04-15T07:56:55.855Z"
   },
   {
    "duration": 918,
    "start_time": "2022-04-15T07:57:31.366Z"
   },
   {
    "duration": 355,
    "start_time": "2022-04-15T07:58:12.221Z"
   },
   {
    "duration": 294,
    "start_time": "2022-04-15T07:59:06.438Z"
   },
   {
    "duration": 272,
    "start_time": "2022-04-15T07:59:42.641Z"
   },
   {
    "duration": 17,
    "start_time": "2022-04-15T08:02:26.938Z"
   },
   {
    "duration": 659,
    "start_time": "2022-04-15T08:02:45.023Z"
   },
   {
    "duration": 1760,
    "start_time": "2022-04-15T08:02:52.099Z"
   },
   {
    "duration": 1830,
    "start_time": "2022-04-15T08:03:14.112Z"
   },
   {
    "duration": 1423,
    "start_time": "2022-04-15T08:03:24.867Z"
   },
   {
    "duration": 219,
    "start_time": "2022-04-15T08:03:27.345Z"
   },
   {
    "duration": 62,
    "start_time": "2022-04-15T08:03:27.565Z"
   },
   {
    "duration": 293,
    "start_time": "2022-04-15T08:03:27.762Z"
   },
   {
    "duration": 5,
    "start_time": "2022-04-15T08:03:28.057Z"
   },
   {
    "duration": 359,
    "start_time": "2022-04-15T08:03:28.150Z"
   },
   {
    "duration": 237,
    "start_time": "2022-04-15T08:03:29.126Z"
   },
   {
    "duration": 158,
    "start_time": "2022-04-15T08:03:29.940Z"
   },
   {
    "duration": 9,
    "start_time": "2022-04-15T08:03:30.915Z"
   },
   {
    "duration": 3,
    "start_time": "2022-04-15T08:03:31.295Z"
   },
   {
    "duration": 8,
    "start_time": "2022-04-15T08:03:31.606Z"
   },
   {
    "duration": 5,
    "start_time": "2022-04-15T08:03:31.850Z"
   },
   {
    "duration": 4,
    "start_time": "2022-04-15T08:03:32.288Z"
   },
   {
    "duration": 8,
    "start_time": "2022-04-15T08:03:33.370Z"
   },
   {
    "duration": 2,
    "start_time": "2022-04-15T08:03:33.968Z"
   },
   {
    "duration": 1940,
    "start_time": "2022-04-15T08:03:34.534Z"
   },
   {
    "duration": 2920,
    "start_time": "2022-04-15T08:05:33.258Z"
   },
   {
    "duration": 2098,
    "start_time": "2022-04-15T08:05:41.810Z"
   },
   {
    "duration": 2078,
    "start_time": "2022-04-15T08:06:47.302Z"
   },
   {
    "duration": 2021,
    "start_time": "2022-04-15T08:06:55.063Z"
   },
   {
    "duration": 4,
    "start_time": "2022-04-15T08:07:43.939Z"
   },
   {
    "duration": 516,
    "start_time": "2022-04-15T08:07:44.909Z"
   },
   {
    "duration": 10,
    "start_time": "2022-04-15T08:09:57.621Z"
   },
   {
    "duration": 9,
    "start_time": "2022-04-15T08:10:05.308Z"
   },
   {
    "duration": 6,
    "start_time": "2022-04-15T08:10:08.062Z"
   },
   {
    "duration": 493,
    "start_time": "2022-04-15T08:10:08.569Z"
   },
   {
    "duration": 4,
    "start_time": "2022-04-15T08:10:20.138Z"
   },
   {
    "duration": 729,
    "start_time": "2022-04-15T08:10:20.446Z"
   },
   {
    "duration": 4,
    "start_time": "2022-04-15T08:20:09.795Z"
   },
   {
    "duration": 519,
    "start_time": "2022-04-15T08:20:10.408Z"
   },
   {
    "duration": 676,
    "start_time": "2022-04-15T08:20:50.479Z"
   },
   {
    "duration": 667,
    "start_time": "2022-04-15T08:22:57.898Z"
   },
   {
    "duration": 536,
    "start_time": "2022-04-15T08:23:30.574Z"
   },
   {
    "duration": 5,
    "start_time": "2022-04-15T08:29:59.289Z"
   },
   {
    "duration": 728,
    "start_time": "2022-04-15T08:29:59.579Z"
   },
   {
    "duration": 142,
    "start_time": "2022-04-15T08:30:37.172Z"
   },
   {
    "duration": 6,
    "start_time": "2022-04-15T08:30:53.060Z"
   },
   {
    "duration": 140,
    "start_time": "2022-04-15T08:31:41.570Z"
   },
   {
    "duration": 4,
    "start_time": "2022-04-15T08:31:57.150Z"
   },
   {
    "duration": 529,
    "start_time": "2022-04-15T08:31:59.189Z"
   },
   {
    "duration": 6,
    "start_time": "2022-04-15T08:33:01.130Z"
   },
   {
    "duration": 711,
    "start_time": "2022-04-15T08:33:02.358Z"
   },
   {
    "duration": 168,
    "start_time": "2022-04-15T08:33:24.402Z"
   },
   {
    "duration": 5,
    "start_time": "2022-04-15T08:33:31.719Z"
   },
   {
    "duration": 535,
    "start_time": "2022-04-15T08:33:32.470Z"
   },
   {
    "duration": 5,
    "start_time": "2022-04-15T08:33:59.030Z"
   },
   {
    "duration": 919,
    "start_time": "2022-04-15T08:34:00.478Z"
   },
   {
    "duration": 4,
    "start_time": "2022-04-15T08:37:11.540Z"
   },
   {
    "duration": 789,
    "start_time": "2022-04-15T08:37:12.289Z"
   },
   {
    "duration": 527,
    "start_time": "2022-04-15T08:37:36.149Z"
   },
   {
    "duration": 690,
    "start_time": "2022-04-15T08:37:37.649Z"
   },
   {
    "duration": 559,
    "start_time": "2022-04-15T08:44:52.248Z"
   },
   {
    "duration": 623,
    "start_time": "2022-04-15T08:44:56.518Z"
   },
   {
    "duration": 516,
    "start_time": "2022-04-15T08:44:57.670Z"
   },
   {
    "duration": 232,
    "start_time": "2022-04-15T08:47:40.387Z"
   },
   {
    "duration": 3,
    "start_time": "2022-04-15T08:50:58.660Z"
   },
   {
    "duration": 316,
    "start_time": "2022-04-15T08:51:55.048Z"
   },
   {
    "duration": 591,
    "start_time": "2022-04-15T08:52:04.330Z"
   },
   {
    "duration": 282,
    "start_time": "2022-04-15T08:52:14.409Z"
   },
   {
    "duration": 247,
    "start_time": "2022-04-15T08:52:19.873Z"
   },
   {
    "duration": 12,
    "start_time": "2022-04-15T08:53:23.080Z"
   },
   {
    "duration": 515,
    "start_time": "2022-04-15T08:53:31.043Z"
   },
   {
    "duration": 356,
    "start_time": "2022-04-15T08:53:48.572Z"
   },
   {
    "duration": 380,
    "start_time": "2022-04-15T08:53:59.813Z"
   },
   {
    "duration": 157,
    "start_time": "2022-04-15T08:55:04.090Z"
   },
   {
    "duration": 848,
    "start_time": "2022-04-15T08:55:29.751Z"
   },
   {
    "duration": 369,
    "start_time": "2022-04-15T08:55:44.028Z"
   },
   {
    "duration": 414,
    "start_time": "2022-04-15T09:00:16.603Z"
   },
   {
    "duration": 214,
    "start_time": "2022-04-15T09:11:47.504Z"
   },
   {
    "duration": 804,
    "start_time": "2022-04-15T09:12:56.657Z"
   },
   {
    "duration": 573,
    "start_time": "2022-04-15T09:13:12.391Z"
   },
   {
    "duration": 114,
    "start_time": "2022-04-15T09:16:07.347Z"
   },
   {
    "duration": 183,
    "start_time": "2022-04-15T09:16:22.831Z"
   },
   {
    "duration": 789,
    "start_time": "2022-04-15T09:16:26.553Z"
   },
   {
    "duration": 278,
    "start_time": "2022-04-15T09:18:50.958Z"
   },
   {
    "duration": 254,
    "start_time": "2022-04-15T09:19:01.573Z"
   },
   {
    "duration": 252,
    "start_time": "2022-04-15T09:19:39.141Z"
   },
   {
    "duration": 243,
    "start_time": "2022-04-15T09:21:09.320Z"
   },
   {
    "duration": 182,
    "start_time": "2022-04-15T09:21:36.367Z"
   },
   {
    "duration": 1175,
    "start_time": "2022-04-15T09:22:39.678Z"
   },
   {
    "duration": 11,
    "start_time": "2022-04-15T09:23:03.345Z"
   },
   {
    "duration": 465,
    "start_time": "2022-04-15T09:23:51.845Z"
   },
   {
    "duration": 554,
    "start_time": "2022-04-15T09:26:06.971Z"
   },
   {
    "duration": 535,
    "start_time": "2022-04-15T09:26:13.101Z"
   },
   {
    "duration": 664,
    "start_time": "2022-04-15T09:26:31.682Z"
   },
   {
    "duration": 570,
    "start_time": "2022-04-15T09:26:39.574Z"
   },
   {
    "duration": 668,
    "start_time": "2022-04-15T09:26:58.383Z"
   },
   {
    "duration": 594,
    "start_time": "2022-04-15T09:27:04.385Z"
   },
   {
    "duration": 596,
    "start_time": "2022-04-15T09:27:47.467Z"
   },
   {
    "duration": 738,
    "start_time": "2022-04-15T09:28:05.691Z"
   },
   {
    "duration": 635,
    "start_time": "2022-04-15T09:28:12.000Z"
   },
   {
    "duration": 499,
    "start_time": "2022-04-15T09:28:36.244Z"
   },
   {
    "duration": 479,
    "start_time": "2022-04-15T09:28:40.539Z"
   },
   {
    "duration": 521,
    "start_time": "2022-04-15T09:29:16.590Z"
   },
   {
    "duration": 486,
    "start_time": "2022-04-15T09:29:49.847Z"
   },
   {
    "duration": 629,
    "start_time": "2022-04-15T09:29:58.291Z"
   },
   {
    "duration": 467,
    "start_time": "2022-04-15T09:30:33.631Z"
   },
   {
    "duration": 460,
    "start_time": "2022-04-15T09:31:34.445Z"
   },
   {
    "duration": 479,
    "start_time": "2022-04-15T09:32:02.931Z"
   },
   {
    "duration": 514,
    "start_time": "2022-04-15T09:32:10.569Z"
   },
   {
    "duration": 513,
    "start_time": "2022-04-15T09:32:41.580Z"
   },
   {
    "duration": 5,
    "start_time": "2022-04-15T09:34:28.706Z"
   },
   {
    "duration": 5,
    "start_time": "2022-04-15T09:34:36.996Z"
   },
   {
    "duration": 370,
    "start_time": "2022-04-15T09:34:38.980Z"
   },
   {
    "duration": 5,
    "start_time": "2022-04-15T09:34:48.389Z"
   },
   {
    "duration": 598,
    "start_time": "2022-04-15T09:34:49.752Z"
   },
   {
    "duration": 801,
    "start_time": "2022-04-15T09:34:54.970Z"
   },
   {
    "duration": 544,
    "start_time": "2022-04-15T09:34:56.032Z"
   },
   {
    "duration": 1420,
    "start_time": "2022-04-15T09:35:12.752Z"
   },
   {
    "duration": 220,
    "start_time": "2022-04-15T09:35:14.175Z"
   },
   {
    "duration": 61,
    "start_time": "2022-04-15T09:35:14.397Z"
   },
   {
    "duration": 283,
    "start_time": "2022-04-15T09:35:14.460Z"
   },
   {
    "duration": 4,
    "start_time": "2022-04-15T09:35:14.746Z"
   },
   {
    "duration": 368,
    "start_time": "2022-04-15T09:35:14.752Z"
   },
   {
    "duration": 0,
    "start_time": "2022-04-15T09:35:15.124Z"
   },
   {
    "duration": 0,
    "start_time": "2022-04-15T09:35:15.125Z"
   },
   {
    "duration": 0,
    "start_time": "2022-04-15T09:35:15.127Z"
   },
   {
    "duration": 0,
    "start_time": "2022-04-15T09:35:15.128Z"
   },
   {
    "duration": 0,
    "start_time": "2022-04-15T09:35:15.129Z"
   },
   {
    "duration": 0,
    "start_time": "2022-04-15T09:35:15.130Z"
   },
   {
    "duration": 0,
    "start_time": "2022-04-15T09:35:15.132Z"
   },
   {
    "duration": 0,
    "start_time": "2022-04-15T09:35:15.133Z"
   },
   {
    "duration": 0,
    "start_time": "2022-04-15T09:35:15.134Z"
   },
   {
    "duration": 0,
    "start_time": "2022-04-15T09:35:15.135Z"
   },
   {
    "duration": 0,
    "start_time": "2022-04-15T09:35:15.137Z"
   },
   {
    "duration": 0,
    "start_time": "2022-04-15T09:35:15.138Z"
   },
   {
    "duration": 332,
    "start_time": "2022-04-15T09:35:19.178Z"
   },
   {
    "duration": 210,
    "start_time": "2022-04-15T09:35:20.076Z"
   },
   {
    "duration": 9,
    "start_time": "2022-04-15T09:35:20.773Z"
   },
   {
    "duration": 2,
    "start_time": "2022-04-15T09:35:21.436Z"
   },
   {
    "duration": 8,
    "start_time": "2022-04-15T09:35:21.790Z"
   },
   {
    "duration": 5,
    "start_time": "2022-04-15T09:35:22.051Z"
   },
   {
    "duration": 5,
    "start_time": "2022-04-15T09:35:22.306Z"
   },
   {
    "duration": 5,
    "start_time": "2022-04-15T09:35:23.513Z"
   },
   {
    "duration": 576,
    "start_time": "2022-04-15T09:35:23.903Z"
   },
   {
    "duration": 511,
    "start_time": "2022-04-15T09:35:24.482Z"
   },
   {
    "duration": 484,
    "start_time": "2022-04-15T09:35:24.996Z"
   },
   {
    "duration": 618,
    "start_time": "2022-04-15T09:35:29.557Z"
   },
   {
    "duration": 4,
    "start_time": "2022-04-15T09:39:57.075Z"
   },
   {
    "duration": 5,
    "start_time": "2022-04-15T09:40:12.868Z"
   },
   {
    "duration": 1511,
    "start_time": "2022-04-15T09:40:13.243Z"
   },
   {
    "duration": 6,
    "start_time": "2022-04-15T09:40:25.524Z"
   },
   {
    "duration": 1597,
    "start_time": "2022-04-15T09:40:26.985Z"
   },
   {
    "duration": 6,
    "start_time": "2022-04-15T09:41:22.641Z"
   },
   {
    "duration": 1242,
    "start_time": "2022-04-15T09:41:23.403Z"
   },
   {
    "duration": 4,
    "start_time": "2022-04-15T09:42:06.418Z"
   },
   {
    "duration": 1355,
    "start_time": "2022-04-15T09:42:07.448Z"
   },
   {
    "duration": 4,
    "start_time": "2022-04-15T09:42:49.876Z"
   },
   {
    "duration": 1318,
    "start_time": "2022-04-15T09:42:50.229Z"
   },
   {
    "duration": 4,
    "start_time": "2022-04-15T09:45:28.833Z"
   },
   {
    "duration": 1228,
    "start_time": "2022-04-15T09:45:29.589Z"
   },
   {
    "duration": 5,
    "start_time": "2022-04-15T09:45:47.957Z"
   },
   {
    "duration": 1481,
    "start_time": "2022-04-15T09:45:48.349Z"
   },
   {
    "duration": 5,
    "start_time": "2022-04-15T09:46:20.883Z"
   },
   {
    "duration": 1299,
    "start_time": "2022-04-15T09:46:21.524Z"
   },
   {
    "duration": 4,
    "start_time": "2022-04-15T09:47:07.616Z"
   },
   {
    "duration": 1268,
    "start_time": "2022-04-15T09:47:11.742Z"
   },
   {
    "duration": 1184,
    "start_time": "2022-04-15T09:47:13.443Z"
   },
   {
    "duration": 1419,
    "start_time": "2022-04-15T09:47:15.211Z"
   },
   {
    "duration": 528,
    "start_time": "2022-04-15T09:47:17.260Z"
   },
   {
    "duration": 1475,
    "start_time": "2022-04-15T10:09:07.587Z"
   },
   {
    "duration": 222,
    "start_time": "2022-04-15T10:09:09.064Z"
   },
   {
    "duration": 64,
    "start_time": "2022-04-15T10:09:09.288Z"
   },
   {
    "duration": 286,
    "start_time": "2022-04-15T10:09:09.354Z"
   },
   {
    "duration": 4,
    "start_time": "2022-04-15T10:09:09.641Z"
   },
   {
    "duration": 345,
    "start_time": "2022-04-15T10:09:09.800Z"
   },
   {
    "duration": 235,
    "start_time": "2022-04-15T10:09:10.606Z"
   },
   {
    "duration": 144,
    "start_time": "2022-04-15T10:09:11.705Z"
   },
   {
    "duration": 9,
    "start_time": "2022-04-15T10:09:12.722Z"
   },
   {
    "duration": 3,
    "start_time": "2022-04-15T10:09:13.046Z"
   },
   {
    "duration": 7,
    "start_time": "2022-04-15T10:09:13.272Z"
   },
   {
    "duration": 5,
    "start_time": "2022-04-15T10:09:13.483Z"
   },
   {
    "duration": 4,
    "start_time": "2022-04-15T10:09:13.680Z"
   },
   {
    "duration": 4,
    "start_time": "2022-04-15T10:09:14.749Z"
   },
   {
    "duration": 1452,
    "start_time": "2022-04-15T10:09:15.288Z"
   },
   {
    "duration": 1587,
    "start_time": "2022-04-15T10:09:17.447Z"
   },
   {
    "duration": 1520,
    "start_time": "2022-04-15T10:09:19.036Z"
   },
   {
    "duration": 514,
    "start_time": "2022-04-15T10:09:21.578Z"
   },
   {
    "duration": 126,
    "start_time": "2022-04-15T10:10:11.292Z"
   },
   {
    "duration": 503,
    "start_time": "2022-04-15T10:10:27.774Z"
   },
   {
    "duration": 325,
    "start_time": "2022-04-15T10:12:56.331Z"
   },
   {
    "duration": 3,
    "start_time": "2022-04-15T10:13:15.012Z"
   },
   {
    "duration": 227,
    "start_time": "2022-04-15T10:13:15.427Z"
   },
   {
    "duration": 234,
    "start_time": "2022-04-15T10:13:16.118Z"
   },
   {
    "duration": 150,
    "start_time": "2022-04-15T10:13:16.717Z"
   },
   {
    "duration": 3,
    "start_time": "2022-04-15T10:13:28.454Z"
   },
   {
    "duration": 323,
    "start_time": "2022-04-15T10:13:28.822Z"
   },
   {
    "duration": 331,
    "start_time": "2022-04-15T10:13:32.015Z"
   },
   {
    "duration": 145,
    "start_time": "2022-04-15T10:13:33.331Z"
   },
   {
    "duration": 5,
    "start_time": "2022-04-15T10:27:13.211Z"
   },
   {
    "duration": 9,
    "start_time": "2022-04-15T10:27:14.569Z"
   },
   {
    "duration": 3906,
    "start_time": "2022-04-15T10:27:23.223Z"
   },
   {
    "duration": 5,
    "start_time": "2022-04-15T10:27:28.942Z"
   },
   {
    "duration": 3813,
    "start_time": "2022-04-15T10:27:29.243Z"
   },
   {
    "duration": 3709,
    "start_time": "2022-04-15T10:27:37.706Z"
   },
   {
    "duration": 3678,
    "start_time": "2022-04-15T10:27:41.679Z"
   },
   {
    "duration": 10,
    "start_time": "2022-04-15T10:27:45.359Z"
   },
   {
    "duration": 1415,
    "start_time": "2022-04-15T10:28:38.413Z"
   },
   {
    "duration": 3,
    "start_time": "2022-04-15T10:44:51.779Z"
   },
   {
    "duration": 3,
    "start_time": "2022-04-15T10:44:51.976Z"
   },
   {
    "duration": 9,
    "start_time": "2022-04-15T10:45:05.648Z"
   },
   {
    "duration": 3,
    "start_time": "2022-04-15T10:45:35.653Z"
   },
   {
    "duration": 3,
    "start_time": "2022-04-15T10:45:36.193Z"
   },
   {
    "duration": 5,
    "start_time": "2022-04-15T10:45:40.998Z"
   },
   {
    "duration": 3,
    "start_time": "2022-04-15T10:45:49.008Z"
   },
   {
    "duration": 3,
    "start_time": "2022-04-15T10:45:49.198Z"
   },
   {
    "duration": 3,
    "start_time": "2022-04-15T10:45:49.382Z"
   },
   {
    "duration": 3,
    "start_time": "2022-04-15T10:45:49.570Z"
   },
   {
    "duration": 4,
    "start_time": "2022-04-15T10:45:49.923Z"
   },
   {
    "duration": 3,
    "start_time": "2022-04-15T10:46:18.910Z"
   },
   {
    "duration": 2,
    "start_time": "2022-04-15T10:46:19.096Z"
   },
   {
    "duration": 3,
    "start_time": "2022-04-15T10:48:18.569Z"
   },
   {
    "duration": 3,
    "start_time": "2022-04-15T10:48:18.758Z"
   },
   {
    "duration": 3,
    "start_time": "2022-04-15T10:50:13.367Z"
   },
   {
    "duration": 10,
    "start_time": "2022-04-15T10:50:19.004Z"
   },
   {
    "duration": 5,
    "start_time": "2022-04-15T10:50:45.324Z"
   },
   {
    "duration": 2,
    "start_time": "2022-04-15T10:50:53.377Z"
   },
   {
    "duration": 3,
    "start_time": "2022-04-15T10:51:06.207Z"
   },
   {
    "duration": 4,
    "start_time": "2022-04-15T10:51:22.288Z"
   },
   {
    "duration": 9,
    "start_time": "2022-04-15T10:51:34.827Z"
   },
   {
    "duration": 6,
    "start_time": "2022-04-15T10:52:29.455Z"
   },
   {
    "duration": 3,
    "start_time": "2022-04-15T10:52:30.421Z"
   },
   {
    "duration": 3,
    "start_time": "2022-04-15T10:52:30.604Z"
   },
   {
    "duration": 4,
    "start_time": "2022-04-15T10:52:30.796Z"
   },
   {
    "duration": 3,
    "start_time": "2022-04-15T10:52:30.989Z"
   },
   {
    "duration": 4,
    "start_time": "2022-04-15T10:52:31.393Z"
   },
   {
    "duration": 5,
    "start_time": "2022-04-15T10:52:31.908Z"
   },
   {
    "duration": 1096,
    "start_time": "2022-04-15T10:52:32.702Z"
   },
   {
    "duration": 1512,
    "start_time": "2022-04-15T10:53:09.803Z"
   },
   {
    "duration": 342,
    "start_time": "2022-04-15T10:53:11.317Z"
   },
   {
    "duration": 89,
    "start_time": "2022-04-15T10:53:11.661Z"
   },
   {
    "duration": 446,
    "start_time": "2022-04-15T10:53:11.752Z"
   },
   {
    "duration": 6,
    "start_time": "2022-04-15T10:53:12.200Z"
   },
   {
    "duration": 517,
    "start_time": "2022-04-15T10:53:12.207Z"
   },
   {
    "duration": 489,
    "start_time": "2022-04-15T10:53:12.726Z"
   },
   {
    "duration": 161,
    "start_time": "2022-04-15T10:53:13.217Z"
   },
   {
    "duration": 8,
    "start_time": "2022-04-15T10:53:13.380Z"
   },
   {
    "duration": 15,
    "start_time": "2022-04-15T10:53:13.391Z"
   },
   {
    "duration": 15,
    "start_time": "2022-04-15T10:53:13.408Z"
   },
   {
    "duration": 22,
    "start_time": "2022-04-15T10:53:13.426Z"
   },
   {
    "duration": 20,
    "start_time": "2022-04-15T10:53:13.451Z"
   },
   {
    "duration": 8,
    "start_time": "2022-04-15T10:53:13.473Z"
   },
   {
    "duration": 1252,
    "start_time": "2022-04-15T10:53:13.483Z"
   },
   {
    "duration": 1196,
    "start_time": "2022-04-15T10:53:14.737Z"
   },
   {
    "duration": 1653,
    "start_time": "2022-04-15T10:53:15.935Z"
   },
   {
    "duration": 478,
    "start_time": "2022-04-15T10:53:17.589Z"
   },
   {
    "duration": 5,
    "start_time": "2022-04-15T10:53:18.069Z"
   },
   {
    "duration": 6268,
    "start_time": "2022-04-15T10:53:18.076Z"
   },
   {
    "duration": 10,
    "start_time": "2022-04-15T10:53:24.346Z"
   },
   {
    "duration": 1354,
    "start_time": "2022-04-15T10:53:24.358Z"
   },
   {
    "duration": 6,
    "start_time": "2022-04-15T10:53:25.714Z"
   },
   {
    "duration": 3,
    "start_time": "2022-04-15T10:53:25.724Z"
   },
   {
    "duration": 12,
    "start_time": "2022-04-15T10:53:25.729Z"
   },
   {
    "duration": 106,
    "start_time": "2022-04-15T10:53:25.742Z"
   },
   {
    "duration": 1465,
    "start_time": "2022-04-15T10:53:39.619Z"
   },
   {
    "duration": 218,
    "start_time": "2022-04-15T10:53:41.086Z"
   },
   {
    "duration": 60,
    "start_time": "2022-04-15T10:53:41.305Z"
   },
   {
    "duration": 387,
    "start_time": "2022-04-15T10:53:41.367Z"
   },
   {
    "duration": 4,
    "start_time": "2022-04-15T10:53:41.755Z"
   },
   {
    "duration": 327,
    "start_time": "2022-04-15T10:53:41.760Z"
   },
   {
    "duration": 344,
    "start_time": "2022-04-15T10:53:42.089Z"
   },
   {
    "duration": 150,
    "start_time": "2022-04-15T10:53:42.434Z"
   },
   {
    "duration": 8,
    "start_time": "2022-04-15T10:53:42.586Z"
   },
   {
    "duration": 2,
    "start_time": "2022-04-15T10:53:42.597Z"
   },
   {
    "duration": 27,
    "start_time": "2022-04-15T10:53:42.601Z"
   },
   {
    "duration": 5,
    "start_time": "2022-04-15T10:53:42.629Z"
   },
   {
    "duration": 6,
    "start_time": "2022-04-15T10:53:42.635Z"
   },
   {
    "duration": 4,
    "start_time": "2022-04-15T10:53:42.642Z"
   },
   {
    "duration": 1297,
    "start_time": "2022-04-15T10:53:42.648Z"
   },
   {
    "duration": 1286,
    "start_time": "2022-04-15T10:53:43.947Z"
   },
   {
    "duration": 1262,
    "start_time": "2022-04-15T10:53:45.235Z"
   },
   {
    "duration": 491,
    "start_time": "2022-04-15T10:53:46.498Z"
   },
   {
    "duration": 5,
    "start_time": "2022-04-15T10:53:46.990Z"
   },
   {
    "duration": 3793,
    "start_time": "2022-04-15T10:53:46.997Z"
   },
   {
    "duration": 11,
    "start_time": "2022-04-15T10:53:50.792Z"
   },
   {
    "duration": 1294,
    "start_time": "2022-04-15T10:53:50.805Z"
   },
   {
    "duration": 4,
    "start_time": "2022-04-15T10:53:52.100Z"
   },
   {
    "duration": 4,
    "start_time": "2022-04-15T10:53:52.106Z"
   },
   {
    "duration": 3,
    "start_time": "2022-04-15T10:55:45.042Z"
   },
   {
    "duration": 8,
    "start_time": "2022-04-15T10:56:08.445Z"
   },
   {
    "duration": 3,
    "start_time": "2022-04-15T10:56:18.885Z"
   },
   {
    "duration": 3,
    "start_time": "2022-04-15T10:56:19.302Z"
   },
   {
    "duration": 3,
    "start_time": "2022-04-15T10:56:19.515Z"
   },
   {
    "duration": 9,
    "start_time": "2022-04-15T10:56:19.840Z"
   },
   {
    "duration": 7,
    "start_time": "2022-04-15T10:57:18.909Z"
   },
   {
    "duration": 11,
    "start_time": "2022-04-15T10:57:31.372Z"
   },
   {
    "duration": 18,
    "start_time": "2022-04-15T10:58:04.832Z"
   },
   {
    "duration": 10,
    "start_time": "2022-04-15T10:58:11.025Z"
   },
   {
    "duration": 159,
    "start_time": "2022-04-15T10:59:01.120Z"
   },
   {
    "duration": 6,
    "start_time": "2022-04-15T10:59:18.618Z"
   },
   {
    "duration": 18,
    "start_time": "2022-04-15T10:59:21.707Z"
   },
   {
    "duration": 8,
    "start_time": "2022-04-15T10:59:22.074Z"
   },
   {
    "duration": 3,
    "start_time": "2022-04-15T10:59:45.832Z"
   },
   {
    "duration": 3,
    "start_time": "2022-04-15T10:59:49.461Z"
   },
   {
    "duration": 3,
    "start_time": "2022-04-15T10:59:49.665Z"
   },
   {
    "duration": 10,
    "start_time": "2022-04-15T10:59:49.823Z"
   },
   {
    "duration": 17,
    "start_time": "2022-04-15T10:59:50.000Z"
   },
   {
    "duration": 3,
    "start_time": "2022-04-15T10:59:50.727Z"
   },
   {
    "duration": 64,
    "start_time": "2022-04-15T10:59:58.534Z"
   },
   {
    "duration": 1537,
    "start_time": "2022-04-15T11:00:56.774Z"
   },
   {
    "duration": 246,
    "start_time": "2022-04-15T11:00:58.313Z"
   },
   {
    "duration": 61,
    "start_time": "2022-04-15T11:00:58.561Z"
   },
   {
    "duration": 322,
    "start_time": "2022-04-15T11:00:58.624Z"
   },
   {
    "duration": 4,
    "start_time": "2022-04-15T11:00:58.948Z"
   },
   {
    "duration": 370,
    "start_time": "2022-04-15T11:00:58.954Z"
   },
   {
    "duration": 487,
    "start_time": "2022-04-15T11:00:59.328Z"
   },
   {
    "duration": 228,
    "start_time": "2022-04-15T11:00:59.817Z"
   },
   {
    "duration": 11,
    "start_time": "2022-04-15T11:01:00.047Z"
   },
   {
    "duration": 3,
    "start_time": "2022-04-15T11:01:00.061Z"
   },
   {
    "duration": 21,
    "start_time": "2022-04-15T11:01:00.066Z"
   },
   {
    "duration": 15,
    "start_time": "2022-04-15T11:01:00.089Z"
   },
   {
    "duration": 5,
    "start_time": "2022-04-15T11:01:00.107Z"
   },
   {
    "duration": 11,
    "start_time": "2022-04-15T11:01:00.114Z"
   },
   {
    "duration": 1358,
    "start_time": "2022-04-15T11:01:00.127Z"
   },
   {
    "duration": 1888,
    "start_time": "2022-04-15T11:01:01.487Z"
   },
   {
    "duration": 1358,
    "start_time": "2022-04-15T11:01:03.377Z"
   },
   {
    "duration": 454,
    "start_time": "2022-04-15T11:01:04.736Z"
   },
   {
    "duration": 9,
    "start_time": "2022-04-15T11:01:05.191Z"
   },
   {
    "duration": 6,
    "start_time": "2022-04-15T11:01:05.201Z"
   },
   {
    "duration": 5,
    "start_time": "2022-04-15T11:01:05.224Z"
   },
   {
    "duration": 4036,
    "start_time": "2022-04-15T11:01:05.231Z"
   },
   {
    "duration": 9,
    "start_time": "2022-04-15T11:01:09.269Z"
   },
   {
    "duration": 1543,
    "start_time": "2022-04-15T11:01:09.280Z"
   },
   {
    "duration": 3,
    "start_time": "2022-04-15T11:01:10.826Z"
   },
   {
    "duration": 28,
    "start_time": "2022-04-15T11:01:10.831Z"
   },
   {
    "duration": 106,
    "start_time": "2022-04-15T11:04:26.890Z"
   },
   {
    "duration": 25,
    "start_time": "2022-04-15T11:04:29.461Z"
   },
   {
    "duration": 371,
    "start_time": "2022-04-15T11:04:37.240Z"
   },
   {
    "duration": 3,
    "start_time": "2022-04-15T11:13:36.970Z"
   },
   {
    "duration": 3,
    "start_time": "2022-04-15T11:13:45.447Z"
   },
   {
    "duration": 3,
    "start_time": "2022-04-15T11:13:46.419Z"
   },
   {
    "duration": 3,
    "start_time": "2022-04-15T11:13:51.711Z"
   },
   {
    "duration": 3,
    "start_time": "2022-04-15T11:14:00.440Z"
   },
   {
    "duration": 6,
    "start_time": "2022-04-15T11:14:40.179Z"
   },
   {
    "duration": 3,
    "start_time": "2022-04-15T11:14:41.218Z"
   },
   {
    "duration": 3,
    "start_time": "2022-04-15T11:14:41.407Z"
   },
   {
    "duration": 3,
    "start_time": "2022-04-15T11:14:41.578Z"
   },
   {
    "duration": 3,
    "start_time": "2022-04-15T11:14:41.763Z"
   },
   {
    "duration": 2,
    "start_time": "2022-04-15T11:14:42.144Z"
   },
   {
    "duration": 3,
    "start_time": "2022-04-15T11:14:42.570Z"
   },
   {
    "duration": 827,
    "start_time": "2022-04-15T11:14:42.831Z"
   },
   {
    "duration": 15,
    "start_time": "2022-04-15T11:16:15.817Z"
   },
   {
    "duration": 746,
    "start_time": "2022-04-15T11:16:16.298Z"
   },
   {
    "duration": 5,
    "start_time": "2022-04-15T11:16:21.490Z"
   },
   {
    "duration": 4,
    "start_time": "2022-04-15T11:16:22.140Z"
   },
   {
    "duration": 4,
    "start_time": "2022-04-15T11:16:22.323Z"
   },
   {
    "duration": 3,
    "start_time": "2022-04-15T11:16:22.513Z"
   },
   {
    "duration": 3,
    "start_time": "2022-04-15T11:16:22.692Z"
   },
   {
    "duration": 4,
    "start_time": "2022-04-15T11:16:22.874Z"
   },
   {
    "duration": 3,
    "start_time": "2022-04-15T11:16:23.058Z"
   },
   {
    "duration": 16,
    "start_time": "2022-04-15T11:16:23.259Z"
   },
   {
    "duration": 734,
    "start_time": "2022-04-15T11:16:23.484Z"
   },
   {
    "duration": 10,
    "start_time": "2022-04-15T11:17:04.093Z"
   },
   {
    "duration": 1512,
    "start_time": "2022-04-15T11:17:43.259Z"
   },
   {
    "duration": 337,
    "start_time": "2022-04-15T11:17:44.773Z"
   },
   {
    "duration": 89,
    "start_time": "2022-04-15T11:17:45.112Z"
   },
   {
    "duration": 443,
    "start_time": "2022-04-15T11:17:45.203Z"
   },
   {
    "duration": 4,
    "start_time": "2022-04-15T11:17:45.650Z"
   },
   {
    "duration": 498,
    "start_time": "2022-04-15T11:17:45.656Z"
   },
   {
    "duration": 424,
    "start_time": "2022-04-15T11:17:46.156Z"
   },
   {
    "duration": 245,
    "start_time": "2022-04-15T11:17:46.582Z"
   },
   {
    "duration": 10,
    "start_time": "2022-04-15T11:17:46.829Z"
   },
   {
    "duration": 3,
    "start_time": "2022-04-15T11:17:46.842Z"
   },
   {
    "duration": 17,
    "start_time": "2022-04-15T11:17:46.847Z"
   },
   {
    "duration": 6,
    "start_time": "2022-04-15T11:17:46.866Z"
   },
   {
    "duration": 5,
    "start_time": "2022-04-15T11:17:46.873Z"
   },
   {
    "duration": 5,
    "start_time": "2022-04-15T11:17:46.882Z"
   },
   {
    "duration": 1638,
    "start_time": "2022-04-15T11:17:46.889Z"
   },
   {
    "duration": 1819,
    "start_time": "2022-04-15T11:17:48.529Z"
   },
   {
    "duration": 1607,
    "start_time": "2022-04-15T11:17:50.350Z"
   },
   {
    "duration": 529,
    "start_time": "2022-04-15T11:17:51.959Z"
   },
   {
    "duration": 8,
    "start_time": "2022-04-15T11:17:52.490Z"
   },
   {
    "duration": 7,
    "start_time": "2022-04-15T11:17:52.499Z"
   },
   {
    "duration": 18,
    "start_time": "2022-04-15T11:17:52.507Z"
   },
   {
    "duration": 3758,
    "start_time": "2022-04-15T11:17:52.527Z"
   },
   {
    "duration": 10,
    "start_time": "2022-04-15T11:17:56.286Z"
   },
   {
    "duration": 1608,
    "start_time": "2022-04-15T11:17:56.298Z"
   },
   {
    "duration": 475,
    "start_time": "2022-04-15T11:17:57.908Z"
   },
   {
    "duration": 4,
    "start_time": "2022-04-15T11:17:58.385Z"
   },
   {
    "duration": 5,
    "start_time": "2022-04-15T11:17:58.391Z"
   },
   {
    "duration": 5,
    "start_time": "2022-04-15T11:17:58.398Z"
   },
   {
    "duration": 7,
    "start_time": "2022-04-15T11:17:58.404Z"
   },
   {
    "duration": 3,
    "start_time": "2022-04-15T11:17:58.423Z"
   },
   {
    "duration": 100,
    "start_time": "2022-04-15T11:27:05.008Z"
   },
   {
    "duration": 6,
    "start_time": "2022-04-15T11:27:16.264Z"
   },
   {
    "duration": 7,
    "start_time": "2022-04-15T11:28:33.693Z"
   },
   {
    "duration": 8,
    "start_time": "2022-04-15T11:37:23.886Z"
   },
   {
    "duration": 8,
    "start_time": "2022-04-15T11:37:56.995Z"
   },
   {
    "duration": 3,
    "start_time": "2022-04-15T11:37:57.348Z"
   },
   {
    "duration": 6,
    "start_time": "2022-04-15T11:37:57.527Z"
   },
   {
    "duration": 3,
    "start_time": "2022-04-15T11:37:57.705Z"
   },
   {
    "duration": 3,
    "start_time": "2022-04-15T11:37:57.889Z"
   },
   {
    "duration": 3,
    "start_time": "2022-04-15T11:37:59.070Z"
   },
   {
    "duration": 3,
    "start_time": "2022-04-15T11:38:39.169Z"
   },
   {
    "duration": 2,
    "start_time": "2022-04-15T11:38:39.706Z"
   },
   {
    "duration": 3,
    "start_time": "2022-04-15T11:38:44.552Z"
   },
   {
    "duration": 3,
    "start_time": "2022-04-15T11:38:54.051Z"
   },
   {
    "duration": 6,
    "start_time": "2022-04-15T11:38:54.056Z"
   },
   {
    "duration": 9,
    "start_time": "2022-04-15T11:39:19.287Z"
   },
   {
    "duration": 4,
    "start_time": "2022-04-15T11:39:42.890Z"
   },
   {
    "duration": 846,
    "start_time": "2022-04-15T11:39:43.306Z"
   },
   {
    "duration": 10,
    "start_time": "2022-04-15T11:40:03.020Z"
   },
   {
    "duration": 8,
    "start_time": "2022-04-15T11:40:03.427Z"
   },
   {
    "duration": 3,
    "start_time": "2022-04-15T11:40:03.725Z"
   },
   {
    "duration": 2,
    "start_time": "2022-04-15T11:40:03.954Z"
   },
   {
    "duration": 2,
    "start_time": "2022-04-15T11:40:04.149Z"
   },
   {
    "duration": 3,
    "start_time": "2022-04-15T11:40:04.337Z"
   },
   {
    "duration": 3,
    "start_time": "2022-04-15T11:40:04.540Z"
   },
   {
    "duration": 4,
    "start_time": "2022-04-15T11:40:04.727Z"
   },
   {
    "duration": 1051,
    "start_time": "2022-04-15T11:40:05.161Z"
   },
   {
    "duration": 9,
    "start_time": "2022-04-15T11:45:42.843Z"
   },
   {
    "duration": 15,
    "start_time": "2022-04-15T11:45:51.333Z"
   },
   {
    "duration": 6,
    "start_time": "2022-04-15T11:45:51.720Z"
   },
   {
    "duration": 1218,
    "start_time": "2022-04-15T11:45:51.911Z"
   },
   {
    "duration": 1216,
    "start_time": "2022-04-15T11:45:53.132Z"
   },
   {
    "duration": 1758,
    "start_time": "2022-04-15T11:45:54.349Z"
   },
   {
    "duration": 610,
    "start_time": "2022-04-15T11:45:56.110Z"
   },
   {
    "duration": 12,
    "start_time": "2022-04-15T11:45:56.723Z"
   },
   {
    "duration": 16,
    "start_time": "2022-04-15T11:45:56.737Z"
   },
   {
    "duration": 5,
    "start_time": "2022-04-15T11:45:56.755Z"
   },
   {
    "duration": 3934,
    "start_time": "2022-04-15T11:45:56.761Z"
   },
   {
    "duration": 11,
    "start_time": "2022-04-15T11:46:00.697Z"
   },
   {
    "duration": 1423,
    "start_time": "2022-04-15T11:46:00.711Z"
   },
   {
    "duration": 388,
    "start_time": "2022-04-15T11:46:02.136Z"
   },
   {
    "duration": 8,
    "start_time": "2022-04-15T11:46:02.526Z"
   },
   {
    "duration": 5,
    "start_time": "2022-04-15T11:46:03.432Z"
   },
   {
    "duration": 3,
    "start_time": "2022-04-15T11:46:03.989Z"
   },
   {
    "duration": 6,
    "start_time": "2022-04-15T11:46:04.235Z"
   },
   {
    "duration": 3,
    "start_time": "2022-04-15T11:46:04.454Z"
   },
   {
    "duration": 3,
    "start_time": "2022-04-15T11:46:04.655Z"
   },
   {
    "duration": 3,
    "start_time": "2022-04-15T11:46:04.877Z"
   },
   {
    "duration": 4,
    "start_time": "2022-04-15T11:46:05.109Z"
   },
   {
    "duration": 809,
    "start_time": "2022-04-15T11:46:05.650Z"
   },
   {
    "duration": 11,
    "start_time": "2022-04-15T11:48:28.393Z"
   },
   {
    "duration": 6,
    "start_time": "2022-04-15T11:48:32.694Z"
   },
   {
    "duration": 2,
    "start_time": "2022-04-15T11:48:33.382Z"
   },
   {
    "duration": 2,
    "start_time": "2022-04-15T11:48:33.580Z"
   },
   {
    "duration": 2,
    "start_time": "2022-04-15T11:48:33.767Z"
   },
   {
    "duration": 2,
    "start_time": "2022-04-15T11:48:33.972Z"
   },
   {
    "duration": 3,
    "start_time": "2022-04-15T11:48:34.303Z"
   },
   {
    "duration": 3,
    "start_time": "2022-04-15T11:48:34.651Z"
   },
   {
    "duration": 670,
    "start_time": "2022-04-15T11:48:35.153Z"
   },
   {
    "duration": 1507,
    "start_time": "2022-04-15T11:49:02.291Z"
   },
   {
    "duration": 235,
    "start_time": "2022-04-15T11:49:03.800Z"
   },
   {
    "duration": 64,
    "start_time": "2022-04-15T11:49:04.037Z"
   },
   {
    "duration": 296,
    "start_time": "2022-04-15T11:49:04.103Z"
   },
   {
    "duration": 4,
    "start_time": "2022-04-15T11:49:04.401Z"
   },
   {
    "duration": 336,
    "start_time": "2022-04-15T11:49:04.406Z"
   },
   {
    "duration": 338,
    "start_time": "2022-04-15T11:49:04.744Z"
   },
   {
    "duration": 151,
    "start_time": "2022-04-15T11:49:05.084Z"
   },
   {
    "duration": 8,
    "start_time": "2022-04-15T11:49:05.237Z"
   },
   {
    "duration": 3,
    "start_time": "2022-04-15T11:49:05.247Z"
   },
   {
    "duration": 8,
    "start_time": "2022-04-15T11:49:05.251Z"
   },
   {
    "duration": 5,
    "start_time": "2022-04-15T11:49:05.261Z"
   },
   {
    "duration": 5,
    "start_time": "2022-04-15T11:49:05.267Z"
   },
   {
    "duration": 6,
    "start_time": "2022-04-15T11:49:05.274Z"
   },
   {
    "duration": 4,
    "start_time": "2022-04-15T11:49:05.282Z"
   },
   {
    "duration": 1351,
    "start_time": "2022-04-15T11:49:05.288Z"
   },
   {
    "duration": 1340,
    "start_time": "2022-04-15T11:49:06.641Z"
   },
   {
    "duration": 1441,
    "start_time": "2022-04-15T11:49:07.983Z"
   },
   {
    "duration": 462,
    "start_time": "2022-04-15T11:49:09.426Z"
   },
   {
    "duration": 8,
    "start_time": "2022-04-15T11:49:09.890Z"
   },
   {
    "duration": 7,
    "start_time": "2022-04-15T11:49:09.899Z"
   },
   {
    "duration": 17,
    "start_time": "2022-04-15T11:49:09.908Z"
   },
   {
    "duration": 3677,
    "start_time": "2022-04-15T11:49:09.926Z"
   },
   {
    "duration": 10,
    "start_time": "2022-04-15T11:49:13.605Z"
   },
   {
    "duration": 1352,
    "start_time": "2022-04-15T11:49:13.624Z"
   },
   {
    "duration": 326,
    "start_time": "2022-04-15T11:49:14.977Z"
   },
   {
    "duration": 5,
    "start_time": "2022-04-15T11:49:15.304Z"
   },
   {
    "duration": 13,
    "start_time": "2022-04-15T11:49:15.311Z"
   },
   {
    "duration": 7,
    "start_time": "2022-04-15T11:49:15.326Z"
   },
   {
    "duration": 5,
    "start_time": "2022-04-15T11:49:15.334Z"
   },
   {
    "duration": 158,
    "start_time": "2022-04-15T12:01:03.994Z"
   },
   {
    "duration": 10,
    "start_time": "2022-04-15T12:02:07.945Z"
   },
   {
    "duration": 3,
    "start_time": "2022-04-15T12:02:15.066Z"
   },
   {
    "duration": 2,
    "start_time": "2022-04-15T12:02:15.273Z"
   },
   {
    "duration": 6,
    "start_time": "2022-04-15T12:02:15.468Z"
   },
   {
    "duration": 4,
    "start_time": "2022-04-15T12:02:57.004Z"
   },
   {
    "duration": 6,
    "start_time": "2022-04-15T12:03:25.500Z"
   },
   {
    "duration": 141,
    "start_time": "2022-04-15T12:03:26.202Z"
   },
   {
    "duration": 3,
    "start_time": "2022-04-15T12:03:39.341Z"
   },
   {
    "duration": 3,
    "start_time": "2022-04-15T12:03:40.533Z"
   },
   {
    "duration": 2,
    "start_time": "2022-04-15T12:03:41.322Z"
   },
   {
    "duration": 3,
    "start_time": "2022-04-15T12:03:41.771Z"
   },
   {
    "duration": 8,
    "start_time": "2022-04-15T12:04:15.332Z"
   },
   {
    "duration": 23,
    "start_time": "2022-04-15T12:04:47.793Z"
   },
   {
    "duration": 3,
    "start_time": "2022-04-15T12:05:04.041Z"
   },
   {
    "duration": 22,
    "start_time": "2022-04-15T12:05:05.265Z"
   },
   {
    "duration": 7,
    "start_time": "2022-04-15T12:06:13.168Z"
   },
   {
    "duration": 12,
    "start_time": "2022-04-15T12:06:13.436Z"
   },
   {
    "duration": 3,
    "start_time": "2022-04-15T12:06:13.815Z"
   },
   {
    "duration": 6,
    "start_time": "2022-04-15T12:06:14.010Z"
   },
   {
    "duration": 3,
    "start_time": "2022-04-15T12:06:14.463Z"
   },
   {
    "duration": 8,
    "start_time": "2022-04-15T12:06:14.986Z"
   },
   {
    "duration": 15,
    "start_time": "2022-04-15T12:06:19.866Z"
   },
   {
    "duration": 3,
    "start_time": "2022-04-15T12:06:20.423Z"
   },
   {
    "duration": 4,
    "start_time": "2022-04-15T12:06:20.648Z"
   },
   {
    "duration": 3,
    "start_time": "2022-04-15T12:06:20.846Z"
   },
   {
    "duration": 7,
    "start_time": "2022-04-15T12:06:21.260Z"
   },
   {
    "duration": 3,
    "start_time": "2022-04-15T12:06:21.613Z"
   },
   {
    "duration": 3,
    "start_time": "2022-04-15T12:06:21.967Z"
   },
   {
    "duration": 3,
    "start_time": "2022-04-15T12:06:22.489Z"
   },
   {
    "duration": 3,
    "start_time": "2022-04-15T12:06:22.931Z"
   },
   {
    "duration": 3,
    "start_time": "2022-04-15T12:06:23.187Z"
   },
   {
    "duration": 21,
    "start_time": "2022-04-15T12:06:23.683Z"
   },
   {
    "duration": 1835,
    "start_time": "2022-04-15T12:06:59.518Z"
   },
   {
    "duration": 227,
    "start_time": "2022-04-15T12:07:01.355Z"
   },
   {
    "duration": 64,
    "start_time": "2022-04-15T12:07:01.583Z"
   },
   {
    "duration": 293,
    "start_time": "2022-04-15T12:07:01.648Z"
   },
   {
    "duration": 4,
    "start_time": "2022-04-15T12:07:01.943Z"
   },
   {
    "duration": 331,
    "start_time": "2022-04-15T12:07:01.948Z"
   },
   {
    "duration": 331,
    "start_time": "2022-04-15T12:07:02.281Z"
   },
   {
    "duration": 160,
    "start_time": "2022-04-15T12:07:02.613Z"
   },
   {
    "duration": 8,
    "start_time": "2022-04-15T12:07:02.774Z"
   },
   {
    "duration": 2,
    "start_time": "2022-04-15T12:07:02.784Z"
   },
   {
    "duration": 13,
    "start_time": "2022-04-15T12:07:02.788Z"
   },
   {
    "duration": 23,
    "start_time": "2022-04-15T12:07:02.802Z"
   },
   {
    "duration": 4,
    "start_time": "2022-04-15T12:07:02.827Z"
   },
   {
    "duration": 7,
    "start_time": "2022-04-15T12:07:02.836Z"
   },
   {
    "duration": 6,
    "start_time": "2022-04-15T12:07:02.845Z"
   },
   {
    "duration": 1472,
    "start_time": "2022-04-15T12:07:02.853Z"
   },
   {
    "duration": 1415,
    "start_time": "2022-04-15T12:07:04.327Z"
   },
   {
    "duration": 1477,
    "start_time": "2022-04-15T12:07:05.744Z"
   },
   {
    "duration": 458,
    "start_time": "2022-04-15T12:07:07.224Z"
   },
   {
    "duration": 9,
    "start_time": "2022-04-15T12:07:07.684Z"
   },
   {
    "duration": 8,
    "start_time": "2022-04-15T12:07:07.694Z"
   },
   {
    "duration": 22,
    "start_time": "2022-04-15T12:07:07.704Z"
   },
   {
    "duration": 3644,
    "start_time": "2022-04-15T12:07:07.728Z"
   },
   {
    "duration": 11,
    "start_time": "2022-04-15T12:07:11.373Z"
   },
   {
    "duration": 1403,
    "start_time": "2022-04-15T12:07:11.386Z"
   },
   {
    "duration": 3,
    "start_time": "2022-04-15T12:07:12.791Z"
   },
   {
    "duration": 342,
    "start_time": "2022-04-15T12:07:12.795Z"
   },
   {
    "duration": 3,
    "start_time": "2022-04-15T12:07:13.139Z"
   },
   {
    "duration": 6,
    "start_time": "2022-04-15T12:07:13.143Z"
   },
   {
    "duration": 15,
    "start_time": "2022-04-15T12:07:13.151Z"
   },
   {
    "duration": 3,
    "start_time": "2022-04-15T12:07:13.167Z"
   },
   {
    "duration": 118,
    "start_time": "2022-04-15T12:07:13.172Z"
   },
   {
    "duration": 0,
    "start_time": "2022-04-15T12:07:13.291Z"
   },
   {
    "duration": 0,
    "start_time": "2022-04-15T12:07:13.293Z"
   },
   {
    "duration": 0,
    "start_time": "2022-04-15T12:07:13.294Z"
   },
   {
    "duration": 0,
    "start_time": "2022-04-15T12:07:13.295Z"
   },
   {
    "duration": 31,
    "start_time": "2022-04-15T12:09:28.106Z"
   },
   {
    "duration": 74,
    "start_time": "2022-04-15T12:09:32.392Z"
   },
   {
    "duration": 1406,
    "start_time": "2022-04-15T12:09:41.511Z"
   },
   {
    "duration": 12,
    "start_time": "2022-04-15T12:10:45.027Z"
   },
   {
    "duration": 3,
    "start_time": "2022-04-15T12:10:55.970Z"
   },
   {
    "duration": 248,
    "start_time": "2022-04-15T12:11:07.644Z"
   },
   {
    "duration": 4,
    "start_time": "2022-04-15T12:11:08.538Z"
   },
   {
    "duration": 3,
    "start_time": "2022-04-15T12:11:08.913Z"
   },
   {
    "duration": 10,
    "start_time": "2022-04-15T12:11:22.489Z"
   },
   {
    "duration": 6,
    "start_time": "2022-04-15T12:11:35.411Z"
   },
   {
    "duration": 3,
    "start_time": "2022-04-15T12:11:42.363Z"
   },
   {
    "duration": 3,
    "start_time": "2022-04-15T12:11:46.449Z"
   },
   {
    "duration": 3,
    "start_time": "2022-04-15T12:11:51.046Z"
   },
   {
    "duration": 3,
    "start_time": "2022-04-15T12:11:55.984Z"
   },
   {
    "duration": 778,
    "start_time": "2022-04-15T12:12:01.390Z"
   },
   {
    "duration": 9,
    "start_time": "2022-04-15T12:13:32.421Z"
   },
   {
    "duration": 4,
    "start_time": "2022-04-15T12:13:49.453Z"
   },
   {
    "duration": 10,
    "start_time": "2022-04-15T12:13:49.714Z"
   },
   {
    "duration": 21,
    "start_time": "2022-04-15T12:14:02.948Z"
   },
   {
    "duration": 4,
    "start_time": "2022-04-15T12:14:05.301Z"
   },
   {
    "duration": 3,
    "start_time": "2022-04-15T12:14:05.551Z"
   },
   {
    "duration": 14,
    "start_time": "2022-04-15T12:14:05.758Z"
   },
   {
    "duration": 3,
    "start_time": "2022-04-15T12:14:06.118Z"
   },
   {
    "duration": 12,
    "start_time": "2022-04-15T12:14:29.402Z"
   },
   {
    "duration": 49,
    "start_time": "2022-04-15T12:14:31.981Z"
   },
   {
    "duration": 1420,
    "start_time": "2022-04-15T12:14:32.209Z"
   },
   {
    "duration": 10,
    "start_time": "2022-04-15T12:14:33.631Z"
   },
   {
    "duration": 299,
    "start_time": "2022-04-15T12:14:33.643Z"
   },
   {
    "duration": 3,
    "start_time": "2022-04-15T12:14:38.097Z"
   },
   {
    "duration": 3,
    "start_time": "2022-04-15T12:14:38.305Z"
   },
   {
    "duration": 14,
    "start_time": "2022-04-15T12:14:38.505Z"
   },
   {
    "duration": 1501,
    "start_time": "2022-04-15T12:15:14.459Z"
   },
   {
    "duration": 223,
    "start_time": "2022-04-15T12:15:15.962Z"
   },
   {
    "duration": 64,
    "start_time": "2022-04-15T12:15:16.187Z"
   },
   {
    "duration": 279,
    "start_time": "2022-04-15T12:15:16.252Z"
   },
   {
    "duration": 4,
    "start_time": "2022-04-15T12:15:16.533Z"
   },
   {
    "duration": 347,
    "start_time": "2022-04-15T12:15:16.538Z"
   },
   {
    "duration": 333,
    "start_time": "2022-04-15T12:15:16.887Z"
   },
   {
    "duration": 154,
    "start_time": "2022-04-15T12:15:17.223Z"
   },
   {
    "duration": 9,
    "start_time": "2022-04-15T12:15:17.378Z"
   },
   {
    "duration": 3,
    "start_time": "2022-04-15T12:15:17.388Z"
   },
   {
    "duration": 10,
    "start_time": "2022-04-15T12:15:17.393Z"
   },
   {
    "duration": 19,
    "start_time": "2022-04-15T12:15:17.405Z"
   },
   {
    "duration": 4,
    "start_time": "2022-04-15T12:15:17.425Z"
   },
   {
    "duration": 6,
    "start_time": "2022-04-15T12:15:17.432Z"
   },
   {
    "duration": 5,
    "start_time": "2022-04-15T12:15:17.439Z"
   },
   {
    "duration": 1323,
    "start_time": "2022-04-15T12:15:17.445Z"
   },
   {
    "duration": 1386,
    "start_time": "2022-04-15T12:15:18.769Z"
   },
   {
    "duration": 1392,
    "start_time": "2022-04-15T12:15:20.156Z"
   },
   {
    "duration": 538,
    "start_time": "2022-04-15T12:15:21.550Z"
   },
   {
    "duration": 9,
    "start_time": "2022-04-15T12:15:22.090Z"
   },
   {
    "duration": 24,
    "start_time": "2022-04-15T12:15:22.101Z"
   },
   {
    "duration": 6,
    "start_time": "2022-04-15T12:15:22.127Z"
   },
   {
    "duration": 3833,
    "start_time": "2022-04-15T12:15:22.135Z"
   },
   {
    "duration": 10,
    "start_time": "2022-04-15T12:15:25.969Z"
   },
   {
    "duration": 1436,
    "start_time": "2022-04-15T12:15:25.980Z"
   },
   {
    "duration": 1299,
    "start_time": "2022-04-15T12:15:27.418Z"
   },
   {
    "duration": 341,
    "start_time": "2022-04-15T12:15:28.723Z"
   },
   {
    "duration": 5,
    "start_time": "2022-04-15T12:15:29.065Z"
   },
   {
    "duration": 5,
    "start_time": "2022-04-15T12:15:29.071Z"
   },
   {
    "duration": 6,
    "start_time": "2022-04-15T12:15:29.077Z"
   },
   {
    "duration": 14,
    "start_time": "2022-04-15T12:15:29.084Z"
   },
   {
    "duration": 2,
    "start_time": "2022-04-15T12:15:29.100Z"
   },
   {
    "duration": 117,
    "start_time": "2022-04-15T12:15:29.103Z"
   },
   {
    "duration": 0,
    "start_time": "2022-04-15T12:15:29.221Z"
   },
   {
    "duration": 0,
    "start_time": "2022-04-15T12:15:29.223Z"
   },
   {
    "duration": 0,
    "start_time": "2022-04-15T12:15:29.224Z"
   },
   {
    "duration": 1,
    "start_time": "2022-04-15T12:15:29.225Z"
   },
   {
    "duration": 5,
    "start_time": "2022-04-15T12:36:50.659Z"
   },
   {
    "duration": 8,
    "start_time": "2022-04-15T12:36:55.958Z"
   },
   {
    "duration": 98,
    "start_time": "2022-04-15T12:37:08.677Z"
   },
   {
    "duration": 25,
    "start_time": "2022-04-15T12:38:38.465Z"
   },
   {
    "duration": 18,
    "start_time": "2022-04-15T12:44:27.077Z"
   },
   {
    "duration": 6,
    "start_time": "2022-04-15T12:44:27.362Z"
   },
   {
    "duration": 9,
    "start_time": "2022-04-15T12:44:27.669Z"
   },
   {
    "duration": 15,
    "start_time": "2022-04-15T12:44:33.020Z"
   },
   {
    "duration": 1451,
    "start_time": "2022-04-15T12:45:12.301Z"
   },
   {
    "duration": 222,
    "start_time": "2022-04-15T12:45:13.754Z"
   },
   {
    "duration": 59,
    "start_time": "2022-04-15T12:45:13.977Z"
   },
   {
    "duration": 278,
    "start_time": "2022-04-15T12:45:14.038Z"
   },
   {
    "duration": 6,
    "start_time": "2022-04-15T12:45:14.318Z"
   },
   {
    "duration": 317,
    "start_time": "2022-04-15T12:45:15.039Z"
   },
   {
    "duration": 309,
    "start_time": "2022-04-15T12:45:15.948Z"
   },
   {
    "duration": 147,
    "start_time": "2022-04-15T12:45:16.744Z"
   },
   {
    "duration": 9,
    "start_time": "2022-04-15T12:45:17.504Z"
   },
   {
    "duration": 2,
    "start_time": "2022-04-15T12:45:17.977Z"
   },
   {
    "duration": 7,
    "start_time": "2022-04-15T12:45:18.188Z"
   },
   {
    "duration": 4,
    "start_time": "2022-04-15T12:45:18.389Z"
   },
   {
    "duration": 4,
    "start_time": "2022-04-15T12:45:18.612Z"
   },
   {
    "duration": 10212,
    "start_time": "2022-04-15T12:45:18.922Z"
   },
   {
    "duration": 6,
    "start_time": "2022-04-15T12:45:29.136Z"
   },
   {
    "duration": 14,
    "start_time": "2022-04-15T12:45:29.144Z"
   },
   {
    "duration": 6,
    "start_time": "2022-04-15T12:45:29.160Z"
   },
   {
    "duration": 5,
    "start_time": "2022-04-15T12:45:32.201Z"
   },
   {
    "duration": 3,
    "start_time": "2022-04-15T12:45:32.836Z"
   },
   {
    "duration": 3,
    "start_time": "2022-04-15T12:45:33.324Z"
   },
   {
    "duration": 5,
    "start_time": "2022-04-15T12:45:36.003Z"
   },
   {
    "duration": 224,
    "start_time": "2022-04-15T12:45:43.223Z"
   },
   {
    "duration": 2,
    "start_time": "2022-04-15T12:45:47.925Z"
   },
   {
    "duration": 2,
    "start_time": "2022-04-15T12:45:48.105Z"
   },
   {
    "duration": 121,
    "start_time": "2022-04-15T12:45:49.021Z"
   },
   {
    "duration": 218,
    "start_time": "2022-04-15T12:45:49.315Z"
   },
   {
    "duration": 4,
    "start_time": "2022-04-15T12:45:53.893Z"
   },
   {
    "duration": 2,
    "start_time": "2022-04-15T12:45:54.197Z"
   },
   {
    "duration": 2,
    "start_time": "2022-04-15T12:45:54.483Z"
   },
   {
    "duration": 13,
    "start_time": "2022-04-15T12:45:57.764Z"
   },
   {
    "duration": 13,
    "start_time": "2022-04-15T12:46:08.069Z"
   },
   {
    "duration": 0,
    "start_time": "2022-04-15T12:47:16.152Z"
   },
   {
    "duration": 0,
    "start_time": "2022-04-15T12:47:16.153Z"
   },
   {
    "duration": 0,
    "start_time": "2022-04-15T12:47:16.154Z"
   },
   {
    "duration": 0,
    "start_time": "2022-04-15T12:47:16.155Z"
   },
   {
    "duration": 0,
    "start_time": "2022-04-15T12:47:16.156Z"
   },
   {
    "duration": 0,
    "start_time": "2022-04-15T12:47:16.157Z"
   },
   {
    "duration": 0,
    "start_time": "2022-04-15T12:47:16.159Z"
   },
   {
    "duration": 0,
    "start_time": "2022-04-15T12:47:16.160Z"
   },
   {
    "duration": 2,
    "start_time": "2022-04-15T12:47:16.213Z"
   },
   {
    "duration": 12,
    "start_time": "2022-04-15T12:47:16.407Z"
   },
   {
    "duration": 187,
    "start_time": "2022-04-15T12:47:17.154Z"
   },
   {
    "duration": 14,
    "start_time": "2022-04-15T12:48:24.264Z"
   },
   {
    "duration": 240,
    "start_time": "2022-04-15T12:48:28.598Z"
   },
   {
    "duration": 10005,
    "start_time": "2022-04-15T12:48:31.414Z"
   },
   {
    "duration": 11,
    "start_time": "2022-04-15T12:48:41.422Z"
   },
   {
    "duration": 0,
    "start_time": "2022-04-15T12:48:41.435Z"
   },
   {
    "duration": 0,
    "start_time": "2022-04-15T12:48:41.436Z"
   },
   {
    "duration": 0,
    "start_time": "2022-04-15T12:48:41.437Z"
   },
   {
    "duration": 0,
    "start_time": "2022-04-15T12:48:41.438Z"
   },
   {
    "duration": 0,
    "start_time": "2022-04-15T12:48:41.439Z"
   },
   {
    "duration": 0,
    "start_time": "2022-04-15T12:48:41.440Z"
   },
   {
    "duration": 10350,
    "start_time": "2022-04-15T12:48:52.604Z"
   },
   {
    "duration": 192,
    "start_time": "2022-04-15T12:49:02.956Z"
   },
   {
    "duration": 226,
    "start_time": "2022-04-15T12:49:06.118Z"
   },
   {
    "duration": 23,
    "start_time": "2022-04-15T12:49:10.913Z"
   },
   {
    "duration": 151,
    "start_time": "2022-04-15T12:50:14.801Z"
   },
   {
    "duration": 354,
    "start_time": "2022-04-15T12:50:25.794Z"
   },
   {
    "duration": 187,
    "start_time": "2022-04-15T12:50:53.054Z"
   },
   {
    "duration": 230,
    "start_time": "2022-04-15T12:50:53.914Z"
   },
   {
    "duration": 149,
    "start_time": "2022-04-15T12:51:03.053Z"
   },
   {
    "duration": 318,
    "start_time": "2022-04-15T12:51:08.104Z"
   },
   {
    "duration": 13,
    "start_time": "2022-04-15T12:51:15.194Z"
   },
   {
    "duration": 146,
    "start_time": "2022-04-15T12:51:18.734Z"
   },
   {
    "duration": 149,
    "start_time": "2022-04-15T12:51:30.900Z"
   },
   {
    "duration": 139,
    "start_time": "2022-04-15T12:51:39.706Z"
   },
   {
    "duration": 299,
    "start_time": "2022-04-15T12:51:46.787Z"
   },
   {
    "duration": 1409,
    "start_time": "2022-04-15T12:51:59.274Z"
   },
   {
    "duration": 246,
    "start_time": "2022-04-15T12:52:00.685Z"
   },
   {
    "duration": 66,
    "start_time": "2022-04-15T12:52:00.933Z"
   },
   {
    "duration": 318,
    "start_time": "2022-04-15T12:52:01.001Z"
   },
   {
    "duration": 4,
    "start_time": "2022-04-15T12:52:01.324Z"
   },
   {
    "duration": 331,
    "start_time": "2022-04-15T12:52:01.535Z"
   },
   {
    "duration": 320,
    "start_time": "2022-04-15T12:52:02.261Z"
   },
   {
    "duration": 148,
    "start_time": "2022-04-15T12:52:02.784Z"
   },
   {
    "duration": 9,
    "start_time": "2022-04-15T12:52:03.509Z"
   },
   {
    "duration": 3,
    "start_time": "2022-04-15T12:52:03.940Z"
   },
   {
    "duration": 7,
    "start_time": "2022-04-15T12:52:04.263Z"
   },
   {
    "duration": 5,
    "start_time": "2022-04-15T12:52:04.505Z"
   },
   {
    "duration": 4,
    "start_time": "2022-04-15T12:52:04.714Z"
   },
   {
    "duration": 11418,
    "start_time": "2022-04-15T12:52:05.515Z"
   },
   {
    "duration": 128,
    "start_time": "2022-04-15T12:52:16.935Z"
   },
   {
    "duration": 0,
    "start_time": "2022-04-15T12:52:17.064Z"
   },
   {
    "duration": 1666,
    "start_time": "2022-04-16T12:10:58.620Z"
   },
   {
    "duration": 218,
    "start_time": "2022-04-16T12:11:00.287Z"
   },
   {
    "duration": 58,
    "start_time": "2022-04-16T12:11:00.506Z"
   },
   {
    "duration": 274,
    "start_time": "2022-04-16T12:11:00.566Z"
   },
   {
    "duration": 3,
    "start_time": "2022-04-16T12:11:00.842Z"
   },
   {
    "duration": 342,
    "start_time": "2022-04-16T12:11:00.847Z"
   },
   {
    "duration": 3,
    "start_time": "2022-04-16T12:11:04.472Z"
   },
   {
    "duration": 306,
    "start_time": "2022-04-16T12:11:04.857Z"
   },
   {
    "duration": 314,
    "start_time": "2022-04-16T12:11:05.307Z"
   },
   {
    "duration": 144,
    "start_time": "2022-04-16T12:11:05.770Z"
   },
   {
    "duration": 9,
    "start_time": "2022-04-16T12:11:06.191Z"
   },
   {
    "duration": 3,
    "start_time": "2022-04-16T12:11:06.722Z"
   },
   {
    "duration": 8,
    "start_time": "2022-04-16T12:11:06.964Z"
   },
   {
    "duration": 5,
    "start_time": "2022-04-16T12:11:07.298Z"
   },
   {
    "duration": 4,
    "start_time": "2022-04-16T12:11:07.746Z"
   },
   {
    "duration": 10415,
    "start_time": "2022-04-16T12:11:08.246Z"
   },
   {
    "duration": 4,
    "start_time": "2022-04-16T12:11:18.663Z"
   },
   {
    "duration": 1350,
    "start_time": "2022-04-16T12:11:18.668Z"
   },
   {
    "duration": 1192,
    "start_time": "2022-04-16T12:11:20.023Z"
   },
   {
    "duration": 1273,
    "start_time": "2022-04-16T12:11:21.217Z"
   },
   {
    "duration": 481,
    "start_time": "2022-04-16T12:11:22.492Z"
   },
   {
    "duration": 420,
    "start_time": "2022-04-16T12:11:27.943Z"
   },
   {
    "duration": 8,
    "start_time": "2022-04-16T12:11:29.095Z"
   },
   {
    "duration": 7,
    "start_time": "2022-04-16T12:11:29.524Z"
   },
   {
    "duration": 5,
    "start_time": "2022-04-16T12:11:30.112Z"
   },
   {
    "duration": 3566,
    "start_time": "2022-04-16T12:11:30.627Z"
   },
   {
    "duration": 9,
    "start_time": "2022-04-16T12:11:35.567Z"
   },
   {
    "duration": 1257,
    "start_time": "2022-04-16T12:11:36.345Z"
   },
   {
    "duration": 1396,
    "start_time": "2022-04-16T12:11:37.603Z"
   },
   {
    "duration": 5,
    "start_time": "2022-04-16T12:14:04.607Z"
   },
   {
    "duration": 1173,
    "start_time": "2022-04-16T12:14:05.033Z"
   },
   {
    "duration": 1308,
    "start_time": "2022-04-16T12:14:06.207Z"
   },
   {
    "duration": 1288,
    "start_time": "2022-04-16T12:14:07.517Z"
   },
   {
    "duration": 554,
    "start_time": "2022-04-16T12:14:08.807Z"
   },
   {
    "duration": 8,
    "start_time": "2022-04-16T12:14:13.609Z"
   },
   {
    "duration": 8,
    "start_time": "2022-04-16T12:14:13.844Z"
   },
   {
    "duration": 5,
    "start_time": "2022-04-16T12:15:23.696Z"
   },
   {
    "duration": 3451,
    "start_time": "2022-04-16T12:16:04.414Z"
   },
   {
    "duration": 9,
    "start_time": "2022-04-16T12:16:07.866Z"
   },
   {
    "duration": 6,
    "start_time": "2022-04-16T12:27:57.635Z"
   },
   {
    "duration": 6,
    "start_time": "2022-04-16T12:34:15.484Z"
   },
   {
    "duration": 4,
    "start_time": "2022-04-16T12:34:20.235Z"
   },
   {
    "duration": 5,
    "start_time": "2022-04-16T12:34:35.681Z"
   },
   {
    "duration": 4,
    "start_time": "2022-04-16T12:36:02.418Z"
   },
   {
    "duration": 5,
    "start_time": "2022-04-16T12:36:11.744Z"
   },
   {
    "duration": 102,
    "start_time": "2022-04-16T12:39:16.285Z"
   },
   {
    "duration": 7,
    "start_time": "2022-04-16T12:39:26.295Z"
   },
   {
    "duration": 1314,
    "start_time": "2022-04-16T12:39:27.002Z"
   },
   {
    "duration": 1349,
    "start_time": "2022-04-16T12:40:27.059Z"
   },
   {
    "duration": 77,
    "start_time": "2022-04-16T12:46:38.130Z"
   },
   {
    "duration": 9,
    "start_time": "2022-04-16T12:50:16.389Z"
   },
   {
    "duration": 10288,
    "start_time": "2022-04-16T12:50:40.932Z"
   },
   {
    "duration": 10044,
    "start_time": "2022-04-16T12:57:20.110Z"
   },
   {
    "duration": 6,
    "start_time": "2022-04-16T12:57:30.156Z"
   },
   {
    "duration": 25,
    "start_time": "2022-04-16T12:57:30.163Z"
   },
   {
    "duration": 9,
    "start_time": "2022-04-16T12:57:30.190Z"
   },
   {
    "duration": 16,
    "start_time": "2022-04-16T12:57:30.200Z"
   },
   {
    "duration": 13,
    "start_time": "2022-04-16T12:57:30.217Z"
   },
   {
    "duration": 19,
    "start_time": "2022-04-16T12:57:30.231Z"
   },
   {
    "duration": 15,
    "start_time": "2022-04-16T12:57:30.251Z"
   },
   {
    "duration": 179,
    "start_time": "2022-04-16T12:57:30.267Z"
   },
   {
    "duration": 3,
    "start_time": "2022-04-16T12:58:23.865Z"
   },
   {
    "duration": 2,
    "start_time": "2022-04-16T12:58:24.075Z"
   },
   {
    "duration": 4,
    "start_time": "2022-04-16T13:07:34.337Z"
   },
   {
    "duration": 1228,
    "start_time": "2022-04-16T13:07:34.837Z"
   },
   {
    "duration": 1264,
    "start_time": "2022-04-16T13:07:36.067Z"
   },
   {
    "duration": 1335,
    "start_time": "2022-04-16T13:07:37.333Z"
   },
   {
    "duration": 603,
    "start_time": "2022-04-16T13:07:38.670Z"
   },
   {
    "duration": 7,
    "start_time": "2022-04-16T13:07:39.274Z"
   },
   {
    "duration": 7,
    "start_time": "2022-04-16T13:07:39.282Z"
   },
   {
    "duration": 8,
    "start_time": "2022-04-16T13:07:39.290Z"
   },
   {
    "duration": 1318,
    "start_time": "2022-04-16T13:07:39.299Z"
   },
   {
    "duration": 4,
    "start_time": "2022-04-16T13:10:17.476Z"
   },
   {
    "duration": 3,
    "start_time": "2022-04-16T13:10:17.741Z"
   },
   {
    "duration": 3,
    "start_time": "2022-04-16T13:20:06.209Z"
   },
   {
    "duration": 4,
    "start_time": "2022-04-16T13:20:56.839Z"
   },
   {
    "duration": 5,
    "start_time": "2022-04-16T13:26:27.501Z"
   },
   {
    "duration": 2,
    "start_time": "2022-04-16T13:26:35.514Z"
   },
   {
    "duration": 9,
    "start_time": "2022-04-16T13:26:35.518Z"
   },
   {
    "duration": 4,
    "start_time": "2022-04-16T13:31:38.930Z"
   },
   {
    "duration": 2,
    "start_time": "2022-04-16T13:31:39.157Z"
   },
   {
    "duration": 3,
    "start_time": "2022-04-16T13:32:41.589Z"
   },
   {
    "duration": 3,
    "start_time": "2022-04-16T13:33:06.115Z"
   },
   {
    "duration": 8,
    "start_time": "2022-04-16T13:35:32.401Z"
   },
   {
    "duration": 7,
    "start_time": "2022-04-16T13:35:45.363Z"
   },
   {
    "duration": 5,
    "start_time": "2022-04-16T13:36:00.210Z"
   },
   {
    "duration": 3,
    "start_time": "2022-04-16T13:36:00.827Z"
   },
   {
    "duration": 3,
    "start_time": "2022-04-16T13:36:01.065Z"
   },
   {
    "duration": 3,
    "start_time": "2022-04-16T13:36:01.251Z"
   },
   {
    "duration": 3,
    "start_time": "2022-04-16T13:36:01.449Z"
   },
   {
    "duration": 3,
    "start_time": "2022-04-16T13:36:01.656Z"
   },
   {
    "duration": 4,
    "start_time": "2022-04-16T13:36:01.865Z"
   },
   {
    "duration": 9,
    "start_time": "2022-04-16T13:36:03.265Z"
   },
   {
    "duration": 1486,
    "start_time": "2022-04-16T13:38:47.546Z"
   },
   {
    "duration": 221,
    "start_time": "2022-04-16T13:38:49.034Z"
   },
   {
    "duration": 60,
    "start_time": "2022-04-16T13:38:49.256Z"
   },
   {
    "duration": 283,
    "start_time": "2022-04-16T13:38:49.318Z"
   },
   {
    "duration": 5,
    "start_time": "2022-04-16T13:38:49.603Z"
   },
   {
    "duration": 330,
    "start_time": "2022-04-16T13:38:49.609Z"
   },
   {
    "duration": 336,
    "start_time": "2022-04-16T13:38:49.941Z"
   },
   {
    "duration": 167,
    "start_time": "2022-04-16T13:38:50.278Z"
   },
   {
    "duration": 10,
    "start_time": "2022-04-16T13:38:50.448Z"
   },
   {
    "duration": 3,
    "start_time": "2022-04-16T13:38:50.462Z"
   },
   {
    "duration": 12,
    "start_time": "2022-04-16T13:38:50.467Z"
   },
   {
    "duration": 6,
    "start_time": "2022-04-16T13:38:50.481Z"
   },
   {
    "duration": 36,
    "start_time": "2022-04-16T13:38:50.489Z"
   },
   {
    "duration": 11414,
    "start_time": "2022-04-16T13:38:50.528Z"
   },
   {
    "duration": 7,
    "start_time": "2022-04-16T13:39:01.944Z"
   },
   {
    "duration": 32,
    "start_time": "2022-04-16T13:39:01.952Z"
   },
   {
    "duration": 6,
    "start_time": "2022-04-16T13:39:01.985Z"
   },
   {
    "duration": 17,
    "start_time": "2022-04-16T13:39:01.993Z"
   },
   {
    "duration": 15,
    "start_time": "2022-04-16T13:39:02.012Z"
   },
   {
    "duration": 9,
    "start_time": "2022-04-16T13:39:02.029Z"
   },
   {
    "duration": 10,
    "start_time": "2022-04-16T13:39:02.040Z"
   },
   {
    "duration": 276,
    "start_time": "2022-04-16T13:39:02.052Z"
   },
   {
    "duration": 5,
    "start_time": "2022-04-16T13:39:02.330Z"
   },
   {
    "duration": 1306,
    "start_time": "2022-04-16T13:39:02.337Z"
   },
   {
    "duration": 1280,
    "start_time": "2022-04-16T13:39:03.645Z"
   },
   {
    "duration": 1281,
    "start_time": "2022-04-16T13:39:04.927Z"
   },
   {
    "duration": 477,
    "start_time": "2022-04-16T13:39:06.210Z"
   },
   {
    "duration": 9,
    "start_time": "2022-04-16T13:39:06.691Z"
   },
   {
    "duration": 25,
    "start_time": "2022-04-16T13:39:06.701Z"
   },
   {
    "duration": 8,
    "start_time": "2022-04-16T13:39:06.727Z"
   },
   {
    "duration": 1482,
    "start_time": "2022-04-16T13:39:06.736Z"
   },
   {
    "duration": 5,
    "start_time": "2022-04-16T13:39:08.223Z"
   },
   {
    "duration": 7,
    "start_time": "2022-04-16T13:39:08.230Z"
   },
   {
    "duration": 5,
    "start_time": "2022-04-16T13:39:08.238Z"
   },
   {
    "duration": 4,
    "start_time": "2022-04-16T13:39:08.245Z"
   },
   {
    "duration": 6,
    "start_time": "2022-04-16T13:39:08.251Z"
   },
   {
    "duration": 6,
    "start_time": "2022-04-16T13:39:08.258Z"
   },
   {
    "duration": 5,
    "start_time": "2022-04-16T13:39:08.266Z"
   },
   {
    "duration": 176552,
    "start_time": "2022-04-16T13:39:08.273Z"
   },
   {
    "duration": 0,
    "start_time": "2022-04-16T13:42:04.828Z"
   },
   {
    "duration": 5,
    "start_time": "2022-04-16T16:15:40.382Z"
   },
   {
    "duration": 209,
    "start_time": "2022-04-16T16:16:10.485Z"
   },
   {
    "duration": 216,
    "start_time": "2022-04-16T16:16:19.893Z"
   },
   {
    "duration": 57,
    "start_time": "2022-04-16T16:16:20.193Z"
   },
   {
    "duration": 278,
    "start_time": "2022-04-16T16:16:20.425Z"
   },
   {
    "duration": 3,
    "start_time": "2022-04-16T16:16:20.705Z"
   },
   {
    "duration": 304,
    "start_time": "2022-04-16T16:16:20.814Z"
   },
   {
    "duration": 317,
    "start_time": "2022-04-16T16:16:21.612Z"
   },
   {
    "duration": 142,
    "start_time": "2022-04-16T16:16:22.267Z"
   },
   {
    "duration": 8,
    "start_time": "2022-04-16T16:16:22.930Z"
   },
   {
    "duration": 3,
    "start_time": "2022-04-16T16:16:23.378Z"
   },
   {
    "duration": 4,
    "start_time": "2022-04-16T16:16:23.999Z"
   },
   {
    "duration": 5,
    "start_time": "2022-04-16T16:16:24.416Z"
   },
   {
    "duration": 4,
    "start_time": "2022-04-16T16:16:35.012Z"
   },
   {
    "duration": 10306,
    "start_time": "2022-04-16T16:16:35.608Z"
   },
   {
    "duration": 10,
    "start_time": "2022-04-16T16:16:45.916Z"
   },
   {
    "duration": 18,
    "start_time": "2022-04-16T16:16:45.928Z"
   },
   {
    "duration": 6,
    "start_time": "2022-04-16T16:16:45.948Z"
   },
   {
    "duration": 4,
    "start_time": "2022-04-16T16:16:45.955Z"
   },
   {
    "duration": 7,
    "start_time": "2022-04-16T16:16:45.961Z"
   },
   {
    "duration": 11,
    "start_time": "2022-04-16T16:16:45.970Z"
   },
   {
    "duration": 7,
    "start_time": "2022-04-16T16:16:45.982Z"
   },
   {
    "duration": 10576,
    "start_time": "2022-04-16T16:18:06.874Z"
   },
   {
    "duration": 10,
    "start_time": "2022-04-16T16:18:17.452Z"
   },
   {
    "duration": 0,
    "start_time": "2022-04-16T16:18:17.463Z"
   },
   {
    "duration": 0,
    "start_time": "2022-04-16T16:18:17.464Z"
   },
   {
    "duration": 0,
    "start_time": "2022-04-16T16:18:17.465Z"
   },
   {
    "duration": 0,
    "start_time": "2022-04-16T16:18:17.466Z"
   },
   {
    "duration": 0,
    "start_time": "2022-04-16T16:18:17.467Z"
   },
   {
    "duration": 0,
    "start_time": "2022-04-16T16:18:17.468Z"
   },
   {
    "duration": 0,
    "start_time": "2022-04-16T16:18:17.469Z"
   },
   {
    "duration": 9,
    "start_time": "2022-04-16T16:18:28.708Z"
   },
   {
    "duration": 10903,
    "start_time": "2022-04-16T16:19:08.038Z"
   },
   {
    "duration": 9,
    "start_time": "2022-04-16T16:19:18.943Z"
   },
   {
    "duration": 10,
    "start_time": "2022-04-16T16:19:20.133Z"
   },
   {
    "duration": 1416,
    "start_time": "2022-04-16T16:19:34.372Z"
   },
   {
    "duration": 225,
    "start_time": "2022-04-16T16:19:36.003Z"
   },
   {
    "duration": 60,
    "start_time": "2022-04-16T16:19:36.437Z"
   },
   {
    "duration": 289,
    "start_time": "2022-04-16T16:19:36.670Z"
   },
   {
    "duration": 4,
    "start_time": "2022-04-16T16:19:37.385Z"
   },
   {
    "duration": 314,
    "start_time": "2022-04-16T16:19:37.861Z"
   },
   {
    "duration": 319,
    "start_time": "2022-04-16T16:19:38.705Z"
   },
   {
    "duration": 155,
    "start_time": "2022-04-16T16:19:39.405Z"
   },
   {
    "duration": 10,
    "start_time": "2022-04-16T16:19:40.006Z"
   },
   {
    "duration": 6,
    "start_time": "2022-04-16T16:19:40.530Z"
   },
   {
    "duration": 7,
    "start_time": "2022-04-16T16:19:40.875Z"
   },
   {
    "duration": 4,
    "start_time": "2022-04-16T16:19:41.155Z"
   },
   {
    "duration": 4,
    "start_time": "2022-04-16T16:19:41.665Z"
   },
   {
    "duration": 10237,
    "start_time": "2022-04-16T16:19:42.171Z"
   },
   {
    "duration": 6,
    "start_time": "2022-04-16T16:19:52.410Z"
   },
   {
    "duration": 13,
    "start_time": "2022-04-16T16:19:52.467Z"
   },
   {
    "duration": 7,
    "start_time": "2022-04-16T16:19:53.294Z"
   },
   {
    "duration": 5,
    "start_time": "2022-04-16T16:19:53.858Z"
   },
   {
    "duration": 3,
    "start_time": "2022-04-16T16:19:54.145Z"
   },
   {
    "duration": 2,
    "start_time": "2022-04-16T16:19:54.637Z"
   },
   {
    "duration": 4,
    "start_time": "2022-04-16T16:19:54.945Z"
   },
   {
    "duration": 223,
    "start_time": "2022-04-16T16:19:55.623Z"
   },
   {
    "duration": 4,
    "start_time": "2022-04-16T16:20:02.614Z"
   },
   {
    "duration": 1273,
    "start_time": "2022-04-16T16:20:03.170Z"
   },
   {
    "duration": 1294,
    "start_time": "2022-04-16T16:20:04.444Z"
   },
   {
    "duration": 1397,
    "start_time": "2022-04-16T16:20:05.739Z"
   },
   {
    "duration": 495,
    "start_time": "2022-04-16T16:20:10.862Z"
   },
   {
    "duration": 8,
    "start_time": "2022-04-16T16:20:11.359Z"
   },
   {
    "duration": 7,
    "start_time": "2022-04-16T16:20:11.677Z"
   },
   {
    "duration": 8,
    "start_time": "2022-04-16T16:20:12.324Z"
   },
   {
    "duration": 1302,
    "start_time": "2022-04-16T16:20:12.921Z"
   },
   {
    "duration": 6,
    "start_time": "2022-04-16T16:20:16.406Z"
   },
   {
    "duration": 7,
    "start_time": "2022-04-16T16:20:16.414Z"
   },
   {
    "duration": 2,
    "start_time": "2022-04-16T16:20:16.537Z"
   },
   {
    "duration": 3,
    "start_time": "2022-04-16T16:20:16.883Z"
   },
   {
    "duration": 3,
    "start_time": "2022-04-16T16:20:17.380Z"
   },
   {
    "duration": 3,
    "start_time": "2022-04-16T16:20:17.736Z"
   },
   {
    "duration": 4,
    "start_time": "2022-04-16T16:20:18.505Z"
   },
   {
    "duration": 1402,
    "start_time": "2022-04-16T16:22:23.635Z"
   },
   {
    "duration": 1453,
    "start_time": "2022-04-16T16:22:31.674Z"
   },
   {
    "duration": 231,
    "start_time": "2022-04-16T16:22:33.129Z"
   },
   {
    "duration": 61,
    "start_time": "2022-04-16T16:22:33.362Z"
   },
   {
    "duration": 304,
    "start_time": "2022-04-16T16:22:33.424Z"
   },
   {
    "duration": 3,
    "start_time": "2022-04-16T16:22:33.730Z"
   },
   {
    "duration": 316,
    "start_time": "2022-04-16T16:22:33.772Z"
   },
   {
    "duration": 315,
    "start_time": "2022-04-16T16:22:34.527Z"
   },
   {
    "duration": 144,
    "start_time": "2022-04-16T16:22:35.179Z"
   },
   {
    "duration": 10,
    "start_time": "2022-04-16T16:22:35.735Z"
   },
   {
    "duration": 2,
    "start_time": "2022-04-16T16:22:36.414Z"
   },
   {
    "duration": 7,
    "start_time": "2022-04-16T16:22:36.629Z"
   },
   {
    "duration": 5,
    "start_time": "2022-04-16T16:22:36.811Z"
   },
   {
    "duration": 4,
    "start_time": "2022-04-16T16:22:37.005Z"
   },
   {
    "duration": 10021,
    "start_time": "2022-04-16T16:22:37.202Z"
   },
   {
    "duration": 7,
    "start_time": "2022-04-16T16:22:47.225Z"
   },
   {
    "duration": 15,
    "start_time": "2022-04-16T16:22:47.233Z"
   },
   {
    "duration": 6,
    "start_time": "2022-04-16T16:22:47.250Z"
   },
   {
    "duration": 7,
    "start_time": "2022-04-16T16:22:47.257Z"
   },
   {
    "duration": 5,
    "start_time": "2022-04-16T16:22:47.265Z"
   },
   {
    "duration": 9,
    "start_time": "2022-04-16T16:22:47.271Z"
   },
   {
    "duration": 5,
    "start_time": "2022-04-16T16:22:47.281Z"
   },
   {
    "duration": 253,
    "start_time": "2022-04-16T16:22:47.288Z"
   },
   {
    "duration": 4,
    "start_time": "2022-04-16T16:22:47.544Z"
   },
   {
    "duration": 1514,
    "start_time": "2022-04-16T16:22:47.550Z"
   },
   {
    "duration": 1591,
    "start_time": "2022-04-16T16:22:49.271Z"
   },
   {
    "duration": 1461,
    "start_time": "2022-04-16T16:22:50.864Z"
   },
   {
    "duration": 453,
    "start_time": "2022-04-16T16:22:52.327Z"
   },
   {
    "duration": 7,
    "start_time": "2022-04-16T16:22:52.782Z"
   },
   {
    "duration": 6,
    "start_time": "2022-04-16T16:22:52.791Z"
   },
   {
    "duration": 10,
    "start_time": "2022-04-16T16:22:52.798Z"
   },
   {
    "duration": 1303,
    "start_time": "2022-04-16T16:22:52.809Z"
   },
   {
    "duration": 10,
    "start_time": "2022-04-16T16:22:54.114Z"
   },
   {
    "duration": 6,
    "start_time": "2022-04-16T16:22:54.125Z"
   },
   {
    "duration": 5,
    "start_time": "2022-04-16T16:22:54.133Z"
   },
   {
    "duration": 5,
    "start_time": "2022-04-16T16:22:54.139Z"
   },
   {
    "duration": 10,
    "start_time": "2022-04-16T16:22:54.145Z"
   },
   {
    "duration": 7,
    "start_time": "2022-04-16T16:22:54.156Z"
   },
   {
    "duration": 5,
    "start_time": "2022-04-16T16:22:54.164Z"
   },
   {
    "duration": 358504,
    "start_time": "2022-04-16T16:22:54.171Z"
   },
   {
    "duration": 9,
    "start_time": "2022-04-16T16:28:52.677Z"
   },
   {
    "duration": 13,
    "start_time": "2022-04-16T16:28:52.688Z"
   },
   {
    "duration": 23,
    "start_time": "2022-04-16T16:28:52.703Z"
   },
   {
    "duration": 18,
    "start_time": "2022-04-16T16:28:52.728Z"
   },
   {
    "duration": 9,
    "start_time": "2022-04-16T16:28:52.748Z"
   },
   {
    "duration": 40,
    "start_time": "2022-04-16T16:28:52.759Z"
   },
   {
    "duration": 15,
    "start_time": "2022-04-16T16:28:52.800Z"
   },
   {
    "duration": 13,
    "start_time": "2022-04-16T16:28:52.816Z"
   },
   {
    "duration": 4,
    "start_time": "2022-04-16T16:30:03.784Z"
   },
   {
    "duration": 4,
    "start_time": "2022-04-16T16:30:05.967Z"
   },
   {
    "duration": 98,
    "start_time": "2022-04-16T16:32:46.432Z"
   },
   {
    "duration": 5,
    "start_time": "2022-04-16T16:33:20.491Z"
   },
   {
    "duration": 3,
    "start_time": "2022-04-16T16:33:28.362Z"
   },
   {
    "duration": 4,
    "start_time": "2022-04-16T16:33:29.321Z"
   },
   {
    "duration": 12,
    "start_time": "2022-04-16T16:33:29.934Z"
   },
   {
    "duration": 160,
    "start_time": "2022-04-16T16:34:24.669Z"
   },
   {
    "duration": 3,
    "start_time": "2022-04-16T16:34:48.581Z"
   },
   {
    "duration": 5,
    "start_time": "2022-04-16T16:34:48.960Z"
   },
   {
    "duration": 11,
    "start_time": "2022-04-16T16:34:49.386Z"
   },
   {
    "duration": 228,
    "start_time": "2022-04-16T16:34:49.803Z"
   },
   {
    "duration": 4,
    "start_time": "2022-04-16T16:35:19.272Z"
   },
   {
    "duration": 10,
    "start_time": "2022-04-16T16:35:20.278Z"
   },
   {
    "duration": 1435,
    "start_time": "2022-04-16T16:35:20.689Z"
   },
   {
    "duration": 3,
    "start_time": "2022-04-16T16:35:53.718Z"
   },
   {
    "duration": 9,
    "start_time": "2022-04-16T16:35:55.177Z"
   },
   {
    "duration": 961,
    "start_time": "2022-04-16T16:35:55.568Z"
   },
   {
    "duration": 1561,
    "start_time": "2022-04-16T16:38:32.485Z"
   },
   {
    "duration": 1167,
    "start_time": "2022-04-16T16:42:54.362Z"
   },
   {
    "duration": 103,
    "start_time": "2022-04-16T16:46:10.431Z"
   },
   {
    "duration": 44,
    "start_time": "2022-04-16T16:46:20.085Z"
   },
   {
    "duration": 43,
    "start_time": "2022-04-16T16:46:23.694Z"
   },
   {
    "duration": 81,
    "start_time": "2022-04-16T16:47:09.659Z"
   },
   {
    "duration": 79,
    "start_time": "2022-04-16T16:47:56.859Z"
   },
   {
    "duration": 133,
    "start_time": "2022-04-16T16:48:00.901Z"
   },
   {
    "duration": 195,
    "start_time": "2022-04-16T16:48:01.631Z"
   },
   {
    "duration": 74,
    "start_time": "2022-04-16T16:48:05.168Z"
   },
   {
    "duration": 217,
    "start_time": "2022-04-16T16:48:20.819Z"
   },
   {
    "duration": 225,
    "start_time": "2022-04-16T16:48:31.710Z"
   },
   {
    "duration": 337,
    "start_time": "2022-04-16T16:48:32.603Z"
   },
   {
    "duration": 7,
    "start_time": "2022-04-16T16:48:52.128Z"
   },
   {
    "duration": 4,
    "start_time": "2022-04-16T16:54:11.850Z"
   },
   {
    "duration": 8,
    "start_time": "2022-04-16T16:55:23.287Z"
   },
   {
    "duration": 1465,
    "start_time": "2022-04-16T17:05:31.086Z"
   },
   {
    "duration": 235,
    "start_time": "2022-04-16T17:05:32.553Z"
   },
   {
    "duration": 64,
    "start_time": "2022-04-16T17:05:32.790Z"
   },
   {
    "duration": 336,
    "start_time": "2022-04-16T17:05:32.856Z"
   },
   {
    "duration": 5,
    "start_time": "2022-04-16T17:05:33.194Z"
   },
   {
    "duration": 347,
    "start_time": "2022-04-16T17:05:33.201Z"
   },
   {
    "duration": 330,
    "start_time": "2022-04-16T17:05:33.550Z"
   },
   {
    "duration": 154,
    "start_time": "2022-04-16T17:05:33.881Z"
   },
   {
    "duration": 9,
    "start_time": "2022-04-16T17:05:34.037Z"
   },
   {
    "duration": 5,
    "start_time": "2022-04-16T17:05:34.049Z"
   },
   {
    "duration": 17,
    "start_time": "2022-04-16T17:05:34.055Z"
   },
   {
    "duration": 29,
    "start_time": "2022-04-16T17:05:34.074Z"
   },
   {
    "duration": 22,
    "start_time": "2022-04-16T17:05:34.104Z"
   },
   {
    "duration": 9862,
    "start_time": "2022-04-16T17:05:34.128Z"
   },
   {
    "duration": 6,
    "start_time": "2022-04-16T17:05:43.991Z"
   },
   {
    "duration": 17,
    "start_time": "2022-04-16T17:05:43.998Z"
   },
   {
    "duration": 11,
    "start_time": "2022-04-16T17:05:44.016Z"
   },
   {
    "duration": 4,
    "start_time": "2022-04-16T17:05:44.028Z"
   },
   {
    "duration": 5,
    "start_time": "2022-04-16T17:05:44.033Z"
   },
   {
    "duration": 4,
    "start_time": "2022-04-16T17:05:44.039Z"
   },
   {
    "duration": 5,
    "start_time": "2022-04-16T17:05:44.045Z"
   },
   {
    "duration": 198,
    "start_time": "2022-04-16T17:05:44.051Z"
   },
   {
    "duration": 4,
    "start_time": "2022-04-16T17:05:44.250Z"
   },
   {
    "duration": 1426,
    "start_time": "2022-04-16T17:05:44.256Z"
   },
   {
    "duration": 1347,
    "start_time": "2022-04-16T17:05:45.683Z"
   },
   {
    "duration": 1524,
    "start_time": "2022-04-16T17:05:47.032Z"
   },
   {
    "duration": 639,
    "start_time": "2022-04-16T17:05:48.558Z"
   },
   {
    "duration": 8,
    "start_time": "2022-04-16T17:05:49.201Z"
   },
   {
    "duration": 18,
    "start_time": "2022-04-16T17:05:49.211Z"
   },
   {
    "duration": 7,
    "start_time": "2022-04-16T17:05:49.230Z"
   },
   {
    "duration": 1499,
    "start_time": "2022-04-16T17:05:49.239Z"
   },
   {
    "duration": 4,
    "start_time": "2022-04-16T17:05:50.739Z"
   },
   {
    "duration": 8,
    "start_time": "2022-04-16T17:05:50.745Z"
   },
   {
    "duration": 7,
    "start_time": "2022-04-16T17:05:50.754Z"
   },
   {
    "duration": 5,
    "start_time": "2022-04-16T17:05:50.762Z"
   },
   {
    "duration": 7,
    "start_time": "2022-04-16T17:05:50.768Z"
   },
   {
    "duration": 11,
    "start_time": "2022-04-16T17:05:50.777Z"
   },
   {
    "duration": 6,
    "start_time": "2022-04-16T17:05:50.789Z"
   },
   {
    "duration": 5,
    "start_time": "2022-04-16T17:05:50.797Z"
   },
   {
    "duration": 335190,
    "start_time": "2022-04-16T17:05:50.804Z"
   },
   {
    "duration": 9,
    "start_time": "2022-04-16T17:11:25.995Z"
   },
   {
    "duration": 6,
    "start_time": "2022-04-16T17:11:26.005Z"
   },
   {
    "duration": 10,
    "start_time": "2022-04-16T17:11:26.028Z"
   },
   {
    "duration": 17,
    "start_time": "2022-04-16T17:11:26.040Z"
   },
   {
    "duration": 172,
    "start_time": "2022-04-16T17:11:26.058Z"
   },
   {
    "duration": 558,
    "start_time": "2022-04-16T17:11:26.232Z"
   },
   {
    "duration": 0,
    "start_time": "2022-04-16T17:11:26.791Z"
   },
   {
    "duration": 0,
    "start_time": "2022-04-16T17:11:26.793Z"
   },
   {
    "duration": 1,
    "start_time": "2022-04-16T17:11:26.793Z"
   },
   {
    "duration": 0,
    "start_time": "2022-04-16T17:11:26.794Z"
   },
   {
    "duration": 0,
    "start_time": "2022-04-16T17:11:26.796Z"
   },
   {
    "duration": 0,
    "start_time": "2022-04-16T17:11:26.797Z"
   },
   {
    "duration": 168,
    "start_time": "2022-04-16T17:12:58.464Z"
   },
   {
    "duration": 4,
    "start_time": "2022-04-16T17:13:17.773Z"
   },
   {
    "duration": 5,
    "start_time": "2022-04-16T17:13:20.310Z"
   },
   {
    "duration": 5,
    "start_time": "2022-04-16T17:13:25.712Z"
   },
   {
    "duration": 15,
    "start_time": "2022-04-16T17:13:26.617Z"
   },
   {
    "duration": 14,
    "start_time": "2022-04-16T17:13:27.684Z"
   },
   {
    "duration": 7,
    "start_time": "2022-04-16T17:13:27.710Z"
   },
   {
    "duration": 71,
    "start_time": "2022-04-17T08:39:42.165Z"
   },
   {
    "duration": 11,
    "start_time": "2022-04-17T08:39:53.374Z"
   },
   {
    "duration": 4,
    "start_time": "2022-04-17T08:39:53.671Z"
   },
   {
    "duration": 2251,
    "start_time": "2022-04-17T08:39:58.934Z"
   },
   {
    "duration": 304,
    "start_time": "2022-04-17T08:40:01.187Z"
   },
   {
    "duration": 85,
    "start_time": "2022-04-17T08:40:01.493Z"
   },
   {
    "duration": 389,
    "start_time": "2022-04-17T08:40:01.581Z"
   },
   {
    "duration": 5,
    "start_time": "2022-04-17T08:40:01.973Z"
   },
   {
    "duration": 619,
    "start_time": "2022-04-17T08:40:01.980Z"
   },
   {
    "duration": 822,
    "start_time": "2022-04-17T08:40:02.792Z"
   },
   {
    "duration": 434,
    "start_time": "2022-04-17T08:40:03.618Z"
   },
   {
    "duration": 15,
    "start_time": "2022-04-17T08:40:04.365Z"
   },
   {
    "duration": 64,
    "start_time": "2022-04-17T08:40:06.113Z"
   },
   {
    "duration": 12,
    "start_time": "2022-04-17T08:40:32.690Z"
   },
   {
    "duration": 40,
    "start_time": "2022-04-17T08:40:33.320Z"
   },
   {
    "duration": 1937,
    "start_time": "2022-04-17T08:43:21.611Z"
   },
   {
    "duration": 303,
    "start_time": "2022-04-17T08:43:23.551Z"
   },
   {
    "duration": 80,
    "start_time": "2022-04-17T08:43:23.856Z"
   },
   {
    "duration": 393,
    "start_time": "2022-04-17T08:43:23.939Z"
   },
   {
    "duration": 5,
    "start_time": "2022-04-17T08:43:24.334Z"
   },
   {
    "duration": 556,
    "start_time": "2022-04-17T08:43:24.561Z"
   },
   {
    "duration": 540,
    "start_time": "2022-04-17T08:43:37.375Z"
   },
   {
    "duration": 242,
    "start_time": "2022-04-17T08:43:56.891Z"
   },
   {
    "duration": 3,
    "start_time": "2022-04-17T09:22:29.964Z"
   },
   {
    "duration": 10,
    "start_time": "2022-04-17T09:22:31.594Z"
   },
   {
    "duration": 7,
    "start_time": "2022-04-17T09:22:33.696Z"
   },
   {
    "duration": 5,
    "start_time": "2022-04-17T09:44:12.870Z"
   },
   {
    "duration": 7,
    "start_time": "2022-04-17T09:44:19.717Z"
   },
   {
    "duration": 166,
    "start_time": "2022-04-17T09:44:37.715Z"
   },
   {
    "duration": 8,
    "start_time": "2022-04-17T09:44:50.522Z"
   },
   {
    "duration": 1959,
    "start_time": "2022-04-17T09:50:41.554Z"
   },
   {
    "duration": 328,
    "start_time": "2022-04-17T09:50:43.515Z"
   },
   {
    "duration": 93,
    "start_time": "2022-04-17T09:50:43.846Z"
   },
   {
    "duration": 432,
    "start_time": "2022-04-17T09:50:43.942Z"
   },
   {
    "duration": 6,
    "start_time": "2022-04-17T09:50:44.376Z"
   },
   {
    "duration": 590,
    "start_time": "2022-04-17T09:50:44.385Z"
   },
   {
    "duration": 547,
    "start_time": "2022-04-17T09:50:44.997Z"
   },
   {
    "duration": 264,
    "start_time": "2022-04-17T09:50:45.552Z"
   },
   {
    "duration": 3,
    "start_time": "2022-04-17T09:50:46.048Z"
   },
   {
    "duration": 4,
    "start_time": "2022-04-17T09:50:48.383Z"
   },
   {
    "duration": 10,
    "start_time": "2022-04-17T09:50:48.683Z"
   },
   {
    "duration": 7,
    "start_time": "2022-04-17T09:50:48.978Z"
   },
   {
    "duration": 6,
    "start_time": "2022-04-17T09:50:50.674Z"
   },
   {
    "duration": 15471,
    "start_time": "2022-04-17T09:50:53.315Z"
   },
   {
    "duration": 349,
    "start_time": "2022-04-17T09:51:18.338Z"
   },
   {
    "duration": 28449,
    "start_time": "2022-04-17T09:52:26.719Z"
   },
   {
    "duration": 14529,
    "start_time": "2022-04-17T09:52:55.170Z"
   },
   {
    "duration": 289,
    "start_time": "2022-04-17T09:53:09.701Z"
   },
   {
    "duration": 4,
    "start_time": "2022-04-17T09:55:22.046Z"
   },
   {
    "duration": 26945,
    "start_time": "2022-04-17T09:55:22.382Z"
   },
   {
    "duration": 23889,
    "start_time": "2022-04-17T09:55:49.329Z"
   },
   {
    "duration": 359,
    "start_time": "2022-04-17T09:56:13.221Z"
   },
   {
    "duration": 554,
    "start_time": "2022-04-17T09:56:13.584Z"
   },
   {
    "duration": 24956,
    "start_time": "2022-04-17T09:56:28.853Z"
   },
   {
    "duration": 41691,
    "start_time": "2022-04-17T09:57:15.643Z"
   },
   {
    "duration": 14377,
    "start_time": "2022-04-17T09:57:57.337Z"
   },
   {
    "duration": 369,
    "start_time": "2022-04-17T09:58:11.718Z"
   },
   {
    "duration": 542,
    "start_time": "2022-04-17T09:58:12.090Z"
   },
   {
    "duration": 275,
    "start_time": "2022-04-17T09:58:12.635Z"
   },
   {
    "duration": 90,
    "start_time": "2022-04-17T09:58:13.397Z"
   },
   {
    "duration": 35893,
    "start_time": "2022-04-17T09:58:19.410Z"
   },
   {
    "duration": 2023,
    "start_time": "2022-04-17T09:59:06.539Z"
   },
   {
    "duration": 324,
    "start_time": "2022-04-17T09:59:08.565Z"
   },
   {
    "duration": 88,
    "start_time": "2022-04-17T09:59:08.892Z"
   },
   {
    "duration": 417,
    "start_time": "2022-04-17T09:59:08.983Z"
   },
   {
    "duration": 5,
    "start_time": "2022-04-17T09:59:09.402Z"
   },
   {
    "duration": 631,
    "start_time": "2022-04-17T09:59:09.409Z"
   },
   {
    "duration": 788,
    "start_time": "2022-04-17T09:59:10.044Z"
   },
   {
    "duration": 401,
    "start_time": "2022-04-17T09:59:10.836Z"
   },
   {
    "duration": 4,
    "start_time": "2022-04-17T09:59:11.344Z"
   },
   {
    "duration": 6,
    "start_time": "2022-04-17T09:59:13.246Z"
   },
   {
    "duration": 12,
    "start_time": "2022-04-17T09:59:13.477Z"
   },
   {
    "duration": 8,
    "start_time": "2022-04-17T09:59:13.718Z"
   },
   {
    "duration": 8,
    "start_time": "2022-04-17T09:59:15.077Z"
   },
   {
    "duration": 46330,
    "start_time": "2022-04-17T09:59:16.433Z"
   },
   {
    "duration": 20246,
    "start_time": "2022-04-17T10:00:02.766Z"
   },
   {
    "duration": 273,
    "start_time": "2022-04-17T10:00:23.015Z"
   },
   {
    "duration": 534,
    "start_time": "2022-04-17T10:00:23.291Z"
   },
   {
    "duration": 639,
    "start_time": "2022-04-17T10:00:23.827Z"
   },
   {
    "duration": 271,
    "start_time": "2022-04-17T10:00:24.468Z"
   },
   {
    "duration": 7,
    "start_time": "2022-04-17T10:07:04.897Z"
   },
   {
    "duration": 1832,
    "start_time": "2022-04-17T10:07:47.880Z"
   },
   {
    "duration": 1755,
    "start_time": "2022-04-17T10:08:32.665Z"
   },
   {
    "duration": 8,
    "start_time": "2022-04-17T10:13:21.417Z"
   },
   {
    "duration": 2045,
    "start_time": "2022-04-17T10:13:22.075Z"
   },
   {
    "duration": 2063,
    "start_time": "2022-04-17T10:13:40.854Z"
   },
   {
    "duration": 2211,
    "start_time": "2022-04-17T10:13:42.919Z"
   },
   {
    "duration": 2097,
    "start_time": "2022-04-17T10:13:45.133Z"
   },
   {
    "duration": 10,
    "start_time": "2022-04-17T10:13:58.312Z"
   },
   {
    "duration": 2093,
    "start_time": "2022-04-17T10:13:58.813Z"
   },
   {
    "duration": 1927,
    "start_time": "2022-04-17T10:14:00.909Z"
   },
   {
    "duration": 1898,
    "start_time": "2022-04-17T10:14:02.838Z"
   },
   {
    "duration": 7,
    "start_time": "2022-04-17T10:15:52.121Z"
   },
   {
    "duration": 2083,
    "start_time": "2022-04-17T10:15:53.130Z"
   },
   {
    "duration": 2148,
    "start_time": "2022-04-17T10:15:55.994Z"
   },
   {
    "duration": 2175,
    "start_time": "2022-04-17T10:15:58.152Z"
   },
   {
    "duration": 707,
    "start_time": "2022-04-17T10:31:55.925Z"
   },
   {
    "duration": 733,
    "start_time": "2022-04-17T10:32:46.009Z"
   },
   {
    "duration": 6,
    "start_time": "2022-04-17T10:34:53.122Z"
   },
   {
    "duration": 9,
    "start_time": "2022-04-17T10:41:17.333Z"
   },
   {
    "duration": 1747,
    "start_time": "2022-04-17T10:41:18.175Z"
   },
   {
    "duration": 40,
    "start_time": "2022-04-17T10:55:46.122Z"
   },
   {
    "duration": 39,
    "start_time": "2022-04-17T10:55:53.974Z"
   },
   {
    "duration": 39,
    "start_time": "2022-04-17T10:56:07.886Z"
   },
   {
    "duration": 376,
    "start_time": "2022-04-17T10:58:24.876Z"
   },
   {
    "duration": 135,
    "start_time": "2022-04-17T10:58:38.955Z"
   },
   {
    "duration": 5,
    "start_time": "2022-04-17T11:00:47.299Z"
   },
   {
    "duration": 2157,
    "start_time": "2022-04-17T11:00:59.505Z"
   },
   {
    "duration": 319,
    "start_time": "2022-04-17T11:01:01.665Z"
   },
   {
    "duration": 89,
    "start_time": "2022-04-17T11:01:01.987Z"
   },
   {
    "duration": 401,
    "start_time": "2022-04-17T11:01:02.080Z"
   },
   {
    "duration": 8,
    "start_time": "2022-04-17T11:01:02.483Z"
   },
   {
    "duration": 584,
    "start_time": "2022-04-17T11:01:02.494Z"
   },
   {
    "duration": 676,
    "start_time": "2022-04-17T11:01:03.082Z"
   },
   {
    "duration": 397,
    "start_time": "2022-04-17T11:01:03.761Z"
   },
   {
    "duration": 3,
    "start_time": "2022-04-17T11:01:04.162Z"
   },
   {
    "duration": 5,
    "start_time": "2022-04-17T11:01:14.228Z"
   },
   {
    "duration": 11,
    "start_time": "2022-04-17T11:01:14.501Z"
   },
   {
    "duration": 7,
    "start_time": "2022-04-17T11:01:14.768Z"
   },
   {
    "duration": 7,
    "start_time": "2022-04-17T11:01:15.966Z"
   },
   {
    "duration": 2382,
    "start_time": "2022-04-17T11:01:32.741Z"
   },
   {
    "duration": 495,
    "start_time": "2022-04-17T11:01:35.127Z"
   },
   {
    "duration": 140,
    "start_time": "2022-04-17T11:01:35.624Z"
   },
   {
    "duration": 665,
    "start_time": "2022-04-17T11:01:35.767Z"
   },
   {
    "duration": 7,
    "start_time": "2022-04-17T11:01:36.435Z"
   },
   {
    "duration": 693,
    "start_time": "2022-04-17T11:01:36.452Z"
   },
   {
    "duration": 541,
    "start_time": "2022-04-17T11:01:37.622Z"
   },
   {
    "duration": 270,
    "start_time": "2022-04-17T11:01:38.195Z"
   },
   {
    "duration": 5,
    "start_time": "2022-04-17T11:01:40.250Z"
   },
   {
    "duration": 11,
    "start_time": "2022-04-17T11:01:40.487Z"
   },
   {
    "duration": 7,
    "start_time": "2022-04-17T11:01:40.762Z"
   },
   {
    "duration": 6,
    "start_time": "2022-04-17T11:01:41.965Z"
   },
   {
    "duration": 2070,
    "start_time": "2022-04-17T11:02:21.894Z"
   },
   {
    "duration": 327,
    "start_time": "2022-04-17T11:02:23.967Z"
   },
   {
    "duration": 95,
    "start_time": "2022-04-17T11:02:24.296Z"
   },
   {
    "duration": 423,
    "start_time": "2022-04-17T11:02:24.394Z"
   },
   {
    "duration": 8,
    "start_time": "2022-04-17T11:02:24.820Z"
   },
   {
    "duration": 617,
    "start_time": "2022-04-17T11:02:24.831Z"
   },
   {
    "duration": 585,
    "start_time": "2022-04-17T11:02:25.451Z"
   },
   {
    "duration": 288,
    "start_time": "2022-04-17T11:02:26.039Z"
   },
   {
    "duration": 5,
    "start_time": "2022-04-17T11:02:27.771Z"
   },
   {
    "duration": 12,
    "start_time": "2022-04-17T11:02:27.997Z"
   },
   {
    "duration": 7,
    "start_time": "2022-04-17T11:02:28.203Z"
   },
   {
    "duration": 7,
    "start_time": "2022-04-17T11:02:29.256Z"
   },
   {
    "duration": 33804,
    "start_time": "2022-04-17T11:02:30.123Z"
   },
   {
    "duration": 18849,
    "start_time": "2022-04-17T11:03:03.930Z"
   },
   {
    "duration": 299,
    "start_time": "2022-04-17T11:03:22.782Z"
   },
   {
    "duration": 7,
    "start_time": "2022-04-17T11:03:23.084Z"
   },
   {
    "duration": 1742,
    "start_time": "2022-04-17T11:03:23.094Z"
   },
   {
    "duration": 1900,
    "start_time": "2022-04-17T11:04:40.639Z"
   },
   {
    "duration": 1842,
    "start_time": "2022-04-17T11:04:43.857Z"
   },
   {
    "duration": 795,
    "start_time": "2022-04-17T11:04:47.145Z"
   },
   {
    "duration": 11,
    "start_time": "2022-04-17T11:04:47.951Z"
   },
   {
    "duration": 12,
    "start_time": "2022-04-17T11:04:50.633Z"
   },
   {
    "duration": 12,
    "start_time": "2022-04-17T11:04:53.376Z"
   },
   {
    "duration": 1877,
    "start_time": "2022-04-17T11:04:55.246Z"
   },
   {
    "duration": 4,
    "start_time": "2022-04-17T11:05:09.710Z"
   },
   {
    "duration": 15,
    "start_time": "2022-04-17T11:05:41.578Z"
   },
   {
    "duration": 3,
    "start_time": "2022-04-17T11:05:48.289Z"
   },
   {
    "duration": 238,
    "start_time": "2022-04-17T11:06:05.173Z"
   },
   {
    "duration": 38,
    "start_time": "2022-04-17T11:06:12.412Z"
   },
   {
    "duration": 39,
    "start_time": "2022-04-17T11:06:24.413Z"
   },
   {
    "duration": 116,
    "start_time": "2022-04-17T11:13:26.056Z"
   },
   {
    "duration": 7,
    "start_time": "2022-04-17T11:14:23.192Z"
   },
   {
    "duration": 7,
    "start_time": "2022-04-17T11:14:23.684Z"
   },
   {
    "duration": 7,
    "start_time": "2022-04-17T11:14:25.481Z"
   },
   {
    "duration": 5,
    "start_time": "2022-04-17T11:14:27.339Z"
   },
   {
    "duration": 4,
    "start_time": "2022-04-17T11:15:40.416Z"
   },
   {
    "duration": 5,
    "start_time": "2022-04-17T11:15:41.954Z"
   },
   {
    "duration": 5,
    "start_time": "2022-04-17T11:21:49.084Z"
   },
   {
    "duration": 4,
    "start_time": "2022-04-17T11:21:51.027Z"
   },
   {
    "duration": 5,
    "start_time": "2022-04-17T11:21:52.942Z"
   },
   {
    "duration": 7,
    "start_time": "2022-04-17T11:22:50.405Z"
   },
   {
    "duration": 4,
    "start_time": "2022-04-17T11:22:51.326Z"
   },
   {
    "duration": 6,
    "start_time": "2022-04-17T11:22:51.537Z"
   },
   {
    "duration": 4,
    "start_time": "2022-04-17T11:22:57.005Z"
   },
   {
    "duration": 6,
    "start_time": "2022-04-17T11:23:03.418Z"
   },
   {
    "duration": 260859,
    "start_time": "2022-04-17T11:23:43.544Z"
   },
   {
    "duration": 0,
    "start_time": "2022-04-17T11:28:04.406Z"
   },
   {
    "duration": 0,
    "start_time": "2022-04-17T11:28:04.408Z"
   },
   {
    "duration": 0,
    "start_time": "2022-04-17T11:28:04.409Z"
   },
   {
    "duration": 0,
    "start_time": "2022-04-17T11:28:04.411Z"
   },
   {
    "duration": 2143,
    "start_time": "2022-04-17T11:28:49.344Z"
   },
   {
    "duration": 384,
    "start_time": "2022-04-17T11:28:51.490Z"
   },
   {
    "duration": 103,
    "start_time": "2022-04-17T11:28:51.877Z"
   },
   {
    "duration": 626,
    "start_time": "2022-04-17T11:28:51.984Z"
   },
   {
    "duration": 8,
    "start_time": "2022-04-17T11:28:52.613Z"
   },
   {
    "duration": 612,
    "start_time": "2022-04-17T11:28:52.624Z"
   },
   {
    "duration": 661,
    "start_time": "2022-04-17T11:28:53.424Z"
   },
   {
    "duration": 283,
    "start_time": "2022-04-17T11:28:54.088Z"
   },
   {
    "duration": 5,
    "start_time": "2022-04-17T11:28:56.375Z"
   },
   {
    "duration": 9,
    "start_time": "2022-04-17T11:28:56.585Z"
   },
   {
    "duration": 7,
    "start_time": "2022-04-17T11:28:56.792Z"
   },
   {
    "duration": 7,
    "start_time": "2022-04-17T11:28:57.764Z"
   },
   {
    "duration": 52025,
    "start_time": "2022-04-17T11:28:59.301Z"
   },
   {
    "duration": 16878,
    "start_time": "2022-04-17T11:29:51.330Z"
   },
   {
    "duration": 303,
    "start_time": "2022-04-17T11:30:08.210Z"
   },
   {
    "duration": 10,
    "start_time": "2022-04-17T11:30:08.516Z"
   },
   {
    "duration": 2326,
    "start_time": "2022-04-17T11:30:08.529Z"
   },
   {
    "duration": 7,
    "start_time": "2022-04-17T11:30:10.857Z"
   },
   {
    "duration": 1917,
    "start_time": "2022-04-17T11:30:13.387Z"
   },
   {
    "duration": 1808,
    "start_time": "2022-04-17T11:30:15.308Z"
   },
   {
    "duration": 2428,
    "start_time": "2022-04-17T11:30:20.102Z"
   },
   {
    "duration": 951,
    "start_time": "2022-04-17T11:30:24.201Z"
   },
   {
    "duration": 15,
    "start_time": "2022-04-17T11:30:26.460Z"
   },
   {
    "duration": 14,
    "start_time": "2022-04-17T11:30:26.739Z"
   },
   {
    "duration": 9,
    "start_time": "2022-04-17T11:30:27.815Z"
   },
   {
    "duration": 1988,
    "start_time": "2022-04-17T11:30:28.217Z"
   },
   {
    "duration": 120,
    "start_time": "2022-04-17T11:30:31.154Z"
   },
   {
    "duration": 4,
    "start_time": "2022-04-17T11:30:34.033Z"
   },
   {
    "duration": 3,
    "start_time": "2022-04-17T11:30:34.256Z"
   },
   {
    "duration": 6,
    "start_time": "2022-04-17T11:30:35.648Z"
   },
   {
    "duration": 7,
    "start_time": "2022-04-17T11:30:36.352Z"
   },
   {
    "duration": 3,
    "start_time": "2022-04-17T11:30:37.038Z"
   },
   {
    "duration": 4,
    "start_time": "2022-04-17T11:30:37.289Z"
   },
   {
    "duration": 4,
    "start_time": "2022-04-17T11:30:37.644Z"
   },
   {
    "duration": 5,
    "start_time": "2022-04-17T11:30:38.755Z"
   },
   {
    "duration": 4,
    "start_time": "2022-04-17T11:30:39.420Z"
   },
   {
    "duration": 520611,
    "start_time": "2022-04-17T11:30:40.848Z"
   },
   {
    "duration": 17,
    "start_time": "2022-04-17T11:39:21.462Z"
   },
   {
    "duration": 319236,
    "start_time": "2022-04-17T11:39:21.482Z"
   },
   {
    "duration": 0,
    "start_time": "2022-04-17T11:44:40.721Z"
   },
   {
    "duration": 292965,
    "start_time": "2022-04-17T11:52:02.106Z"
   },
   {
    "duration": 0,
    "start_time": "2022-04-17T11:56:55.074Z"
   },
   {
    "duration": 6,
    "start_time": "2022-04-17T11:57:37.590Z"
   },
   {
    "duration": 5,
    "start_time": "2022-04-17T11:58:23.839Z"
   },
   {
    "duration": 286673,
    "start_time": "2022-04-17T12:00:11.104Z"
   },
   {
    "duration": 7,
    "start_time": "2022-04-17T12:05:35.473Z"
   },
   {
    "duration": 7,
    "start_time": "2022-04-17T12:05:38.639Z"
   },
   {
    "duration": 7,
    "start_time": "2022-04-17T12:05:48.940Z"
   },
   {
    "duration": 4,
    "start_time": "2022-04-17T12:05:49.645Z"
   },
   {
    "duration": 4,
    "start_time": "2022-04-17T12:05:50.026Z"
   },
   {
    "duration": 4,
    "start_time": "2022-04-17T12:05:50.397Z"
   },
   {
    "duration": 5,
    "start_time": "2022-04-17T12:05:50.852Z"
   },
   {
    "duration": 7,
    "start_time": "2022-04-17T12:05:51.290Z"
   },
   {
    "duration": 290552,
    "start_time": "2022-04-17T12:05:57.348Z"
   },
   {
    "duration": 7,
    "start_time": "2022-04-17T12:12:02.588Z"
   },
   {
    "duration": 5,
    "start_time": "2022-04-17T12:12:07.651Z"
   },
   {
    "duration": 6,
    "start_time": "2022-04-17T12:12:24.275Z"
   },
   {
    "duration": 3,
    "start_time": "2022-04-17T12:12:58.859Z"
   },
   {
    "duration": 5,
    "start_time": "2022-04-17T12:14:06.734Z"
   },
   {
    "duration": 1949,
    "start_time": "2022-04-17T12:14:15.546Z"
   },
   {
    "duration": 320,
    "start_time": "2022-04-17T12:14:17.499Z"
   },
   {
    "duration": 93,
    "start_time": "2022-04-17T12:14:17.822Z"
   },
   {
    "duration": 447,
    "start_time": "2022-04-17T12:14:17.917Z"
   },
   {
    "duration": 6,
    "start_time": "2022-04-17T12:14:18.366Z"
   },
   {
    "duration": 594,
    "start_time": "2022-04-17T12:14:18.961Z"
   },
   {
    "duration": 564,
    "start_time": "2022-04-17T12:14:19.557Z"
   },
   {
    "duration": 281,
    "start_time": "2022-04-17T12:14:20.123Z"
   },
   {
    "duration": 5,
    "start_time": "2022-04-17T12:14:21.942Z"
   },
   {
    "duration": 9,
    "start_time": "2022-04-17T12:14:22.140Z"
   },
   {
    "duration": 7,
    "start_time": "2022-04-17T12:14:22.348Z"
   },
   {
    "duration": 6,
    "start_time": "2022-04-17T12:14:23.265Z"
   },
   {
    "duration": 24145,
    "start_time": "2022-04-17T12:14:24.070Z"
   },
   {
    "duration": 12700,
    "start_time": "2022-04-17T12:14:48.218Z"
   },
   {
    "duration": 364,
    "start_time": "2022-04-17T12:15:00.920Z"
   },
   {
    "duration": 7,
    "start_time": "2022-04-17T12:15:01.287Z"
   },
   {
    "duration": 1967,
    "start_time": "2022-04-17T12:15:01.296Z"
   },
   {
    "duration": 1849,
    "start_time": "2022-04-17T12:15:06.079Z"
   },
   {
    "duration": 1773,
    "start_time": "2022-04-17T12:15:08.961Z"
   },
   {
    "duration": 820,
    "start_time": "2022-04-17T12:15:12.243Z"
   },
   {
    "duration": 10,
    "start_time": "2022-04-17T12:15:13.067Z"
   },
   {
    "duration": 13,
    "start_time": "2022-04-17T12:15:13.079Z"
   },
   {
    "duration": 12,
    "start_time": "2022-04-17T12:15:14.229Z"
   },
   {
    "duration": 1751,
    "start_time": "2022-04-17T12:15:14.464Z"
   },
   {
    "duration": 5,
    "start_time": "2022-04-17T12:15:17.307Z"
   },
   {
    "duration": 37,
    "start_time": "2022-04-17T12:15:25.184Z"
   },
   {
    "duration": 36,
    "start_time": "2022-04-17T12:15:32.655Z"
   },
   {
    "duration": 224,
    "start_time": "2022-04-17T12:15:40.740Z"
   },
   {
    "duration": 4,
    "start_time": "2022-04-17T12:15:48.899Z"
   },
   {
    "duration": 4,
    "start_time": "2022-04-17T12:15:49.370Z"
   },
   {
    "duration": 7,
    "start_time": "2022-04-17T12:15:50.576Z"
   },
   {
    "duration": 7,
    "start_time": "2022-04-17T12:15:51.279Z"
   },
   {
    "duration": 4,
    "start_time": "2022-04-17T12:15:51.751Z"
   },
   {
    "duration": 4,
    "start_time": "2022-04-17T12:15:51.970Z"
   },
   {
    "duration": 5,
    "start_time": "2022-04-17T12:15:52.207Z"
   },
   {
    "duration": 5,
    "start_time": "2022-04-17T12:15:52.454Z"
   },
   {
    "duration": 5,
    "start_time": "2022-04-17T12:15:53.030Z"
   },
   {
    "duration": 530696,
    "start_time": "2022-04-17T12:15:55.464Z"
   },
   {
    "duration": 14,
    "start_time": "2022-04-17T12:24:46.163Z"
   },
   {
    "duration": 10,
    "start_time": "2022-04-17T12:24:46.181Z"
   },
   {
    "duration": 11,
    "start_time": "2022-04-17T12:24:46.195Z"
   },
   {
    "duration": 284719,
    "start_time": "2022-04-17T12:24:46.208Z"
   },
   {
    "duration": 0,
    "start_time": "2022-04-17T12:29:30.929Z"
   },
   {
    "duration": 10,
    "start_time": "2022-04-17T12:49:33.704Z"
   },
   {
    "duration": 4,
    "start_time": "2022-04-17T12:49:34.724Z"
   },
   {
    "duration": 4,
    "start_time": "2022-04-17T12:49:35.064Z"
   },
   {
    "duration": 4,
    "start_time": "2022-04-17T12:49:35.317Z"
   },
   {
    "duration": 5,
    "start_time": "2022-04-17T12:49:35.662Z"
   },
   {
    "duration": 5,
    "start_time": "2022-04-17T12:49:36.611Z"
   },
   {
    "duration": 393371,
    "start_time": "2022-04-17T12:49:48.725Z"
   },
   {
    "duration": 0,
    "start_time": "2022-04-17T12:56:22.099Z"
   },
   {
    "duration": 0,
    "start_time": "2022-04-17T12:56:22.101Z"
   },
   {
    "duration": 0,
    "start_time": "2022-04-17T12:56:22.103Z"
   },
   {
    "duration": 0,
    "start_time": "2022-04-17T12:56:22.104Z"
   },
   {
    "duration": 6,
    "start_time": "2022-04-17T12:58:31.539Z"
   },
   {
    "duration": 6,
    "start_time": "2022-04-17T12:58:46.764Z"
   },
   {
    "duration": 6,
    "start_time": "2022-04-17T12:59:07.312Z"
   },
   {
    "duration": 7,
    "start_time": "2022-04-17T12:59:11.877Z"
   },
   {
    "duration": 5,
    "start_time": "2022-04-17T12:59:15.517Z"
   },
   {
    "duration": 6,
    "start_time": "2022-04-17T12:59:44.700Z"
   },
   {
    "duration": 6,
    "start_time": "2022-04-17T12:59:48.953Z"
   },
   {
    "duration": 6,
    "start_time": "2022-04-17T12:59:54.568Z"
   },
   {
    "duration": 6,
    "start_time": "2022-04-17T13:00:00.199Z"
   },
   {
    "duration": 8,
    "start_time": "2022-04-17T13:00:27.201Z"
   },
   {
    "duration": 6,
    "start_time": "2022-04-17T13:00:28.046Z"
   },
   {
    "duration": 6,
    "start_time": "2022-04-17T13:00:28.556Z"
   },
   {
    "duration": 5,
    "start_time": "2022-04-17T13:00:29.424Z"
   },
   {
    "duration": 5,
    "start_time": "2022-04-17T13:00:30.379Z"
   },
   {
    "duration": 637327,
    "start_time": "2022-04-17T13:00:46.720Z"
   },
   {
    "duration": 0,
    "start_time": "2022-04-17T13:11:24.052Z"
   },
   {
    "duration": 567641,
    "start_time": "2022-04-17T13:11:44.606Z"
   },
   {
    "duration": 15,
    "start_time": "2022-04-17T13:21:12.251Z"
   },
   {
    "duration": 16,
    "start_time": "2022-04-17T13:26:51.136Z"
   },
   {
    "duration": 16,
    "start_time": "2022-04-17T13:27:13.366Z"
   },
   {
    "duration": 12,
    "start_time": "2022-04-17T13:28:43.986Z"
   },
   {
    "duration": 12,
    "start_time": "2022-04-17T13:29:02.705Z"
   },
   {
    "duration": 11,
    "start_time": "2022-04-17T13:30:16.006Z"
   },
   {
    "duration": 7,
    "start_time": "2022-04-17T13:30:22.973Z"
   },
   {
    "duration": 12,
    "start_time": "2022-04-17T13:30:28.458Z"
   },
   {
    "duration": 12,
    "start_time": "2022-04-17T13:32:35.130Z"
   },
   {
    "duration": 11,
    "start_time": "2022-04-17T13:32:45.409Z"
   },
   {
    "duration": 4,
    "start_time": "2022-04-17T13:32:56.819Z"
   },
   {
    "duration": 12,
    "start_time": "2022-04-17T13:33:01.235Z"
   },
   {
    "duration": 12,
    "start_time": "2022-04-17T13:33:40.014Z"
   },
   {
    "duration": 4,
    "start_time": "2022-04-17T13:34:40.336Z"
   },
   {
    "duration": 7,
    "start_time": "2022-04-17T13:35:06.301Z"
   },
   {
    "duration": 7,
    "start_time": "2022-04-17T13:35:06.920Z"
   },
   {
    "duration": 4,
    "start_time": "2022-04-17T13:35:07.550Z"
   },
   {
    "duration": 4,
    "start_time": "2022-04-17T13:35:07.776Z"
   },
   {
    "duration": 4,
    "start_time": "2022-04-17T13:35:08.774Z"
   },
   {
    "duration": 4,
    "start_time": "2022-04-17T13:35:09.402Z"
   },
   {
    "duration": 5,
    "start_time": "2022-04-17T13:35:10.889Z"
   },
   {
    "duration": 14,
    "start_time": "2022-04-17T13:35:16.773Z"
   },
   {
    "duration": 12,
    "start_time": "2022-04-17T13:35:22.243Z"
   },
   {
    "duration": 8,
    "start_time": "2022-04-17T13:35:41.739Z"
   },
   {
    "duration": 6,
    "start_time": "2022-04-17T13:35:41.896Z"
   },
   {
    "duration": 5,
    "start_time": "2022-04-17T13:35:42.340Z"
   },
   {
    "duration": 4,
    "start_time": "2022-04-17T13:35:42.551Z"
   },
   {
    "duration": 4,
    "start_time": "2022-04-17T13:35:42.739Z"
   },
   {
    "duration": 5,
    "start_time": "2022-04-17T13:35:42.932Z"
   },
   {
    "duration": 5,
    "start_time": "2022-04-17T13:35:43.133Z"
   },
   {
    "duration": 488878,
    "start_time": "2022-04-17T13:35:43.737Z"
   },
   {
    "duration": 14,
    "start_time": "2022-04-17T13:43:52.617Z"
   },
   {
    "duration": 563540,
    "start_time": "2022-04-17T13:43:52.633Z"
   },
   {
    "duration": 30,
    "start_time": "2022-04-17T13:53:16.287Z"
   },
   {
    "duration": 9,
    "start_time": "2022-04-17T13:53:16.321Z"
   },
   {
    "duration": 30,
    "start_time": "2022-04-17T13:53:16.332Z"
   },
   {
    "duration": 9,
    "start_time": "2022-04-17T13:54:26.967Z"
   },
   {
    "duration": 85,
    "start_time": "2022-04-17T13:54:56.412Z"
   },
   {
    "duration": 9,
    "start_time": "2022-04-17T13:58:14.274Z"
   },
   {
    "duration": 3,
    "start_time": "2022-04-17T13:58:53.879Z"
   },
   {
    "duration": 15,
    "start_time": "2022-04-17T14:06:50.585Z"
   },
   {
    "duration": 2027,
    "start_time": "2022-04-17T14:09:20.444Z"
   },
   {
    "duration": 17,
    "start_time": "2022-04-17T14:11:31.251Z"
   },
   {
    "duration": 24,
    "start_time": "2022-04-17T14:18:36.898Z"
   },
   {
    "duration": 12,
    "start_time": "2022-04-17T14:18:56.482Z"
   },
   {
    "duration": 39,
    "start_time": "2022-04-17T14:23:17.692Z"
   },
   {
    "duration": 40,
    "start_time": "2022-04-17T14:25:04.374Z"
   },
   {
    "duration": 20,
    "start_time": "2022-04-17T14:25:08.880Z"
   },
   {
    "duration": 21,
    "start_time": "2022-04-17T14:26:29.824Z"
   },
   {
    "duration": 12,
    "start_time": "2022-04-17T14:27:29.682Z"
   },
   {
    "duration": 21,
    "start_time": "2022-04-17T14:27:42.522Z"
   },
   {
    "duration": 4,
    "start_time": "2022-04-17T14:29:08.626Z"
   },
   {
    "duration": 19,
    "start_time": "2022-04-17T14:29:16.076Z"
   },
   {
    "duration": 24,
    "start_time": "2022-04-17T14:29:30.635Z"
   },
   {
    "duration": 5,
    "start_time": "2022-04-17T14:29:43.842Z"
   },
   {
    "duration": 6,
    "start_time": "2022-04-17T14:29:49.427Z"
   },
   {
    "duration": 3,
    "start_time": "2022-04-17T14:30:17.878Z"
   },
   {
    "duration": 5,
    "start_time": "2022-04-17T14:37:42.912Z"
   },
   {
    "duration": 6,
    "start_time": "2022-04-17T14:37:43.723Z"
   },
   {
    "duration": 5,
    "start_time": "2022-04-17T14:37:44.303Z"
   },
   {
    "duration": 5,
    "start_time": "2022-04-17T14:37:46.278Z"
   },
   {
    "duration": 112,
    "start_time": "2022-04-17T14:39:08.383Z"
   },
   {
    "duration": 1937,
    "start_time": "2022-04-17T14:41:56.329Z"
   },
   {
    "duration": 310,
    "start_time": "2022-04-17T14:41:58.269Z"
   },
   {
    "duration": 89,
    "start_time": "2022-04-17T14:41:58.582Z"
   },
   {
    "duration": 405,
    "start_time": "2022-04-17T14:41:58.673Z"
   },
   {
    "duration": 8,
    "start_time": "2022-04-17T14:41:59.080Z"
   },
   {
    "duration": 589,
    "start_time": "2022-04-17T14:41:59.089Z"
   },
   {
    "duration": 574,
    "start_time": "2022-04-17T14:41:59.681Z"
   },
   {
    "duration": 273,
    "start_time": "2022-04-17T14:42:00.258Z"
   },
   {
    "duration": 4,
    "start_time": "2022-04-17T14:42:02.694Z"
   },
   {
    "duration": 10,
    "start_time": "2022-04-17T14:42:02.949Z"
   },
   {
    "duration": 9,
    "start_time": "2022-04-17T14:42:03.173Z"
   },
   {
    "duration": 7,
    "start_time": "2022-04-17T14:42:04.647Z"
   },
   {
    "duration": 20665,
    "start_time": "2022-04-17T14:42:08.366Z"
   },
   {
    "duration": 11993,
    "start_time": "2022-04-17T14:42:29.034Z"
   },
   {
    "duration": 223,
    "start_time": "2022-04-17T14:45:21.688Z"
   },
   {
    "duration": 24,
    "start_time": "2022-04-17T14:45:22.047Z"
   },
   {
    "duration": 5,
    "start_time": "2022-04-17T14:45:37.671Z"
   },
   {
    "duration": 6,
    "start_time": "2022-04-17T14:45:37.882Z"
   },
   {
    "duration": 7,
    "start_time": "2022-04-17T14:45:38.130Z"
   },
   {
    "duration": 6,
    "start_time": "2022-04-17T14:45:39.336Z"
   },
   {
    "duration": 20,
    "start_time": "2022-04-17T14:45:41.639Z"
   },
   {
    "duration": 1939,
    "start_time": "2022-04-17T14:45:53.145Z"
   },
   {
    "duration": 308,
    "start_time": "2022-04-17T14:45:55.086Z"
   },
   {
    "duration": 87,
    "start_time": "2022-04-17T14:45:55.396Z"
   },
   {
    "duration": 404,
    "start_time": "2022-04-17T14:45:55.485Z"
   },
   {
    "duration": 5,
    "start_time": "2022-04-17T14:45:55.891Z"
   },
   {
    "duration": 584,
    "start_time": "2022-04-17T14:45:55.898Z"
   },
   {
    "duration": 545,
    "start_time": "2022-04-17T14:45:56.518Z"
   },
   {
    "duration": 263,
    "start_time": "2022-04-17T14:45:57.107Z"
   },
   {
    "duration": 5,
    "start_time": "2022-04-17T14:46:00.002Z"
   },
   {
    "duration": 10,
    "start_time": "2022-04-17T14:46:00.233Z"
   },
   {
    "duration": 7,
    "start_time": "2022-04-17T14:46:00.459Z"
   },
   {
    "duration": 6,
    "start_time": "2022-04-17T14:46:02.706Z"
   },
   {
    "duration": 20899,
    "start_time": "2022-04-17T14:46:11.519Z"
   },
   {
    "duration": 15814,
    "start_time": "2022-04-17T14:46:32.421Z"
   },
   {
    "duration": 1967,
    "start_time": "2022-04-17T14:47:27.705Z"
   },
   {
    "duration": 310,
    "start_time": "2022-04-17T14:47:29.674Z"
   },
   {
    "duration": 92,
    "start_time": "2022-04-17T14:47:29.987Z"
   },
   {
    "duration": 409,
    "start_time": "2022-04-17T14:47:30.081Z"
   },
   {
    "duration": 7,
    "start_time": "2022-04-17T14:47:30.493Z"
   },
   {
    "duration": 595,
    "start_time": "2022-04-17T14:47:30.502Z"
   },
   {
    "duration": 559,
    "start_time": "2022-04-17T14:47:31.099Z"
   },
   {
    "duration": 278,
    "start_time": "2022-04-17T14:47:31.660Z"
   },
   {
    "duration": 5,
    "start_time": "2022-04-17T14:47:34.840Z"
   },
   {
    "duration": 528,
    "start_time": "2022-04-17T14:47:35.099Z"
   },
   {
    "duration": 555,
    "start_time": "2022-04-17T14:47:35.629Z"
   },
   {
    "duration": 275,
    "start_time": "2022-04-17T14:47:36.186Z"
   },
   {
    "duration": 5,
    "start_time": "2022-04-17T14:47:37.540Z"
   },
   {
    "duration": 11,
    "start_time": "2022-04-17T14:47:38.645Z"
   },
   {
    "duration": 7,
    "start_time": "2022-04-17T14:47:38.857Z"
   },
   {
    "duration": 7,
    "start_time": "2022-04-17T14:47:40.313Z"
   },
   {
    "duration": 12619,
    "start_time": "2022-04-17T14:48:04.290Z"
   },
   {
    "duration": 199,
    "start_time": "2022-04-17T14:48:16.912Z"
   },
   {
    "duration": 32,
    "start_time": "2022-04-17T14:48:29.099Z"
   },
   {
    "duration": 9,
    "start_time": "2022-04-17T14:51:24.499Z"
   },
   {
    "duration": 2008,
    "start_time": "2022-04-17T14:51:30.929Z"
   },
   {
    "duration": 328,
    "start_time": "2022-04-17T14:51:32.940Z"
   },
   {
    "duration": 90,
    "start_time": "2022-04-17T14:51:33.270Z"
   },
   {
    "duration": 419,
    "start_time": "2022-04-17T14:51:33.363Z"
   },
   {
    "duration": 8,
    "start_time": "2022-04-17T14:51:33.785Z"
   },
   {
    "duration": 583,
    "start_time": "2022-04-17T14:51:33.796Z"
   },
   {
    "duration": 561,
    "start_time": "2022-04-17T14:51:34.381Z"
   },
   {
    "duration": 270,
    "start_time": "2022-04-17T14:51:34.944Z"
   },
   {
    "duration": 4,
    "start_time": "2022-04-17T14:51:36.056Z"
   },
   {
    "duration": 9,
    "start_time": "2022-04-17T14:51:36.250Z"
   },
   {
    "duration": 7,
    "start_time": "2022-04-17T14:51:36.470Z"
   },
   {
    "duration": 6,
    "start_time": "2022-04-17T14:51:37.469Z"
   },
   {
    "duration": 3,
    "start_time": "2022-04-17T14:51:39.342Z"
   },
   {
    "duration": 12796,
    "start_time": "2022-04-17T14:51:39.750Z"
   },
   {
    "duration": 174,
    "start_time": "2022-04-17T14:55:54.387Z"
   },
   {
    "duration": 19,
    "start_time": "2022-04-17T14:56:10.493Z"
   },
   {
    "duration": 40,
    "start_time": "2022-04-17T14:58:38.509Z"
   },
   {
    "duration": 18,
    "start_time": "2022-04-17T14:59:18.396Z"
   },
   {
    "duration": 41,
    "start_time": "2022-04-17T14:59:22.296Z"
   },
   {
    "duration": 9,
    "start_time": "2022-04-17T14:59:57.039Z"
   },
   {
    "duration": 40,
    "start_time": "2022-04-17T15:00:00.015Z"
   },
   {
    "duration": 6,
    "start_time": "2022-04-17T15:00:03.578Z"
   },
   {
    "duration": 12,
    "start_time": "2022-04-17T15:00:28.468Z"
   },
   {
    "duration": 8,
    "start_time": "2022-04-17T15:01:40.099Z"
   },
   {
    "duration": 6,
    "start_time": "2022-04-17T15:01:40.361Z"
   },
   {
    "duration": 39,
    "start_time": "2022-04-17T15:01:43.451Z"
   },
   {
    "duration": 1913,
    "start_time": "2022-04-17T15:02:10.761Z"
   },
   {
    "duration": 325,
    "start_time": "2022-04-17T15:02:12.677Z"
   },
   {
    "duration": 88,
    "start_time": "2022-04-17T15:02:13.004Z"
   },
   {
    "duration": 431,
    "start_time": "2022-04-17T15:02:13.096Z"
   },
   {
    "duration": 7,
    "start_time": "2022-04-17T15:02:13.529Z"
   },
   {
    "duration": 587,
    "start_time": "2022-04-17T15:02:13.539Z"
   },
   {
    "duration": 566,
    "start_time": "2022-04-17T15:02:14.128Z"
   },
   {
    "duration": 278,
    "start_time": "2022-04-17T15:02:14.698Z"
   },
   {
    "duration": 4,
    "start_time": "2022-04-17T15:02:16.425Z"
   },
   {
    "duration": 10,
    "start_time": "2022-04-17T15:02:16.589Z"
   },
   {
    "duration": 6,
    "start_time": "2022-04-17T15:02:16.758Z"
   },
   {
    "duration": 6,
    "start_time": "2022-04-17T15:02:19.050Z"
   },
   {
    "duration": 3,
    "start_time": "2022-04-17T15:02:20.848Z"
   },
   {
    "duration": 14309,
    "start_time": "2022-04-17T15:02:21.228Z"
   },
   {
    "duration": 15,
    "start_time": "2022-04-17T15:02:35.540Z"
   },
   {
    "duration": 25,
    "start_time": "2022-04-17T15:02:35.557Z"
   },
   {
    "duration": 5,
    "start_time": "2022-04-17T15:02:42.596Z"
   },
   {
    "duration": 9,
    "start_time": "2022-04-17T15:03:01.386Z"
   },
   {
    "duration": 5,
    "start_time": "2022-04-17T15:03:01.885Z"
   },
   {
    "duration": 5,
    "start_time": "2022-04-17T15:03:45.217Z"
   },
   {
    "duration": 8,
    "start_time": "2022-04-17T15:03:45.469Z"
   },
   {
    "duration": 5,
    "start_time": "2022-04-17T15:03:45.913Z"
   },
   {
    "duration": 5,
    "start_time": "2022-04-17T15:03:46.720Z"
   },
   {
    "duration": 6,
    "start_time": "2022-04-17T15:03:47.234Z"
   },
   {
    "duration": 6,
    "start_time": "2022-04-17T15:03:47.935Z"
   },
   {
    "duration": 5,
    "start_time": "2022-04-17T15:04:03.784Z"
   },
   {
    "duration": 7,
    "start_time": "2022-04-17T15:04:41.169Z"
   },
   {
    "duration": 164,
    "start_time": "2022-04-17T15:04:41.702Z"
   },
   {
    "duration": 4,
    "start_time": "2022-04-17T15:04:52.892Z"
   },
   {
    "duration": 3,
    "start_time": "2022-04-17T15:04:55.860Z"
   },
   {
    "duration": 4,
    "start_time": "2022-04-17T15:04:56.093Z"
   },
   {
    "duration": 8,
    "start_time": "2022-04-17T15:05:00.488Z"
   },
   {
    "duration": 9,
    "start_time": "2022-04-17T15:10:58.076Z"
   },
   {
    "duration": 6,
    "start_time": "2022-04-17T15:14:02.830Z"
   },
   {
    "duration": 40,
    "start_time": "2022-04-17T15:15:32.578Z"
   },
   {
    "duration": 40,
    "start_time": "2022-04-17T15:15:43.448Z"
   },
   {
    "duration": 5,
    "start_time": "2022-04-17T15:15:50.005Z"
   },
   {
    "duration": 5,
    "start_time": "2022-04-17T15:15:57.502Z"
   },
   {
    "duration": 6,
    "start_time": "2022-04-17T15:16:19.262Z"
   },
   {
    "duration": 5,
    "start_time": "2022-04-17T15:16:21.693Z"
   },
   {
    "duration": 2022,
    "start_time": "2022-04-17T15:16:40.144Z"
   },
   {
    "duration": 328,
    "start_time": "2022-04-17T15:16:42.169Z"
   },
   {
    "duration": 97,
    "start_time": "2022-04-17T15:16:42.500Z"
   },
   {
    "duration": 419,
    "start_time": "2022-04-17T15:16:42.600Z"
   },
   {
    "duration": 7,
    "start_time": "2022-04-17T15:16:43.021Z"
   },
   {
    "duration": 597,
    "start_time": "2022-04-17T15:16:43.031Z"
   },
   {
    "duration": 572,
    "start_time": "2022-04-17T15:16:43.631Z"
   },
   {
    "duration": 287,
    "start_time": "2022-04-17T15:16:44.206Z"
   },
   {
    "duration": 13,
    "start_time": "2022-04-17T15:16:44.859Z"
   },
   {
    "duration": 16,
    "start_time": "2022-04-17T15:16:45.048Z"
   },
   {
    "duration": 8,
    "start_time": "2022-04-17T15:16:45.224Z"
   },
   {
    "duration": 6,
    "start_time": "2022-04-17T15:16:46.234Z"
   },
   {
    "duration": 3,
    "start_time": "2022-04-17T15:16:47.251Z"
   },
   {
    "duration": 12995,
    "start_time": "2022-04-17T15:16:47.617Z"
   },
   {
    "duration": 8,
    "start_time": "2022-04-17T15:17:00.615Z"
   },
   {
    "duration": 32,
    "start_time": "2022-04-17T15:17:00.625Z"
   },
   {
    "duration": 9,
    "start_time": "2022-04-17T15:17:00.661Z"
   },
   {
    "duration": 6,
    "start_time": "2022-04-17T15:17:00.672Z"
   },
   {
    "duration": 18,
    "start_time": "2022-04-17T15:17:00.680Z"
   },
   {
    "duration": 16,
    "start_time": "2022-04-17T15:17:00.700Z"
   },
   {
    "duration": 12,
    "start_time": "2022-04-17T15:17:00.719Z"
   },
   {
    "duration": 265,
    "start_time": "2022-04-17T15:17:00.734Z"
   },
   {
    "duration": 0,
    "start_time": "2022-04-17T15:17:01.001Z"
   },
   {
    "duration": 4,
    "start_time": "2022-04-17T15:17:06.580Z"
   },
   {
    "duration": 8,
    "start_time": "2022-04-17T15:17:27.278Z"
   },
   {
    "duration": 5,
    "start_time": "2022-04-17T15:17:32.497Z"
   },
   {
    "duration": 6,
    "start_time": "2022-04-17T15:17:37.174Z"
   },
   {
    "duration": 17,
    "start_time": "2022-04-17T15:19:42.959Z"
   },
   {
    "duration": 9,
    "start_time": "2022-04-17T15:19:43.441Z"
   },
   {
    "duration": 4,
    "start_time": "2022-04-17T15:19:44.173Z"
   },
   {
    "duration": 4,
    "start_time": "2022-04-17T15:19:45.133Z"
   },
   {
    "duration": 276,
    "start_time": "2022-04-17T15:19:45.411Z"
   },
   {
    "duration": 4,
    "start_time": "2022-04-17T15:20:36.959Z"
   },
   {
    "duration": 3,
    "start_time": "2022-04-17T15:20:37.215Z"
   },
   {
    "duration": 4,
    "start_time": "2022-04-17T15:20:55.598Z"
   },
   {
    "duration": 4,
    "start_time": "2022-04-17T15:20:56.009Z"
   },
   {
    "duration": 24,
    "start_time": "2022-04-17T15:22:20.514Z"
   },
   {
    "duration": 1990,
    "start_time": "2022-04-17T15:22:32.302Z"
   },
   {
    "duration": 371,
    "start_time": "2022-04-17T15:22:34.295Z"
   },
   {
    "duration": 138,
    "start_time": "2022-04-17T15:22:34.669Z"
   },
   {
    "duration": 673,
    "start_time": "2022-04-17T15:22:34.811Z"
   },
   {
    "duration": 9,
    "start_time": "2022-04-17T15:22:35.487Z"
   },
   {
    "duration": 839,
    "start_time": "2022-04-17T15:22:35.498Z"
   },
   {
    "duration": 805,
    "start_time": "2022-04-17T15:22:36.340Z"
   },
   {
    "duration": 271,
    "start_time": "2022-04-17T15:22:37.147Z"
   },
   {
    "duration": 4,
    "start_time": "2022-04-17T15:22:37.620Z"
   },
   {
    "duration": 11,
    "start_time": "2022-04-17T15:22:37.813Z"
   },
   {
    "duration": 7,
    "start_time": "2022-04-17T15:22:38.142Z"
   },
   {
    "duration": 6,
    "start_time": "2022-04-17T15:22:39.088Z"
   },
   {
    "duration": 13965,
    "start_time": "2022-04-17T15:22:40.542Z"
   },
   {
    "duration": 19,
    "start_time": "2022-04-17T15:25:42.177Z"
   },
   {
    "duration": 10,
    "start_time": "2022-04-17T15:25:45.647Z"
   },
   {
    "duration": 5,
    "start_time": "2022-04-17T15:25:46.306Z"
   },
   {
    "duration": 4,
    "start_time": "2022-04-17T15:25:46.646Z"
   },
   {
    "duration": 245,
    "start_time": "2022-04-17T15:26:09.545Z"
   },
   {
    "duration": 7,
    "start_time": "2022-04-17T15:26:48.025Z"
   },
   {
    "duration": 1738,
    "start_time": "2022-04-17T15:26:48.615Z"
   },
   {
    "duration": 1914,
    "start_time": "2022-04-17T15:26:51.781Z"
   },
   {
    "duration": 1770,
    "start_time": "2022-04-17T15:26:54.711Z"
   },
   {
    "duration": 768,
    "start_time": "2022-04-17T15:26:57.784Z"
   },
   {
    "duration": 11,
    "start_time": "2022-04-17T15:26:58.554Z"
   },
   {
    "duration": 13,
    "start_time": "2022-04-17T15:26:59.043Z"
   },
   {
    "duration": 12,
    "start_time": "2022-04-17T15:26:59.903Z"
   },
   {
    "duration": 1876,
    "start_time": "2022-04-17T15:27:00.381Z"
   },
   {
    "duration": 6,
    "start_time": "2022-04-17T15:27:03.417Z"
   },
   {
    "duration": 232,
    "start_time": "2022-04-17T15:27:03.920Z"
   },
   {
    "duration": 5,
    "start_time": "2022-04-17T15:27:11.154Z"
   },
   {
    "duration": 4,
    "start_time": "2022-04-17T15:27:11.759Z"
   },
   {
    "duration": 8,
    "start_time": "2022-04-17T15:27:14.342Z"
   },
   {
    "duration": 8,
    "start_time": "2022-04-17T15:27:14.852Z"
   },
   {
    "duration": 5,
    "start_time": "2022-04-17T15:27:15.426Z"
   },
   {
    "duration": 4,
    "start_time": "2022-04-17T15:27:15.629Z"
   },
   {
    "duration": 5,
    "start_time": "2022-04-17T15:27:15.826Z"
   },
   {
    "duration": 6,
    "start_time": "2022-04-17T15:27:16.045Z"
   },
   {
    "duration": 4,
    "start_time": "2022-04-17T15:27:16.254Z"
   },
   {
    "duration": 490075,
    "start_time": "2022-04-17T15:27:16.957Z"
   },
   {
    "duration": 23,
    "start_time": "2022-04-17T15:35:27.035Z"
   },
   {
    "duration": 526639,
    "start_time": "2022-04-17T15:35:27.060Z"
   },
   {
    "duration": 14,
    "start_time": "2022-04-17T15:44:13.703Z"
   },
   {
    "duration": 7,
    "start_time": "2022-04-17T15:44:13.720Z"
   },
   {
    "duration": 32,
    "start_time": "2022-04-17T15:44:13.729Z"
   },
   {
    "duration": 6,
    "start_time": "2022-04-17T15:44:13.763Z"
   },
   {
    "duration": 9,
    "start_time": "2022-04-17T15:44:13.771Z"
   },
   {
    "duration": 7,
    "start_time": "2022-04-17T15:44:13.782Z"
   },
   {
    "duration": 6,
    "start_time": "2022-04-17T15:44:13.792Z"
   },
   {
    "duration": 13,
    "start_time": "2022-04-17T15:44:28.431Z"
   },
   {
    "duration": 6,
    "start_time": "2022-04-17T15:44:29.380Z"
   },
   {
    "duration": 10,
    "start_time": "2022-04-17T15:44:30.321Z"
   },
   {
    "duration": 5,
    "start_time": "2022-04-17T15:44:31.561Z"
   },
   {
    "duration": 6,
    "start_time": "2022-04-17T15:44:32.135Z"
   },
   {
    "duration": 5,
    "start_time": "2022-04-17T15:44:32.513Z"
   },
   {
    "duration": 5,
    "start_time": "2022-04-17T15:44:32.916Z"
   },
   {
    "duration": 17,
    "start_time": "2022-04-17T15:44:51.402Z"
   },
   {
    "duration": 15,
    "start_time": "2022-04-17T15:49:16.105Z"
   },
   {
    "duration": 30,
    "start_time": "2022-04-17T15:49:17.738Z"
   },
   {
    "duration": 71,
    "start_time": "2022-04-17T15:49:18.259Z"
   },
   {
    "duration": 12,
    "start_time": "2022-04-17T15:49:20.242Z"
   },
   {
    "duration": 30,
    "start_time": "2022-04-17T15:50:44.585Z"
   },
   {
    "duration": 72,
    "start_time": "2022-04-17T15:50:44.891Z"
   },
   {
    "duration": 197,
    "start_time": "2022-04-17T15:50:45.248Z"
   },
   {
    "duration": 28,
    "start_time": "2022-04-17T15:51:03.291Z"
   },
   {
    "duration": 6,
    "start_time": "2022-04-17T15:52:37.777Z"
   },
   {
    "duration": 6,
    "start_time": "2022-04-17T15:52:47.357Z"
   },
   {
    "duration": 7,
    "start_time": "2022-04-17T15:53:32.913Z"
   },
   {
    "duration": 7,
    "start_time": "2022-04-17T15:53:41.797Z"
   },
   {
    "duration": 7,
    "start_time": "2022-04-17T15:54:50.459Z"
   },
   {
    "duration": 7,
    "start_time": "2022-04-17T15:54:56.545Z"
   },
   {
    "duration": 26,
    "start_time": "2022-04-17T15:55:42.144Z"
   },
   {
    "duration": 3,
    "start_time": "2022-04-17T15:55:47.288Z"
   },
   {
    "duration": 3,
    "start_time": "2022-04-17T15:55:49.698Z"
   },
   {
    "duration": 27,
    "start_time": "2022-04-17T15:58:11.956Z"
   },
   {
    "duration": 5,
    "start_time": "2022-04-17T15:59:38.444Z"
   },
   {
    "duration": 11,
    "start_time": "2022-04-17T16:00:31.322Z"
   },
   {
    "duration": 3,
    "start_time": "2022-04-17T16:00:50.268Z"
   },
   {
    "duration": 16,
    "start_time": "2022-04-17T16:06:55.643Z"
   },
   {
    "duration": 12,
    "start_time": "2022-04-17T16:07:50.750Z"
   },
   {
    "duration": 6,
    "start_time": "2022-04-17T16:11:17.184Z"
   },
   {
    "duration": 6,
    "start_time": "2022-04-17T16:11:55.282Z"
   },
   {
    "duration": 15,
    "start_time": "2022-04-17T16:12:28.050Z"
   },
   {
    "duration": 24,
    "start_time": "2022-04-17T16:13:03.515Z"
   },
   {
    "duration": 14,
    "start_time": "2022-04-17T16:13:49.010Z"
   },
   {
    "duration": 18,
    "start_time": "2022-04-17T16:15:10.284Z"
   },
   {
    "duration": 15,
    "start_time": "2022-04-17T16:15:24.159Z"
   },
   {
    "duration": 5,
    "start_time": "2022-04-17T16:23:22.322Z"
   },
   {
    "duration": 4,
    "start_time": "2022-04-17T16:23:22.658Z"
   },
   {
    "duration": 6171,
    "start_time": "2022-04-17T16:27:31.858Z"
   },
   {
    "duration": 2155,
    "start_time": "2022-04-17T16:29:13.992Z"
   },
   {
    "duration": 388,
    "start_time": "2022-04-17T16:29:16.150Z"
   },
   {
    "duration": 101,
    "start_time": "2022-04-17T16:29:16.541Z"
   },
   {
    "duration": 458,
    "start_time": "2022-04-17T16:29:16.645Z"
   },
   {
    "duration": 9,
    "start_time": "2022-04-17T16:29:17.105Z"
   },
   {
    "duration": 627,
    "start_time": "2022-04-17T16:29:17.117Z"
   },
   {
    "duration": 571,
    "start_time": "2022-04-17T16:29:17.747Z"
   },
   {
    "duration": 278,
    "start_time": "2022-04-17T16:29:18.320Z"
   },
   {
    "duration": 4,
    "start_time": "2022-04-17T16:29:18.601Z"
   },
   {
    "duration": 15,
    "start_time": "2022-04-17T16:29:18.607Z"
   },
   {
    "duration": 31,
    "start_time": "2022-04-17T16:29:18.624Z"
   },
   {
    "duration": 7,
    "start_time": "2022-04-17T16:29:19.801Z"
   },
   {
    "duration": 14338,
    "start_time": "2022-04-17T16:29:21.205Z"
   },
   {
    "duration": 13,
    "start_time": "2022-04-17T16:29:35.546Z"
   },
   {
    "duration": 23,
    "start_time": "2022-04-17T16:29:35.561Z"
   },
   {
    "duration": 9,
    "start_time": "2022-04-17T16:29:35.587Z"
   },
   {
    "duration": 5,
    "start_time": "2022-04-17T16:29:35.598Z"
   },
   {
    "duration": 5,
    "start_time": "2022-04-17T16:29:35.605Z"
   },
   {
    "duration": 274,
    "start_time": "2022-04-17T16:29:35.612Z"
   },
   {
    "duration": 7,
    "start_time": "2022-04-17T16:29:35.888Z"
   },
   {
    "duration": 1854,
    "start_time": "2022-04-17T16:29:35.898Z"
   },
   {
    "duration": 1861,
    "start_time": "2022-04-17T16:29:39.192Z"
   },
   {
    "duration": 1779,
    "start_time": "2022-04-17T16:29:41.056Z"
   },
   {
    "duration": 817,
    "start_time": "2022-04-17T16:29:42.838Z"
   },
   {
    "duration": 12,
    "start_time": "2022-04-17T16:29:43.658Z"
   },
   {
    "duration": 10,
    "start_time": "2022-04-17T16:29:43.673Z"
   },
   {
    "duration": 10,
    "start_time": "2022-04-17T16:29:43.685Z"
   },
   {
    "duration": 1832,
    "start_time": "2022-04-17T16:29:43.697Z"
   },
   {
    "duration": 5,
    "start_time": "2022-04-17T16:29:45.532Z"
   },
   {
    "duration": 255,
    "start_time": "2022-04-17T16:29:45.539Z"
   },
   {
    "duration": 4,
    "start_time": "2022-04-17T16:29:47.655Z"
   },
   {
    "duration": 4,
    "start_time": "2022-04-17T16:29:47.951Z"
   },
   {
    "duration": 165,
    "start_time": "2022-04-17T16:30:02.683Z"
   },
   {
    "duration": 7,
    "start_time": "2022-04-17T16:30:15.474Z"
   },
   {
    "duration": 7,
    "start_time": "2022-04-17T16:30:16.145Z"
   },
   {
    "duration": 6239,
    "start_time": "2022-04-17T16:30:21.912Z"
   },
   {
    "duration": 8,
    "start_time": "2022-04-17T16:32:24.778Z"
   },
   {
    "duration": 16,
    "start_time": "2022-04-17T16:32:34.918Z"
   },
   {
    "duration": 15,
    "start_time": "2022-04-17T16:33:52.012Z"
   },
   {
    "duration": 106,
    "start_time": "2022-04-17T16:35:53.395Z"
   },
   {
    "duration": 12,
    "start_time": "2022-04-17T16:37:47.276Z"
   },
   {
    "duration": 10,
    "start_time": "2022-04-17T16:37:53.380Z"
   },
   {
    "duration": 5,
    "start_time": "2022-04-17T16:37:57.874Z"
   },
   {
    "duration": 16,
    "start_time": "2022-04-17T16:38:03.010Z"
   },
   {
    "duration": 12,
    "start_time": "2022-04-17T16:38:07.813Z"
   },
   {
    "duration": 15,
    "start_time": "2022-04-17T16:38:17.210Z"
   },
   {
    "duration": 11,
    "start_time": "2022-04-17T16:38:20.097Z"
   },
   {
    "duration": 1914,
    "start_time": "2022-04-17T16:38:30.167Z"
   },
   {
    "duration": 323,
    "start_time": "2022-04-17T16:38:32.084Z"
   },
   {
    "duration": 90,
    "start_time": "2022-04-17T16:38:32.409Z"
   },
   {
    "duration": 413,
    "start_time": "2022-04-17T16:38:32.502Z"
   },
   {
    "duration": 7,
    "start_time": "2022-04-17T16:38:32.917Z"
   },
   {
    "duration": 574,
    "start_time": "2022-04-17T16:38:32.926Z"
   },
   {
    "duration": 560,
    "start_time": "2022-04-17T16:38:33.503Z"
   },
   {
    "duration": 266,
    "start_time": "2022-04-17T16:38:34.065Z"
   },
   {
    "duration": 5,
    "start_time": "2022-04-17T16:38:34.768Z"
   },
   {
    "duration": 11,
    "start_time": "2022-04-17T16:38:34.935Z"
   },
   {
    "duration": 7,
    "start_time": "2022-04-17T16:38:35.118Z"
   },
   {
    "duration": 7,
    "start_time": "2022-04-17T16:38:36.154Z"
   },
   {
    "duration": 13133,
    "start_time": "2022-04-17T16:38:37.089Z"
   },
   {
    "duration": 9,
    "start_time": "2022-04-17T16:38:50.225Z"
   },
   {
    "duration": 29,
    "start_time": "2022-04-17T16:38:50.236Z"
   },
   {
    "duration": 9,
    "start_time": "2022-04-17T16:38:50.268Z"
   },
   {
    "duration": 3,
    "start_time": "2022-04-17T16:38:50.279Z"
   },
   {
    "duration": 7,
    "start_time": "2022-04-17T16:38:50.284Z"
   },
   {
    "duration": 300,
    "start_time": "2022-04-17T16:38:50.293Z"
   },
   {
    "duration": 7,
    "start_time": "2022-04-17T16:38:50.596Z"
   },
   {
    "duration": 1738,
    "start_time": "2022-04-17T16:38:50.605Z"
   },
   {
    "duration": 2067,
    "start_time": "2022-04-17T16:38:52.347Z"
   },
   {
    "duration": 1729,
    "start_time": "2022-04-17T16:38:54.416Z"
   },
   {
    "duration": 782,
    "start_time": "2022-04-17T16:38:56.152Z"
   },
   {
    "duration": 19,
    "start_time": "2022-04-17T16:38:56.937Z"
   },
   {
    "duration": 10,
    "start_time": "2022-04-17T16:38:56.958Z"
   },
   {
    "duration": 9,
    "start_time": "2022-04-17T16:38:56.970Z"
   },
   {
    "duration": 1747,
    "start_time": "2022-04-17T16:38:56.981Z"
   },
   {
    "duration": 5,
    "start_time": "2022-04-17T16:38:58.731Z"
   },
   {
    "duration": 229,
    "start_time": "2022-04-17T16:38:58.751Z"
   },
   {
    "duration": 4,
    "start_time": "2022-04-17T16:38:58.983Z"
   },
   {
    "duration": 4,
    "start_time": "2022-04-17T16:39:01.797Z"
   },
   {
    "duration": 7,
    "start_time": "2022-04-17T16:39:03.045Z"
   },
   {
    "duration": 8,
    "start_time": "2022-04-17T16:39:03.641Z"
   },
   {
    "duration": 3,
    "start_time": "2022-04-17T16:40:51.964Z"
   },
   {
    "duration": 2008,
    "start_time": "2022-04-17T16:49:06.850Z"
   },
   {
    "duration": 309,
    "start_time": "2022-04-17T16:49:08.861Z"
   },
   {
    "duration": 84,
    "start_time": "2022-04-17T16:49:09.172Z"
   },
   {
    "duration": 393,
    "start_time": "2022-04-17T16:49:09.259Z"
   },
   {
    "duration": 6,
    "start_time": "2022-04-17T16:49:09.655Z"
   },
   {
    "duration": 700,
    "start_time": "2022-04-17T16:49:09.663Z"
   },
   {
    "duration": 571,
    "start_time": "2022-04-17T16:49:10.365Z"
   },
   {
    "duration": 288,
    "start_time": "2022-04-17T16:49:10.939Z"
   },
   {
    "duration": 5,
    "start_time": "2022-04-17T16:49:11.744Z"
   },
   {
    "duration": 10,
    "start_time": "2022-04-17T16:49:12.087Z"
   },
   {
    "duration": 7,
    "start_time": "2022-04-17T16:49:12.291Z"
   },
   {
    "duration": 7,
    "start_time": "2022-04-17T16:49:13.180Z"
   },
   {
    "duration": 18663,
    "start_time": "2022-04-17T16:49:14.359Z"
   },
   {
    "duration": 8,
    "start_time": "2022-04-17T16:49:33.024Z"
   },
   {
    "duration": 1918,
    "start_time": "2022-04-17T16:49:33.034Z"
   },
   {
    "duration": 1988,
    "start_time": "2022-04-17T16:49:35.863Z"
   },
   {
    "duration": 1799,
    "start_time": "2022-04-17T16:49:37.854Z"
   },
   {
    "duration": 789,
    "start_time": "2022-04-17T16:49:39.655Z"
   },
   {
    "duration": 13,
    "start_time": "2022-04-17T16:49:40.446Z"
   },
   {
    "duration": 11,
    "start_time": "2022-04-17T16:49:40.462Z"
   },
   {
    "duration": 10,
    "start_time": "2022-04-17T16:49:41.036Z"
   },
   {
    "duration": 1813,
    "start_time": "2022-04-17T16:49:41.231Z"
   },
   {
    "duration": 7,
    "start_time": "2022-04-17T16:49:43.053Z"
   },
   {
    "duration": 262,
    "start_time": "2022-04-17T16:49:43.063Z"
   },
   {
    "duration": 5,
    "start_time": "2022-04-17T16:49:43.372Z"
   },
   {
    "duration": 4,
    "start_time": "2022-04-17T16:49:43.629Z"
   },
   {
    "duration": 173,
    "start_time": "2022-04-17T16:49:44.999Z"
   },
   {
    "duration": 2163,
    "start_time": "2022-04-17T16:51:37.765Z"
   },
   {
    "duration": 337,
    "start_time": "2022-04-17T16:51:39.930Z"
   },
   {
    "duration": 90,
    "start_time": "2022-04-17T16:51:40.269Z"
   },
   {
    "duration": 427,
    "start_time": "2022-04-17T16:51:40.362Z"
   },
   {
    "duration": 7,
    "start_time": "2022-04-17T16:51:40.791Z"
   },
   {
    "duration": 581,
    "start_time": "2022-04-17T16:51:40.800Z"
   },
   {
    "duration": 553,
    "start_time": "2022-04-17T16:51:41.384Z"
   },
   {
    "duration": 272,
    "start_time": "2022-04-17T16:51:41.939Z"
   },
   {
    "duration": 5,
    "start_time": "2022-04-17T16:51:42.635Z"
   },
   {
    "duration": 9,
    "start_time": "2022-04-17T16:51:42.803Z"
   },
   {
    "duration": 6,
    "start_time": "2022-04-17T16:51:42.971Z"
   },
   {
    "duration": 6,
    "start_time": "2022-04-17T16:51:43.815Z"
   },
   {
    "duration": 13845,
    "start_time": "2022-04-17T16:51:44.809Z"
   },
   {
    "duration": 10,
    "start_time": "2022-04-17T16:51:58.657Z"
   },
   {
    "duration": 20,
    "start_time": "2022-04-17T16:51:58.670Z"
   },
   {
    "duration": 9,
    "start_time": "2022-04-17T16:51:58.693Z"
   },
   {
    "duration": 5,
    "start_time": "2022-04-17T16:51:58.704Z"
   },
   {
    "duration": 43,
    "start_time": "2022-04-17T16:51:58.711Z"
   },
   {
    "duration": 334,
    "start_time": "2022-04-17T16:51:58.756Z"
   },
   {
    "duration": 7,
    "start_time": "2022-04-17T16:52:12.593Z"
   },
   {
    "duration": 1724,
    "start_time": "2022-04-17T16:52:12.910Z"
   },
   {
    "duration": 1923,
    "start_time": "2022-04-17T16:52:14.637Z"
   },
   {
    "duration": 1782,
    "start_time": "2022-04-17T16:52:16.563Z"
   },
   {
    "duration": 802,
    "start_time": "2022-04-17T16:52:18.353Z"
   },
   {
    "duration": 12,
    "start_time": "2022-04-17T16:52:19.157Z"
   },
   {
    "duration": 10,
    "start_time": "2022-04-17T16:52:19.171Z"
   },
   {
    "duration": 11,
    "start_time": "2022-04-17T16:52:19.183Z"
   },
   {
    "duration": 2144,
    "start_time": "2022-04-17T16:52:19.196Z"
   },
   {
    "duration": 6,
    "start_time": "2022-04-17T16:52:21.352Z"
   },
   {
    "duration": 253,
    "start_time": "2022-04-17T16:52:21.360Z"
   },
   {
    "duration": 5,
    "start_time": "2022-04-17T16:52:21.616Z"
   },
   {
    "duration": 6,
    "start_time": "2022-04-17T16:52:21.623Z"
   },
   {
    "duration": 22,
    "start_time": "2022-04-17T16:52:21.631Z"
   },
   {
    "duration": 15,
    "start_time": "2022-04-17T16:52:21.656Z"
   },
   {
    "duration": 8635,
    "start_time": "2022-04-17T16:52:49.857Z"
   },
   {
    "duration": 8904,
    "start_time": "2022-04-17T16:53:26.258Z"
   },
   {
    "duration": 6430,
    "start_time": "2022-04-17T16:54:43.033Z"
   },
   {
    "duration": 6610,
    "start_time": "2022-04-17T16:55:50.827Z"
   },
   {
    "duration": 51703,
    "start_time": "2022-04-17T16:55:57.440Z"
   },
   {
    "duration": 8,
    "start_time": "2022-04-17T16:56:49.146Z"
   },
   {
    "duration": 6553,
    "start_time": "2022-04-17T16:56:56.568Z"
   },
   {
    "duration": 5,
    "start_time": "2022-04-17T16:57:10.310Z"
   },
   {
    "duration": 6,
    "start_time": "2022-04-17T16:57:17.071Z"
   },
   {
    "duration": 6,
    "start_time": "2022-04-17T16:58:16.915Z"
   },
   {
    "duration": 169,
    "start_time": "2022-04-17T17:00:57.762Z"
   },
   {
    "duration": 3,
    "start_time": "2022-04-17T17:01:07.099Z"
   },
   {
    "duration": 4,
    "start_time": "2022-04-17T17:01:07.349Z"
   },
   {
    "duration": 4,
    "start_time": "2022-04-17T17:01:07.569Z"
   },
   {
    "duration": 5,
    "start_time": "2022-04-17T17:01:08.144Z"
   },
   {
    "duration": 13,
    "start_time": "2022-04-17T17:01:10.455Z"
   },
   {
    "duration": 10,
    "start_time": "2022-04-17T17:01:25.308Z"
   },
   {
    "duration": 14,
    "start_time": "2022-04-17T17:01:31.585Z"
   },
   {
    "duration": 5,
    "start_time": "2022-04-17T17:01:58.835Z"
   },
   {
    "duration": 18,
    "start_time": "2022-04-17T17:02:06.776Z"
   },
   {
    "duration": 20,
    "start_time": "2022-04-17T17:02:19.331Z"
   },
   {
    "duration": 7,
    "start_time": "2022-04-17T17:02:52.485Z"
   },
   {
    "duration": 289,
    "start_time": "2022-04-17T17:02:53.519Z"
   },
   {
    "duration": 80,
    "start_time": "2022-04-17T17:02:53.811Z"
   },
   {
    "duration": 405,
    "start_time": "2022-04-17T17:02:53.928Z"
   },
   {
    "duration": 4,
    "start_time": "2022-04-17T17:02:54.336Z"
   },
   {
    "duration": 568,
    "start_time": "2022-04-17T17:02:54.342Z"
   },
   {
    "duration": 678,
    "start_time": "2022-04-17T17:02:54.913Z"
   },
   {
    "duration": 282,
    "start_time": "2022-04-17T17:02:55.593Z"
   },
   {
    "duration": 4,
    "start_time": "2022-04-17T17:02:56.935Z"
   },
   {
    "duration": 5,
    "start_time": "2022-04-17T17:02:57.141Z"
   },
   {
    "duration": 7,
    "start_time": "2022-04-17T17:02:57.397Z"
   },
   {
    "duration": 7,
    "start_time": "2022-04-17T17:02:58.200Z"
   },
   {
    "duration": 12324,
    "start_time": "2022-04-17T17:02:59.327Z"
   },
   {
    "duration": 9,
    "start_time": "2022-04-17T17:03:11.654Z"
   },
   {
    "duration": 32,
    "start_time": "2022-04-17T17:03:11.665Z"
   },
   {
    "duration": 8,
    "start_time": "2022-04-17T17:03:11.700Z"
   },
   {
    "duration": 3,
    "start_time": "2022-04-17T17:03:11.711Z"
   },
   {
    "duration": 8,
    "start_time": "2022-04-17T17:03:11.717Z"
   },
   {
    "duration": 262,
    "start_time": "2022-04-17T17:03:11.727Z"
   },
   {
    "duration": 7,
    "start_time": "2022-04-17T17:03:13.440Z"
   },
   {
    "duration": 1867,
    "start_time": "2022-04-17T17:03:13.775Z"
   },
   {
    "duration": 2001,
    "start_time": "2022-04-17T17:03:15.652Z"
   },
   {
    "duration": 1790,
    "start_time": "2022-04-17T17:03:17.655Z"
   },
   {
    "duration": 886,
    "start_time": "2022-04-17T17:03:19.448Z"
   },
   {
    "duration": 19,
    "start_time": "2022-04-17T17:03:20.336Z"
   },
   {
    "duration": 9,
    "start_time": "2022-04-17T17:03:20.357Z"
   },
   {
    "duration": 9,
    "start_time": "2022-04-17T17:03:20.369Z"
   },
   {
    "duration": 1759,
    "start_time": "2022-04-17T17:03:20.381Z"
   },
   {
    "duration": 11,
    "start_time": "2022-04-17T17:03:22.142Z"
   },
   {
    "duration": 130,
    "start_time": "2022-04-17T17:03:22.156Z"
   },
   {
    "duration": 4,
    "start_time": "2022-04-17T17:03:24.312Z"
   },
   {
    "duration": 4,
    "start_time": "2022-04-17T17:03:24.698Z"
   },
   {
    "duration": 6,
    "start_time": "2022-04-17T17:03:25.952Z"
   },
   {
    "duration": 8,
    "start_time": "2022-04-17T17:03:26.338Z"
   },
   {
    "duration": 4,
    "start_time": "2022-04-17T17:03:27.000Z"
   },
   {
    "duration": 5,
    "start_time": "2022-04-17T17:03:27.246Z"
   },
   {
    "duration": 4,
    "start_time": "2022-04-17T17:03:27.559Z"
   },
   {
    "duration": 5,
    "start_time": "2022-04-17T17:03:27.935Z"
   },
   {
    "duration": 5,
    "start_time": "2022-04-17T17:03:28.341Z"
   },
   {
    "duration": 6115,
    "start_time": "2022-04-17T17:03:40.973Z"
   },
   {
    "duration": 5,
    "start_time": "2022-04-17T17:03:47.091Z"
   },
   {
    "duration": 48284,
    "start_time": "2022-04-17T17:03:47.098Z"
   },
   {
    "duration": 5,
    "start_time": "2022-04-17T17:04:35.385Z"
   },
   {
    "duration": 21,
    "start_time": "2022-04-17T17:04:35.391Z"
   },
   {
    "duration": 21,
    "start_time": "2022-04-17T17:04:38.587Z"
   },
   {
    "duration": 5,
    "start_time": "2022-04-17T17:05:12.207Z"
   },
   {
    "duration": 538668,
    "start_time": "2022-04-17T17:05:13.357Z"
   },
   {
    "duration": 25,
    "start_time": "2022-04-17T17:14:12.028Z"
   },
   {
    "duration": 573225,
    "start_time": "2022-04-17T17:14:12.055Z"
   },
   {
    "duration": 15,
    "start_time": "2022-04-17T17:23:45.282Z"
   },
   {
    "duration": 14,
    "start_time": "2022-04-17T17:23:45.299Z"
   },
   {
    "duration": 11,
    "start_time": "2022-04-17T17:23:45.314Z"
   },
   {
    "duration": 25,
    "start_time": "2022-04-17T17:23:45.328Z"
   },
   {
    "duration": 9,
    "start_time": "2022-04-17T17:23:45.355Z"
   },
   {
    "duration": 9,
    "start_time": "2022-04-17T17:23:45.366Z"
   },
   {
    "duration": 7,
    "start_time": "2022-04-17T17:23:45.378Z"
   },
   {
    "duration": 6,
    "start_time": "2022-04-17T17:23:45.386Z"
   },
   {
    "duration": 6,
    "start_time": "2022-04-17T17:23:45.394Z"
   },
   {
    "duration": 13,
    "start_time": "2022-04-17T17:24:44.697Z"
   },
   {
    "duration": 6118,
    "start_time": "2022-04-17T17:24:51.397Z"
   },
   {
    "duration": 5,
    "start_time": "2022-04-17T17:24:57.518Z"
   },
   {
    "duration": 51195,
    "start_time": "2022-04-17T17:25:46.383Z"
   },
   {
    "duration": 28,
    "start_time": "2022-04-17T17:26:37.588Z"
   },
   {
    "duration": 48939,
    "start_time": "2022-04-17T17:26:37.620Z"
   },
   {
    "duration": 5,
    "start_time": "2022-04-17T17:27:26.561Z"
   },
   {
    "duration": 9,
    "start_time": "2022-04-17T17:27:26.569Z"
   },
   {
    "duration": 34,
    "start_time": "2022-04-17T17:27:52.861Z"
   },
   {
    "duration": 32,
    "start_time": "2022-04-17T17:27:57.073Z"
   },
   {
    "duration": 6,
    "start_time": "2022-04-17T17:28:02.367Z"
   },
   {
    "duration": 32,
    "start_time": "2022-04-17T17:29:36.055Z"
   },
   {
    "duration": 31,
    "start_time": "2022-04-17T17:29:39.583Z"
   },
   {
    "duration": 10,
    "start_time": "2022-04-17T17:30:17.688Z"
   },
   {
    "duration": 1932,
    "start_time": "2022-04-17T17:32:15.923Z"
   },
   {
    "duration": 346,
    "start_time": "2022-04-17T17:32:17.858Z"
   },
   {
    "duration": 93,
    "start_time": "2022-04-17T17:32:18.207Z"
   },
   {
    "duration": 440,
    "start_time": "2022-04-17T17:32:18.303Z"
   },
   {
    "duration": 7,
    "start_time": "2022-04-17T17:32:18.746Z"
   },
   {
    "duration": 586,
    "start_time": "2022-04-17T17:32:18.755Z"
   },
   {
    "duration": 570,
    "start_time": "2022-04-17T17:32:19.344Z"
   },
   {
    "duration": 287,
    "start_time": "2022-04-17T17:32:19.916Z"
   },
   {
    "duration": 5,
    "start_time": "2022-04-17T17:32:20.844Z"
   },
   {
    "duration": 11,
    "start_time": "2022-04-17T17:32:21.017Z"
   },
   {
    "duration": 8,
    "start_time": "2022-04-17T17:32:21.192Z"
   },
   {
    "duration": 7,
    "start_time": "2022-04-17T17:32:22.117Z"
   },
   {
    "duration": 13029,
    "start_time": "2022-04-17T17:32:23.112Z"
   },
   {
    "duration": 14,
    "start_time": "2022-04-17T17:32:36.145Z"
   },
   {
    "duration": 20,
    "start_time": "2022-04-17T17:32:36.162Z"
   },
   {
    "duration": 10,
    "start_time": "2022-04-17T17:32:36.186Z"
   },
   {
    "duration": 8,
    "start_time": "2022-04-17T17:32:36.198Z"
   },
   {
    "duration": 5,
    "start_time": "2022-04-17T17:32:36.254Z"
   },
   {
    "duration": 6,
    "start_time": "2022-04-17T17:32:39.414Z"
   },
   {
    "duration": 171,
    "start_time": "2022-04-17T17:32:39.799Z"
   },
   {
    "duration": 20,
    "start_time": "2022-04-17T17:35:21.434Z"
   },
   {
    "duration": 1938,
    "start_time": "2022-04-17T17:35:34.352Z"
   },
   {
    "duration": 331,
    "start_time": "2022-04-17T17:35:36.293Z"
   },
   {
    "duration": 90,
    "start_time": "2022-04-17T17:35:36.626Z"
   },
   {
    "duration": 434,
    "start_time": "2022-04-17T17:35:36.718Z"
   },
   {
    "duration": 6,
    "start_time": "2022-04-17T17:35:37.155Z"
   },
   {
    "duration": 603,
    "start_time": "2022-04-17T17:35:37.163Z"
   },
   {
    "duration": 584,
    "start_time": "2022-04-17T17:35:37.773Z"
   },
   {
    "duration": 278,
    "start_time": "2022-04-17T17:35:38.359Z"
   },
   {
    "duration": 5,
    "start_time": "2022-04-17T17:35:40.705Z"
   },
   {
    "duration": 10,
    "start_time": "2022-04-17T17:35:40.932Z"
   },
   {
    "duration": 8,
    "start_time": "2022-04-17T17:35:41.145Z"
   },
   {
    "duration": 6,
    "start_time": "2022-04-17T17:35:42.628Z"
   },
   {
    "duration": 12276,
    "start_time": "2022-04-17T17:35:43.939Z"
   },
   {
    "duration": 12,
    "start_time": "2022-04-17T17:35:56.219Z"
   },
   {
    "duration": 19,
    "start_time": "2022-04-17T17:36:10.649Z"
   },
   {
    "duration": 9,
    "start_time": "2022-04-17T17:36:11.065Z"
   },
   {
    "duration": 6,
    "start_time": "2022-04-17T17:36:11.279Z"
   },
   {
    "duration": 5,
    "start_time": "2022-04-17T17:36:11.806Z"
   },
   {
    "duration": 6,
    "start_time": "2022-04-17T17:36:12.789Z"
   },
   {
    "duration": 176,
    "start_time": "2022-04-17T17:36:13.746Z"
   },
   {
    "duration": 1961,
    "start_time": "2022-04-17T17:37:31.450Z"
   },
   {
    "duration": 330,
    "start_time": "2022-04-17T17:37:33.413Z"
   },
   {
    "duration": 89,
    "start_time": "2022-04-17T17:37:33.745Z"
   },
   {
    "duration": 441,
    "start_time": "2022-04-17T17:37:33.836Z"
   },
   {
    "duration": 7,
    "start_time": "2022-04-17T17:37:34.280Z"
   },
   {
    "duration": 640,
    "start_time": "2022-04-17T17:37:34.289Z"
   },
   {
    "duration": 756,
    "start_time": "2022-04-17T17:37:34.932Z"
   },
   {
    "duration": 275,
    "start_time": "2022-04-17T17:37:35.690Z"
   },
   {
    "duration": 5,
    "start_time": "2022-04-17T17:37:35.967Z"
   },
   {
    "duration": 9,
    "start_time": "2022-04-17T17:37:35.974Z"
   },
   {
    "duration": 8,
    "start_time": "2022-04-17T17:37:35.985Z"
   },
   {
    "duration": 9,
    "start_time": "2022-04-17T17:37:35.995Z"
   },
   {
    "duration": 12281,
    "start_time": "2022-04-17T17:37:38.044Z"
   },
   {
    "duration": 11,
    "start_time": "2022-04-17T17:38:35.109Z"
   },
   {
    "duration": 21,
    "start_time": "2022-04-17T17:38:45.878Z"
   },
   {
    "duration": 20,
    "start_time": "2022-04-17T17:39:04.687Z"
   },
   {
    "duration": 11,
    "start_time": "2022-04-17T17:39:24.860Z"
   },
   {
    "duration": 6,
    "start_time": "2022-04-17T17:39:35.661Z"
   },
   {
    "duration": 5,
    "start_time": "2022-04-17T17:39:42.990Z"
   },
   {
    "duration": 6,
    "start_time": "2022-04-17T17:39:48.627Z"
   },
   {
    "duration": 258,
    "start_time": "2022-04-17T17:40:04.124Z"
   },
   {
    "duration": 6,
    "start_time": "2022-04-17T17:42:44.005Z"
   },
   {
    "duration": 6,
    "start_time": "2022-04-17T17:42:53.069Z"
   },
   {
    "duration": 208,
    "start_time": "2022-04-17T17:46:05.782Z"
   },
   {
    "duration": 5,
    "start_time": "2022-04-17T17:46:38.839Z"
   },
   {
    "duration": 8,
    "start_time": "2022-04-17T17:48:48.124Z"
   },
   {
    "duration": 38,
    "start_time": "2022-04-17T17:48:56.402Z"
   },
   {
    "duration": 1939,
    "start_time": "2022-04-17T17:49:43.530Z"
   },
   {
    "duration": 341,
    "start_time": "2022-04-17T17:49:45.472Z"
   },
   {
    "duration": 91,
    "start_time": "2022-04-17T17:49:45.815Z"
   },
   {
    "duration": 439,
    "start_time": "2022-04-17T17:49:45.908Z"
   },
   {
    "duration": 7,
    "start_time": "2022-04-17T17:49:46.351Z"
   },
   {
    "duration": 618,
    "start_time": "2022-04-17T17:49:46.361Z"
   },
   {
    "duration": 587,
    "start_time": "2022-04-17T17:49:46.982Z"
   },
   {
    "duration": 296,
    "start_time": "2022-04-17T17:49:47.572Z"
   },
   {
    "duration": 5,
    "start_time": "2022-04-17T17:49:49.041Z"
   },
   {
    "duration": 9,
    "start_time": "2022-04-17T17:49:49.351Z"
   },
   {
    "duration": 7,
    "start_time": "2022-04-17T17:49:49.561Z"
   },
   {
    "duration": 6,
    "start_time": "2022-04-17T17:49:50.561Z"
   },
   {
    "duration": 12929,
    "start_time": "2022-04-17T17:49:51.575Z"
   },
   {
    "duration": 45,
    "start_time": "2022-04-17T17:50:04.507Z"
   },
   {
    "duration": 20,
    "start_time": "2022-04-17T17:50:04.555Z"
   },
   {
    "duration": 9,
    "start_time": "2022-04-17T17:50:04.578Z"
   },
   {
    "duration": 200,
    "start_time": "2022-04-17T17:50:04.589Z"
   },
   {
    "duration": 330,
    "start_time": "2022-04-17T17:52:00.655Z"
   },
   {
    "duration": 4,
    "start_time": "2022-04-17T17:52:12.395Z"
   },
   {
    "duration": 4,
    "start_time": "2022-04-17T17:52:12.671Z"
   },
   {
    "duration": 8,
    "start_time": "2022-04-17T17:52:14.506Z"
   },
   {
    "duration": 12,
    "start_time": "2022-04-17T17:52:15.232Z"
   },
   {
    "duration": 6,
    "start_time": "2022-04-17T17:52:26.039Z"
   },
   {
    "duration": 117,
    "start_time": "2022-04-17T17:52:26.256Z"
   },
   {
    "duration": 7,
    "start_time": "2022-04-17T17:52:29.900Z"
   },
   {
    "duration": 4,
    "start_time": "2022-04-17T17:52:33.689Z"
   },
   {
    "duration": 5,
    "start_time": "2022-04-17T17:52:33.919Z"
   },
   {
    "duration": 4,
    "start_time": "2022-04-17T17:52:34.095Z"
   },
   {
    "duration": 5,
    "start_time": "2022-04-17T17:52:34.364Z"
   },
   {
    "duration": 5,
    "start_time": "2022-04-17T17:52:35.665Z"
   },
   {
    "duration": 27,
    "start_time": "2022-04-17T17:52:40.306Z"
   },
   {
    "duration": 17,
    "start_time": "2022-04-17T17:53:04.628Z"
   },
   {
    "duration": 8,
    "start_time": "2022-04-17T17:53:07.401Z"
   },
   {
    "duration": 26,
    "start_time": "2022-04-17T17:56:03.187Z"
   },
   {
    "duration": 99148,
    "start_time": "2022-04-17T17:59:16.837Z"
   },
   {
    "duration": 103190,
    "start_time": "2022-04-17T18:01:13.023Z"
   },
   {
    "duration": 4,
    "start_time": "2022-04-17T18:04:00.654Z"
   },
   {
    "duration": 9,
    "start_time": "2022-04-17T18:04:51.370Z"
   },
   {
    "duration": 4,
    "start_time": "2022-04-17T18:04:51.627Z"
   },
   {
    "duration": 4,
    "start_time": "2022-04-17T18:05:04.376Z"
   },
   {
    "duration": 1912,
    "start_time": "2022-04-17T18:07:07.069Z"
   },
   {
    "duration": 316,
    "start_time": "2022-04-17T18:07:08.983Z"
   },
   {
    "duration": 93,
    "start_time": "2022-04-17T18:07:09.301Z"
   },
   {
    "duration": 397,
    "start_time": "2022-04-17T18:07:09.397Z"
   },
   {
    "duration": 6,
    "start_time": "2022-04-17T18:07:09.797Z"
   },
   {
    "duration": 601,
    "start_time": "2022-04-17T18:07:09.805Z"
   },
   {
    "duration": 589,
    "start_time": "2022-04-17T18:07:10.410Z"
   },
   {
    "duration": 285,
    "start_time": "2022-04-17T18:07:11.002Z"
   },
   {
    "duration": 5,
    "start_time": "2022-04-17T18:07:12.613Z"
   },
   {
    "duration": 10,
    "start_time": "2022-04-17T18:07:12.815Z"
   },
   {
    "duration": 8,
    "start_time": "2022-04-17T18:07:12.999Z"
   },
   {
    "duration": 6,
    "start_time": "2022-04-17T18:07:14.124Z"
   },
   {
    "duration": 13282,
    "start_time": "2022-04-17T18:07:15.288Z"
   },
   {
    "duration": 9,
    "start_time": "2022-04-17T18:07:28.573Z"
   },
   {
    "duration": 23,
    "start_time": "2022-04-17T18:07:28.584Z"
   },
   {
    "duration": 10,
    "start_time": "2022-04-17T18:07:28.610Z"
   },
   {
    "duration": 29,
    "start_time": "2022-04-17T18:07:28.623Z"
   },
   {
    "duration": 329,
    "start_time": "2022-04-17T18:07:28.655Z"
   },
   {
    "duration": 39,
    "start_time": "2022-04-17T18:07:54.051Z"
   },
   {
    "duration": 18,
    "start_time": "2022-04-17T18:08:09.507Z"
   },
   {
    "duration": 5,
    "start_time": "2022-04-17T18:08:49.169Z"
   },
   {
    "duration": 1974,
    "start_time": "2022-04-17T18:14:59.837Z"
   },
   {
    "duration": 317,
    "start_time": "2022-04-17T18:15:01.813Z"
   },
   {
    "duration": 84,
    "start_time": "2022-04-17T18:15:02.133Z"
   },
   {
    "duration": 402,
    "start_time": "2022-04-17T18:15:02.220Z"
   },
   {
    "duration": 7,
    "start_time": "2022-04-17T18:15:02.624Z"
   },
   {
    "duration": 587,
    "start_time": "2022-04-17T18:15:02.633Z"
   },
   {
    "duration": 569,
    "start_time": "2022-04-17T18:15:03.222Z"
   },
   {
    "duration": 278,
    "start_time": "2022-04-17T18:15:03.793Z"
   },
   {
    "duration": 5,
    "start_time": "2022-04-17T18:15:04.074Z"
   },
   {
    "duration": 14,
    "start_time": "2022-04-17T18:15:04.081Z"
   },
   {
    "duration": 6,
    "start_time": "2022-04-17T18:15:04.097Z"
   },
   {
    "duration": 7,
    "start_time": "2022-04-17T18:15:05.416Z"
   },
   {
    "duration": 8,
    "start_time": "2022-04-17T18:15:15.876Z"
   },
   {
    "duration": 8,
    "start_time": "2022-04-17T18:15:16.098Z"
   },
   {
    "duration": 6,
    "start_time": "2022-04-17T18:15:17.264Z"
   },
   {
    "duration": 15173,
    "start_time": "2022-04-17T18:15:18.833Z"
   },
   {
    "duration": 9,
    "start_time": "2022-04-17T18:17:22.232Z"
   },
   {
    "duration": 18,
    "start_time": "2022-04-17T18:17:23.122Z"
   },
   {
    "duration": 9,
    "start_time": "2022-04-17T18:17:24.305Z"
   },
   {
    "duration": 4,
    "start_time": "2022-04-17T18:17:25.078Z"
   },
   {
    "duration": 6,
    "start_time": "2022-04-17T18:17:29.436Z"
   },
   {
    "duration": 200,
    "start_time": "2022-04-17T18:19:24.191Z"
   },
   {
    "duration": 175,
    "start_time": "2022-04-17T18:19:31.210Z"
   },
   {
    "duration": 41,
    "start_time": "2022-04-17T18:19:43.224Z"
   },
   {
    "duration": 202,
    "start_time": "2022-04-17T18:20:45.587Z"
   },
   {
    "duration": 97,
    "start_time": "2022-04-17T18:20:46.274Z"
   },
   {
    "duration": 15,
    "start_time": "2022-04-17T18:21:00.843Z"
   },
   {
    "duration": 18,
    "start_time": "2022-04-17T18:21:44.511Z"
   },
   {
    "duration": 11,
    "start_time": "2022-04-17T18:22:00.194Z"
   },
   {
    "duration": 4,
    "start_time": "2022-04-17T18:22:07.251Z"
   },
   {
    "duration": 4,
    "start_time": "2022-04-17T18:22:07.447Z"
   },
   {
    "duration": 7,
    "start_time": "2022-04-17T18:22:09.014Z"
   },
   {
    "duration": 12,
    "start_time": "2022-04-17T18:22:09.673Z"
   },
   {
    "duration": 6,
    "start_time": "2022-04-17T18:22:13.183Z"
   },
   {
    "duration": 112,
    "start_time": "2022-04-17T18:22:13.375Z"
   },
   {
    "duration": 8,
    "start_time": "2022-04-17T18:22:16.098Z"
   },
   {
    "duration": 17,
    "start_time": "2022-04-17T18:22:58.308Z"
   },
   {
    "duration": 37,
    "start_time": "2022-04-17T18:23:38.343Z"
   },
   {
    "duration": 18,
    "start_time": "2022-04-17T18:23:43.797Z"
   },
   {
    "duration": 8,
    "start_time": "2022-04-17T18:25:54.088Z"
   },
   {
    "duration": 53,
    "start_time": "2022-04-17T18:26:21.634Z"
   },
   {
    "duration": 99765,
    "start_time": "2022-04-17T18:26:31.031Z"
   },
   {
    "duration": 39,
    "start_time": "2022-04-17T18:28:45.853Z"
   },
   {
    "duration": 6,
    "start_time": "2022-04-17T18:28:50.251Z"
   },
   {
    "duration": 6,
    "start_time": "2022-04-17T18:28:58.180Z"
   },
   {
    "duration": 6,
    "start_time": "2022-04-17T18:30:12.192Z"
   },
   {
    "duration": 6,
    "start_time": "2022-04-17T18:30:16.243Z"
   },
   {
    "duration": 23,
    "start_time": "2022-04-17T18:30:20.564Z"
   },
   {
    "duration": 106093,
    "start_time": "2022-04-17T18:30:21.498Z"
   },
   {
    "duration": 13,
    "start_time": "2022-04-17T18:32:33.715Z"
   },
   {
    "duration": 8,
    "start_time": "2022-04-17T18:32:43.239Z"
   },
   {
    "duration": 5,
    "start_time": "2022-04-17T18:32:48.789Z"
   },
   {
    "duration": 6,
    "start_time": "2022-04-17T18:32:57.550Z"
   },
   {
    "duration": 5,
    "start_time": "2022-04-17T18:33:00.482Z"
   },
   {
    "duration": 2036,
    "start_time": "2022-04-17T18:33:23.851Z"
   },
   {
    "duration": 326,
    "start_time": "2022-04-17T18:33:25.890Z"
   },
   {
    "duration": 98,
    "start_time": "2022-04-17T18:33:26.218Z"
   },
   {
    "duration": 519,
    "start_time": "2022-04-17T18:33:26.320Z"
   },
   {
    "duration": 12,
    "start_time": "2022-04-17T18:33:26.842Z"
   },
   {
    "duration": 595,
    "start_time": "2022-04-17T18:33:26.857Z"
   },
   {
    "duration": 568,
    "start_time": "2022-04-17T18:33:27.454Z"
   },
   {
    "duration": 280,
    "start_time": "2022-04-17T18:33:28.025Z"
   },
   {
    "duration": 5,
    "start_time": "2022-04-17T18:33:29.135Z"
   },
   {
    "duration": 10,
    "start_time": "2022-04-17T18:33:29.303Z"
   },
   {
    "duration": 7,
    "start_time": "2022-04-17T18:33:29.482Z"
   },
   {
    "duration": 7,
    "start_time": "2022-04-17T18:33:30.395Z"
   },
   {
    "duration": 16977,
    "start_time": "2022-04-17T18:33:31.374Z"
   },
   {
    "duration": 10,
    "start_time": "2022-04-17T18:33:48.354Z"
   },
   {
    "duration": 21,
    "start_time": "2022-04-17T18:33:48.366Z"
   },
   {
    "duration": 8,
    "start_time": "2022-04-17T18:33:48.390Z"
   },
   {
    "duration": 5,
    "start_time": "2022-04-17T18:33:48.400Z"
   },
   {
    "duration": 383,
    "start_time": "2022-04-17T18:33:48.407Z"
   },
   {
    "duration": 210,
    "start_time": "2022-04-17T18:33:48.792Z"
   },
   {
    "duration": 312,
    "start_time": "2022-04-17T18:34:47.981Z"
   },
   {
    "duration": 6,
    "start_time": "2022-04-17T18:34:58.672Z"
   },
   {
    "duration": 128,
    "start_time": "2022-04-17T18:34:58.839Z"
   },
   {
    "duration": 5,
    "start_time": "2022-04-17T18:35:00.522Z"
   },
   {
    "duration": 4,
    "start_time": "2022-04-17T18:35:00.708Z"
   },
   {
    "duration": 7,
    "start_time": "2022-04-17T18:35:01.932Z"
   },
   {
    "duration": 8,
    "start_time": "2022-04-17T18:35:02.511Z"
   },
   {
    "duration": 15,
    "start_time": "2022-04-17T18:35:08.247Z"
   },
   {
    "duration": 6,
    "start_time": "2022-04-17T18:35:10.062Z"
   },
   {
    "duration": 3,
    "start_time": "2022-04-17T18:35:12.626Z"
   },
   {
    "duration": 107187,
    "start_time": "2022-04-17T18:35:13.016Z"
   },
   {
    "duration": 9,
    "start_time": "2022-04-17T18:37:43.311Z"
   },
   {
    "duration": 6,
    "start_time": "2022-04-17T18:37:43.324Z"
   },
   {
    "duration": 7,
    "start_time": "2022-04-17T18:37:44.117Z"
   },
   {
    "duration": 7,
    "start_time": "2022-04-17T18:37:44.947Z"
   },
   {
    "duration": 36,
    "start_time": "2022-04-17T18:38:08.716Z"
   },
   {
    "duration": 28,
    "start_time": "2022-04-17T18:38:15.656Z"
   },
   {
    "duration": 107960,
    "start_time": "2022-04-17T18:38:16.325Z"
   },
   {
    "duration": 7,
    "start_time": "2022-04-17T18:40:04.288Z"
   },
   {
    "duration": 11,
    "start_time": "2022-04-17T18:40:04.297Z"
   },
   {
    "duration": 7,
    "start_time": "2022-04-17T18:40:04.311Z"
   },
   {
    "duration": 33,
    "start_time": "2022-04-17T18:40:04.320Z"
   },
   {
    "duration": 24,
    "start_time": "2022-04-17T18:40:14.157Z"
   },
   {
    "duration": 108245,
    "start_time": "2022-04-17T18:40:16.307Z"
   },
   {
    "duration": 7,
    "start_time": "2022-04-17T18:42:04.554Z"
   },
   {
    "duration": 9,
    "start_time": "2022-04-17T18:42:04.564Z"
   },
   {
    "duration": 5,
    "start_time": "2022-04-17T18:42:04.576Z"
   },
   {
    "duration": 8,
    "start_time": "2022-04-17T18:42:04.583Z"
   },
   {
    "duration": 20,
    "start_time": "2022-04-17T18:43:26.477Z"
   },
   {
    "duration": 7,
    "start_time": "2022-04-17T18:43:59.879Z"
   },
   {
    "duration": 7,
    "start_time": "2022-04-17T18:44:00.225Z"
   },
   {
    "duration": 4,
    "start_time": "2022-04-17T18:44:00.588Z"
   },
   {
    "duration": 4,
    "start_time": "2022-04-17T18:44:00.801Z"
   },
   {
    "duration": 5,
    "start_time": "2022-04-17T18:44:01.172Z"
   },
   {
    "duration": 5,
    "start_time": "2022-04-17T18:44:01.408Z"
   },
   {
    "duration": 5,
    "start_time": "2022-04-17T18:44:02.361Z"
   },
   {
    "duration": 19,
    "start_time": "2022-04-17T18:44:55.673Z"
   },
   {
    "duration": 5,
    "start_time": "2022-04-17T18:45:10.510Z"
   },
   {
    "duration": 5,
    "start_time": "2022-04-17T18:45:11.271Z"
   },
   {
    "duration": 8,
    "start_time": "2022-04-17T18:45:11.968Z"
   },
   {
    "duration": 5,
    "start_time": "2022-04-17T18:45:12.338Z"
   },
   {
    "duration": 546781,
    "start_time": "2022-04-17T18:45:24.008Z"
   },
   {
    "duration": 17,
    "start_time": "2022-04-17T18:54:30.793Z"
   },
   {
    "duration": 2202,
    "start_time": "2022-04-17T18:56:41.750Z"
   },
   {
    "duration": 328,
    "start_time": "2022-04-17T18:56:43.955Z"
   },
   {
    "duration": 94,
    "start_time": "2022-04-17T18:56:44.285Z"
   },
   {
    "duration": 411,
    "start_time": "2022-04-17T18:56:44.383Z"
   },
   {
    "duration": 5,
    "start_time": "2022-04-17T18:56:44.796Z"
   },
   {
    "duration": 582,
    "start_time": "2022-04-17T18:56:44.804Z"
   },
   {
    "duration": 581,
    "start_time": "2022-04-17T18:56:45.388Z"
   },
   {
    "duration": 285,
    "start_time": "2022-04-17T18:56:45.971Z"
   },
   {
    "duration": 5,
    "start_time": "2022-04-17T18:56:46.259Z"
   },
   {
    "duration": 12,
    "start_time": "2022-04-17T18:56:46.267Z"
   },
   {
    "duration": 11,
    "start_time": "2022-04-17T18:56:46.281Z"
   },
   {
    "duration": 13,
    "start_time": "2022-04-17T18:56:46.294Z"
   },
   {
    "duration": 12914,
    "start_time": "2022-04-17T18:56:46.309Z"
   },
   {
    "duration": 9,
    "start_time": "2022-04-17T18:56:59.225Z"
   },
   {
    "duration": 26,
    "start_time": "2022-04-17T18:56:59.255Z"
   },
   {
    "duration": 9,
    "start_time": "2022-04-17T18:56:59.283Z"
   },
   {
    "duration": 4,
    "start_time": "2022-04-17T18:56:59.294Z"
   },
   {
    "duration": 292,
    "start_time": "2022-04-17T18:56:59.300Z"
   },
   {
    "duration": 308,
    "start_time": "2022-04-17T18:56:59.595Z"
   },
   {
    "duration": 7,
    "start_time": "2022-04-17T18:56:59.905Z"
   },
   {
    "duration": 1860,
    "start_time": "2022-04-17T18:56:59.914Z"
   },
   {
    "duration": 2187,
    "start_time": "2022-04-17T18:57:01.776Z"
   },
   {
    "duration": 2033,
    "start_time": "2022-04-17T18:57:03.967Z"
   },
   {
    "duration": 763,
    "start_time": "2022-04-17T18:57:06.002Z"
   },
   {
    "duration": 11,
    "start_time": "2022-04-17T18:57:06.767Z"
   },
   {
    "duration": 16,
    "start_time": "2022-04-17T18:57:06.780Z"
   },
   {
    "duration": 21,
    "start_time": "2022-04-17T18:57:06.798Z"
   },
   {
    "duration": 1792,
    "start_time": "2022-04-17T18:57:06.825Z"
   },
   {
    "duration": 6,
    "start_time": "2022-04-17T18:57:08.619Z"
   },
   {
    "duration": 253,
    "start_time": "2022-04-17T18:57:08.627Z"
   },
   {
    "duration": 4,
    "start_time": "2022-04-17T18:57:08.882Z"
   },
   {
    "duration": 25,
    "start_time": "2022-04-17T18:57:08.888Z"
   },
   {
    "duration": 29,
    "start_time": "2022-04-17T18:57:08.915Z"
   },
   {
    "duration": 29,
    "start_time": "2022-04-17T18:57:08.946Z"
   },
   {
    "duration": 29,
    "start_time": "2022-04-17T18:57:08.977Z"
   },
   {
    "duration": 11,
    "start_time": "2022-04-17T18:57:09.008Z"
   },
   {
    "duration": 26,
    "start_time": "2022-04-17T18:57:09.021Z"
   },
   {
    "duration": 28,
    "start_time": "2022-04-17T18:57:09.049Z"
   },
   {
    "duration": 20,
    "start_time": "2022-04-17T18:57:09.079Z"
   },
   {
    "duration": 484608,
    "start_time": "2022-04-17T18:57:09.101Z"
   },
   {
    "duration": 14,
    "start_time": "2022-04-17T19:05:13.712Z"
   },
   {
    "duration": 603330,
    "start_time": "2022-04-17T19:05:13.728Z"
   },
   {
    "duration": 10,
    "start_time": "2022-04-17T19:15:17.060Z"
   },
   {
    "duration": 5,
    "start_time": "2022-04-17T19:15:17.073Z"
   },
   {
    "duration": 12,
    "start_time": "2022-04-17T19:15:17.081Z"
   },
   {
    "duration": 13,
    "start_time": "2022-04-17T19:15:17.096Z"
   },
   {
    "duration": 46,
    "start_time": "2022-04-17T19:15:17.112Z"
   },
   {
    "duration": 8,
    "start_time": "2022-04-17T19:15:17.160Z"
   },
   {
    "duration": 9,
    "start_time": "2022-04-17T19:15:17.170Z"
   },
   {
    "duration": 17,
    "start_time": "2022-04-17T19:15:17.181Z"
   },
   {
    "duration": 6,
    "start_time": "2022-04-17T19:15:17.200Z"
   },
   {
    "duration": 23,
    "start_time": "2022-04-17T19:15:17.253Z"
   },
   {
    "duration": 69,
    "start_time": "2022-04-17T19:16:57.697Z"
   },
   {
    "duration": 43,
    "start_time": "2022-04-17T19:16:57.768Z"
   },
   {
    "duration": 7,
    "start_time": "2022-04-17T19:16:57.814Z"
   },
   {
    "duration": 345,
    "start_time": "2022-04-17T19:16:57.823Z"
   },
   {
    "duration": 0,
    "start_time": "2022-04-17T19:16:58.171Z"
   },
   {
    "duration": 1,
    "start_time": "2022-04-17T19:16:58.173Z"
   },
   {
    "duration": 0,
    "start_time": "2022-04-17T19:16:58.176Z"
   },
   {
    "duration": 0,
    "start_time": "2022-04-17T19:16:58.177Z"
   },
   {
    "duration": 0,
    "start_time": "2022-04-17T19:16:58.179Z"
   },
   {
    "duration": 0,
    "start_time": "2022-04-17T19:16:58.181Z"
   },
   {
    "duration": 0,
    "start_time": "2022-04-17T19:16:58.182Z"
   },
   {
    "duration": 0,
    "start_time": "2022-04-17T19:16:58.184Z"
   },
   {
    "duration": 6,
    "start_time": "2022-04-17T19:17:12.467Z"
   },
   {
    "duration": 7,
    "start_time": "2022-04-17T19:17:13.301Z"
   },
   {
    "duration": 8,
    "start_time": "2022-04-17T19:17:14.246Z"
   },
   {
    "duration": 6,
    "start_time": "2022-04-17T19:17:17.702Z"
   },
   {
    "duration": 108264,
    "start_time": "2022-04-17T19:17:19.201Z"
   },
   {
    "duration": 9,
    "start_time": "2022-04-17T19:19:31.196Z"
   },
   {
    "duration": 5,
    "start_time": "2022-04-17T19:19:31.877Z"
   },
   {
    "duration": 6,
    "start_time": "2022-04-17T19:19:32.550Z"
   },
   {
    "duration": 5,
    "start_time": "2022-04-17T19:19:33.311Z"
   },
   {
    "duration": 68,
    "start_time": "2022-04-17T19:19:53.509Z"
   },
   {
    "duration": 73,
    "start_time": "2022-04-17T19:19:54.356Z"
   },
   {
    "duration": 7,
    "start_time": "2022-04-17T19:19:54.962Z"
   },
   {
    "duration": 94,
    "start_time": "2022-04-17T19:20:33.819Z"
   },
   {
    "duration": 11,
    "start_time": "2022-04-17T19:24:11.566Z"
   },
   {
    "duration": 10,
    "start_time": "2022-04-17T19:24:17.055Z"
   },
   {
    "duration": 4,
    "start_time": "2022-04-17T19:24:22.309Z"
   },
   {
    "duration": 7,
    "start_time": "2022-04-17T19:25:06.297Z"
   },
   {
    "duration": 5,
    "start_time": "2022-04-17T19:25:59.720Z"
   },
   {
    "duration": 9,
    "start_time": "2022-04-17T19:26:38.807Z"
   },
   {
    "duration": 7,
    "start_time": "2022-04-17T19:26:51.152Z"
   },
   {
    "duration": 4,
    "start_time": "2022-04-17T19:28:31.429Z"
   },
   {
    "duration": 7,
    "start_time": "2022-04-17T19:28:33.928Z"
   },
   {
    "duration": 8,
    "start_time": "2022-04-17T19:28:37.937Z"
   },
   {
    "duration": 5,
    "start_time": "2022-04-17T19:28:38.407Z"
   },
   {
    "duration": 8,
    "start_time": "2022-04-17T19:28:44.088Z"
   },
   {
    "duration": 9,
    "start_time": "2022-04-17T19:30:09.419Z"
   },
   {
    "duration": 10,
    "start_time": "2022-04-17T19:30:26.964Z"
   },
   {
    "duration": 11,
    "start_time": "2022-04-17T19:30:37.561Z"
   },
   {
    "duration": 12,
    "start_time": "2022-04-17T19:30:53.573Z"
   },
   {
    "duration": 16,
    "start_time": "2022-04-17T19:32:29.590Z"
   },
   {
    "duration": 4,
    "start_time": "2022-04-17T19:33:05.818Z"
   },
   {
    "duration": 7,
    "start_time": "2022-04-17T19:33:06.234Z"
   },
   {
    "duration": 8,
    "start_time": "2022-04-17T19:33:07.840Z"
   },
   {
    "duration": 6,
    "start_time": "2022-04-17T19:33:08.424Z"
   },
   {
    "duration": 3,
    "start_time": "2022-04-17T19:33:40.209Z"
   },
   {
    "duration": 13,
    "start_time": "2022-04-17T19:33:40.587Z"
   },
   {
    "duration": 4,
    "start_time": "2022-04-17T19:33:45.825Z"
   },
   {
    "duration": 7,
    "start_time": "2022-04-17T19:33:47.320Z"
   },
   {
    "duration": 5,
    "start_time": "2022-04-17T19:34:15.105Z"
   },
   {
    "duration": 18,
    "start_time": "2022-04-17T19:34:15.442Z"
   },
   {
    "duration": 5,
    "start_time": "2022-04-17T19:35:03.463Z"
   },
   {
    "duration": 10,
    "start_time": "2022-04-17T19:35:03.700Z"
   },
   {
    "duration": 9,
    "start_time": "2022-04-17T19:35:04.278Z"
   },
   {
    "duration": 6,
    "start_time": "2022-04-17T19:35:05.682Z"
   },
   {
    "duration": 4,
    "start_time": "2022-04-17T19:35:19.036Z"
   },
   {
    "duration": 14,
    "start_time": "2022-04-17T19:35:19.334Z"
   },
   {
    "duration": 4,
    "start_time": "2022-04-17T19:36:09.633Z"
   },
   {
    "duration": 13,
    "start_time": "2022-04-17T19:36:09.849Z"
   },
   {
    "duration": 4,
    "start_time": "2022-04-17T19:36:53.518Z"
   },
   {
    "duration": 8,
    "start_time": "2022-04-17T19:36:53.776Z"
   },
   {
    "duration": 9,
    "start_time": "2022-04-17T19:36:54.477Z"
   },
   {
    "duration": 6,
    "start_time": "2022-04-17T19:36:54.868Z"
   },
   {
    "duration": 1767,
    "start_time": "2022-04-18T18:45:45.500Z"
   },
   {
    "duration": 373,
    "start_time": "2022-04-18T18:45:47.268Z"
   },
   {
    "duration": 227,
    "start_time": "2022-04-18T18:45:47.642Z"
   },
   {
    "duration": 740,
    "start_time": "2022-04-18T18:45:47.871Z"
   },
   {
    "duration": 4,
    "start_time": "2022-04-18T18:45:49.043Z"
   },
   {
    "duration": 425,
    "start_time": "2022-04-18T18:45:49.747Z"
   },
   {
    "duration": 415,
    "start_time": "2022-04-18T18:45:50.174Z"
   },
   {
    "duration": 206,
    "start_time": "2022-04-18T18:45:50.592Z"
   },
   {
    "duration": 3,
    "start_time": "2022-04-18T18:46:02.533Z"
   },
   {
    "duration": 10,
    "start_time": "2022-04-18T18:46:02.811Z"
   },
   {
    "duration": 5,
    "start_time": "2022-04-18T18:46:03.022Z"
   },
   {
    "duration": 5,
    "start_time": "2022-04-18T18:47:15.883Z"
   },
   {
    "duration": 11599,
    "start_time": "2022-04-18T18:48:37.397Z"
   },
   {
    "duration": 11,
    "start_time": "2022-04-18T18:48:48.998Z"
   },
   {
    "duration": 15,
    "start_time": "2022-04-18T18:48:49.015Z"
   },
   {
    "duration": 6,
    "start_time": "2022-04-18T18:48:49.032Z"
   },
   {
    "duration": 2,
    "start_time": "2022-04-18T18:48:49.040Z"
   },
   {
    "duration": 290,
    "start_time": "2022-04-18T18:48:49.044Z"
   },
   {
    "duration": 284,
    "start_time": "2022-04-18T18:48:49.336Z"
   },
   {
    "duration": 6,
    "start_time": "2022-04-18T18:49:44.399Z"
   },
   {
    "duration": 5,
    "start_time": "2022-04-18T18:50:59.929Z"
   },
   {
    "duration": 1441,
    "start_time": "2022-04-18T18:51:01.205Z"
   },
   {
    "duration": 1619,
    "start_time": "2022-04-18T18:51:02.648Z"
   },
   {
    "duration": 1494,
    "start_time": "2022-04-18T18:51:04.268Z"
   },
   {
    "duration": 755,
    "start_time": "2022-04-18T18:51:21.111Z"
   },
   {
    "duration": 9,
    "start_time": "2022-04-18T18:51:21.869Z"
   },
   {
    "duration": 9,
    "start_time": "2022-04-18T18:51:22.144Z"
   },
   {
    "duration": 8,
    "start_time": "2022-04-18T18:52:54.970Z"
   },
   {
    "duration": 1581,
    "start_time": "2022-04-18T18:52:55.598Z"
   },
   {
    "duration": 4,
    "start_time": "2022-04-18T18:52:57.181Z"
   },
   {
    "duration": 172,
    "start_time": "2022-04-18T18:52:57.186Z"
   },
   {
    "duration": 3,
    "start_time": "2022-04-18T18:53:15.898Z"
   },
   {
    "duration": 4,
    "start_time": "2022-04-18T18:53:16.664Z"
   },
   {
    "duration": 6,
    "start_time": "2022-04-18T19:00:07.013Z"
   },
   {
    "duration": 5,
    "start_time": "2022-04-18T19:00:08.370Z"
   },
   {
    "duration": 4,
    "start_time": "2022-04-18T19:01:08.268Z"
   },
   {
    "duration": 3,
    "start_time": "2022-04-18T19:01:16.086Z"
   },
   {
    "duration": 3,
    "start_time": "2022-04-18T19:01:16.769Z"
   },
   {
    "duration": 2,
    "start_time": "2022-04-18T19:01:18.332Z"
   },
   {
    "duration": 3,
    "start_time": "2022-04-18T19:01:44.291Z"
   },
   {
    "duration": 3,
    "start_time": "2022-04-18T19:01:45.468Z"
   },
   {
    "duration": 3,
    "start_time": "2022-04-18T19:01:46.261Z"
   },
   {
    "duration": 1100479,
    "start_time": "2022-04-18T19:02:01.032Z"
   },
   {
    "duration": 6,
    "start_time": "2022-04-18T19:20:21.513Z"
   },
   {
    "duration": 1112022,
    "start_time": "2022-04-18T19:20:21.521Z"
   },
   {
    "duration": 7,
    "start_time": "2022-04-18T19:38:53.545Z"
   },
   {
    "duration": 6,
    "start_time": "2022-04-18T19:38:53.554Z"
   },
   {
    "duration": 11,
    "start_time": "2022-04-18T19:38:53.562Z"
   },
   {
    "duration": 3,
    "start_time": "2022-04-18T19:41:37.882Z"
   },
   {
    "duration": 4,
    "start_time": "2022-04-18T19:41:45.225Z"
   },
   {
    "duration": 4,
    "start_time": "2022-04-18T19:41:46.404Z"
   },
   {
    "duration": 4,
    "start_time": "2022-04-18T19:41:47.272Z"
   },
   {
    "duration": 4,
    "start_time": "2022-04-18T19:41:48.101Z"
   },
   {
    "duration": 10,
    "start_time": "2022-04-18T19:41:54.173Z"
   },
   {
    "duration": 4,
    "start_time": "2022-04-18T19:41:55.751Z"
   },
   {
    "duration": 7,
    "start_time": "2022-04-18T19:41:56.473Z"
   },
   {
    "duration": 75156,
    "start_time": "2022-04-18T19:42:30.764Z"
   },
   {
    "duration": 3,
    "start_time": "2022-04-18T19:43:45.922Z"
   },
   {
    "duration": 3,
    "start_time": "2022-04-18T19:44:12.730Z"
   },
   {
    "duration": 5,
    "start_time": "2022-04-18T19:44:13.435Z"
   },
   {
    "duration": 8,
    "start_time": "2022-04-18T19:44:14.117Z"
   },
   {
    "duration": 5,
    "start_time": "2022-04-18T19:44:14.607Z"
   },
   {
    "duration": 1707,
    "start_time": "2022-04-19T04:05:44.566Z"
   },
   {
    "duration": 265,
    "start_time": "2022-04-19T04:05:53.894Z"
   },
   {
    "duration": 73,
    "start_time": "2022-04-19T04:05:55.398Z"
   },
   {
    "duration": 328,
    "start_time": "2022-04-19T04:05:55.794Z"
   },
   {
    "duration": 4,
    "start_time": "2022-04-19T04:05:59.476Z"
   },
   {
    "duration": 343,
    "start_time": "2022-04-19T04:05:59.839Z"
   },
   {
    "duration": 338,
    "start_time": "2022-04-19T04:06:00.265Z"
   },
   {
    "duration": 167,
    "start_time": "2022-04-19T04:06:00.605Z"
   },
   {
    "duration": 3,
    "start_time": "2022-04-19T04:06:13.815Z"
   },
   {
    "duration": 8,
    "start_time": "2022-04-19T04:06:13.995Z"
   },
   {
    "duration": 5,
    "start_time": "2022-04-19T04:06:14.211Z"
   },
   {
    "duration": 4,
    "start_time": "2022-04-19T04:06:18.215Z"
   },
   {
    "duration": 11590,
    "start_time": "2022-04-19T04:06:35.767Z"
   },
   {
    "duration": 7,
    "start_time": "2022-04-19T04:06:47.359Z"
   },
   {
    "duration": 13,
    "start_time": "2022-04-19T04:06:47.368Z"
   },
   {
    "duration": 6,
    "start_time": "2022-04-19T04:06:47.383Z"
   },
   {
    "duration": 3,
    "start_time": "2022-04-19T04:06:47.391Z"
   },
   {
    "duration": 31,
    "start_time": "2022-04-19T04:06:47.396Z"
   },
   {
    "duration": 220,
    "start_time": "2022-04-19T04:06:47.429Z"
   },
   {
    "duration": 293,
    "start_time": "2022-04-19T04:06:47.651Z"
   },
   {
    "duration": 3,
    "start_time": "2022-04-19T04:08:46.708Z"
   },
   {
    "duration": 3,
    "start_time": "2022-04-19T04:08:46.943Z"
   },
   {
    "duration": 6,
    "start_time": "2022-04-19T04:08:49.556Z"
   },
   {
    "duration": 101,
    "start_time": "2022-04-19T04:08:50.164Z"
   },
   {
    "duration": 4,
    "start_time": "2022-04-19T04:08:50.439Z"
   },
   {
    "duration": 2,
    "start_time": "2022-04-19T04:33:03.074Z"
   },
   {
    "duration": 5,
    "start_time": "2022-04-19T04:33:03.323Z"
   },
   {
    "duration": 5,
    "start_time": "2022-04-19T04:33:15.323Z"
   },
   {
    "duration": 247,
    "start_time": "2022-04-19T04:33:16.855Z"
   },
   {
    "duration": 71,
    "start_time": "2022-04-19T04:33:17.103Z"
   },
   {
    "duration": 327,
    "start_time": "2022-04-19T04:33:17.278Z"
   },
   {
    "duration": 4,
    "start_time": "2022-04-19T04:33:17.607Z"
   },
   {
    "duration": 334,
    "start_time": "2022-04-19T04:33:17.701Z"
   },
   {
    "duration": 355,
    "start_time": "2022-04-19T04:33:18.038Z"
   },
   {
    "duration": 170,
    "start_time": "2022-04-19T04:33:18.395Z"
   },
   {
    "duration": 3,
    "start_time": "2022-04-19T04:33:21.037Z"
   },
   {
    "duration": 4,
    "start_time": "2022-04-19T04:33:21.225Z"
   },
   {
    "duration": 5,
    "start_time": "2022-04-19T04:33:21.407Z"
   },
   {
    "duration": 4,
    "start_time": "2022-04-19T04:33:22.566Z"
   },
   {
    "duration": 11285,
    "start_time": "2022-04-19T04:33:25.070Z"
   },
   {
    "duration": 2,
    "start_time": "2022-04-19T04:33:36.357Z"
   },
   {
    "duration": 5,
    "start_time": "2022-04-19T04:33:36.360Z"
   },
   {
    "duration": 13,
    "start_time": "2022-04-19T04:33:36.366Z"
   },
   {
    "duration": 1645,
    "start_time": "2022-04-19T04:35:13.245Z"
   },
   {
    "duration": 12,
    "start_time": "2022-04-19T04:37:45.680Z"
   },
   {
    "duration": 2,
    "start_time": "2022-04-19T04:41:33.797Z"
   },
   {
    "duration": 2,
    "start_time": "2022-04-19T04:41:43.702Z"
   },
   {
    "duration": 13,
    "start_time": "2022-04-19T04:41:46.698Z"
   },
   {
    "duration": 2,
    "start_time": "2022-04-19T04:41:49.764Z"
   },
   {
    "duration": 2,
    "start_time": "2022-04-19T04:41:50.027Z"
   },
   {
    "duration": 3,
    "start_time": "2022-04-19T04:41:50.147Z"
   },
   {
    "duration": 2,
    "start_time": "2022-04-19T04:41:50.613Z"
   },
   {
    "duration": 261,
    "start_time": "2022-04-19T04:42:11.789Z"
   },
   {
    "duration": 3,
    "start_time": "2022-04-19T04:42:14.915Z"
   },
   {
    "duration": 5,
    "start_time": "2022-04-19T04:42:16.360Z"
   },
   {
    "duration": 1662,
    "start_time": "2022-04-19T04:42:16.987Z"
   },
   {
    "duration": 1495,
    "start_time": "2022-04-19T04:42:27.359Z"
   },
   {
    "duration": 1564,
    "start_time": "2022-04-19T04:42:30.091Z"
   },
   {
    "duration": 566,
    "start_time": "2022-04-19T04:42:35.147Z"
   },
   {
    "duration": 8,
    "start_time": "2022-04-19T04:42:36.313Z"
   },
   {
    "duration": 8,
    "start_time": "2022-04-19T04:42:36.582Z"
   },
   {
    "duration": 7,
    "start_time": "2022-04-19T04:42:48.302Z"
   },
   {
    "duration": 1582,
    "start_time": "2022-04-19T04:42:48.849Z"
   },
   {
    "duration": 5,
    "start_time": "2022-04-19T04:42:51.129Z"
   },
   {
    "duration": 48,
    "start_time": "2022-04-19T04:42:51.381Z"
   },
   {
    "duration": 3,
    "start_time": "2022-04-19T04:43:10.202Z"
   },
   {
    "duration": 2,
    "start_time": "2022-04-19T04:43:10.382Z"
   },
   {
    "duration": 5,
    "start_time": "2022-04-19T04:43:12.235Z"
   },
   {
    "duration": 5,
    "start_time": "2022-04-19T04:43:13.279Z"
   },
   {
    "duration": 3,
    "start_time": "2022-04-19T04:43:29.105Z"
   },
   {
    "duration": 3,
    "start_time": "2022-04-19T04:43:29.307Z"
   },
   {
    "duration": 3,
    "start_time": "2022-04-19T04:43:29.511Z"
   },
   {
    "duration": 3,
    "start_time": "2022-04-19T04:43:29.702Z"
   },
   {
    "duration": 3,
    "start_time": "2022-04-19T04:43:29.898Z"
   },
   {
    "duration": 7494,
    "start_time": "2022-04-19T04:43:31.003Z"
   },
   {
    "duration": 1554,
    "start_time": "2022-04-19T04:44:03.495Z"
   },
   {
    "duration": 278,
    "start_time": "2022-04-19T04:44:05.301Z"
   },
   {
    "duration": 75,
    "start_time": "2022-04-19T04:44:05.580Z"
   },
   {
    "duration": 333,
    "start_time": "2022-04-19T04:44:05.915Z"
   },
   {
    "duration": 3,
    "start_time": "2022-04-19T04:44:06.250Z"
   },
   {
    "duration": 337,
    "start_time": "2022-04-19T04:44:06.403Z"
   },
   {
    "duration": 341,
    "start_time": "2022-04-19T04:44:06.742Z"
   },
   {
    "duration": 153,
    "start_time": "2022-04-19T04:44:07.112Z"
   },
   {
    "duration": 3,
    "start_time": "2022-04-19T04:44:09.075Z"
   },
   {
    "duration": 7,
    "start_time": "2022-04-19T04:44:09.306Z"
   },
   {
    "duration": 6,
    "start_time": "2022-04-19T04:44:09.513Z"
   },
   {
    "duration": 5,
    "start_time": "2022-04-19T04:44:10.760Z"
   },
   {
    "duration": 20233,
    "start_time": "2022-04-19T04:44:12.154Z"
   },
   {
    "duration": 3,
    "start_time": "2022-04-19T04:44:32.389Z"
   },
   {
    "duration": 2,
    "start_time": "2022-04-19T04:44:33.653Z"
   },
   {
    "duration": 15,
    "start_time": "2022-04-19T04:44:34.135Z"
   },
   {
    "duration": 3,
    "start_time": "2022-04-19T04:44:34.379Z"
   },
   {
    "duration": 3,
    "start_time": "2022-04-19T04:44:34.634Z"
   },
   {
    "duration": 3,
    "start_time": "2022-04-19T04:44:34.870Z"
   },
   {
    "duration": 2,
    "start_time": "2022-04-19T04:44:35.107Z"
   },
   {
    "duration": 324,
    "start_time": "2022-04-19T04:44:35.830Z"
   },
   {
    "duration": 2,
    "start_time": "2022-04-19T04:44:36.156Z"
   },
   {
    "duration": 5,
    "start_time": "2022-04-19T04:44:37.518Z"
   },
   {
    "duration": 1357,
    "start_time": "2022-04-19T04:44:37.994Z"
   },
   {
    "duration": 1292,
    "start_time": "2022-04-19T04:44:39.353Z"
   },
   {
    "duration": 1505,
    "start_time": "2022-04-19T04:44:40.648Z"
   },
   {
    "duration": 548,
    "start_time": "2022-04-19T04:44:42.155Z"
   },
   {
    "duration": 7,
    "start_time": "2022-04-19T04:44:42.705Z"
   },
   {
    "duration": 7,
    "start_time": "2022-04-19T04:44:42.723Z"
   },
   {
    "duration": 7,
    "start_time": "2022-04-19T04:44:43.535Z"
   },
   {
    "duration": 1468,
    "start_time": "2022-04-19T04:44:43.767Z"
   },
   {
    "duration": 5,
    "start_time": "2022-04-19T04:44:45.237Z"
   },
   {
    "duration": 166,
    "start_time": "2022-04-19T04:44:45.243Z"
   },
   {
    "duration": 3,
    "start_time": "2022-04-19T04:44:46.368Z"
   },
   {
    "duration": 2,
    "start_time": "2022-04-19T04:44:46.603Z"
   },
   {
    "duration": 5,
    "start_time": "2022-04-19T04:44:48.475Z"
   },
   {
    "duration": 5,
    "start_time": "2022-04-19T04:46:44.906Z"
   },
   {
    "duration": 24,
    "start_time": "2022-04-19T04:46:48.386Z"
   },
   {
    "duration": 12,
    "start_time": "2022-04-19T04:46:53.838Z"
   },
   {
    "duration": 7,
    "start_time": "2022-04-19T04:48:39.391Z"
   },
   {
    "duration": 11,
    "start_time": "2022-04-19T04:48:48.630Z"
   },
   {
    "duration": 8,
    "start_time": "2022-04-19T04:49:20.290Z"
   },
   {
    "duration": 7,
    "start_time": "2022-04-19T04:49:46.462Z"
   },
   {
    "duration": 3,
    "start_time": "2022-04-19T04:49:49.823Z"
   },
   {
    "duration": 3,
    "start_time": "2022-04-19T04:49:50.371Z"
   },
   {
    "duration": 3,
    "start_time": "2022-04-19T04:49:50.783Z"
   },
   {
    "duration": 4,
    "start_time": "2022-04-19T04:50:03.549Z"
   },
   {
    "duration": 4,
    "start_time": "2022-04-19T04:50:13.121Z"
   },
   {
    "duration": 8,
    "start_time": "2022-04-19T04:50:21.689Z"
   },
   {
    "duration": 3,
    "start_time": "2022-04-19T04:50:22.288Z"
   },
   {
    "duration": 2,
    "start_time": "2022-04-19T04:50:22.491Z"
   },
   {
    "duration": 3,
    "start_time": "2022-04-19T04:50:22.673Z"
   },
   {
    "duration": 4,
    "start_time": "2022-04-19T04:50:22.887Z"
   },
   {
    "duration": 3,
    "start_time": "2022-04-19T04:50:23.234Z"
   },
   {
    "duration": 52834,
    "start_time": "2022-04-19T04:50:24.699Z"
   },
   {
    "duration": 0,
    "start_time": "2022-04-19T04:51:17.535Z"
   },
   {
    "duration": 0,
    "start_time": "2022-04-19T04:51:17.536Z"
   },
   {
    "duration": 0,
    "start_time": "2022-04-19T04:51:17.537Z"
   },
   {
    "duration": 0,
    "start_time": "2022-04-19T04:51:17.538Z"
   },
   {
    "duration": 0,
    "start_time": "2022-04-19T04:51:17.539Z"
   },
   {
    "duration": 0,
    "start_time": "2022-04-19T04:51:17.540Z"
   },
   {
    "duration": 0,
    "start_time": "2022-04-19T04:51:17.541Z"
   },
   {
    "duration": 0,
    "start_time": "2022-04-19T04:51:17.542Z"
   },
   {
    "duration": 0,
    "start_time": "2022-04-19T04:51:17.544Z"
   },
   {
    "duration": 1585,
    "start_time": "2022-04-19T04:52:32.812Z"
   },
   {
    "duration": 267,
    "start_time": "2022-04-19T04:52:34.399Z"
   },
   {
    "duration": 75,
    "start_time": "2022-04-19T04:52:34.667Z"
   },
   {
    "duration": 340,
    "start_time": "2022-04-19T04:52:34.744Z"
   },
   {
    "duration": 5,
    "start_time": "2022-04-19T04:52:35.086Z"
   },
   {
    "duration": 352,
    "start_time": "2022-04-19T04:52:35.092Z"
   },
   {
    "duration": 412,
    "start_time": "2022-04-19T04:52:35.446Z"
   },
   {
    "duration": 218,
    "start_time": "2022-04-19T04:52:35.861Z"
   },
   {
    "duration": 4,
    "start_time": "2022-04-19T04:52:37.443Z"
   },
   {
    "duration": 8,
    "start_time": "2022-04-19T04:52:37.651Z"
   },
   {
    "duration": 6,
    "start_time": "2022-04-19T04:52:37.859Z"
   },
   {
    "duration": 5,
    "start_time": "2022-04-19T04:52:39.142Z"
   },
   {
    "duration": 15307,
    "start_time": "2022-04-19T04:52:40.563Z"
   },
   {
    "duration": 7,
    "start_time": "2022-04-19T04:52:55.873Z"
   },
   {
    "duration": 16,
    "start_time": "2022-04-19T04:52:55.882Z"
   },
   {
    "duration": 114,
    "start_time": "2022-04-19T04:52:55.901Z"
   },
   {
    "duration": 0,
    "start_time": "2022-04-19T04:52:56.017Z"
   },
   {
    "duration": 0,
    "start_time": "2022-04-19T04:52:56.022Z"
   },
   {
    "duration": 0,
    "start_time": "2022-04-19T04:52:56.023Z"
   },
   {
    "duration": 5,
    "start_time": "2022-04-19T04:55:24.733Z"
   },
   {
    "duration": 225,
    "start_time": "2022-04-19T04:55:25.511Z"
   },
   {
    "duration": 65,
    "start_time": "2022-04-19T04:55:25.738Z"
   },
   {
    "duration": 306,
    "start_time": "2022-04-19T04:55:25.980Z"
   },
   {
    "duration": 5,
    "start_time": "2022-04-19T04:55:26.288Z"
   },
   {
    "duration": 328,
    "start_time": "2022-04-19T04:55:26.400Z"
   },
   {
    "duration": 343,
    "start_time": "2022-04-19T04:55:26.730Z"
   },
   {
    "duration": 165,
    "start_time": "2022-04-19T04:55:27.075Z"
   },
   {
    "duration": 3,
    "start_time": "2022-04-19T04:55:28.792Z"
   },
   {
    "duration": 4,
    "start_time": "2022-04-19T04:55:29.015Z"
   },
   {
    "duration": 5,
    "start_time": "2022-04-19T04:55:29.243Z"
   },
   {
    "duration": 4,
    "start_time": "2022-04-19T04:55:30.590Z"
   },
   {
    "duration": 10187,
    "start_time": "2022-04-19T04:55:31.867Z"
   },
   {
    "duration": 6,
    "start_time": "2022-04-19T04:55:42.056Z"
   },
   {
    "duration": 31,
    "start_time": "2022-04-19T04:55:42.063Z"
   },
   {
    "duration": 22,
    "start_time": "2022-04-19T04:55:42.096Z"
   },
   {
    "duration": 0,
    "start_time": "2022-04-19T04:55:42.120Z"
   },
   {
    "duration": 0,
    "start_time": "2022-04-19T04:55:42.121Z"
   },
   {
    "duration": 0,
    "start_time": "2022-04-19T04:55:42.122Z"
   },
   {
    "duration": 12,
    "start_time": "2022-04-19T04:56:19.955Z"
   },
   {
    "duration": 13,
    "start_time": "2022-04-19T04:56:20.627Z"
   },
   {
    "duration": 1575,
    "start_time": "2022-04-19T04:56:39.611Z"
   },
   {
    "duration": 278,
    "start_time": "2022-04-19T04:56:41.188Z"
   },
   {
    "duration": 78,
    "start_time": "2022-04-19T04:56:41.468Z"
   },
   {
    "duration": 342,
    "start_time": "2022-04-19T04:56:41.548Z"
   },
   {
    "duration": 6,
    "start_time": "2022-04-19T04:56:41.891Z"
   },
   {
    "duration": 356,
    "start_time": "2022-04-19T04:56:41.898Z"
   },
   {
    "duration": 355,
    "start_time": "2022-04-19T04:56:42.256Z"
   },
   {
    "duration": 173,
    "start_time": "2022-04-19T04:56:42.613Z"
   },
   {
    "duration": 3,
    "start_time": "2022-04-19T04:56:44.528Z"
   },
   {
    "duration": 7,
    "start_time": "2022-04-19T04:56:44.759Z"
   },
   {
    "duration": 5,
    "start_time": "2022-04-19T04:56:45.001Z"
   },
   {
    "duration": 4,
    "start_time": "2022-04-19T04:56:46.393Z"
   },
   {
    "duration": 11035,
    "start_time": "2022-04-19T04:56:47.948Z"
   },
   {
    "duration": 8,
    "start_time": "2022-04-19T04:56:58.985Z"
   },
   {
    "duration": 30,
    "start_time": "2022-04-19T04:56:58.995Z"
   },
   {
    "duration": 7,
    "start_time": "2022-04-19T04:56:59.027Z"
   },
   {
    "duration": 4,
    "start_time": "2022-04-19T04:57:01.762Z"
   },
   {
    "duration": 220,
    "start_time": "2022-04-19T04:57:03.426Z"
   },
   {
    "duration": 212,
    "start_time": "2022-04-19T04:57:03.939Z"
   },
   {
    "duration": 5,
    "start_time": "2022-04-19T04:57:07.071Z"
   },
   {
    "duration": 1387,
    "start_time": "2022-04-19T04:57:07.078Z"
   },
   {
    "duration": 1443,
    "start_time": "2022-04-19T04:57:09.420Z"
   },
   {
    "duration": 1441,
    "start_time": "2022-04-19T04:57:11.813Z"
   },
   {
    "duration": 497,
    "start_time": "2022-04-19T04:57:14.815Z"
   },
   {
    "duration": 9,
    "start_time": "2022-04-19T04:57:15.322Z"
   },
   {
    "duration": 9,
    "start_time": "2022-04-19T04:57:15.475Z"
   },
   {
    "duration": 8,
    "start_time": "2022-04-19T04:57:16.732Z"
   },
   {
    "duration": 1479,
    "start_time": "2022-04-19T04:57:16.971Z"
   },
   {
    "duration": 4,
    "start_time": "2022-04-19T04:57:19.222Z"
   },
   {
    "duration": 165,
    "start_time": "2022-04-19T04:57:19.463Z"
   },
   {
    "duration": 3,
    "start_time": "2022-04-19T04:57:24.563Z"
   },
   {
    "duration": 3,
    "start_time": "2022-04-19T04:57:24.857Z"
   },
   {
    "duration": 6,
    "start_time": "2022-04-19T04:57:26.434Z"
   },
   {
    "duration": 6,
    "start_time": "2022-04-19T04:57:27.237Z"
   },
   {
    "duration": 2,
    "start_time": "2022-04-19T04:57:28.016Z"
   },
   {
    "duration": 3,
    "start_time": "2022-04-19T04:57:28.177Z"
   },
   {
    "duration": 3,
    "start_time": "2022-04-19T04:57:28.386Z"
   },
   {
    "duration": 4,
    "start_time": "2022-04-19T04:57:28.574Z"
   },
   {
    "duration": 3,
    "start_time": "2022-04-19T04:57:28.862Z"
   },
   {
    "duration": 474162,
    "start_time": "2022-04-19T04:57:29.839Z"
   },
   {
    "duration": 6,
    "start_time": "2022-04-19T05:05:24.004Z"
   },
   {
    "duration": 453643,
    "start_time": "2022-04-19T05:05:24.012Z"
   },
   {
    "duration": 6,
    "start_time": "2022-04-19T05:12:57.657Z"
   },
   {
    "duration": 5,
    "start_time": "2022-04-19T05:12:57.664Z"
   },
   {
    "duration": 7,
    "start_time": "2022-04-19T05:12:57.670Z"
   },
   {
    "duration": 3,
    "start_time": "2022-04-19T05:12:57.679Z"
   },
   {
    "duration": 7,
    "start_time": "2022-04-19T05:12:57.684Z"
   },
   {
    "duration": 4,
    "start_time": "2022-04-19T05:12:57.723Z"
   },
   {
    "duration": 3,
    "start_time": "2022-04-19T05:12:57.729Z"
   }
  ],
  "kernelspec": {
   "display_name": "Python 3 (ipykernel)",
   "language": "python",
   "name": "python3"
  },
  "language_info": {
   "codemirror_mode": {
    "name": "ipython",
    "version": 3
   },
   "file_extension": ".py",
   "mimetype": "text/x-python",
   "name": "python",
   "nbconvert_exporter": "python",
   "pygments_lexer": "ipython3",
   "version": "3.8.12"
  },
  "toc": {
   "base_numbering": 1,
   "nav_menu": {},
   "number_sections": true,
   "sideBar": true,
   "skip_h1_title": true,
   "title_cell": "Содержание",
   "title_sidebar": "Contents",
   "toc_cell": true,
   "toc_position": {},
   "toc_section_display": true,
   "toc_window_display": false
  }
 },
 "nbformat": 4,
 "nbformat_minor": 2
}
